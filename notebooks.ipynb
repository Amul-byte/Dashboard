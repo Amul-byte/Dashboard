{
 "cells": [
  {
   "cell_type": "code",
   "execution_count": 1,
   "id": "f7dabb3d",
   "metadata": {},
   "outputs": [],
   "source": [
    "import numpy as np\n",
    "import pandas as pd\n",
    "import matplotlib.pyplot as plt\n",
    "import plotly.express as px\n",
    "import plotly.graph_objects as go \n",
    "import nbformat"
   ]
  },
  {
   "cell_type": "code",
   "execution_count": 2,
   "id": "d5a498bd",
   "metadata": {},
   "outputs": [],
   "source": [
    "df = pd.read_csv('/Users/amulpoudel/Developer/Dashboard/Data.csv')"
   ]
  },
  {
   "cell_type": "code",
   "execution_count": 29,
   "id": "6cf401a0",
   "metadata": {},
   "outputs": [],
   "source": [
    "df = df.rename(columns={\"Latitude\": \"lat\", \"Longitude\": \"lon\"})"
   ]
  },
  {
   "cell_type": "code",
   "execution_count": 30,
   "id": "877c9fd8",
   "metadata": {},
   "outputs": [
    {
     "data": {
      "text/html": [
       "<div>\n",
       "<style scoped>\n",
       "    .dataframe tbody tr th:only-of-type {\n",
       "        vertical-align: middle;\n",
       "    }\n",
       "\n",
       "    .dataframe tbody tr th {\n",
       "        vertical-align: top;\n",
       "    }\n",
       "\n",
       "    .dataframe thead th {\n",
       "        text-align: right;\n",
       "    }\n",
       "</style>\n",
       "<table border=\"1\" class=\"dataframe\">\n",
       "  <thead>\n",
       "    <tr style=\"text-align: right;\">\n",
       "      <th></th>\n",
       "      <th>State</th>\n",
       "      <th>District</th>\n",
       "      <th>lat</th>\n",
       "      <th>lon</th>\n",
       "      <th>District code</th>\n",
       "      <th>Population</th>\n",
       "      <th>Households_with_Internet</th>\n",
       "      <th>sex_ratio</th>\n",
       "      <th>literacy_rate</th>\n",
       "    </tr>\n",
       "  </thead>\n",
       "  <tbody>\n",
       "    <tr>\n",
       "      <th>0</th>\n",
       "      <td>Andhra Pradesh</td>\n",
       "      <td>Adilabad</td>\n",
       "      <td>19.284514</td>\n",
       "      <td>78.813212</td>\n",
       "      <td>532</td>\n",
       "      <td>2741239</td>\n",
       "      <td>5512</td>\n",
       "      <td>100.0</td>\n",
       "      <td>54.0</td>\n",
       "    </tr>\n",
       "    <tr>\n",
       "      <th>1</th>\n",
       "      <td>Andhra Pradesh</td>\n",
       "      <td>Anantapur</td>\n",
       "      <td>14.312066</td>\n",
       "      <td>77.460158</td>\n",
       "      <td>553</td>\n",
       "      <td>4081148</td>\n",
       "      <td>8606</td>\n",
       "      <td>98.0</td>\n",
       "      <td>57.0</td>\n",
       "    </tr>\n",
       "    <tr>\n",
       "      <th>2</th>\n",
       "      <td>Andhra Pradesh</td>\n",
       "      <td>Chittoor</td>\n",
       "      <td>13.331093</td>\n",
       "      <td>78.927639</td>\n",
       "      <td>554</td>\n",
       "      <td>4174064</td>\n",
       "      <td>13763</td>\n",
       "      <td>100.0</td>\n",
       "      <td>64.0</td>\n",
       "    </tr>\n",
       "    <tr>\n",
       "      <th>3</th>\n",
       "      <td>Andhra Pradesh</td>\n",
       "      <td>East Godavari</td>\n",
       "      <td>16.782718</td>\n",
       "      <td>82.243207</td>\n",
       "      <td>545</td>\n",
       "      <td>5154296</td>\n",
       "      <td>22411</td>\n",
       "      <td>101.0</td>\n",
       "      <td>64.0</td>\n",
       "    </tr>\n",
       "    <tr>\n",
       "      <th>4</th>\n",
       "      <td>Andhra Pradesh</td>\n",
       "      <td>Guntur</td>\n",
       "      <td>15.884926</td>\n",
       "      <td>80.586576</td>\n",
       "      <td>548</td>\n",
       "      <td>4887813</td>\n",
       "      <td>19383</td>\n",
       "      <td>100.0</td>\n",
       "      <td>61.0</td>\n",
       "    </tr>\n",
       "  </tbody>\n",
       "</table>\n",
       "</div>"
      ],
      "text/plain": [
       "            State       District        lat        lon  District code  \\\n",
       "0  Andhra Pradesh       Adilabad  19.284514  78.813212            532   \n",
       "1  Andhra Pradesh      Anantapur  14.312066  77.460158            553   \n",
       "2  Andhra Pradesh       Chittoor  13.331093  78.927639            554   \n",
       "3  Andhra Pradesh  East Godavari  16.782718  82.243207            545   \n",
       "4  Andhra Pradesh         Guntur  15.884926  80.586576            548   \n",
       "\n",
       "   Population  Households_with_Internet  sex_ratio  literacy_rate  \n",
       "0     2741239                      5512      100.0           54.0  \n",
       "1     4081148                      8606       98.0           57.0  \n",
       "2     4174064                     13763      100.0           64.0  \n",
       "3     5154296                     22411      101.0           64.0  \n",
       "4     4887813                     19383      100.0           61.0  "
      ]
     },
     "execution_count": 30,
     "metadata": {},
     "output_type": "execute_result"
    }
   ],
   "source": [
    "df.head()"
   ]
  },
  {
   "cell_type": "code",
   "execution_count": 66,
   "id": "c0870607",
   "metadata": {},
   "outputs": [
    {
     "data": {
      "application/vnd.plotly.v1+json": {
       "config": {
        "plotlyServerURL": "https://plot.ly"
       },
       "data": [
        {
         "hovertemplate": "<b>%{hovertext}</b><br><br>State=Andhra Pradesh<br>Population=%{marker.size}<br>District=%{text}<br>lat=%{lat}<br>lon=%{lon}<extra></extra>",
         "hovertext": {
          "bdata": "AAAAAAAAS0AAAAAAAIBMQAAAAAAAAFBAAAAAAAAAUEAAAAAAAIBOQAAAAAAAQFJAAAAAAAAATUAAAAAAAABNQAAAAAAAwFBAAAAAAAAASkAAAAAAAABIQAAAAAAAAEtAAAAAAACATEAAAAAAAABLQAAAAAAAAExAAAAAAACAS0AAAAAAAIBKQAAAAAAAgE1AAAAAAADAUEA=",
          "dtype": "f8"
         },
         "lat": {
          "bdata": "OdL+59VIM0D8pawOx58sQIZoKfmEqSpATsBVOmDIMEA8wn79FMUvQIbaDWbEYzFAgsPgtPaDMkBoIsx3Fa8xQGmSQdjUJDBAU2HcuwzgLkAIdiVNuaMwQOzXtH2p4zFAMSxc/P0cMUD8ytvI8m0yQBSy7FFj+i5AwqhekSaSMkAgrEsmhkgyQBlO8pZ8BDJAGqHG8AqiMEA=",
          "dtype": "f8"
         },
         "legendgroup": "Andhra Pradesh",
         "lon": {
          "bdata": "Wqu/qwu0U0C5IWs8c11TQJbp629eu1NAjKYStpCPVEALo6d2iiVUQMzLEjvenVNALAYfhwLcU0DPKjuy4ipUQLgHRKl5SVRA40vK06d5U0BP/4QyUX9TQOCfCInRiFNAN/idu97KU0AM1RCm0IRTQMY4tFJ3B1RAMupbVI8QVUD5ZrHUbd1UQFibqDnz91NApk1nYmJdVEA=",
          "dtype": "f8"
         },
         "marker": {
          "color": "#636efa",
          "size": {
           "bdata": "99MpAPxFPgDwsD8A+KVOAAWVSgCbKzwADZ85ADqvKgAW7kQA19k9ACTYPQDISC4AKTw1ACfuJgBI1zMACj8pABrGIwAAmTUAxhI8AA==",
           "dtype": "i4"
          },
          "sizemode": "area",
          "sizeref": 27650.37
         },
         "mode": "markers+text",
         "name": "Andhra Pradesh",
         "showlegend": true,
         "subplot": "map",
         "text": [
          "Adilabad",
          "Anantapur",
          "Chittoor",
          "East Godavari",
          "Guntur",
          "Hyderabad",
          "Karimnagar",
          "Khammam",
          "Krishna",
          "Kurnool",
          "Mahbubnagar",
          "Medak",
          "Nalgonda",
          "Nizamabad",
          "Prakasam",
          "Srikakulam",
          "Vizianagaram",
          "Warangal",
          "West Godavari"
         ],
         "type": "scattermap"
        },
        {
         "hovertemplate": "<b>%{hovertext}</b><br><br>State=Arunachal Pradesh<br>Population=%{marker.size}<br>District=%{text}<br>lat=%{lat}<br>lon=%{lon}<extra></extra>",
         "hovertext": {
          "bdata": "AAAAAACASEAAAAAAAIBIQAAAAAAAgE9AAAAAAAAAREAAAAAAAIBMQAAAAAAAgE1AAAAAAABAUEAAAAAAAEBRQAAAAAAAAEpAAAAAAACARUAAAAAAAABKQAAAAAAAAEtAAAAAAAAATUAAAAAAAABNQA==",
          "dtype": "f8"
         },
         "lat": {
          "bdata": "CE8+u0hcO0DTv9qSBl87QMYtlPpgJzxA9ZdQsWwMPED8CwyFYPI7QGKJSaOWUzxAXl2ky1+1O0AH6yQLBkY7QBLW3E1BrjtAicMKEa7xOkBvHqV3t9Q8QETIq1r2RjxAlONRcgF3O0B2T2RGNhs8QA==",
          "dtype": "f8"
         },
         "legendgroup": "Arunachal Pradesh",
         "lon": {
          "bdata": "22MToAgYWEBRaVbYCENXQGHdS9UoxFdAz8ZsUrNPV0CME4R1MCZYQGlK0soA8VdAQF2Ar5V9V0Dh+TcR3GJXQOYt3H7N9FZAvuCef4raV0A4PUWFGcBXQHOMcJGLeVdAn8o4LpwpV0B834EiP6JXQA==",
          "dtype": "f8"
         },
         "marker": {
          "color": "#EF553B",
          "size": {
           "bdata": "AkMCAGIzAQCOgwEArGcBAD45AgBA0wAAVkQBAL2xAgA5wwAAZ7UBAPiJAAD4RQEA60cBAJK2AQA=",
           "dtype": "i4"
          },
          "sizemode": "area",
          "sizeref": 27650.37
         },
         "mode": "markers+text",
         "name": "Arunachal Pradesh",
         "showlegend": true,
         "subplot": "map",
         "text": [
          "Changlang",
          "East Kameng",
          "East Siang",
          "Kurung Kumey",
          "Lohit",
          "Lower Dibang Valley",
          "Lower Subansiri",
          "Papum Pare",
          "Tawang",
          "Tirap",
          "Upper Siang",
          "Upper Subansiri",
          "West Kameng",
          "West Siang"
         ],
         "type": "scattermap"
        },
        {
         "hovertemplate": "<b>%{hovertext}</b><br><br>State=Assam<br>Population=%{marker.size}<br>District=%{text}<br>lat=%{lat}<br>lon=%{lon}<extra></extra>",
         "hovertext": {
          "bdata": "AAAAAACASkAAAAAAAIBNQAAAAAAAAFFAAAAAAAAASkAAAAAAAABPQAAAAAAAwFBAAAAAAAAATEAAAAAAAABRQAAAAAAAAE9AAAAAAABAUkAAAAAAAIBQQAAAAAAAAE1AAAAAAABAUEAAAAAAAIBLQAAAAAAAgFBAAAAAAACATkAAAAAAAEBRQAAAAAAAAE1AAAAAAAAATkA=",
          "dtype": "f8"
         },
         "lat": {
          "bdata": "snRnCYltOkC5wApoO3M6QAWdRT3J0DhA2MYFdKqVOkCYTjAOJ5Y7QMgXFxFeTjtA1IACUWwEOkBT+Yx4kWA6QGT1tXYedThAdWfQzi/DOkDrKxywwis6QJuYdEH0FjpAJlQp2FSyOECWgjaOS386QLO7S3QrJDtAqDaGP75DOkDb74y+lnY6QNL+EL4yvDpAlKs9EBaJO0A=",
          "dtype": "f8"
         },
         "legendgroup": "Assam",
         "lon": {
          "bdata": "ZwBc56m+VkAnMYt4GatWQG/xXHKVN1dARXtOhKYCV0AOs87Wp61XQKG69JVjxldAuxRCFVGmVkBjHMJ22nRXQEjaeObbJVdAuBlJmFOTV0CTnqcorOVWQFYQ1CZiR1dAoi+PfYwXV0CKZ3xY9YhWQBC0tFD3hFdA0Gt5Q487V0B3Q2Wp+9lWQAAb8M6GNldAjVByIDLsV0A=",
          "dtype": "f8"
         },
         "marker": {
          "color": "#00cc96",
          "size": {
           "bdata": "ttcZAPRFCwCpfxoA9CoOADV4CgD/PBQAN2IPAIhHEABgDwoAoKoQAOYnFwCZlw4Ajr8SAGaJDQDZ5g8AWBYrADfGCwAOXB0AOUMUAA==",
           "dtype": "i4"
          },
          "sizemode": "area",
          "sizeref": 27650.37
         },
         "mode": "markers+text",
         "name": "Assam",
         "showlegend": true,
         "subplot": "map",
         "text": [
          "Barpeta",
          "Bongaigaon",
          "Cachar",
          "Darrang",
          "Dhemaji",
          "Dibrugarh",
          "Goalpara",
          "Golaghat",
          "Hailakandi",
          "Jorhat",
          "Kamrup",
          "Karbi Anglong",
          "Karimganj",
          "Kokrajhar",
          "Lakhimpur",
          "Nagaon",
          "Nalbari",
          "Sonitpur",
          "Tinsukia"
         ],
         "type": "scattermap"
        },
        {
         "hovertemplate": "<b>%{hovertext}</b><br><br>State=Bihar<br>Population=%{marker.size}<br>District=%{text}<br>lat=%{lat}<br>lon=%{lon}<extra></extra>",
         "hovertext": {
          "bdata": "AAAAAACARUAAAAAAAABNQAAAAAAAAFFAAAAAAACAR0AAAAAAAABKQAAAAAAAAEpAAAAAAACATUAAAAAAAABNQAAAAAAAAEdAAAAAAAAASkAAAAAAAABLQAAAAAAAgEhAAAAAAACAS0AAAAAAAABFQAAAAAAAAEdAAAAAAAAARkAAAAAAAIBJQAAAAAAAAEVAAAAAAAAASEAAAAAAAIBNQAAAAAAAAEpAAAAAAACASkAAAAAAAIBIQAAAAAAAgEZAAAAAAACATUAAAAAAAIBGQAAAAAAAgERAAAAAAACATkAAAAAAAABFQAAAAAAAAElAAAAAAACAS0AAAAAAAABKQAAAAAAAgEVAAAAAAAAARUAAAAAAAABNQAAAAAAAAEdAAAAAAACAS0A=",
          "dtype": "f8"
         },
         "lat": {
          "bdata": "qRDytCY2OkCGV+j9N8Y4QIZX6P03xjhAniFlQhXVOEBVeLTCA4s5QB5f6Rz2RjlAcAT6wbSBOUA2hLzrZXw5QH128Y5sJTpA9Q62AQa6OEAZCgHd4HI6QEztEkXAyDhAu7X5lNonOUBeqfarzpA5QEEX6FociTlAcOHZuwdTOkCkUOOI9i45QGZtkM7+xTlATG1FJu9pOkC98Eli0zI5QMzHlenHLzpA+Y8kY7Y6OUDhhn+nYdM4QLlbEe8fKTtAsCvxHSlnOUCevPs9aa46QL+r0Zww0TlAV+trWuD9OEDFlN/LPtI5QGj/E4UPyzlAHUrWAYXlOUCywp7v7R85QMGf1HBYdTpAGVvIwtGQOkCFO9V8cyw6QM7JqI4VSDpA8yo8lz/QOUA=",
          "dtype": "f8"
         },
         "legendgroup": "Bihar",
         "lon": {
          "bdata": "mSPYyrDTVUDk6qVZbh1VQOTqpVluHVVAvNRTmXS3VUDgop/aCYhVQNnDLWSywlVAt3R1+Z4fVUCKwrkdowVVQHvHnvFTflVAkIBRrFg8VUDXnHfIKhZVQLdOjKnXkFVAup5Vl+46VUA/QcMpGe1VQC8BNz04pFVAx1CKLNT8VUBMsudcNYhVQC3xWUh2uVVAwFQTPXOKVUDr34bQq6JVQPNftPT0VFVAKU+sBcFeVUCZS3ina2dVQM8EW8ReE1VAB3NHUHhUVUAzpMScPkBVQH/gmO/i2VVAPc8gStj7VEDlV2BE/aJVQDVz332xfFVAzSIvgqY0VUAEPq800XFVQGeuurznUlVAQ8E/gCZnVUB4BeFPnBVVQM06Ydw8slVAYMOJUx5ZVUA=",
          "dtype": "f8"
         },
         "marker": {
          "color": "#ab63fa",
          "size": {
           "bdata": "seYqACnCJgAiejgASwwfAK1TLQBGWi4A16EpAHAJGgBpFDwA+gFDANwXJwCV3BoAwSsRADXcLgBGbxkAIMsZANBFDwBiix4A03hEANXeFAAmQkkA1egrAIrcIQBCCzwAgRZZAGvPTQBr0DEALiotAHUAHQC+BkEA9kw8ALa1CQB2AwoAVj00AKDRMgBUAyIAbVQ1AA==",
           "dtype": "i4"
          },
          "sizemode": "area",
          "sizeref": 27650.37
         },
         "mode": "markers+text",
         "name": "Bihar",
         "showlegend": true,
         "subplot": "map",
         "text": [
          "Araria",
          "Aurangabad",
          "Aurangabad",
          "Banka",
          "Begusarai",
          "Bhagalpur",
          "Bhojpur",
          "Buxar",
          "Darbhanga",
          "Gaya",
          "Gopalganj",
          "Jamui",
          "Jehanabad",
          "Katihar",
          "Khagaria",
          "Kishanganj",
          "Lakhisarai",
          "Madhepura",
          "Madhubani",
          "Munger",
          "Muzaffarpur",
          "Nalanda",
          "Nawada",
          "Pashchim Champaran",
          "Patna",
          "Purba Champaran",
          "Purnia",
          "Rohtas",
          "Saharsa",
          "Samastipur",
          "Saran",
          "Sheikhpura",
          "Sheohar",
          "Sitamarhi",
          "Siwan",
          "Supaul",
          "Vaishali"
         ],
         "type": "scattermap"
        },
        {
         "hovertemplate": "<b>%{hovertext}</b><br><br>State=Maharashtra<br>Population=%{marker.size}<br>District=%{text}<br>lat=%{lat}<br>lon=%{lon}<extra></extra>",
         "hovertext": {
          "bdata": "AAAAAAAATUAAAAAAAABRQAAAAAAAAFBAAAAAAACAUkAAAAAAAIBTQAAAAAAAgFNAAAAAAADAUkAAAAAAAIBQQAAAAAAAQFJAAAAAAAAAUkAAAAAAAIBPQAAAAAAAAFNAAAAAAADAUEAAAAAAAABRQAAAAAAAgE5AAAAAAABAUkAAAAAAAMBQQAAAAAAAwFNAAAAAAABAUEAAAAAAAIBLQAAAAAAAwFFAAAAAAABAUUAAAAAAAIBPQAAAAAAAAFNAAAAAAACAUkAAAAAAAEBSQAAAAAAAgFJAAAAAAACAU0AAAAAAAMBQQAAAAAAAgFJAAAAAAACAU0AAAAAAAEBSQAAAAAAAQFJA",
          "dtype": "f8"
         },
         "lat": {
          "bdata": "bUhdeREZNEBtSF15ERk0QO81S7EIdDJA7zVLsQh0MkCmJRw0Dr80QPc+ezJLKjVAJh0ICzg2NUBa4rFtzfMyQH5/kTQakTRAn6de1nkYNEBSw8EWJkY1QEt+tyaaOTVAWEeIgGKYM0AJ1xJdBeI0QGtHLJEP/DNAlzHpaOVyMEA03KCRQ1kyQGpL8YxRMjVAL448zJU1M0BRgXjW7oU1QEsP5WZURDRAAw768tAxMkB/mwNpcU8zQC0kWJpXhDJAmvoXWM81MUAN7hyBqScxQGbUbI99rDFAnxtbQMMrMEAI+fwWXdYxQGrBbnHisjNAuVybv7PONEAaCrSoQ0g0QBTBB8DmCjRA",
          "dtype": "f8"
         },
         "legendgroup": "Maharashtra",
         "lon": {
          "bdata": "ueButYbUUkC54G61htRSQNc8WHSUQFJA1zxYdJRAUkCgvPcewkdTQJnRk+FAa1NAcVCpFAIHVEC2uThXXexSQL5OhLD4GFNACUOHMjLUU0A2+2CIlKVSQKSKP+s2C1RAYFEPyelFU0BV6eo0SuNSQP+PcuoF/1JA/iy2EUGIUkA02D0jhTBTQA6/BuhiwVNAP7C7trRrU0AHgbWI45RSQFCjPo1yglJAfSzlWq3/UkARkbqP5yxTQKz08EhFiFJAmwoy7nZQUkAKO7TAQa1SQE1dcqaNi1JAQJekvtlgUkCdTcj3IdtSQPwSEf0fM1JActr1VKWkU0BwbvJPUlBTQENLOaxog1NA",
          "dtype": "f8"
         },
         "marker": {
          "color": "#FFA15A",
          "size": {
           "bdata": "KcImACJ6OADgyxYA2DEoAJKtGwD9EiwAzlASANlxJwCSdicAk6IhAC5LHwALLhQAAfcRAB2LQACG5B0AoSQ7ALRyJQACAkcADEozAKcmGQAzMF0A6EoZADYEHACg4Y8A3aQYAP8PKwBd1S0A8/YMADziQQC0w6gAJtkTAGhEEgB8TSoA",
           "dtype": "i4"
          },
          "sizemode": "area",
          "sizeref": 27650.37
         },
         "mode": "markers+text",
         "name": "Maharashtra",
         "showlegend": true,
         "subplot": "map",
         "text": [
          "Aurangabad",
          "Aurangabad",
          "Raigarh",
          "Raigarh",
          "Akola",
          "Amravati",
          "Bhandara",
          "Bid",
          "Buldana",
          "Chandrapur",
          "Dhule",
          "Gondiya",
          "Hingoli",
          "Jalgaon",
          "Jalna",
          "Kolhapur",
          "Latur",
          "Nagpur",
          "Nanded",
          "Nandurbar",
          "Nashik",
          "Osmanabad",
          "Parbhani",
          "Pune",
          "Ratnagiri",
          "Sangli",
          "Satara",
          "Sindhudurg",
          "Solapur",
          "Thane",
          "Wardha",
          "Washim",
          "Yavatmal"
         ],
         "type": "scattermap"
        },
        {
         "hovertemplate": "<b>%{hovertext}</b><br><br>State=Chandigarh<br>Population=%{marker.size}<br>District=%{text}<br>lat=%{lat}<br>lon=%{lon}<extra></extra>",
         "hovertext": {
          "bdata": "AAAAAAAAU0A=",
          "dtype": "f8"
         },
         "lat": {
          "bdata": "dQKaCBu+PkA=",
          "dtype": "f8"
         },
         "legendgroup": "Chandigarh",
         "lon": {
          "bdata": "0bHd8Y4wU0A=",
          "dtype": "f8"
         },
         "marker": {
          "color": "#19d3f3",
          "size": {
           "bdata": "2hoQAA==",
           "dtype": "i4"
          },
          "sizemode": "area",
          "sizeref": 27650.37
         },
         "mode": "markers+text",
         "name": "Chandigarh",
         "showlegend": true,
         "subplot": "map",
         "text": [
          "Chandigarh"
         ],
         "type": "scattermap"
        },
        {
         "hovertemplate": "<b>%{hovertext}</b><br><br>State=Chhattisgarh<br>Population=%{marker.size}<br>District=%{text}<br>lat=%{lat}<br>lon=%{lon}<extra></extra>",
         "hovertext": {
          "bdata": "AAAAAAAAR0AAAAAAAMBSQAAAAAAAAE5AAAAAAAAAUUAAAAAAAEBRQAAAAAAAAE1AAAAAAAAAT0AAAAAAAABOQAAAAAAAAE9AAAAAAAAAUEAAAAAAAIBSQAAAAAAAQFBAAAAAAAAASUA=",
          "dtype": "f8"
         },
         "lat": {
          "bdata": "ra6Pc9RkM0CTL4SdYFs2QJMvhJ1gWzZAdFoCwQ6ONEBR8QBiyDE1QH6HSUPaxTZAzYjS3uB9NkD7HneEDoE3QK531ixGOTVAmuDWqB0CNkCa4NaoHQI2QLPqgPbS4jRAeeEQ6MJTN0A=",
          "dtype": "f8"
         },
         "legendgroup": "Chhattisgarh",
         "lon": {
          "bdata": "12tsVtphVEDmUdFf2n9UQOZR0V/af1RA1FC0XnFwVEAVUtV6PFVUQOiIS5K091RAU5uW5N2kVEAVLdaPAohUQEUG1zgxqlRAHU38X8rRVEAdTfxfytFUQOd91irSjFRAPgN8wRfPVEA=",
          "dtype": "f8"
         },
         "marker": {
          "color": "#FF6692",
          "size": {
           "bdata": "T5AVAATUBQDNpCgAJTQMAAAGMwDV/gwAcGkSAOUNCgAywg8A4MsWANgxKACAAj4ATgIkAA==",
           "dtype": "i4"
          },
          "sizemode": "area",
          "sizeref": 27650.37
         },
         "mode": "markers+text",
         "name": "Chhattisgarh",
         "showlegend": true,
         "subplot": "map",
         "text": [
          "Bastar",
          "Bilaspur",
          "Bilaspur",
          "Dhamtari",
          "Durg",
          "Jashpur",
          "Korba",
          "Koriya",
          "Mahasamund",
          "Raigarh",
          "Raigarh",
          "Raipur",
          "Surguja"
         ],
         "type": "scattermap"
        },
        {
         "hovertemplate": "<b>%{hovertext}</b><br><br>State=Himachal Pradesh<br>Population=%{marker.size}<br>District=%{text}<br>lat=%{lat}<br>lon=%{lon}<extra></extra>",
         "hovertext": {
          "bdata": "AAAAAADAUkAAAAAAAABOQAAAAAAAAE9AAAAAAADAU0AAAAAAAIBNQAAAAAAAAFNAAAAAAAAAUkAAAAAAAIBRQAAAAAAAAFJAAAAAAADAUkAAAAAAAABRQAAAAAAAgFJAAAAAAABAU0A=",
          "dtype": "f8"
         },
         "lat": {
          "bdata": "fkUrYcdgP0B+RSthx2A/QP/RMvVtVUBAlTE5NzutP0CVMTk3O60/QPb3IDEKEkBANAmD2E6bP0BxaYkJvOg/QDl0mS3Eoj9Av6qKn90nP0C9orimya4+QIx29YPkCT9Ayz0/Z1OVP0A=",
          "dtype": "f8"
         },
         "legendgroup": "Himachal Pradesh",
         "lon": {
          "bdata": "aTDtYs0pU0BpMO1izSlTQLAfC8UvGVNAhff81tkfU0CF9/zW2R9TQNGgKy1fGlNAXjEBZQihU0AXkVHEMFpTQHnSNOPLPVNAbFCc9wtoU0B2zihho1tTQHTie2ZxPFNAR6a0G78LU0A=",
          "dtype": "f8"
         },
         "marker": {
          "color": "#B6E880",
          "size": {
           "bdata": "BNQFAM2kKACo6wcAcPAGAJ3ZEAC7ChcAmUgBAI+uBgBhQQ8AumsMAL8VCADg2ggA1fMHAA==",
           "dtype": "i4"
          },
          "sizemode": "area",
          "sizeref": 27650.37
         },
         "mode": "markers+text",
         "name": "Himachal Pradesh",
         "showlegend": true,
         "subplot": "map",
         "text": [
          "Bilaspur",
          "Bilaspur",
          "Chamba",
          "Hamirpur",
          "Hamirpur",
          "Kangra",
          "Kinnaur",
          "Kullu",
          "Mandi",
          "Shimla",
          "Sirmaur",
          "Solan",
          "Una"
         ],
         "type": "scattermap"
        },
        {
         "hovertemplate": "<b>%{hovertext}</b><br><br>State=Daman and Diu<br>Population=%{marker.size}<br>District=%{text}<br>lat=%{lat}<br>lon=%{lon}<extra></extra>",
         "hovertext": {
          "bdata": "AAAAAADAU0AAAAAAAMBQQA==",
          "dtype": "f8"
         },
         "lat": {
          "bdata": "7r0Lbn5uNEBqvZNLxrk0QA==",
          "dtype": "f8"
         },
         "legendgroup": "Daman and Diu",
         "lon": {
          "bdata": "OVJ1DbY1UkCUwQ01wLVRQA==",
          "dtype": "f8"
         },
         "marker": {
          "color": "#FF97FF",
          "size": {
           "bdata": "xeoCACrbKQA=",
           "dtype": "i4"
          },
          "sizemode": "area",
          "sizeref": 27650.37
         },
         "mode": "markers+text",
         "name": "Daman and Diu",
         "showlegend": true,
         "subplot": "map",
         "text": [
          "Daman",
          "Junagadh"
         ],
         "type": "scattermap"
        },
        {
         "hovertemplate": "<b>%{hovertext}</b><br><br>State=Gujarat<br>Population=%{marker.size}<br>District=%{text}<br>lat=%{lat}<br>lon=%{lon}<extra></extra>",
         "hovertext": {
          "bdata": "AAAAAADAUEAAAAAAAMBSQAAAAAAAgFBAAAAAAACAUkAAAAAAAIBLQAAAAAAAAFJAAAAAAACAUEAAAAAAAIBSQAAAAAAAQFBAAAAAAAAATkAAAAAAAABSQAAAAAAAgFJAAAAAAACAT0AAAAAAAMBSQAAAAAAAAE5AAAAAAAAAT0AAAAAAAMBQQAAAAAAAAFJAAAAAAABAUEAAAAAAAMBSQAAAAAAAAE9AAAAAAAAAT0AAAAAAAEBRQAAAAAAAQFFA",
          "dtype": "f8"
         },
         "lat": {
          "bdata": "U75XOPXtNEBJt3kr/Zo2QK1uAyBfDDVAtb1pOGBINkBmoxGcL0I4QObwCPMDwjVAzqDK+sKzNUAUD6z/lDE3QCz81hsdaTZA3inNxAZ7N0A6ETY8PeM2QMUDxtaDhzdAzopE7Oe0NUBPD6P28d00QKcDgEfqzTZAvNGlbWzON0BECNZSCY01QJrzYdTxZzZAdzYnNNG3N0Dijyf58kE1QFJzPO2j0zZAg3K34DfNNEC/R+MB50I2QBxzrfc/cTRA",
          "dtype": "f8"
         },
         "legendgroup": "Gujarat",
         "lon": {
          "bdata": "z1a+mQejUUBNBXV4Sw9SQNYNcRnQ21FAb1bmAvskUkC1RKa/pvtRQIM0p78WK1JAgtKvG2oKUkBss5qZBStSQC+/MD24Z1FAk0r9Ypo0UUAwKqkTNEFSQIS25R8mHVJAnAOFLsdrUkAGhXGHKDdSQM9IfI6rZ1JALkfBsxrwUUB0YDuaA25RQFq/EgqOtVFA1HRVlLpIUkAiHPgw1TtSQCpYmhjz3lFAsbrc9A1sUkDyXLoao19SQOHWlAqNOlJA",
          "dtype": "f8"
         },
         "marker": {
          "color": "#FECB52",
          "size": {
           "bdata": "KtspAJEUbgDOGhcAye4fAHqdLwCrqhcAbfMrAIk8FQD39SAAU+0fAO0XIwB4DR8A2QEJAAhKFAD4eiQA9oAUAOnuCACODToArQ4lACrLXABszBoAw3sDAPqPPwDOBhoA",
           "dtype": "i4"
          },
          "sizemode": "area",
          "sizeref": 27650.37
         },
         "mode": "markers+text",
         "name": "Gujarat",
         "showlegend": true,
         "subplot": "map",
         "text": [
          "Junagadh",
          "Ahmadabad",
          "Amreli",
          "Anand",
          "Banas Kantha",
          "Bharuch",
          "Bhavnagar",
          "Gandhinagar",
          "Jamnagar",
          "Kachchh",
          "Kheda",
          "Mahesana",
          "Narmada",
          "Navsari",
          "Panch Mahals",
          "Patan",
          "Porbandar",
          "Rajkot",
          "Sabar Kantha",
          "Surat",
          "Surendranagar",
          "The Dangs",
          "Vadodara",
          "Valsad"
         ],
         "type": "scattermap"
        },
        {
         "hovertemplate": "<b>%{hovertext}</b><br><br>State=Goa<br>Population=%{marker.size}<br>District=%{text}<br>lat=%{lat}<br>lon=%{lon}<extra></extra>",
         "hovertext": {
          "bdata": "AAAAAABAVEAAAAAAAIBTQA==",
          "dtype": "f8"
         },
         "lat": {
          "bdata": "NNqjRvIYL0AiA3WQ+2MuQA==",
          "dtype": "f8"
         },
         "legendgroup": "Goa",
         "lon": {
          "bdata": "/iEQpaBzUkDnzHRURnxSQA==",
          "dtype": "f8"
         },
         "marker": {
          "color": "#636efa",
          "size": {
           "bdata": "WHsMABnGCQA=",
           "dtype": "i4"
          },
          "sizemode": "area",
          "sizeref": 27650.37
         },
         "mode": "markers+text",
         "name": "Goa",
         "showlegend": true,
         "subplot": "map",
         "text": [
          "North Goa",
          "South Goa"
         ],
         "type": "scattermap"
        },
        {
         "hovertemplate": "<b>%{hovertext}</b><br><br>State=Haryana<br>Population=%{marker.size}<br>District=%{text}<br>lat=%{lat}<br>lon=%{lon}<extra></extra>",
         "hovertext": {
          "bdata": "AAAAAAAAUkAAAAAAAEBQQAAAAAAAgFFAAAAAAACATUAAAAAAAEBSQAAAAAAAAFBAAAAAAADAUUAAAAAAAABPQAAAAAAAAE5AAAAAAABAUEAAAAAAAMBQQAAAAAAAAFFAAAAAAAAAUkAAAAAAAEBQQAAAAAAAwFFAAAAAAACAUUAAAAAAAABOQA==",
          "dtype": "f8"
         },
         "lat": {
          "bdata": "HHq5qrFZPkASMvQYl7o8QC/svz0TJjxAAlisBq+SPUAStV2wPAs8QGn4QVN9PD1AgbfDcrWYPEBlUSdjlXM9QDPcT3rv9T1AHHYm9QS0PUBsw/OGeA4+QMU+fIadIjxAZm7C/m2zPkA9EL8D8Vc9QNVFmskPMTxAcjhZCXzkPECZcSEMxqI9QA==",
          "dtype": "f8"
         },
         "legendgroup": "Haryana",
         "lon": {
          "bdata": "Fr2K78c8U0CREEm9WQFTQJGE45rwVFNAu/uXF/PiUkDE9D4NPUFTQFP1isH39VJAFdugtSAnU0B7QD5u8RJTQGkNu5cgGFNA+/jECf43U0BxLZFxajJTQDLTl7j4CFNA5SkD3TA+U0DUNhARdDtTQNqwENXPI1NAaJ37tf8hU0Aarn2aOLpSQA==",
          "dtype": "f8"
         },
         "marker": {
          "color": "#EF553B",
          "size": {
           "bdata": "njcRAI3wGABFnRsAu18OAMAbFwA7nBoAxZ8OAIhbFACAZBAALPgWAC+4DgDoEQ4AjZAIAL1kEgDsvA0AVDEQAFXDEwA=",
           "dtype": "i4"
          },
          "sizemode": "area",
          "sizeref": 27650.37
         },
         "mode": "markers+text",
         "name": "Haryana",
         "showlegend": true,
         "subplot": "map",
         "text": [
          "Ambala",
          "Bhiwani",
          "Faridabad",
          "Fatehabad",
          "Gurgaon",
          "Hisar",
          "Jhajjar",
          "Jind",
          "Kaithal",
          "Karnal",
          "Kurukshetra",
          "Mahendragarh",
          "Panchkula",
          "Panipat",
          "Rewari",
          "Rohtak",
          "Sirsa"
         ],
         "type": "scattermap"
        },
        {
         "hovertemplate": "<b>%{hovertext}</b><br><br>State=Uttar Pradesh<br>Population=%{marker.size}<br>District=%{text}<br>lat=%{lat}<br>lon=%{lon}<extra></extra>",
         "hovertext": {
          "bdata": "AAAAAADAU0AAAAAAAIBNQAAAAAAAgE5AAAAAAACATEAAAAAAAABPQAAAAAAAAE9AAAAAAADAUEAAAAAAAABOQAAAAAAAgE5AAAAAAAAAREAAAAAAAIBOQAAAAAAAAERAAAAAAAAATEAAAAAAAABKQAAAAAAAgEhAAAAAAACATEAAAAAAAABNQAAAAAAAAE1AAAAAAAAATkAAAAAAAABLQAAAAAAAAE5AAAAAAACATUAAAAAAAMBQQAAAAAAAgE1AAAAAAAAATUAAAAAAAIBMQAAAAAAAgE5AAAAAAAAAUUAAAAAAAMBQQAAAAAAAgE5AAAAAAACASEAAAAAAAIBOQAAAAAAAAEtAAAAAAAAAUEAAAAAAAIBOQAAAAAAAQFBAAAAAAACASkAAAAAAAIBOQAAAAAAAQFBAAAAAAACASUAAAAAAAIBLQAAAAAAAAEpAAAAAAAAAUUAAAAAAAABMQAAAAAAAAFBAAAAAAACATUAAAAAAAABPQAAAAAAAAE9AAAAAAACATEAAAAAAAIBHQAAAAAAAAE1AAAAAAAAASkAAAAAAAABHQAAAAAAAAE5AAAAAAAAATUAAAAAAAIBGQAAAAAAAAE5AAAAAAAAATEAAAAAAAABJQAAAAAAAgElAAAAAAACASkAAAAAAAIBNQAAAAAAAgExAAAAAAABAUEA=",
          "dtype": "f8"
         },
         "lat": {
          "bdata": "vtKb8ve8OUC+0pvy97w5QJatv9LA/jpASy08Ef/vO0CualGlXGQ5QCcZfAslZDpAPHRumT6rOkAzmyNbHwI6QIzecB+5Cz1AaCFrQBixO0CHt8KHWtw5QOS6E672cjtA0CzLMRVaOUCZ33gdO+w6QHmH/CrSgjxA2wuBMHnVOkC6HfmdYFA9QGwPtj5IWTxA9COt4ToeOUAaD/XR8Cg5QMGEwYwUbDpAiypS9FWXO0AZt8Tyxck6QMydeLobmzpAvB3SrlxzO0CXwhA4YtY5QPOrZfaqNTtAU35BCLBkPECpl3Q8/r88QMshgPbtnzlAobBGRz8oO0CA6BazFqI6QO3TMnFgVjtAunLJeGUROkDcNjTKj7M5QJBan1CwdDlAk8t+BdnePEDbar4Jdv46QG8Rv7MzbjpACVYAIC+JOUCrte/jfOQ6QLV9ery5ljhAZT78eZbWOkDF4VddZVg5QDGxcaeCLDtAg8oxHQqYO0Bv66o7xQI6QCd7QE+SBz1AIodc4yEaOUDiSBagDdo8QLni+DVzeD1A6M03kC6FPEDB3VBVZt05QMHdUFVm3TlAFmvKxv9AOkAIArRDG9U8QItPZOGnCD5AkYm9EabKOkA8pEaxy/07QEkztM6CgDtAMuuS5oh3OEA2dvoT3kg6QCrNLyezoTpA3aqvX05cOUA=",
          "dtype": "f8"
         },
         "legendgroup": "Uttar Pradesh",
         "lon": {
          "bdata": "eAwlYOD0U0B4DCVg4PRTQDedl8tgg1NALiSLDhiAU0AVkiZ0T4NUQD0uplizq1RAW1zNp0nbU0C8GAztx8BUQGWtodReU1NA0cpRZvBdVEDy9BZXVgJVQB2yj2sunlRA48LAiJchVECtnLNN41ZUQLGUGsWj21NAw86LfaqsVEDGCmz93JxTQMspMGaxgFNADfAjTzLQVECATQQD6ERUQI+Q3RXD9FRArqibYdCsU0BKzbnB4MRTQMeXql+AgFRA8ZqzQTPcU0A6DjmXqjZUQDkBTYRNm1NAasxfc5NhU0DseXGtKWtTQNlJYTlP4lRABiu8u3OBVED0ZYeZt9ZUQNAA1E3nEFRADrmWyHrXU0CfkfoGw6JUQCLUkSiSuVNAuHVgS/eYU0C9YByDPelTQFVI9qgs/1NACIlGXMJaVEAR35AhDPtUQN6Al+NzplNAvSp5b2k5VEDDTausbutTQIz4Rr49wlNAVdU/N8dnU0AV/kd2X+BUQPC6oU6Xc1NAI1WWJXumVEAh+P5gF69TQNFdJ6/4aFNAtM2Xoqr5U0CFw5P223tUQIXDk/bbe1RA+4GBJz9OVEDxKLuGBsdTQBTwAtxWZlNA020nUHvCVEDzC6lyIvVTQEWp9LqVNlRAkd1jyVzEVECi5eqZp4NUQGX1xOTAKFRANTUcqdG0VEA=",
          "dtype": "f8"
         },
         "marker": {
          "color": "#00cc96",
          "size": {
           "bdata": "cPAGAJ3ZEADtbEMAIQ84AFfbWgDAliQA2QwVABlnRgAI4hMA8zc1AF5vMQA5ySAA8nQbABvBMQBn4EMA0JolAJkxOACjZDUA9MsdAPIhDwASUS8AkBMbAPIiGABUtCUAFMQcAB0sKABsHiYA8yUZAK1vRwCsPTcAv2U0AD/DQwCtcz4AdskZAHyTRAALfx4AXRQcAChHGQBYaBsAbGgYAABkNgDYoxIADglGALZdDQDxghwA8N0mABCpIQDpizQAyhkmAKbQSACYOT8An/0eAAg+DQC19zAA9/YzAEukIwCO5DQA7ysaAErgLQCYa0QAn2scAH3wOQAPbi8AqRo4AA==",
           "dtype": "i4"
          },
          "sizemode": "area",
          "sizeref": 27650.37
         },
         "mode": "markers+text",
         "name": "Uttar Pradesh",
         "showlegend": true,
         "subplot": "map",
         "text": [
          "Hamirpur",
          "Hamirpur",
          "Agra",
          "Aligarh",
          "Allahabad",
          "Ambedkar Nagar",
          "Auraiya",
          "Azamgarh",
          "Baghpat",
          "Bahraich",
          "Ballia",
          "Balrampur",
          "Banda",
          "Bara Banki",
          "Bareilly",
          "Basti",
          "Bijnor",
          "Bulandshahr",
          "Chandauli",
          "Chitrakoot",
          "Deoria",
          "Etah",
          "Etawah",
          "Faizabad",
          "Farrukhabad",
          "Fatehpur",
          "Firozabad",
          "Gautam Buddha Nagar",
          "Ghaziabad",
          "Ghazipur",
          "Gonda",
          "Gorakhpur",
          "Hardoi",
          "Jalaun",
          "Jaunpur",
          "Jhansi",
          "Jyotiba Phule Nagar",
          "Kannauj",
          "Kanpur Dehat",
          "Kaushambi",
          "Kushinagar",
          "Lalitpur",
          "Lucknow",
          "Mahoba",
          "Mainpuri",
          "Mathura",
          "Mau",
          "Meerut",
          "Mirzapur",
          "Moradabad",
          "Muzaffarnagar",
          "Pilibhit",
          "Pratapgarh",
          "Pratapgarh",
          "Rae Bareli",
          "Rampur",
          "Saharanpur",
          "Sant Kabir Nagar",
          "Shahjahanpur",
          "Sitapur",
          "Sonbhadra",
          "Sultanpur",
          "Unnao",
          "Varanasi"
         ],
         "type": "scattermap"
        },
        {
         "hovertemplate": "<b>%{hovertext}</b><br><br>State=Jammu and Kashmir<br>Population=%{marker.size}<br>District=%{text}<br>lat=%{lat}<br>lon=%{lon}<extra></extra>",
         "hovertext": {
          "bdata": "AAAAAACASkAAAAAAAIBSQAAAAAAAgE5AAAAAAACAT0AAAAAAAABKQAAAAAAAgEtAAAAAAACATkAAAAAAAABNQA==",
          "dtype": "f8"
         },
         "lat": {
          "bdata": "3MqL2geuQEBcVKIbSltAQGijTYVyyEBANZ4C0kdCQEBZAv6iK/FAQBSXBGVH5UBA8Cv+4/UiQUAD3d1AG4ZAQA==",
          "dtype": "f8"
         },
         "legendgroup": "Jammu and Kashmir",
         "lon": {
          "bdata": "lkIztJUEU0DspcGRQbZSQLkaTJDAKFNASLS3Z7LlUkB2X6EJl8BSQGbRJYvwklJAcy/utA3HUkC+2zSdyMlSQA==",
          "dtype": "f8"
         },
         "marker": {
          "color": "#ab63fa",
          "size": {
           "bdata": "UEEGAGZYFwACJgIA82cJADiNCACjRgcAXd8SAOl3CAA=",
           "dtype": "i4"
          },
          "sizemode": "area",
          "sizeref": 27650.37
         },
         "mode": "markers+text",
         "name": "Jammu and Kashmir",
         "showlegend": true,
         "subplot": "map",
         "text": [
          "Doda",
          "Jammu",
          "Kargil",
          "Kathua",
          "Pulwama",
          "Punch",
          "Srinagar",
          "Udhampur"
         ],
         "type": "scattermap"
        },
        {
         "hovertemplate": "<b>%{hovertext}</b><br><br>State=Jharkhand<br>Population=%{marker.size}<br>District=%{text}<br>lat=%{lat}<br>lon=%{lon}<extra></extra>",
         "hovertext": {
          "bdata": "AAAAAAAAT0AAAAAAAIBIQAAAAAAAgEpAAAAAAAAAUEAAAAAAAIBJQAAAAAAAgEhAAAAAAACASUAAAAAAAABHQAAAAAAAgEtAAAAAAAAAS0AAAAAAAABIQAAAAAAAAExAAAAAAACAQ0AAAAAAAIBKQAAAAAAAgFBAAAAAAAAARUAAAAAAAIBMQA==",
          "dtype": "f8"
         },
         "lat": {
          "bdata": "F9sKjnauN0B+y2U/vx04QNo1PNKoVDhA2paXG8HaN0CIiivNZkY4QKnq4HcFFThA4bSm7kdOOEDEsS5uo9E4QCNPP7waFDdAnfP6QY76N0DZzEXuoLk3QFnPy7whfTdA+62zMZaSOEBDw4C9aTI4QAh0awcqLzdAgQn0QMrvOEC7S5O415s2QA==",
          "dtype": "f8"
         },
         "legendgroup": "Jharkhand",
         "lon": {
          "bdata": "GiDxlvl+VUBlHquVtTtVQHco0UxysFVAczw0s9aZVUDbqEE3tNFVQNA1CfTx61RAOkJIMpOFVUDwakq909JVQPgdCoE8I1VATbSlDwK9VUAF9B9E6R5VQOvws+hFKlVAwQgNVZrsVUDuNn66/wxVQB+rECdXVFVAkVbKY7DrVUBJcGNL4iVVQA==",
          "dtype": "f8"
         },
         "marker": {
          "color": "#FFA15A",
          "size": {
           "bdata": "+ncfAMbpDwBpxBYAR/YoAOIpFAAgLxQAolAlAA8LFAC9pA8AAhIMAMIXCwDeCwcARr0NAJ2ZHQDNdywAZ44RABomCQA=",
           "dtype": "i4"
          },
          "sizemode": "area",
          "sizeref": 27650.37
         },
         "mode": "markers+text",
         "name": "Jharkhand",
         "showlegend": true,
         "subplot": "map",
         "text": [
          "Bokaro",
          "Chatra",
          "Deoghar",
          "Dhanbad",
          "Dumka",
          "Garhwa",
          "Giridih",
          "Godda",
          "Gumla",
          "Jamtara",
          "Latehar",
          "Lohardaga",
          "Pakur",
          "Palamu",
          "Ranchi",
          "Sahibganj",
          "Simdega"
         ],
         "type": "scattermap"
        },
        {
         "hovertemplate": "<b>%{hovertext}</b><br><br>State=Karnataka<br>Population=%{marker.size}<br>District=%{text}<br>lat=%{lat}<br>lon=%{lon}<extra></extra>",
         "hovertext": {
          "bdata": "AAAAAACATUAAAAAAAIBRQAAAAAAAAFBAAAAAAAAATUAAAAAAAIBOQAAAAAAAAEFAAAAAAACATEAAAAAAAABSQAAAAAAAgFBAAAAAAADAUEAAAAAAAIBRQAAAAAAAgFBAAAAAAAAATEAAAAAAAEBRQAAAAAAAAFFAAAAAAACAUkAAAAAAAIBQQAAAAAAAAE1AAAAAAAAAUEAAAAAAAEBQQAAAAAAAgElAAAAAAAAAUkAAAAAAAABRQAAAAAAAwFNA",
          "dtype": "f8"
         },
         "lat": {
          "bdata": "zjvtc5ooMEAMK9DMp98pQPvo8gY8KTBAXDti0BQmLkAWBgnoSvMxQNV2JkcU1zBA1XYmRxTXMEBjEP9iv9kqQD66wNwAlSxAoxTIGSypLEDf5I6qCrAuQE9cnFCmAy9AP7SEogkSMUAfe7374+MpQKZrN3SkeS1AmLHbOS/LKEAMMlhOJ6AqQPX0mBFxTS9ADGyQh1kmKUB9iEj/Bn8oQIgkoOwADTBAyJFtaLAgLECr6SrvVy8rQHkSD2Kb5ipA",
          "dtype": "f8"
         },
         "legendgroup": "Karnataka",
         "lon": {
          "bdata": "NyOS80vpUkCzexD9UF5TQFGw6mNKrlJA5MKm6TkeU0AG+fFRdExTQMOMA8Jh/VJAw4wDwmH9UkCZbBftR+tSQLBOqowBJVNAUTC9CLT6UkD0hEMd2shSQCE+N+CC6VJAyjF/oQA4U0C5trdbEgdTQAXUiRRa2VJAnz8CgsbyUkD70F+Z4YBTQBkgV19ZClNA6LXncTQ0U0DIhZIn2CFTQBvC8XjqN1NAKZi3zHHLUkBE17B/eEFTQCB85x0WrlJA",
          "dtype": "f8"
         },
         "marker": {
          "color": "#19d3f3",
          "size": {
           "bdata": "2NUcAMseDwCN7kgAc2wlAIT9GQD+5AMAMzkhACldEQBAUhkAma8dAO8uHAB6PhAAtignACUbGwDkYBgAF3YIAJFxFwBgNRUAyY0bACfLLQBsbh0Asb4aAMTgKAAR9xEA",
           "dtype": "i4"
          },
          "sizemode": "area",
          "sizeref": 27650.37
         },
         "mode": "markers+text",
         "name": "Karnataka",
         "showlegend": true,
         "subplot": "map",
         "text": [
          "Bagalkot",
          "Bangalore Rural",
          "Belgaum",
          "Bellary",
          "Bidar",
          "Bijapur",
          "Bijapur",
          "Chikmagalur",
          "Chitradurga",
          "Davanagere",
          "Dharwad",
          "Gadag",
          "Gulbarga",
          "Hassan",
          "Haveri",
          "Kodagu",
          "Kolar",
          "Koppal",
          "Mandya",
          "Mysore",
          "Raichur",
          "Shimoga",
          "Tumkur",
          "Udupi"
         ],
         "type": "scattermap"
        },
        {
         "hovertemplate": "<b>%{hovertext}</b><br><br>State=Kerala<br>Population=%{marker.size}<br>District=%{text}<br>lat=%{lat}<br>lon=%{lon}<extra></extra>",
         "hovertext": {
          "bdata": "AAAAAADAVUAAAAAAAMBVQAAAAAAAwFRAAAAAAABAVUAAAAAAAMBTQAAAAAAAQFVAAAAAAABAVkAAAAAAAEBVQAAAAAAAQFRAAAAAAAAAVEAAAAAAAABVQAAAAAAAgFVAAAAAAADAU0A=",
          "dtype": "f8"
         },
         "lat": {
          "bdata": "4OtPDtAVI0A57TSKfwIkQCcxSgIQnCNAraAPUA/iJ0C+6kl9jKooQNI7+9nY2yFAkwpGM5NJI0C1sbdeLckmQMUw8jZU8iVAHAZp8OGRJUCxw3MA/xIhQBCpUzj56iRAtaoN2ThuJ0A=",
          "dtype": "f8"
         },
         "legendgroup": "Kerala",
         "lon": {
          "bdata": "XB1ZsFMYU0AXdBvBQBFTQF/QsHnvQlNAf6XlyYjWUkD102LK+MRSQJ6Vwn61KFNAuD+4anodU0CexQuliu1SQA/valca/FJATmu4zfwfU0BT/hx+xjhTQHlLqNPiB1NAcc0jDtsEU0A=",
          "dtype": "f8"
         },
         "marker": {
          "color": "#FF6692",
          "size": {
           "bdata": "rXcgANQVMgDu6xAAe38mAO/yEwBvNigAFyEeANUXLwAYwj4ATuAqADNgMgAwoC8ADHkMAA==",
           "dtype": "i4"
          },
          "sizemode": "area",
          "sizeref": 27650.37
         },
         "mode": "markers+text",
         "name": "Kerala",
         "showlegend": true,
         "subplot": "map",
         "text": [
          "Alappuzha",
          "Ernakulam",
          "Idukki",
          "Kannur",
          "Kasaragod",
          "Kollam",
          "Kottayam",
          "Kozhikode",
          "Malappuram",
          "Palakkad",
          "Thiruvananthapuram",
          "Thrissur",
          "Wayanad"
         ],
         "type": "scattermap"
        },
        {
         "hovertemplate": "<b>%{hovertext}</b><br><br>State=Madhya Pradesh<br>Population=%{marker.size}<br>District=%{text}<br>lat=%{lat}<br>lon=%{lon}<extra></extra>",
         "hovertext": {
          "bdata": "AAAAAAAATUAAAAAAAABMQAAAAAAAwFBAAAAAAAAAREAAAAAAAABOQAAAAAAAAFBAAAAAAACAUUAAAAAAAABLQAAAAAAAAEtAAAAAAAAAT0AAAAAAAIBNQAAAAAAAAE9AAAAAAACATUAAAAAAAIBIQAAAAAAAAEtAAAAAAACASkAAAAAAAMBQQAAAAAAAAE9AAAAAAABAUEAAAAAAAIBRQAAAAAAAwFFAAAAAAAAAQUAAAAAAAIBOQAAAAAAAgExAAAAAAAAAT0AAAAAAAABOQAAAAAAAAE9AAAAAAAAAS0AAAAAAAABPQAAAAAAAAEpAAAAAAACATEAAAAAAAIBOQAAAAAAAQFBAAAAAAAAAT0AAAAAAAABOQAAAAAAAgE9AAAAAAACATEAAAAAAAIBNQAAAAAAAAEhAAAAAAAAASkAAAAAAAIBKQAAAAAAAAEpAAAAAAAAAT0AAAAAAAIBLQAAAAAAAgE1A",
          "dtype": "f8"
         },
         "lat": {
          "bdata": "coHwNY0uN0AEdrZ1iKE4QDWJJWHazDVA9jWKKr+zNUBBLQ/A8fY1QC5JGO4IXDpA9+lZ3hB7N0AK4JJHVF01QO+yAopK0DhAOxQgC1w6NkDgpG6SKMQ3QFV3p8z65jlAOePdCP3INkC99uVEm5I2QPlhddJe1jZA0vmYbY19OEBM3O05bgo6QFeIUulHOjZAqudEiWOYNkA8+3XlJa42QOTXSOtsLzdABkH+dmlrNkC3v4xXc7k3QFq6cLsXtDZAqM3ih1oxOEAIoUDHhV86QH3dN5r/szhApgkbF4pzOEDRfiJ54ko3QKiJ1XYWyTdAVjVRdemAN0AU4HiYdtw4QPZw3K/hzDdA4YE08bWgOEDt2bggAu42QEaFt+4RVTZAxt9fXNdyN0AetnMHDpE3QK5WWsm3xzlAFxcBN8ZgOUAi2PW56yw4QAaupHoYJDlAk3c36rxRN0B2oBYnlJg3QK+B3OkQ1DdA",
          "dtype": "f8"
         },
         "legendgroup": "Madhya Pradesh",
         "lon": {
          "bdata": "v9qK/WV3VEBIjISKGnVTQE1aPCT9GlRA9FiZNj66UkDWfSLTY3JTQBKlzdzBsFNAG6quKh5ZU0AZ99Sapw9TQM7FNqcg5FNAfPo8h+ewU0CrZNGOHN5TQDvlTxfoqFNAQOKhMH8dU0C+pfJyE8dSQIfWy+nFQlRAlJS9Sk9OU0AWoRlGLohTQOe+ApR+RFNADhp9OGOBU0AlbPHRdPpSQCNq5C7u/lNAUEcCmTCaUkACMpkDpRVUQHdJJVC0GFRAlAM8keXbUkCwt2A2m3hTQEcMcK86xFJAoRtQboYNVEB7WBF+b4pTQGVyexeEKlNAZKpihojJUkBAbTSs2GRUQLO5TbUKrlNAqM3ioFkwVECVG1LeVkRTQDtd20NG6lNAkjUDc2tdVEAtZ0+ueRVTQHtmprfSSlNAzwQeU+lvU0Afp8aEvoZUQHT08UIwuVNAAhB8EXLzUkC6G4+xKTpUQJyYGbuveVNA",
          "dtype": "f8"
         },
         "marker": {
          "color": "#B6E880",
          "size": {
           "bdata": "tW4LAA/lDABC9xkAmSUVAMIJGABd/BkA9S0kAFeQCwBH5BoAqucfAFtKEwBCAQwAQ9wXAEFaIQAMwAoAr/ESAKQBHwBhtAgABvESAJn/MQA5liUAGKQPAAq3EwC5GBAA+3MUAJL/HQDTmgwAyIIPAI1RFABWlhcA3TMWALIWJADaSiQAxwIiAGQCFAA7CxUAT0QQAOkUFwD1fgoAYlYaAHkyEQAuDRYAMFEeAJbWCQC7QhYA",
           "dtype": "i4"
          },
          "sizemode": "area",
          "sizeref": 27650.37
         },
         "mode": "markers+text",
         "name": "Madhya Pradesh",
         "showlegend": true,
         "subplot": "map",
         "text": [
          "Anuppur",
          "Ashoknagar",
          "Balaghat",
          "Barwani",
          "Betul",
          "Bhind",
          "Bhopal",
          "Burhanpur",
          "Chhatarpur",
          "Chhindwara",
          "Damoh",
          "Datia",
          "Dewas",
          "Dhar",
          "Dindori",
          "Guna",
          "Gwalior",
          "Harda",
          "Hoshangabad",
          "Indore",
          "Jabalpur",
          "Jhabua",
          "Katni",
          "Mandla",
          "Mandsaur",
          "Morena",
          "Neemuch",
          "Panna",
          "Raisen",
          "Rajgarh",
          "Ratlam",
          "Rewa",
          "Sagar",
          "Satna",
          "Sehore",
          "Seoni",
          "Shahdol",
          "Shajapur",
          "Sheopur",
          "Shivpuri",
          "Sidhi",
          "Tikamgarh",
          "Ujjain",
          "Umaria",
          "Vidisha"
         ],
         "type": "scattermap"
        },
        {
         "hovertemplate": "<b>%{hovertext}</b><br><br>State=Manipur<br>Population=%{marker.size}<br>District=%{text}<br>lat=%{lat}<br>lon=%{lon}<extra></extra>",
         "hovertext": {
          "bdata": "AAAAAACAUEAAAAAAAIBPQAAAAAAAwFFAAAAAAACAS0AAAAAAAABOQAAAAAAAAFBAAAAAAADAUUA=",
          "dtype": "f8"
         },
         "lat": {
          "bdata": "b/mIsNKBOEBhwmEQekM4QGI2AceXTThAQ52nAawVOUBt3qxervs4QH5wq9ieizhAhuuV1BoPOUA=",
          "dtype": "f8"
         },
         "legendgroup": "Manipur",
         "lon": {
          "bdata": "jwsTosZ0V0CjfohHC4ZXQLomhvC/WFdA6csahieCV0DLbl4Cpl9XQAuDvL+xfldARN4wMD6cV0A=",
          "dtype": "f8"
         },
         "marker": {
          "color": "#FF97FF",
          "size": {
           "bdata": "V58DADYzAgDfLgQArE8HAGslAgAYcQYAvs4CAA==",
           "dtype": "i4"
          },
          "sizemode": "area",
          "sizeref": 27650.37
         },
         "mode": "markers+text",
         "name": "Manipur",
         "showlegend": true,
         "subplot": "map",
         "text": [
          "Bishnupur",
          "Chandel",
          "Churachandpur",
          "Senapati",
          "Tamenglong",
          "Thoubal",
          "Ukhrul"
         ],
         "type": "scattermap"
        },
        {
         "hovertemplate": "<b>%{hovertext}</b><br><br>State=Meghalaya<br>Population=%{marker.size}<br>District=%{text}<br>lat=%{lat}<br>lon=%{lon}<extra></extra>",
         "hovertext": {
          "bdata": "AAAAAAAATkAAAAAAAIBRQAAAAAAAgEdAAAAAAAAATUAAAAAAAABMQAAAAAAAAE5A",
          "dtype": "f8"
         },
         "lat": {
          "bdata": "b/aKxcjTOUDJe2B4w005QCkEPrzvVjlAP1UB55U9OUBNkIgCy345QGs+flI6gDlA",
          "dtype": "f8"
         },
         "legendgroup": "Meghalaya",
         "lon": {
          "bdata": "6L1k+mWpVkDVXkkll/BWQM6ekLgRGFdAhUxOkVGpVkCQjXXWX4JWQNxBAbo70FZA",
          "dtype": "f8"
         },
         "marker": {
          "color": "#FECB52",
          "size": {
           "bdata": "3dkEAEKaDAB0BwYA/isCANvQCQDl2QUA",
           "dtype": "i4"
          },
          "sizemode": "area",
          "sizeref": 27650.37
         },
         "mode": "markers+text",
         "name": "Meghalaya",
         "showlegend": true,
         "subplot": "map",
         "text": [
          "East Garo Hills",
          "East Khasi Hills",
          "Jaintia Hills",
          "South Garo Hills",
          "West Garo Hills",
          "West Khasi Hills"
         ],
         "type": "scattermap"
        },
        {
         "hovertemplate": "<b>%{hovertext}</b><br><br>State=Mizoram<br>Population=%{marker.size}<br>District=%{text}<br>lat=%{lat}<br>lon=%{lon}<extra></extra>",
         "hovertext": {
          "bdata": "AAAAAABAVUAAAAAAAABUQAAAAAAAgFNAAAAAAACASkAAAAAAAMBSQAAAAAAAgFFAAAAAAADAUkAAAAAAAABVQA==",
          "dtype": "f8"
         },
         "lat": {
          "bdata": "L5W8dGboN0BYUUqcqoo3QEcr7Uy2MzhA1Kv5W2xcNkDT+2G++QE3QDihr0MQvTdAL5d7toFbNkBVVSqjjEM3QA==",
          "dtype": "f8"
         },
         "legendgroup": "Mizoram",
         "lon": {
          "bdata": "6fQ4S6E2V0Dpmud/gE9XQPWwj2MFL1dACFNPaNsqV0BXGaflpShXQA24yJa3G1dAbEUGVM9BV0DEtKOSgTpXQA==",
          "dtype": "f8"
         },
         "marker": {
          "color": "#636efa",
          "size": {
           "bdata": "tRsGADHrAQDzRwEAhswBAJR2AgBcUQEA/twAAKn9AAA=",
           "dtype": "i4"
          },
          "sizemode": "area",
          "sizeref": 27650.37
         },
         "mode": "markers+text",
         "name": "Mizoram",
         "showlegend": true,
         "subplot": "map",
         "text": [
          "Aizawl",
          "Champhai",
          "Kolasib",
          "Lawngtlai",
          "Lunglei",
          "Mamit",
          "Saiha",
          "Serchhip"
         ],
         "type": "scattermap"
        },
        {
         "hovertemplate": "<b>%{hovertext}</b><br><br>State=Nagaland<br>Population=%{marker.size}<br>District=%{text}<br>lat=%{lat}<br>lon=%{lon}<extra></extra>",
         "hovertext": {
          "bdata": "AAAAAABAUkAAAAAAAIBSQAAAAAAAgFRAAAAAAAAASEAAAAAAAEBQQAAAAAAAAE5AAAAAAABAU0AAAAAAAEBSQA==",
          "dtype": "f8"
         },
         "lat": {
          "bdata": "cPU65G3QOUCr5KSyZZo5QNkUH/aZejpAY62sviuxOkBEsaCV+qE5QKFjtgMHNjpAxwDCWd4zOkBSfNWvNgc6QA==",
          "dtype": "f8"
         },
         "legendgroup": "Nagaland",
         "lon": {
          "bdata": "pmg3IgxwV0AhjYbuTXJXQCzLfG1voVdAz0d+evfBV0BvMoV/XKRXQHteQhfrtldAzWxowL2MV0AwJ3teBKBXQA==",
          "dtype": "f8"
         },
         "marker": {
          "color": "#EF553B",
          "size": {
           "bdata": "u8cFANQWBAA++AIAlNEDAFp+AgD0/wIAx4kCANUlAgA=",
           "dtype": "i4"
          },
          "sizemode": "area",
          "sizeref": 27650.37
         },
         "mode": "markers+text",
         "name": "Nagaland",
         "showlegend": true,
         "subplot": "map",
         "text": [
          "Dimapur",
          "Kohima",
          "Mokokchung",
          "Mon",
          "Phek",
          "Tuensang",
          "Wokha",
          "Zunheboto"
         ],
         "type": "scattermap"
        },
        {
         "hovertemplate": "<b>%{hovertext}</b><br><br>State=Orissa<br>Population=%{marker.size}<br>District=%{text}<br>lat=%{lat}<br>lon=%{lon}<extra></extra>",
         "hovertext": {
          "bdata": "AAAAAACAUUAAAAAAAEBSQAAAAAAAQFNAAAAAAACAUUAAAAAAAIBGQAAAAAAAgE9AAAAAAACAUUAAAAAAAIBJQAAAAAAAgEtAAAAAAAAAU0AAAAAAAIBTQAAAAAAAgERAAAAAAAAAREAAAAAAAABLQAAAAAAAwFFAAAAAAACASEAAAAAAAABTQAAAAAAAAEVAAAAAAAAAUUAAAAAAAABQQA==",
          "dtype": "f8"
         },
         "lat": {
          "bdata": "hCU6cld8NUCJktxi3/M0QLE3KyNbaDRABO5H2YLMNEBx4B0o/x4zQD9BWh9lQzNARQw5HLrTNUDGSonPxMgzQOURwOTGFzRAgY+ExjebNECQ2PqU3Q00QDsvm/OG0zJA9r1eYJVAMkA1o4yGyuU1QNOLhJthMTRA9yt9vad4NECyXZqSyNUzQFoeRZD3SjNATgYZWQiENUDxq8GxRBA2QA==",
          "dtype": "f8"
         },
         "legendgroup": "Orissa",
         "lon": {
          "bdata": "Sy41yCzFVUDx3pBWKLRVQGH/n4bFcVVAfQVQrxBiVUBSh487+AhVQByvFPpjM1VAgtg9bOT7VEB4jiWiMcdUQNObkiBrAVVAPlI+xZu1VUCarbwnbmFVQHKnHKoEtFRAfffrbeh+VEDAWKlry5lVQOQjm+mXQ1VAIkY1jdulVEDphzPDfHdVQJTa3LhZ3VRAqKMPmV8WVUAhFIT8VSBVQA==",
          "dtype": "f8"
         },
         "marker": {
          "color": "#00cc96",
          "size": {
           "bdata": "kWgjACH8FgDWCygAazMSABnRCABH2TUAsdcIAKUPGAC2LwsAafoVAJlbIgA/DRUASFsJALpyJgDlsA4ATlAJAKrrGQDnxA4Ay+IPAH3xHwA=",
           "dtype": "i4"
          },
          "sizemode": "area",
          "sizeref": 27650.37
         },
         "mode": "markers+text",
         "name": "Orissa",
         "showlegend": true,
         "subplot": "map",
         "text": [
          "Baleshwar",
          "Bhadrak",
          "Cuttack",
          "Dhenkanal",
          "Gajapati",
          "Ganjam",
          "Jharsuguda",
          "Kalahandi",
          "Kandhamal",
          "Kendrapara",
          "Khordha",
          "Koraput",
          "Malkangiri",
          "Mayurbhanj",
          "Nayagarh",
          "Nuapada",
          "Puri",
          "Rayagada",
          "Sambalpur",
          "Sundargarh"
         ],
         "type": "scattermap"
        },
        {
         "hovertemplate": "<b>%{hovertext}</b><br><br>State=Puducherry<br>Population=%{marker.size}<br>District=%{text}<br>lat=%{lat}<br>lon=%{lon}<extra></extra>",
         "hovertext": {
          "bdata": "AAAAAABAU0AAAAAAAMBVQAAAAAAAwFFA",
          "dtype": "f8"
         },
         "lat": {
          "bdata": "5AcPRZjAJUBiqhaWSQMoQLqb0YortTBA",
          "dtype": "f8"
         },
         "legendgroup": "Puducherry",
         "lon": {
          "bdata": "gXOMd7f0U0B6WFyUGNJSQGBcJ4fCkFRA",
          "dtype": "f8"
         },
         "marker": {
          "color": "#ab63fa",
          "size": {
           "bdata": "Hg4DAFijAABK2QAA",
           "dtype": "i4"
          },
          "sizemode": "area",
          "sizeref": 27650.37
         },
         "mode": "markers+text",
         "name": "Puducherry",
         "showlegend": true,
         "subplot": "map",
         "text": [
          "Karaikal",
          "Mahe",
          "Yanam"
         ],
         "type": "scattermap"
        },
        {
         "hovertemplate": "<b>%{hovertext}</b><br><br>State=Punjab<br>Population=%{marker.size}<br>District=%{text}<br>lat=%{lat}<br>lon=%{lon}<extra></extra>",
         "hovertext": {
          "bdata": "AAAAAAAAUUAAAAAAAIBOQAAAAAAAAE9AAAAAAADAUUAAAAAAAABOQAAAAAAAwFFAAAAAAAAAU0AAAAAAAIBSQAAAAAAAwFFAAAAAAABAUkAAAAAAAIBLQAAAAAAAgE9AAAAAAAAATUAAAAAAAMBQQAAAAAAAQFJAAAAAAACATkA=",
          "dtype": "f8"
         },
         "lat": {
          "bdata": "SZLdR3aMP0A2gpE4xjA+QA/XNAxYlz5AI8Mbt5WkPkAQhiTDUqI+QBBdOJN7BUBAm8uEzTONP0AIel0UFkA/QE1xZO8qVj9ApWEJNxbEPkD/9596Z+s9QNdWH5yswT5AJBF7nPtPPkDYv04e7DY+QKNLXDAz6T5AmuhcH18vPkA=",
          "dtype": "f8"
         },
         "legendgroup": "Punjab",
         "lon": {
          "bdata": "gOPJKyCzUkCS8diTo8NSQCZHnH4Ks1JApxYmYiwXU0DqF13cwZlSQPqnAoqB1FJAsuqxAzX2UkAb4xP00OJSQHD2UId93lJAjiTF4TD1UkCvFIQvjdtSQHqtG9M+ylJASkmT6lGjUkAqZ8+QmhFTQN2Qz1VlIlNAD19DXD35UkA=",
          "dtype": "f8"
         },
         "marker": {
          "color": "#FFA15A",
          "size": {
           "bdata": "IAEmAO0vFQAkbAkAYygJABL2HgDTESMAwTUYALZ4IQBAcAwA82I1ANe+CwCiMQ8ACMMNAAbtHABTcgoAgUEZAA==",
           "dtype": "i4"
          },
          "sizemode": "area",
          "sizeref": 27650.37
         },
         "mode": "markers+text",
         "name": "Punjab",
         "showlegend": true,
         "subplot": "map",
         "text": [
          "Amritsar",
          "Bathinda",
          "Faridkot",
          "Fatehgarh Sahib",
          "Firozpur",
          "Gurdaspur",
          "Hoshiarpur",
          "Jalandhar",
          "Kapurthala",
          "Ludhiana",
          "Mansa",
          "Moga",
          "Muktsar",
          "Patiala",
          "Rupnagar",
          "Sangrur"
         ],
         "type": "scattermap"
        },
        {
         "hovertemplate": "<b>%{hovertext}</b><br><br>State=Rajasthan<br>Population=%{marker.size}<br>District=%{text}<br>lat=%{lat}<br>lon=%{lon}<extra></extra>",
         "hovertext": {
          "bdata": "AAAAAACATUAAAAAAAIBNQAAAAAAAAEdAAAAAAACATEAAAAAAAABHQAAAAAAAAE1AAAAAAAAASkAAAAAAAABLQAAAAAAAgEpAAAAAAACASkAAAAAAAABMQAAAAAAAgExAAAAAAACATEAAAAAAAIBIQAAAAAAAgE5AAAAAAAAATUAAAAAAAEBQQAAAAAAAAEdAAAAAAACARkAAAAAAAABKQAAAAAAAAFBAAAAAAACAS0AAAAAAAIBLQAAAAAAAwFBAAAAAAACASkAAAAAAAIBKQAAAAAAAAEtAAAAAAAAATEAAAAAAAABPQAAAAAAAAEdAAAAAAACASkAAAAAAAABKQA==",
          "dtype": "f8"
         },
         "lat": {
          "bdata": "dvmAWQUzOkChi+Difo07QC2vX+IhdDdAn8Y/g/D6OEAUTrcwTcU5QGy9bm/5UjtA703lsIFzOUARDPjV+B88QMN7qttdfDlAy7pHGLKhOEACFnX0FUs8QBO9a6aP6TpAPShJIla5OkC7G9CvRMA3QK9/VbC8QT1ArRN4+2suPUC2Gr3JkAg7QCWYY1V33jpA1UAqYWYTOUBuGIAhTD84QFDYmsOaIjxADSIJnK+tOkD1ORU03oQ6QH7qLtz7LDlA+xJqcyAUO0CRCy8vDs45QAkL6Ai7PzlAOrMx20ZAOkDdelkhfaU7QPvaQnI1zDhAZrHySWgnOkCQaekj1nA4QA==",
          "dtype": "f8"
         },
         "legendgroup": "Rajasthan",
         "lon": {
          "bdata": "ll1RGr2sUkC0XJmF1ClTQCfxKGhRnFJAY2zRwCw3U0Bn0mKuMOBRQNz1PtzrTVNAaLSPLO2oUkBboN9kPlFSQF7fN5cw81JAJa17ADWzUkAxuVJHJKpSQEsW4e2yJFNA47YQL6pvU0D1EqwAQHZSQNEABoz2Y1JAu70BzcOvUkBFc2nlWvFSQOHsYgzCy1FAHyvYKu8LUkDddg4JMgdTQLG9unPR4VJACrfp3UlAUkDqE4sLfj1TQNAdcYbqC1NAgyZKGBmJUkCnlNf/YWNSQPwlbhDOfVJAICvu3wAbU0Amv9Zdw9JSQOcN66UyMFJA2iJN2q7yUkCQ9+1yx3VSQA==",
          "dtype": "f8"
         },
         "marker": {
          "color": "#19d3f3",
          "size": {
           "bdata": "DGonAEMQOABtbRsAY6gSAOe6JwDu4iYAS8AkACESJAB68xAAkpAXAPseHwBp8BgA9GgSAAgwFQAQDB4AZBQbAIIbZQDfOAoAeucbADmIFQDVmyAA/UI4AEhAFgAmxR0A33gyAEUXHwD1pREA/2AUAFXaKAA60A8ADrAVAATSLgA=",
           "dtype": "i4"
          },
          "sizemode": "area",
          "sizeref": 27650.37
         },
         "mode": "markers+text",
         "name": "Rajasthan",
         "showlegend": true,
         "subplot": "map",
         "text": [
          "Ajmer",
          "Alwar",
          "Banswara",
          "Baran",
          "Barmer",
          "Bharatpur",
          "Bhilwara",
          "Bikaner",
          "Bundi",
          "Chittaurgarh",
          "Churu",
          "Dausa",
          "Dhaulpur",
          "Dungarpur",
          "Ganganagar",
          "Hanumangarh",
          "Jaipur",
          "Jaisalmer",
          "Jalor",
          "Jhalawar",
          "Jhunjhunun",
          "Jodhpur",
          "Karauli",
          "Kota",
          "Nagaur",
          "Pali",
          "Rajsamand",
          "Sawai Madhopur",
          "Sikar",
          "Sirohi",
          "Tonk",
          "Udaipur"
         ],
         "type": "scattermap"
        },
        {
         "hovertemplate": "<b>%{hovertext}</b><br><br>State=Sikkim<br>Population=%{marker.size}<br>District=%{text}<br>lat=%{lat}<br>lon=%{lon}<extra></extra>",
         "hovertext": {
          "bdata": "AAAAAADAU0A=",
          "dtype": "f8"
         },
         "lat": {
          "bdata": "9FIm48ZLO0A=",
          "dtype": "f8"
         },
         "legendgroup": "Sikkim",
         "lon": {
          "bdata": "LUaw/fAvVkA=",
          "dtype": "f8"
         },
         "marker": {
          "color": "#FF6692",
          "size": {
           "bdata": "IhUaAA==",
           "dtype": "i4"
          },
          "sizemode": "area",
          "sizeref": 27650.37
         },
         "mode": "markers+text",
         "name": "Sikkim",
         "showlegend": true,
         "subplot": "map",
         "text": [
          "East"
         ],
         "type": "scattermap"
        },
        {
         "hovertemplate": "<b>%{hovertext}</b><br><br>State=Tamil Nadu<br>Population=%{marker.size}<br>District=%{text}<br>lat=%{lat}<br>lon=%{lon}<extra></extra>",
         "hovertext": {
          "bdata": "AAAAAAAAUEAAAAAAAEBUQAAAAAAAAFNAAAAAAACAUUAAAAAAAIBOQAAAAAAAQFFAAAAAAACAUEAAAAAAAMBSQAAAAAAAwFRAAAAAAAAAUUAAAAAAAMBSQAAAAAAAwFJAAAAAAAAAUUAAAAAAAIBQQAAAAAAAQFFAAAAAAAAAUkAAAAAAAIBQQAAAAAAAAFJAAAAAAACAUkAAAAAAAIBRQAAAAAAAwFJAAAAAAADAUkAAAAAAAIBQQAAAAAAAgFFAAAAAAAAAUkA=",
          "dtype": "f8"
         },
         "lat": {
          "bdata": "duAiKYthJkDCC8cjvx0qQBgaKCAlviVAdv+f09gmJ0BMXXwbrJkoQFXqEy9vwSRAYf460bWIJkBfSbxiK/4oQIx6fkvvXSBADq9yMzWXJUBf+QY5As8jQGagvys1lCVABCm/m+KsJkCpF7fGMIUmQIpziNbSQiRAXXyDfTCgIkBscCXINkInQFMC3E2t6yNAcvBvmX/GJEBsUCFEH9kjQAa76kU9jSpAT+irDeS8JEC6FBv5sNYoQFnL6SLckSlAe7k2BBDwIkA=",
          "dtype": "f8"
         },
         "legendgroup": "Tamil Nadu",
         "lon": {
          "bdata": "TW20YT3OU0BLTJJRAhJUQGdWiEzgRFNAYhq7TlLoU0DYn4/EXYdTQNgEOF7tcVNAk9vJ5+ZaU0CFzrcgpQVUQMmd8pKDVFNA2SZ3jJmFU0DSOpfP34BTQBna0wHX8lNApTVPIlyJU0Awjv/PD7dTQIepOAZ8w1NAMoKfh3q/U0DdPbxg3I9TQGUfWNAupFNAs1E6eXLUU0DyuJVL0FtTQNdQALKfDFRAjOSNTZvmU0CH4VDX485TQAdZWROxwVNATuilLRd4U0A=",
          "dtype": "f8"
         },
         "marker": {
          "color": "#B6E880",
          "size": {
           "bdata": "zoQLAEznRgD9wzQAWsMnABv+FgCf9CAA4FsiACwCPQAmihwALT4QACxcLgBCqhgAiVgaAOefCACpsRgA5aYUAMghNQDdbhQAArYkAMsCEwDo4jgAlUoTAGucJQBLEDwAEKMdAA==",
           "dtype": "i4"
          },
          "sizemode": "area",
          "sizeref": 27650.37
         },
         "mode": "markers+text",
         "name": "Tamil Nadu",
         "showlegend": true,
         "subplot": "map",
         "text": [
          "Ariyalur",
          "Chennai",
          "Coimbatore",
          "Cuddalore",
          "Dharmapuri",
          "Dindigul",
          "Erode",
          "Kancheepuram",
          "Kanniyakumari",
          "Karur",
          "Madurai",
          "Nagapattinam",
          "Namakkal",
          "Perambalur",
          "Pudukkottai",
          "Ramanathapuram",
          "Salem",
          "Sivaganga",
          "Thanjavur",
          "Theni",
          "Thiruvallur",
          "Thiruvarur",
          "Tiruvannamalai",
          "Vellore",
          "Virudhunagar"
         ],
         "type": "scattermap"
        },
        {
         "hovertemplate": "<b>%{hovertext}</b><br><br>State=Tripura<br>Population=%{marker.size}<br>District=%{text}<br>lat=%{lat}<br>lon=%{lon}<extra></extra>",
         "hovertext": {
          "bdata": "AAAAAABAUkAAAAAAAMBSQAAAAAAAgFJAAAAAAADAU0A=",
          "dtype": "f8"
         },
         "lat": {
          "bdata": "7CSDPQfIN0DI2ytWKh84QKUGgmE9NjdA69KL+bjHN0A=",
          "dtype": "f8"
         },
         "legendgroup": "Tripura",
         "lon": {
          "bdata": "yLlhKJT8VkAdZktSawtXQJkYGjjS5lZA99gRXHDaVkA=",
          "dtype": "f8"
         },
         "marker": {
          "color": "#FF97FF",
          "size": {
           "bdata": "dsUFALuWCgDhXQ0AK1UaAA==",
           "dtype": "i4"
          },
          "sizemode": "area",
          "sizeref": 27650.37
         },
         "mode": "markers+text",
         "name": "Tripura",
         "showlegend": true,
         "subplot": "map",
         "text": [
          "Dhalai",
          "North Tripura",
          "South Tripura",
          "West Tripura"
         ],
         "type": "scattermap"
        },
        {
         "hovertemplate": "<b>%{hovertext}</b><br><br>State=Uttaranchal<br>Population=%{marker.size}<br>District=%{text}<br>lat=%{lat}<br>lon=%{lon}<extra></extra>",
         "hovertext": {
          "bdata": "AAAAAACAUUAAAAAAAEBRQAAAAAAAAFJAAAAAAAAAUUAAAAAAAMBRQAAAAAAAgFBAAAAAAACAT0AAAAAAAEBQQA==",
          "dtype": "f8"
         },
         "lat": {
          "bdata": "auc/9vuuPUDjSYJBrvw9QFpc28pYlT5A6vdgwppKPUAugDRQryU+QMmpeBq1dj5AHzTAnx0HPUDVLOyqDfg+QA==",
          "dtype": "f8"
         },
         "legendgroup": "Uttaranchal",
         "lon": {
          "bdata": "NRNMCxvgU0CbxdcUu/VTQFzVPRgF5FNAcHIq4fAEVECCzf4d6BVUQL4Gkbw4n1NAanUp2zPdU0AaIu1RZ6RTQA==",
          "dtype": "f8"
         },
         "marker": {
          "color": "#FECB52",
          "size": {
           "bdata": "qn8JADr3AwC1+QUAQPYDAG9gBwCzcQkABikZAGYJBQA=",
           "dtype": "i4"
          },
          "sizemode": "area",
          "sizeref": 27650.37
         },
         "mode": "markers+text",
         "name": "Uttaranchal",
         "showlegend": true,
         "subplot": "map",
         "text": [
          "Almora",
          "Bageshwar",
          "Chamoli",
          "Champawat",
          "Pithoragarh",
          "Tehri Garhwal",
          "Udham Singh Nagar",
          "Uttarkashi"
         ],
         "type": "scattermap"
        },
        {
         "hovertemplate": "<b>%{hovertext}</b><br><br>State=West Bengal<br>Population=%{marker.size}<br>District=%{text}<br>lat=%{lat}<br>lon=%{lon}<extra></extra>",
         "hovertext": {
          "bdata": "AAAAAAAAT0AAAAAAAABRQAAAAAAAAE9AAAAAAABAUEAAAAAAAMBRQAAAAAAAgFJAAAAAAACAUkAAAAAAAEBQQAAAAAAAAFRAAAAAAAAASkAAAAAAAIBMQAAAAAAAwFBAAAAAAACAS0AAAAAAAABJQA==",
          "dtype": "f8"
         },
         "lat": {
          "bdata": "dZwY084UN0CXW+W6x3E3QNhh1FFbEDhAsVIFf5NXOUDruOZO8dY6QHjRYh7UZjZAGruqUhnhNkDfvOMUXaA6QAe/cOjyjDZA54MBcowUOUB0JYIFb0I4QAwsdn5pkDdA5fKavxJBN0C8S18pbAs6QA==",
          "dtype": "f8"
         },
         "legendgroup": "West Bengal",
         "lon": {
          "bdata": "xMVF8hbIVUDz437pKfRVQIJjoK6y6VVATHGCla8sVkAYO998NhVWQIcGZyqh/1VAtXCIrgEAVkCd5h2nqEJWQMiz37KTFlZAr0GDrwALVkA4TEBGwwpWQFtpFLtOJVZA7/ZUC2aZVUDYxsTXGQ9WQA==",
          "dtype": "f8"
         },
         "marker": {
          "color": "#636efa",
          "size": {
           "bdata": "guE2ALvCdQBEcTUA9JMZACcuHABtAUoAKTdUAE4YOwA2nUQAbd08AD9lbADw2U4Aw7UsAJ7iLQA=",
           "dtype": "i4"
          },
          "sizemode": "area",
          "sizeref": 27650.37
         },
         "mode": "markers+text",
         "name": "West Bengal",
         "showlegend": true,
         "subplot": "map",
         "text": [
          "Bankura",
          "Barddhaman",
          "Birbhum",
          "Dakshin Dinajpur",
          "Darjiling",
          "Haora",
          "Hugli",
          "Jalpaiguri",
          "Kolkata",
          "Maldah",
          "Murshidabad",
          "Nadia",
          "Puruliya",
          "Uttar Dinajpur"
         ],
         "type": "scattermap"
        }
       ],
       "layout": {
        "geo": {
         "fitbounds": "locations",
         "visible": false
        },
        "height": 550,
        "legend": {
         "itemsizing": "constant",
         "title": {
          "text": "State"
         },
         "tracegroupgap": 0
        },
        "map": {
         "center": {
          "lat": 22,
          "lon": 79
         },
         "domain": {
          "x": [
           0,
           1
          ],
          "y": [
           0,
           1
          ]
         },
         "zoom": 3
        },
        "mapbox": {
         "center": {
          "lat": 22,
          "lon": 79
         },
         "zoom": 3
        },
        "margin": {
         "t": 60
        },
        "template": {
         "data": {
          "bar": [
           {
            "error_x": {
             "color": "#2a3f5f"
            },
            "error_y": {
             "color": "#2a3f5f"
            },
            "marker": {
             "line": {
              "color": "#E5ECF6",
              "width": 0.5
             },
             "pattern": {
              "fillmode": "overlay",
              "size": 10,
              "solidity": 0.2
             }
            },
            "type": "bar"
           }
          ],
          "barpolar": [
           {
            "marker": {
             "line": {
              "color": "#E5ECF6",
              "width": 0.5
             },
             "pattern": {
              "fillmode": "overlay",
              "size": 10,
              "solidity": 0.2
             }
            },
            "type": "barpolar"
           }
          ],
          "carpet": [
           {
            "aaxis": {
             "endlinecolor": "#2a3f5f",
             "gridcolor": "white",
             "linecolor": "white",
             "minorgridcolor": "white",
             "startlinecolor": "#2a3f5f"
            },
            "baxis": {
             "endlinecolor": "#2a3f5f",
             "gridcolor": "white",
             "linecolor": "white",
             "minorgridcolor": "white",
             "startlinecolor": "#2a3f5f"
            },
            "type": "carpet"
           }
          ],
          "choropleth": [
           {
            "colorbar": {
             "outlinewidth": 0,
             "ticks": ""
            },
            "type": "choropleth"
           }
          ],
          "contour": [
           {
            "colorbar": {
             "outlinewidth": 0,
             "ticks": ""
            },
            "colorscale": [
             [
              0,
              "#0d0887"
             ],
             [
              0.1111111111111111,
              "#46039f"
             ],
             [
              0.2222222222222222,
              "#7201a8"
             ],
             [
              0.3333333333333333,
              "#9c179e"
             ],
             [
              0.4444444444444444,
              "#bd3786"
             ],
             [
              0.5555555555555556,
              "#d8576b"
             ],
             [
              0.6666666666666666,
              "#ed7953"
             ],
             [
              0.7777777777777778,
              "#fb9f3a"
             ],
             [
              0.8888888888888888,
              "#fdca26"
             ],
             [
              1,
              "#f0f921"
             ]
            ],
            "type": "contour"
           }
          ],
          "contourcarpet": [
           {
            "colorbar": {
             "outlinewidth": 0,
             "ticks": ""
            },
            "type": "contourcarpet"
           }
          ],
          "heatmap": [
           {
            "colorbar": {
             "outlinewidth": 0,
             "ticks": ""
            },
            "colorscale": [
             [
              0,
              "#0d0887"
             ],
             [
              0.1111111111111111,
              "#46039f"
             ],
             [
              0.2222222222222222,
              "#7201a8"
             ],
             [
              0.3333333333333333,
              "#9c179e"
             ],
             [
              0.4444444444444444,
              "#bd3786"
             ],
             [
              0.5555555555555556,
              "#d8576b"
             ],
             [
              0.6666666666666666,
              "#ed7953"
             ],
             [
              0.7777777777777778,
              "#fb9f3a"
             ],
             [
              0.8888888888888888,
              "#fdca26"
             ],
             [
              1,
              "#f0f921"
             ]
            ],
            "type": "heatmap"
           }
          ],
          "histogram": [
           {
            "marker": {
             "pattern": {
              "fillmode": "overlay",
              "size": 10,
              "solidity": 0.2
             }
            },
            "type": "histogram"
           }
          ],
          "histogram2d": [
           {
            "colorbar": {
             "outlinewidth": 0,
             "ticks": ""
            },
            "colorscale": [
             [
              0,
              "#0d0887"
             ],
             [
              0.1111111111111111,
              "#46039f"
             ],
             [
              0.2222222222222222,
              "#7201a8"
             ],
             [
              0.3333333333333333,
              "#9c179e"
             ],
             [
              0.4444444444444444,
              "#bd3786"
             ],
             [
              0.5555555555555556,
              "#d8576b"
             ],
             [
              0.6666666666666666,
              "#ed7953"
             ],
             [
              0.7777777777777778,
              "#fb9f3a"
             ],
             [
              0.8888888888888888,
              "#fdca26"
             ],
             [
              1,
              "#f0f921"
             ]
            ],
            "type": "histogram2d"
           }
          ],
          "histogram2dcontour": [
           {
            "colorbar": {
             "outlinewidth": 0,
             "ticks": ""
            },
            "colorscale": [
             [
              0,
              "#0d0887"
             ],
             [
              0.1111111111111111,
              "#46039f"
             ],
             [
              0.2222222222222222,
              "#7201a8"
             ],
             [
              0.3333333333333333,
              "#9c179e"
             ],
             [
              0.4444444444444444,
              "#bd3786"
             ],
             [
              0.5555555555555556,
              "#d8576b"
             ],
             [
              0.6666666666666666,
              "#ed7953"
             ],
             [
              0.7777777777777778,
              "#fb9f3a"
             ],
             [
              0.8888888888888888,
              "#fdca26"
             ],
             [
              1,
              "#f0f921"
             ]
            ],
            "type": "histogram2dcontour"
           }
          ],
          "mesh3d": [
           {
            "colorbar": {
             "outlinewidth": 0,
             "ticks": ""
            },
            "type": "mesh3d"
           }
          ],
          "parcoords": [
           {
            "line": {
             "colorbar": {
              "outlinewidth": 0,
              "ticks": ""
             }
            },
            "type": "parcoords"
           }
          ],
          "pie": [
           {
            "automargin": true,
            "type": "pie"
           }
          ],
          "scatter": [
           {
            "fillpattern": {
             "fillmode": "overlay",
             "size": 10,
             "solidity": 0.2
            },
            "type": "scatter"
           }
          ],
          "scatter3d": [
           {
            "line": {
             "colorbar": {
              "outlinewidth": 0,
              "ticks": ""
             }
            },
            "marker": {
             "colorbar": {
              "outlinewidth": 0,
              "ticks": ""
             }
            },
            "type": "scatter3d"
           }
          ],
          "scattercarpet": [
           {
            "marker": {
             "colorbar": {
              "outlinewidth": 0,
              "ticks": ""
             }
            },
            "type": "scattercarpet"
           }
          ],
          "scattergeo": [
           {
            "marker": {
             "colorbar": {
              "outlinewidth": 0,
              "ticks": ""
             }
            },
            "type": "scattergeo"
           }
          ],
          "scattergl": [
           {
            "marker": {
             "colorbar": {
              "outlinewidth": 0,
              "ticks": ""
             }
            },
            "type": "scattergl"
           }
          ],
          "scattermap": [
           {
            "marker": {
             "colorbar": {
              "outlinewidth": 0,
              "ticks": ""
             }
            },
            "type": "scattermap"
           }
          ],
          "scattermapbox": [
           {
            "marker": {
             "colorbar": {
              "outlinewidth": 0,
              "ticks": ""
             }
            },
            "type": "scattermapbox"
           }
          ],
          "scatterpolar": [
           {
            "marker": {
             "colorbar": {
              "outlinewidth": 0,
              "ticks": ""
             }
            },
            "type": "scatterpolar"
           }
          ],
          "scatterpolargl": [
           {
            "marker": {
             "colorbar": {
              "outlinewidth": 0,
              "ticks": ""
             }
            },
            "type": "scatterpolargl"
           }
          ],
          "scatterternary": [
           {
            "marker": {
             "colorbar": {
              "outlinewidth": 0,
              "ticks": ""
             }
            },
            "type": "scatterternary"
           }
          ],
          "surface": [
           {
            "colorbar": {
             "outlinewidth": 0,
             "ticks": ""
            },
            "colorscale": [
             [
              0,
              "#0d0887"
             ],
             [
              0.1111111111111111,
              "#46039f"
             ],
             [
              0.2222222222222222,
              "#7201a8"
             ],
             [
              0.3333333333333333,
              "#9c179e"
             ],
             [
              0.4444444444444444,
              "#bd3786"
             ],
             [
              0.5555555555555556,
              "#d8576b"
             ],
             [
              0.6666666666666666,
              "#ed7953"
             ],
             [
              0.7777777777777778,
              "#fb9f3a"
             ],
             [
              0.8888888888888888,
              "#fdca26"
             ],
             [
              1,
              "#f0f921"
             ]
            ],
            "type": "surface"
           }
          ],
          "table": [
           {
            "cells": {
             "fill": {
              "color": "#EBF0F8"
             },
             "line": {
              "color": "white"
             }
            },
            "header": {
             "fill": {
              "color": "#C8D4E3"
             },
             "line": {
              "color": "white"
             }
            },
            "type": "table"
           }
          ]
         },
         "layout": {
          "annotationdefaults": {
           "arrowcolor": "#2a3f5f",
           "arrowhead": 0,
           "arrowwidth": 1
          },
          "autotypenumbers": "strict",
          "coloraxis": {
           "colorbar": {
            "outlinewidth": 0,
            "ticks": ""
           }
          },
          "colorscale": {
           "diverging": [
            [
             0,
             "#8e0152"
            ],
            [
             0.1,
             "#c51b7d"
            ],
            [
             0.2,
             "#de77ae"
            ],
            [
             0.3,
             "#f1b6da"
            ],
            [
             0.4,
             "#fde0ef"
            ],
            [
             0.5,
             "#f7f7f7"
            ],
            [
             0.6,
             "#e6f5d0"
            ],
            [
             0.7,
             "#b8e186"
            ],
            [
             0.8,
             "#7fbc41"
            ],
            [
             0.9,
             "#4d9221"
            ],
            [
             1,
             "#276419"
            ]
           ],
           "sequential": [
            [
             0,
             "#0d0887"
            ],
            [
             0.1111111111111111,
             "#46039f"
            ],
            [
             0.2222222222222222,
             "#7201a8"
            ],
            [
             0.3333333333333333,
             "#9c179e"
            ],
            [
             0.4444444444444444,
             "#bd3786"
            ],
            [
             0.5555555555555556,
             "#d8576b"
            ],
            [
             0.6666666666666666,
             "#ed7953"
            ],
            [
             0.7777777777777778,
             "#fb9f3a"
            ],
            [
             0.8888888888888888,
             "#fdca26"
            ],
            [
             1,
             "#f0f921"
            ]
           ],
           "sequentialminus": [
            [
             0,
             "#0d0887"
            ],
            [
             0.1111111111111111,
             "#46039f"
            ],
            [
             0.2222222222222222,
             "#7201a8"
            ],
            [
             0.3333333333333333,
             "#9c179e"
            ],
            [
             0.4444444444444444,
             "#bd3786"
            ],
            [
             0.5555555555555556,
             "#d8576b"
            ],
            [
             0.6666666666666666,
             "#ed7953"
            ],
            [
             0.7777777777777778,
             "#fb9f3a"
            ],
            [
             0.8888888888888888,
             "#fdca26"
            ],
            [
             1,
             "#f0f921"
            ]
           ]
          },
          "colorway": [
           "#636efa",
           "#EF553B",
           "#00cc96",
           "#ab63fa",
           "#FFA15A",
           "#19d3f3",
           "#FF6692",
           "#B6E880",
           "#FF97FF",
           "#FECB52"
          ],
          "font": {
           "color": "#2a3f5f"
          },
          "geo": {
           "bgcolor": "white",
           "lakecolor": "white",
           "landcolor": "#E5ECF6",
           "showlakes": true,
           "showland": true,
           "subunitcolor": "white"
          },
          "hoverlabel": {
           "align": "left"
          },
          "hovermode": "closest",
          "mapbox": {
           "style": "light"
          },
          "paper_bgcolor": "white",
          "plot_bgcolor": "#E5ECF6",
          "polar": {
           "angularaxis": {
            "gridcolor": "white",
            "linecolor": "white",
            "ticks": ""
           },
           "bgcolor": "#E5ECF6",
           "radialaxis": {
            "gridcolor": "white",
            "linecolor": "white",
            "ticks": ""
           }
          },
          "scene": {
           "xaxis": {
            "backgroundcolor": "#E5ECF6",
            "gridcolor": "white",
            "gridwidth": 2,
            "linecolor": "white",
            "showbackground": true,
            "ticks": "",
            "zerolinecolor": "white"
           },
           "yaxis": {
            "backgroundcolor": "#E5ECF6",
            "gridcolor": "white",
            "gridwidth": 2,
            "linecolor": "white",
            "showbackground": true,
            "ticks": "",
            "zerolinecolor": "white"
           },
           "zaxis": {
            "backgroundcolor": "#E5ECF6",
            "gridcolor": "white",
            "gridwidth": 2,
            "linecolor": "white",
            "showbackground": true,
            "ticks": "",
            "zerolinecolor": "white"
           }
          },
          "shapedefaults": {
           "line": {
            "color": "#2a3f5f"
           }
          },
          "ternary": {
           "aaxis": {
            "gridcolor": "white",
            "linecolor": "white",
            "ticks": ""
           },
           "baxis": {
            "gridcolor": "white",
            "linecolor": "white",
            "ticks": ""
           },
           "bgcolor": "#E5ECF6",
           "caxis": {
            "gridcolor": "white",
            "linecolor": "white",
            "ticks": ""
           }
          },
          "title": {
           "x": 0.05
          },
          "xaxis": {
           "automargin": true,
           "gridcolor": "white",
           "linecolor": "white",
           "ticks": "",
           "title": {
            "standoff": 15
           },
           "zerolinecolor": "white",
           "zerolinewidth": 2
          },
          "yaxis": {
           "automargin": true,
           "gridcolor": "white",
           "linecolor": "white",
           "ticks": "",
           "title": {
            "standoff": 15
           },
           "zerolinecolor": "white",
           "zerolinewidth": 2
          }
         }
        },
        "width": 800
       }
      }
     },
     "metadata": {},
     "output_type": "display_data"
    }
   ],
   "source": [
    "fig = px.scatter_map(df, lat='lat',\n",
    "                     lon='lon',\n",
    "                     text=\"District\", # which column to use to set the color of markers # column added to hover information\n",
    "                     size=\"Population\", # size of markers\n",
    "                     color='State',\n",
    "                     hover_name='literacy_rate',\n",
    "                     zoom=3,\n",
    "                     width=800,\n",
    "                     height=550,\n",
    "                     center={'lat':22,\n",
    "                             'lon':79}\n",
    "                     )\n",
    "# Zoom to INDIA only not whole has paramster visible which helps!!\n",
    "fig.update_geos(fitbounds=\"locations\",visible = False)\n",
    "fig.show()"
   ]
  },
  {
   "cell_type": "code",
   "execution_count": 32,
   "id": "af2ac1f4",
   "metadata": {},
   "outputs": [],
   "source": [
    "\n",
    "df = df.rename(columns={\"Latitude\": \"lat\", \"Longitude\": \"lon\"})\n"
   ]
  },
  {
   "cell_type": "code",
   "execution_count": 71,
   "id": "56ad8497",
   "metadata": {},
   "outputs": [],
   "source": [
    "state_list = df['State'].unique().tolist()"
   ]
  },
  {
   "cell_type": "code",
   "execution_count": 76,
   "id": "eeba9011",
   "metadata": {},
   "outputs": [
    {
     "data": {
      "text/plain": [
       "31"
      ]
     },
     "execution_count": 76,
     "metadata": {},
     "output_type": "execute_result"
    }
   ],
   "source": [
    "len(state_list)"
   ]
  },
  {
   "cell_type": "code",
   "execution_count": null,
   "id": "5697f987",
   "metadata": {},
   "outputs": [
    {
     "data": {
      "application/vnd.plotly.v1+json": {
       "config": {
        "plotlyServerURL": "https://plot.ly"
       },
       "data": [
        {
         "hovertemplate": "<b>%{hovertext}</b><br><br>State=Andhra Pradesh<br>Population=%{marker.size}<br>District=%{text}<br>lat=%{lat}<br>lon=%{lon}<extra></extra>",
         "hovertext": {
          "bdata": "AAAAAAAAS0AAAAAAAIBMQAAAAAAAAFBAAAAAAAAAUEAAAAAAAIBOQAAAAAAAQFJAAAAAAAAATUAAAAAAAABNQAAAAAAAwFBAAAAAAAAASkAAAAAAAABIQAAAAAAAAEtAAAAAAACATEAAAAAAAABLQAAAAAAAAExAAAAAAACAS0AAAAAAAIBKQAAAAAAAgE1AAAAAAADAUEA=",
          "dtype": "f8"
         },
         "lat": {
          "bdata": "OdL+59VIM0D8pawOx58sQIZoKfmEqSpATsBVOmDIMEA8wn79FMUvQIbaDWbEYzFAgsPgtPaDMkBoIsx3Fa8xQGmSQdjUJDBAU2HcuwzgLkAIdiVNuaMwQOzXtH2p4zFAMSxc/P0cMUD8ytvI8m0yQBSy7FFj+i5AwqhekSaSMkAgrEsmhkgyQBlO8pZ8BDJAGqHG8AqiMEA=",
          "dtype": "f8"
         },
         "legendgroup": "Andhra Pradesh",
         "lon": {
          "bdata": "Wqu/qwu0U0C5IWs8c11TQJbp629eu1NAjKYStpCPVEALo6d2iiVUQMzLEjvenVNALAYfhwLcU0DPKjuy4ipUQLgHRKl5SVRA40vK06d5U0BP/4QyUX9TQOCfCInRiFNAN/idu97KU0AM1RCm0IRTQMY4tFJ3B1RAMupbVI8QVUD5ZrHUbd1UQFibqDnz91NApk1nYmJdVEA=",
          "dtype": "f8"
         },
         "marker": {
          "color": "#636efa",
          "size": {
           "bdata": "99MpAPxFPgDwsD8A+KVOAAWVSgCbKzwADZ85ADqvKgAW7kQA19k9ACTYPQDISC4AKTw1ACfuJgBI1zMACj8pABrGIwAAmTUAxhI8AA==",
           "dtype": "i4"
          },
          "sizemode": "area",
          "sizeref": 27650.37
         },
         "mode": "markers+text",
         "name": "Andhra Pradesh",
         "showlegend": true,
         "subplot": "map",
         "text": [
          "Adilabad",
          "Anantapur",
          "Chittoor",
          "East Godavari",
          "Guntur",
          "Hyderabad",
          "Karimnagar",
          "Khammam",
          "Krishna",
          "Kurnool",
          "Mahbubnagar",
          "Medak",
          "Nalgonda",
          "Nizamabad",
          "Prakasam",
          "Srikakulam",
          "Vizianagaram",
          "Warangal",
          "West Godavari"
         ],
         "type": "scattermap"
        },
        {
         "hovertemplate": "<b>%{hovertext}</b><br><br>State=Arunachal Pradesh<br>Population=%{marker.size}<br>District=%{text}<br>lat=%{lat}<br>lon=%{lon}<extra></extra>",
         "hovertext": {
          "bdata": "AAAAAACASEAAAAAAAIBIQAAAAAAAgE9AAAAAAAAAREAAAAAAAIBMQAAAAAAAgE1AAAAAAABAUEAAAAAAAEBRQAAAAAAAAEpAAAAAAACARUAAAAAAAABKQAAAAAAAAEtAAAAAAAAATUAAAAAAAABNQA==",
          "dtype": "f8"
         },
         "lat": {
          "bdata": "CE8+u0hcO0DTv9qSBl87QMYtlPpgJzxA9ZdQsWwMPED8CwyFYPI7QGKJSaOWUzxAXl2ky1+1O0AH6yQLBkY7QBLW3E1BrjtAicMKEa7xOkBvHqV3t9Q8QETIq1r2RjxAlONRcgF3O0B2T2RGNhs8QA==",
          "dtype": "f8"
         },
         "legendgroup": "Arunachal Pradesh",
         "lon": {
          "bdata": "22MToAgYWEBRaVbYCENXQGHdS9UoxFdAz8ZsUrNPV0CME4R1MCZYQGlK0soA8VdAQF2Ar5V9V0Dh+TcR3GJXQOYt3H7N9FZAvuCef4raV0A4PUWFGcBXQHOMcJGLeVdAn8o4LpwpV0B834EiP6JXQA==",
          "dtype": "f8"
         },
         "marker": {
          "color": "#EF553B",
          "size": {
           "bdata": "AkMCAGIzAQCOgwEArGcBAD45AgBA0wAAVkQBAL2xAgA5wwAAZ7UBAPiJAAD4RQEA60cBAJK2AQA=",
           "dtype": "i4"
          },
          "sizemode": "area",
          "sizeref": 27650.37
         },
         "mode": "markers+text",
         "name": "Arunachal Pradesh",
         "showlegend": true,
         "subplot": "map",
         "text": [
          "Changlang",
          "East Kameng",
          "East Siang",
          "Kurung Kumey",
          "Lohit",
          "Lower Dibang Valley",
          "Lower Subansiri",
          "Papum Pare",
          "Tawang",
          "Tirap",
          "Upper Siang",
          "Upper Subansiri",
          "West Kameng",
          "West Siang"
         ],
         "type": "scattermap"
        },
        {
         "hovertemplate": "<b>%{hovertext}</b><br><br>State=Assam<br>Population=%{marker.size}<br>District=%{text}<br>lat=%{lat}<br>lon=%{lon}<extra></extra>",
         "hovertext": {
          "bdata": "AAAAAACASkAAAAAAAIBNQAAAAAAAAFFAAAAAAAAASkAAAAAAAABPQAAAAAAAwFBAAAAAAAAATEAAAAAAAABRQAAAAAAAAE9AAAAAAABAUkAAAAAAAIBQQAAAAAAAAE1AAAAAAABAUEAAAAAAAIBLQAAAAAAAgFBAAAAAAACATkAAAAAAAEBRQAAAAAAAAE1AAAAAAAAATkA=",
          "dtype": "f8"
         },
         "lat": {
          "bdata": "snRnCYltOkC5wApoO3M6QAWdRT3J0DhA2MYFdKqVOkCYTjAOJ5Y7QMgXFxFeTjtA1IACUWwEOkBT+Yx4kWA6QGT1tXYedThAdWfQzi/DOkDrKxywwis6QJuYdEH0FjpAJlQp2FSyOECWgjaOS386QLO7S3QrJDtAqDaGP75DOkDb74y+lnY6QNL+EL4yvDpAlKs9EBaJO0A=",
          "dtype": "f8"
         },
         "legendgroup": "Assam",
         "lon": {
          "bdata": "ZwBc56m+VkAnMYt4GatWQG/xXHKVN1dARXtOhKYCV0AOs87Wp61XQKG69JVjxldAuxRCFVGmVkBjHMJ22nRXQEjaeObbJVdAuBlJmFOTV0CTnqcorOVWQFYQ1CZiR1dAoi+PfYwXV0CKZ3xY9YhWQBC0tFD3hFdA0Gt5Q487V0B3Q2Wp+9lWQAAb8M6GNldAjVByIDLsV0A=",
          "dtype": "f8"
         },
         "marker": {
          "color": "#00cc96",
          "size": {
           "bdata": "ttcZAPRFCwCpfxoA9CoOADV4CgD/PBQAN2IPAIhHEABgDwoAoKoQAOYnFwCZlw4Ajr8SAGaJDQDZ5g8AWBYrADfGCwAOXB0AOUMUAA==",
           "dtype": "i4"
          },
          "sizemode": "area",
          "sizeref": 27650.37
         },
         "mode": "markers+text",
         "name": "Assam",
         "showlegend": true,
         "subplot": "map",
         "text": [
          "Barpeta",
          "Bongaigaon",
          "Cachar",
          "Darrang",
          "Dhemaji",
          "Dibrugarh",
          "Goalpara",
          "Golaghat",
          "Hailakandi",
          "Jorhat",
          "Kamrup",
          "Karbi Anglong",
          "Karimganj",
          "Kokrajhar",
          "Lakhimpur",
          "Nagaon",
          "Nalbari",
          "Sonitpur",
          "Tinsukia"
         ],
         "type": "scattermap"
        },
        {
         "hovertemplate": "<b>%{hovertext}</b><br><br>State=Bihar<br>Population=%{marker.size}<br>District=%{text}<br>lat=%{lat}<br>lon=%{lon}<extra></extra>",
         "hovertext": {
          "bdata": "AAAAAACARUAAAAAAAABNQAAAAAAAAFFAAAAAAACAR0AAAAAAAABKQAAAAAAAAEpAAAAAAACATUAAAAAAAABNQAAAAAAAAEdAAAAAAAAASkAAAAAAAABLQAAAAAAAgEhAAAAAAACAS0AAAAAAAABFQAAAAAAAAEdAAAAAAAAARkAAAAAAAIBJQAAAAAAAAEVAAAAAAAAASEAAAAAAAIBNQAAAAAAAAEpAAAAAAACASkAAAAAAAIBIQAAAAAAAgEZAAAAAAACATUAAAAAAAIBGQAAAAAAAgERAAAAAAACATkAAAAAAAABFQAAAAAAAAElAAAAAAACAS0AAAAAAAABKQAAAAAAAgEVAAAAAAAAARUAAAAAAAABNQAAAAAAAAEdAAAAAAACAS0A=",
          "dtype": "f8"
         },
         "lat": {
          "bdata": "qRDytCY2OkCGV+j9N8Y4QIZX6P03xjhAniFlQhXVOEBVeLTCA4s5QB5f6Rz2RjlAcAT6wbSBOUA2hLzrZXw5QH128Y5sJTpA9Q62AQa6OEAZCgHd4HI6QEztEkXAyDhAu7X5lNonOUBeqfarzpA5QEEX6FociTlAcOHZuwdTOkCkUOOI9i45QGZtkM7+xTlATG1FJu9pOkC98Eli0zI5QMzHlenHLzpA+Y8kY7Y6OUDhhn+nYdM4QLlbEe8fKTtAsCvxHSlnOUCevPs9aa46QL+r0Zww0TlAV+trWuD9OEDFlN/LPtI5QGj/E4UPyzlAHUrWAYXlOUCywp7v7R85QMGf1HBYdTpAGVvIwtGQOkCFO9V8cyw6QM7JqI4VSDpA8yo8lz/QOUA=",
          "dtype": "f8"
         },
         "legendgroup": "Bihar",
         "lon": {
          "bdata": "mSPYyrDTVUDk6qVZbh1VQOTqpVluHVVAvNRTmXS3VUDgop/aCYhVQNnDLWSywlVAt3R1+Z4fVUCKwrkdowVVQHvHnvFTflVAkIBRrFg8VUDXnHfIKhZVQLdOjKnXkFVAup5Vl+46VUA/QcMpGe1VQC8BNz04pFVAx1CKLNT8VUBMsudcNYhVQC3xWUh2uVVAwFQTPXOKVUDr34bQq6JVQPNftPT0VFVAKU+sBcFeVUCZS3ina2dVQM8EW8ReE1VAB3NHUHhUVUAzpMScPkBVQH/gmO/i2VVAPc8gStj7VEDlV2BE/aJVQDVz332xfFVAzSIvgqY0VUAEPq800XFVQGeuurznUlVAQ8E/gCZnVUB4BeFPnBVVQM06Ydw8slVAYMOJUx5ZVUA=",
          "dtype": "f8"
         },
         "marker": {
          "color": "#ab63fa",
          "size": {
           "bdata": "seYqACnCJgAiejgASwwfAK1TLQBGWi4A16EpAHAJGgBpFDwA+gFDANwXJwCV3BoAwSsRADXcLgBGbxkAIMsZANBFDwBiix4A03hEANXeFAAmQkkA1egrAIrcIQBCCzwAgRZZAGvPTQBr0DEALiotAHUAHQC+BkEA9kw8ALa1CQB2AwoAVj00AKDRMgBUAyIAbVQ1AA==",
           "dtype": "i4"
          },
          "sizemode": "area",
          "sizeref": 27650.37
         },
         "mode": "markers+text",
         "name": "Bihar",
         "showlegend": true,
         "subplot": "map",
         "text": [
          "Araria",
          "Aurangabad",
          "Aurangabad",
          "Banka",
          "Begusarai",
          "Bhagalpur",
          "Bhojpur",
          "Buxar",
          "Darbhanga",
          "Gaya",
          "Gopalganj",
          "Jamui",
          "Jehanabad",
          "Katihar",
          "Khagaria",
          "Kishanganj",
          "Lakhisarai",
          "Madhepura",
          "Madhubani",
          "Munger",
          "Muzaffarpur",
          "Nalanda",
          "Nawada",
          "Pashchim Champaran",
          "Patna",
          "Purba Champaran",
          "Purnia",
          "Rohtas",
          "Saharsa",
          "Samastipur",
          "Saran",
          "Sheikhpura",
          "Sheohar",
          "Sitamarhi",
          "Siwan",
          "Supaul",
          "Vaishali"
         ],
         "type": "scattermap"
        },
        {
         "hovertemplate": "<b>%{hovertext}</b><br><br>State=Maharashtra<br>Population=%{marker.size}<br>District=%{text}<br>lat=%{lat}<br>lon=%{lon}<extra></extra>",
         "hovertext": {
          "bdata": "AAAAAAAATUAAAAAAAABRQAAAAAAAAFBAAAAAAACAUkAAAAAAAIBTQAAAAAAAgFNAAAAAAADAUkAAAAAAAIBQQAAAAAAAQFJAAAAAAAAAUkAAAAAAAIBPQAAAAAAAAFNAAAAAAADAUEAAAAAAAABRQAAAAAAAgE5AAAAAAABAUkAAAAAAAMBQQAAAAAAAwFNAAAAAAABAUEAAAAAAAIBLQAAAAAAAwFFAAAAAAABAUUAAAAAAAIBPQAAAAAAAAFNAAAAAAACAUkAAAAAAAEBSQAAAAAAAgFJAAAAAAACAU0AAAAAAAMBQQAAAAAAAgFJAAAAAAACAU0AAAAAAAEBSQAAAAAAAQFJA",
          "dtype": "f8"
         },
         "lat": {
          "bdata": "bUhdeREZNEBtSF15ERk0QO81S7EIdDJA7zVLsQh0MkCmJRw0Dr80QPc+ezJLKjVAJh0ICzg2NUBa4rFtzfMyQH5/kTQakTRAn6de1nkYNEBSw8EWJkY1QEt+tyaaOTVAWEeIgGKYM0AJ1xJdBeI0QGtHLJEP/DNAlzHpaOVyMEA03KCRQ1kyQGpL8YxRMjVAL448zJU1M0BRgXjW7oU1QEsP5WZURDRAAw768tAxMkB/mwNpcU8zQC0kWJpXhDJAmvoXWM81MUAN7hyBqScxQGbUbI99rDFAnxtbQMMrMEAI+fwWXdYxQGrBbnHisjNAuVybv7PONEAaCrSoQ0g0QBTBB8DmCjRA",
          "dtype": "f8"
         },
         "legendgroup": "Maharashtra",
         "lon": {
          "bdata": "ueButYbUUkC54G61htRSQNc8WHSUQFJA1zxYdJRAUkCgvPcewkdTQJnRk+FAa1NAcVCpFAIHVEC2uThXXexSQL5OhLD4GFNACUOHMjLUU0A2+2CIlKVSQKSKP+s2C1RAYFEPyelFU0BV6eo0SuNSQP+PcuoF/1JA/iy2EUGIUkA02D0jhTBTQA6/BuhiwVNAP7C7trRrU0AHgbWI45RSQFCjPo1yglJAfSzlWq3/UkARkbqP5yxTQKz08EhFiFJAmwoy7nZQUkAKO7TAQa1SQE1dcqaNi1JAQJekvtlgUkCdTcj3IdtSQPwSEf0fM1JActr1VKWkU0BwbvJPUlBTQENLOaxog1NA",
          "dtype": "f8"
         },
         "marker": {
          "color": "#FFA15A",
          "size": {
           "bdata": "KcImACJ6OADgyxYA2DEoAJKtGwD9EiwAzlASANlxJwCSdicAk6IhAC5LHwALLhQAAfcRAB2LQACG5B0AoSQ7ALRyJQACAkcADEozAKcmGQAzMF0A6EoZADYEHACg4Y8A3aQYAP8PKwBd1S0A8/YMADziQQC0w6gAJtkTAGhEEgB8TSoA",
           "dtype": "i4"
          },
          "sizemode": "area",
          "sizeref": 27650.37
         },
         "mode": "markers+text",
         "name": "Maharashtra",
         "showlegend": true,
         "subplot": "map",
         "text": [
          "Aurangabad",
          "Aurangabad",
          "Raigarh",
          "Raigarh",
          "Akola",
          "Amravati",
          "Bhandara",
          "Bid",
          "Buldana",
          "Chandrapur",
          "Dhule",
          "Gondiya",
          "Hingoli",
          "Jalgaon",
          "Jalna",
          "Kolhapur",
          "Latur",
          "Nagpur",
          "Nanded",
          "Nandurbar",
          "Nashik",
          "Osmanabad",
          "Parbhani",
          "Pune",
          "Ratnagiri",
          "Sangli",
          "Satara",
          "Sindhudurg",
          "Solapur",
          "Thane",
          "Wardha",
          "Washim",
          "Yavatmal"
         ],
         "type": "scattermap"
        },
        {
         "hovertemplate": "<b>%{hovertext}</b><br><br>State=Chandigarh<br>Population=%{marker.size}<br>District=%{text}<br>lat=%{lat}<br>lon=%{lon}<extra></extra>",
         "hovertext": {
          "bdata": "AAAAAAAAU0A=",
          "dtype": "f8"
         },
         "lat": {
          "bdata": "dQKaCBu+PkA=",
          "dtype": "f8"
         },
         "legendgroup": "Chandigarh",
         "lon": {
          "bdata": "0bHd8Y4wU0A=",
          "dtype": "f8"
         },
         "marker": {
          "color": "#19d3f3",
          "size": {
           "bdata": "2hoQAA==",
           "dtype": "i4"
          },
          "sizemode": "area",
          "sizeref": 27650.37
         },
         "mode": "markers+text",
         "name": "Chandigarh",
         "showlegend": true,
         "subplot": "map",
         "text": [
          "Chandigarh"
         ],
         "type": "scattermap"
        },
        {
         "hovertemplate": "<b>%{hovertext}</b><br><br>State=Chhattisgarh<br>Population=%{marker.size}<br>District=%{text}<br>lat=%{lat}<br>lon=%{lon}<extra></extra>",
         "hovertext": {
          "bdata": "AAAAAAAAR0AAAAAAAMBSQAAAAAAAAE5AAAAAAAAAUUAAAAAAAEBRQAAAAAAAAE1AAAAAAAAAT0AAAAAAAABOQAAAAAAAAE9AAAAAAAAAUEAAAAAAAIBSQAAAAAAAQFBAAAAAAAAASUA=",
          "dtype": "f8"
         },
         "lat": {
          "bdata": "ra6Pc9RkM0CTL4SdYFs2QJMvhJ1gWzZAdFoCwQ6ONEBR8QBiyDE1QH6HSUPaxTZAzYjS3uB9NkD7HneEDoE3QK531ixGOTVAmuDWqB0CNkCa4NaoHQI2QLPqgPbS4jRAeeEQ6MJTN0A=",
          "dtype": "f8"
         },
         "legendgroup": "Chhattisgarh",
         "lon": {
          "bdata": "12tsVtphVEDmUdFf2n9UQOZR0V/af1RA1FC0XnFwVEAVUtV6PFVUQOiIS5K091RAU5uW5N2kVEAVLdaPAohUQEUG1zgxqlRAHU38X8rRVEAdTfxfytFUQOd91irSjFRAPgN8wRfPVEA=",
          "dtype": "f8"
         },
         "marker": {
          "color": "#FF6692",
          "size": {
           "bdata": "T5AVAATUBQDNpCgAJTQMAAAGMwDV/gwAcGkSAOUNCgAywg8A4MsWANgxKACAAj4ATgIkAA==",
           "dtype": "i4"
          },
          "sizemode": "area",
          "sizeref": 27650.37
         },
         "mode": "markers+text",
         "name": "Chhattisgarh",
         "showlegend": true,
         "subplot": "map",
         "text": [
          "Bastar",
          "Bilaspur",
          "Bilaspur",
          "Dhamtari",
          "Durg",
          "Jashpur",
          "Korba",
          "Koriya",
          "Mahasamund",
          "Raigarh",
          "Raigarh",
          "Raipur",
          "Surguja"
         ],
         "type": "scattermap"
        },
        {
         "hovertemplate": "<b>%{hovertext}</b><br><br>State=Himachal Pradesh<br>Population=%{marker.size}<br>District=%{text}<br>lat=%{lat}<br>lon=%{lon}<extra></extra>",
         "hovertext": {
          "bdata": "AAAAAADAUkAAAAAAAABOQAAAAAAAAE9AAAAAAADAU0AAAAAAAIBNQAAAAAAAAFNAAAAAAAAAUkAAAAAAAIBRQAAAAAAAAFJAAAAAAADAUkAAAAAAAABRQAAAAAAAgFJAAAAAAABAU0A=",
          "dtype": "f8"
         },
         "lat": {
          "bdata": "fkUrYcdgP0B+RSthx2A/QP/RMvVtVUBAlTE5NzutP0CVMTk3O60/QPb3IDEKEkBANAmD2E6bP0BxaYkJvOg/QDl0mS3Eoj9Av6qKn90nP0C9orimya4+QIx29YPkCT9Ayz0/Z1OVP0A=",
          "dtype": "f8"
         },
         "legendgroup": "Himachal Pradesh",
         "lon": {
          "bdata": "aTDtYs0pU0BpMO1izSlTQLAfC8UvGVNAhff81tkfU0CF9/zW2R9TQNGgKy1fGlNAXjEBZQihU0AXkVHEMFpTQHnSNOPLPVNAbFCc9wtoU0B2zihho1tTQHTie2ZxPFNAR6a0G78LU0A=",
          "dtype": "f8"
         },
         "marker": {
          "color": "#B6E880",
          "size": {
           "bdata": "BNQFAM2kKACo6wcAcPAGAJ3ZEAC7ChcAmUgBAI+uBgBhQQ8AumsMAL8VCADg2ggA1fMHAA==",
           "dtype": "i4"
          },
          "sizemode": "area",
          "sizeref": 27650.37
         },
         "mode": "markers+text",
         "name": "Himachal Pradesh",
         "showlegend": true,
         "subplot": "map",
         "text": [
          "Bilaspur",
          "Bilaspur",
          "Chamba",
          "Hamirpur",
          "Hamirpur",
          "Kangra",
          "Kinnaur",
          "Kullu",
          "Mandi",
          "Shimla",
          "Sirmaur",
          "Solan",
          "Una"
         ],
         "type": "scattermap"
        },
        {
         "hovertemplate": "<b>%{hovertext}</b><br><br>State=Daman and Diu<br>Population=%{marker.size}<br>District=%{text}<br>lat=%{lat}<br>lon=%{lon}<extra></extra>",
         "hovertext": {
          "bdata": "AAAAAADAU0AAAAAAAMBQQA==",
          "dtype": "f8"
         },
         "lat": {
          "bdata": "7r0Lbn5uNEBqvZNLxrk0QA==",
          "dtype": "f8"
         },
         "legendgroup": "Daman and Diu",
         "lon": {
          "bdata": "OVJ1DbY1UkCUwQ01wLVRQA==",
          "dtype": "f8"
         },
         "marker": {
          "color": "#FF97FF",
          "size": {
           "bdata": "xeoCACrbKQA=",
           "dtype": "i4"
          },
          "sizemode": "area",
          "sizeref": 27650.37
         },
         "mode": "markers+text",
         "name": "Daman and Diu",
         "showlegend": true,
         "subplot": "map",
         "text": [
          "Daman",
          "Junagadh"
         ],
         "type": "scattermap"
        },
        {
         "hovertemplate": "<b>%{hovertext}</b><br><br>State=Gujarat<br>Population=%{marker.size}<br>District=%{text}<br>lat=%{lat}<br>lon=%{lon}<extra></extra>",
         "hovertext": {
          "bdata": "AAAAAADAUEAAAAAAAMBSQAAAAAAAgFBAAAAAAACAUkAAAAAAAIBLQAAAAAAAAFJAAAAAAACAUEAAAAAAAIBSQAAAAAAAQFBAAAAAAAAATkAAAAAAAABSQAAAAAAAgFJAAAAAAACAT0AAAAAAAMBSQAAAAAAAAE5AAAAAAAAAT0AAAAAAAMBQQAAAAAAAAFJAAAAAAABAUEAAAAAAAMBSQAAAAAAAAE9AAAAAAAAAT0AAAAAAAEBRQAAAAAAAQFFA",
          "dtype": "f8"
         },
         "lat": {
          "bdata": "U75XOPXtNEBJt3kr/Zo2QK1uAyBfDDVAtb1pOGBINkBmoxGcL0I4QObwCPMDwjVAzqDK+sKzNUAUD6z/lDE3QCz81hsdaTZA3inNxAZ7N0A6ETY8PeM2QMUDxtaDhzdAzopE7Oe0NUBPD6P28d00QKcDgEfqzTZAvNGlbWzON0BECNZSCY01QJrzYdTxZzZAdzYnNNG3N0Dijyf58kE1QFJzPO2j0zZAg3K34DfNNEC/R+MB50I2QBxzrfc/cTRA",
          "dtype": "f8"
         },
         "legendgroup": "Gujarat",
         "lon": {
          "bdata": "z1a+mQejUUBNBXV4Sw9SQNYNcRnQ21FAb1bmAvskUkC1RKa/pvtRQIM0p78WK1JAgtKvG2oKUkBss5qZBStSQC+/MD24Z1FAk0r9Ypo0UUAwKqkTNEFSQIS25R8mHVJAnAOFLsdrUkAGhXGHKDdSQM9IfI6rZ1JALkfBsxrwUUB0YDuaA25RQFq/EgqOtVFA1HRVlLpIUkAiHPgw1TtSQCpYmhjz3lFAsbrc9A1sUkDyXLoao19SQOHWlAqNOlJA",
          "dtype": "f8"
         },
         "marker": {
          "color": "#FECB52",
          "size": {
           "bdata": "KtspAJEUbgDOGhcAye4fAHqdLwCrqhcAbfMrAIk8FQD39SAAU+0fAO0XIwB4DR8A2QEJAAhKFAD4eiQA9oAUAOnuCACODToArQ4lACrLXABszBoAw3sDAPqPPwDOBhoA",
           "dtype": "i4"
          },
          "sizemode": "area",
          "sizeref": 27650.37
         },
         "mode": "markers+text",
         "name": "Gujarat",
         "showlegend": true,
         "subplot": "map",
         "text": [
          "Junagadh",
          "Ahmadabad",
          "Amreli",
          "Anand",
          "Banas Kantha",
          "Bharuch",
          "Bhavnagar",
          "Gandhinagar",
          "Jamnagar",
          "Kachchh",
          "Kheda",
          "Mahesana",
          "Narmada",
          "Navsari",
          "Panch Mahals",
          "Patan",
          "Porbandar",
          "Rajkot",
          "Sabar Kantha",
          "Surat",
          "Surendranagar",
          "The Dangs",
          "Vadodara",
          "Valsad"
         ],
         "type": "scattermap"
        },
        {
         "hovertemplate": "<b>%{hovertext}</b><br><br>State=Goa<br>Population=%{marker.size}<br>District=%{text}<br>lat=%{lat}<br>lon=%{lon}<extra></extra>",
         "hovertext": {
          "bdata": "AAAAAABAVEAAAAAAAIBTQA==",
          "dtype": "f8"
         },
         "lat": {
          "bdata": "NNqjRvIYL0AiA3WQ+2MuQA==",
          "dtype": "f8"
         },
         "legendgroup": "Goa",
         "lon": {
          "bdata": "/iEQpaBzUkDnzHRURnxSQA==",
          "dtype": "f8"
         },
         "marker": {
          "color": "#636efa",
          "size": {
           "bdata": "WHsMABnGCQA=",
           "dtype": "i4"
          },
          "sizemode": "area",
          "sizeref": 27650.37
         },
         "mode": "markers+text",
         "name": "Goa",
         "showlegend": true,
         "subplot": "map",
         "text": [
          "North Goa",
          "South Goa"
         ],
         "type": "scattermap"
        },
        {
         "hovertemplate": "<b>%{hovertext}</b><br><br>State=Haryana<br>Population=%{marker.size}<br>District=%{text}<br>lat=%{lat}<br>lon=%{lon}<extra></extra>",
         "hovertext": {
          "bdata": "AAAAAAAAUkAAAAAAAEBQQAAAAAAAgFFAAAAAAACATUAAAAAAAEBSQAAAAAAAAFBAAAAAAADAUUAAAAAAAABPQAAAAAAAAE5AAAAAAABAUEAAAAAAAMBQQAAAAAAAAFFAAAAAAAAAUkAAAAAAAEBQQAAAAAAAwFFAAAAAAACAUUAAAAAAAABOQA==",
          "dtype": "f8"
         },
         "lat": {
          "bdata": "HHq5qrFZPkASMvQYl7o8QC/svz0TJjxAAlisBq+SPUAStV2wPAs8QGn4QVN9PD1AgbfDcrWYPEBlUSdjlXM9QDPcT3rv9T1AHHYm9QS0PUBsw/OGeA4+QMU+fIadIjxAZm7C/m2zPkA9EL8D8Vc9QNVFmskPMTxAcjhZCXzkPECZcSEMxqI9QA==",
          "dtype": "f8"
         },
         "legendgroup": "Haryana",
         "lon": {
          "bdata": "Fr2K78c8U0CREEm9WQFTQJGE45rwVFNAu/uXF/PiUkDE9D4NPUFTQFP1isH39VJAFdugtSAnU0B7QD5u8RJTQGkNu5cgGFNA+/jECf43U0BxLZFxajJTQDLTl7j4CFNA5SkD3TA+U0DUNhARdDtTQNqwENXPI1NAaJ37tf8hU0Aarn2aOLpSQA==",
          "dtype": "f8"
         },
         "marker": {
          "color": "#EF553B",
          "size": {
           "bdata": "njcRAI3wGABFnRsAu18OAMAbFwA7nBoAxZ8OAIhbFACAZBAALPgWAC+4DgDoEQ4AjZAIAL1kEgDsvA0AVDEQAFXDEwA=",
           "dtype": "i4"
          },
          "sizemode": "area",
          "sizeref": 27650.37
         },
         "mode": "markers+text",
         "name": "Haryana",
         "showlegend": true,
         "subplot": "map",
         "text": [
          "Ambala",
          "Bhiwani",
          "Faridabad",
          "Fatehabad",
          "Gurgaon",
          "Hisar",
          "Jhajjar",
          "Jind",
          "Kaithal",
          "Karnal",
          "Kurukshetra",
          "Mahendragarh",
          "Panchkula",
          "Panipat",
          "Rewari",
          "Rohtak",
          "Sirsa"
         ],
         "type": "scattermap"
        },
        {
         "hovertemplate": "<b>%{hovertext}</b><br><br>State=Uttar Pradesh<br>Population=%{marker.size}<br>District=%{text}<br>lat=%{lat}<br>lon=%{lon}<extra></extra>",
         "hovertext": {
          "bdata": "AAAAAADAU0AAAAAAAIBNQAAAAAAAgE5AAAAAAACATEAAAAAAAABPQAAAAAAAAE9AAAAAAADAUEAAAAAAAABOQAAAAAAAgE5AAAAAAAAAREAAAAAAAIBOQAAAAAAAAERAAAAAAAAATEAAAAAAAABKQAAAAAAAgEhAAAAAAACATEAAAAAAAABNQAAAAAAAAE1AAAAAAAAATkAAAAAAAABLQAAAAAAAAE5AAAAAAACATUAAAAAAAMBQQAAAAAAAgE1AAAAAAAAATUAAAAAAAIBMQAAAAAAAgE5AAAAAAAAAUUAAAAAAAMBQQAAAAAAAgE5AAAAAAACASEAAAAAAAIBOQAAAAAAAAEtAAAAAAAAAUEAAAAAAAIBOQAAAAAAAQFBAAAAAAACASkAAAAAAAIBOQAAAAAAAQFBAAAAAAACASUAAAAAAAIBLQAAAAAAAAEpAAAAAAAAAUUAAAAAAAABMQAAAAAAAAFBAAAAAAACATUAAAAAAAABPQAAAAAAAAE9AAAAAAACATEAAAAAAAIBHQAAAAAAAAE1AAAAAAAAASkAAAAAAAABHQAAAAAAAAE5AAAAAAAAATUAAAAAAAIBGQAAAAAAAAE5AAAAAAAAATEAAAAAAAABJQAAAAAAAgElAAAAAAACASkAAAAAAAIBNQAAAAAAAgExAAAAAAABAUEA=",
          "dtype": "f8"
         },
         "lat": {
          "bdata": "vtKb8ve8OUC+0pvy97w5QJatv9LA/jpASy08Ef/vO0CualGlXGQ5QCcZfAslZDpAPHRumT6rOkAzmyNbHwI6QIzecB+5Cz1AaCFrQBixO0CHt8KHWtw5QOS6E672cjtA0CzLMRVaOUCZ33gdO+w6QHmH/CrSgjxA2wuBMHnVOkC6HfmdYFA9QGwPtj5IWTxA9COt4ToeOUAaD/XR8Cg5QMGEwYwUbDpAiypS9FWXO0AZt8Tyxck6QMydeLobmzpAvB3SrlxzO0CXwhA4YtY5QPOrZfaqNTtAU35BCLBkPECpl3Q8/r88QMshgPbtnzlAobBGRz8oO0CA6BazFqI6QO3TMnFgVjtAunLJeGUROkDcNjTKj7M5QJBan1CwdDlAk8t+BdnePEDbar4Jdv46QG8Rv7MzbjpACVYAIC+JOUCrte/jfOQ6QLV9ery5ljhAZT78eZbWOkDF4VddZVg5QDGxcaeCLDtAg8oxHQqYO0Bv66o7xQI6QCd7QE+SBz1AIodc4yEaOUDiSBagDdo8QLni+DVzeD1A6M03kC6FPEDB3VBVZt05QMHdUFVm3TlAFmvKxv9AOkAIArRDG9U8QItPZOGnCD5AkYm9EabKOkA8pEaxy/07QEkztM6CgDtAMuuS5oh3OEA2dvoT3kg6QCrNLyezoTpA3aqvX05cOUA=",
          "dtype": "f8"
         },
         "legendgroup": "Uttar Pradesh",
         "lon": {
          "bdata": "eAwlYOD0U0B4DCVg4PRTQDedl8tgg1NALiSLDhiAU0AVkiZ0T4NUQD0uplizq1RAW1zNp0nbU0C8GAztx8BUQGWtodReU1NA0cpRZvBdVEDy9BZXVgJVQB2yj2sunlRA48LAiJchVECtnLNN41ZUQLGUGsWj21NAw86LfaqsVEDGCmz93JxTQMspMGaxgFNADfAjTzLQVECATQQD6ERUQI+Q3RXD9FRArqibYdCsU0BKzbnB4MRTQMeXql+AgFRA8ZqzQTPcU0A6DjmXqjZUQDkBTYRNm1NAasxfc5NhU0DseXGtKWtTQNlJYTlP4lRABiu8u3OBVED0ZYeZt9ZUQNAA1E3nEFRADrmWyHrXU0CfkfoGw6JUQCLUkSiSuVNAuHVgS/eYU0C9YByDPelTQFVI9qgs/1NACIlGXMJaVEAR35AhDPtUQN6Al+NzplNAvSp5b2k5VEDDTausbutTQIz4Rr49wlNAVdU/N8dnU0AV/kd2X+BUQPC6oU6Xc1NAI1WWJXumVEAh+P5gF69TQNFdJ6/4aFNAtM2Xoqr5U0CFw5P223tUQIXDk/bbe1RA+4GBJz9OVEDxKLuGBsdTQBTwAtxWZlNA020nUHvCVEDzC6lyIvVTQEWp9LqVNlRAkd1jyVzEVECi5eqZp4NUQGX1xOTAKFRANTUcqdG0VEA=",
          "dtype": "f8"
         },
         "marker": {
          "color": "#00cc96",
          "size": {
           "bdata": "cPAGAJ3ZEADtbEMAIQ84AFfbWgDAliQA2QwVABlnRgAI4hMA8zc1AF5vMQA5ySAA8nQbABvBMQBn4EMA0JolAJkxOACjZDUA9MsdAPIhDwASUS8AkBMbAPIiGABUtCUAFMQcAB0sKABsHiYA8yUZAK1vRwCsPTcAv2U0AD/DQwCtcz4AdskZAHyTRAALfx4AXRQcAChHGQBYaBsAbGgYAABkNgDYoxIADglGALZdDQDxghwA8N0mABCpIQDpizQAyhkmAKbQSACYOT8An/0eAAg+DQC19zAA9/YzAEukIwCO5DQA7ysaAErgLQCYa0QAn2scAH3wOQAPbi8AqRo4AA==",
           "dtype": "i4"
          },
          "sizemode": "area",
          "sizeref": 27650.37
         },
         "mode": "markers+text",
         "name": "Uttar Pradesh",
         "showlegend": true,
         "subplot": "map",
         "text": [
          "Hamirpur",
          "Hamirpur",
          "Agra",
          "Aligarh",
          "Allahabad",
          "Ambedkar Nagar",
          "Auraiya",
          "Azamgarh",
          "Baghpat",
          "Bahraich",
          "Ballia",
          "Balrampur",
          "Banda",
          "Bara Banki",
          "Bareilly",
          "Basti",
          "Bijnor",
          "Bulandshahr",
          "Chandauli",
          "Chitrakoot",
          "Deoria",
          "Etah",
          "Etawah",
          "Faizabad",
          "Farrukhabad",
          "Fatehpur",
          "Firozabad",
          "Gautam Buddha Nagar",
          "Ghaziabad",
          "Ghazipur",
          "Gonda",
          "Gorakhpur",
          "Hardoi",
          "Jalaun",
          "Jaunpur",
          "Jhansi",
          "Jyotiba Phule Nagar",
          "Kannauj",
          "Kanpur Dehat",
          "Kaushambi",
          "Kushinagar",
          "Lalitpur",
          "Lucknow",
          "Mahoba",
          "Mainpuri",
          "Mathura",
          "Mau",
          "Meerut",
          "Mirzapur",
          "Moradabad",
          "Muzaffarnagar",
          "Pilibhit",
          "Pratapgarh",
          "Pratapgarh",
          "Rae Bareli",
          "Rampur",
          "Saharanpur",
          "Sant Kabir Nagar",
          "Shahjahanpur",
          "Sitapur",
          "Sonbhadra",
          "Sultanpur",
          "Unnao",
          "Varanasi"
         ],
         "type": "scattermap"
        },
        {
         "hovertemplate": "<b>%{hovertext}</b><br><br>State=Jammu and Kashmir<br>Population=%{marker.size}<br>District=%{text}<br>lat=%{lat}<br>lon=%{lon}<extra></extra>",
         "hovertext": {
          "bdata": "AAAAAACASkAAAAAAAIBSQAAAAAAAgE5AAAAAAACAT0AAAAAAAABKQAAAAAAAgEtAAAAAAACATkAAAAAAAABNQA==",
          "dtype": "f8"
         },
         "lat": {
          "bdata": "3MqL2geuQEBcVKIbSltAQGijTYVyyEBANZ4C0kdCQEBZAv6iK/FAQBSXBGVH5UBA8Cv+4/UiQUAD3d1AG4ZAQA==",
          "dtype": "f8"
         },
         "legendgroup": "Jammu and Kashmir",
         "lon": {
          "bdata": "lkIztJUEU0DspcGRQbZSQLkaTJDAKFNASLS3Z7LlUkB2X6EJl8BSQGbRJYvwklJAcy/utA3HUkC+2zSdyMlSQA==",
          "dtype": "f8"
         },
         "marker": {
          "color": "#ab63fa",
          "size": {
           "bdata": "UEEGAGZYFwACJgIA82cJADiNCACjRgcAXd8SAOl3CAA=",
           "dtype": "i4"
          },
          "sizemode": "area",
          "sizeref": 27650.37
         },
         "mode": "markers+text",
         "name": "Jammu and Kashmir",
         "showlegend": true,
         "subplot": "map",
         "text": [
          "Doda",
          "Jammu",
          "Kargil",
          "Kathua",
          "Pulwama",
          "Punch",
          "Srinagar",
          "Udhampur"
         ],
         "type": "scattermap"
        },
        {
         "hovertemplate": "<b>%{hovertext}</b><br><br>State=Jharkhand<br>Population=%{marker.size}<br>District=%{text}<br>lat=%{lat}<br>lon=%{lon}<extra></extra>",
         "hovertext": {
          "bdata": "AAAAAAAAT0AAAAAAAIBIQAAAAAAAgEpAAAAAAAAAUEAAAAAAAIBJQAAAAAAAgEhAAAAAAACASUAAAAAAAABHQAAAAAAAgEtAAAAAAAAAS0AAAAAAAABIQAAAAAAAAExAAAAAAACAQ0AAAAAAAIBKQAAAAAAAgFBAAAAAAAAARUAAAAAAAIBMQA==",
          "dtype": "f8"
         },
         "lat": {
          "bdata": "F9sKjnauN0B+y2U/vx04QNo1PNKoVDhA2paXG8HaN0CIiivNZkY4QKnq4HcFFThA4bSm7kdOOEDEsS5uo9E4QCNPP7waFDdAnfP6QY76N0DZzEXuoLk3QFnPy7whfTdA+62zMZaSOEBDw4C9aTI4QAh0awcqLzdAgQn0QMrvOEC7S5O415s2QA==",
          "dtype": "f8"
         },
         "legendgroup": "Jharkhand",
         "lon": {
          "bdata": "GiDxlvl+VUBlHquVtTtVQHco0UxysFVAczw0s9aZVUDbqEE3tNFVQNA1CfTx61RAOkJIMpOFVUDwakq909JVQPgdCoE8I1VATbSlDwK9VUAF9B9E6R5VQOvws+hFKlVAwQgNVZrsVUDuNn66/wxVQB+rECdXVFVAkVbKY7DrVUBJcGNL4iVVQA==",
          "dtype": "f8"
         },
         "marker": {
          "color": "#FFA15A",
          "size": {
           "bdata": "+ncfAMbpDwBpxBYAR/YoAOIpFAAgLxQAolAlAA8LFAC9pA8AAhIMAMIXCwDeCwcARr0NAJ2ZHQDNdywAZ44RABomCQA=",
           "dtype": "i4"
          },
          "sizemode": "area",
          "sizeref": 27650.37
         },
         "mode": "markers+text",
         "name": "Jharkhand",
         "showlegend": true,
         "subplot": "map",
         "text": [
          "Bokaro",
          "Chatra",
          "Deoghar",
          "Dhanbad",
          "Dumka",
          "Garhwa",
          "Giridih",
          "Godda",
          "Gumla",
          "Jamtara",
          "Latehar",
          "Lohardaga",
          "Pakur",
          "Palamu",
          "Ranchi",
          "Sahibganj",
          "Simdega"
         ],
         "type": "scattermap"
        },
        {
         "hovertemplate": "<b>%{hovertext}</b><br><br>State=Karnataka<br>Population=%{marker.size}<br>District=%{text}<br>lat=%{lat}<br>lon=%{lon}<extra></extra>",
         "hovertext": {
          "bdata": "AAAAAACATUAAAAAAAIBRQAAAAAAAAFBAAAAAAAAATUAAAAAAAIBOQAAAAAAAAEFAAAAAAACATEAAAAAAAABSQAAAAAAAgFBAAAAAAADAUEAAAAAAAIBRQAAAAAAAgFBAAAAAAAAATEAAAAAAAEBRQAAAAAAAAFFAAAAAAACAUkAAAAAAAIBQQAAAAAAAAE1AAAAAAAAAUEAAAAAAAEBQQAAAAAAAgElAAAAAAAAAUkAAAAAAAABRQAAAAAAAwFNA",
          "dtype": "f8"
         },
         "lat": {
          "bdata": "zjvtc5ooMEAMK9DMp98pQPvo8gY8KTBAXDti0BQmLkAWBgnoSvMxQNV2JkcU1zBA1XYmRxTXMEBjEP9iv9kqQD66wNwAlSxAoxTIGSypLEDf5I6qCrAuQE9cnFCmAy9AP7SEogkSMUAfe7374+MpQKZrN3SkeS1AmLHbOS/LKEAMMlhOJ6AqQPX0mBFxTS9ADGyQh1kmKUB9iEj/Bn8oQIgkoOwADTBAyJFtaLAgLECr6SrvVy8rQHkSD2Kb5ipA",
          "dtype": "f8"
         },
         "legendgroup": "Karnataka",
         "lon": {
          "bdata": "NyOS80vpUkCzexD9UF5TQFGw6mNKrlJA5MKm6TkeU0AG+fFRdExTQMOMA8Jh/VJAw4wDwmH9UkCZbBftR+tSQLBOqowBJVNAUTC9CLT6UkD0hEMd2shSQCE+N+CC6VJAyjF/oQA4U0C5trdbEgdTQAXUiRRa2VJAnz8CgsbyUkD70F+Z4YBTQBkgV19ZClNA6LXncTQ0U0DIhZIn2CFTQBvC8XjqN1NAKZi3zHHLUkBE17B/eEFTQCB85x0WrlJA",
          "dtype": "f8"
         },
         "marker": {
          "color": "#19d3f3",
          "size": {
           "bdata": "2NUcAMseDwCN7kgAc2wlAIT9GQD+5AMAMzkhACldEQBAUhkAma8dAO8uHAB6PhAAtignACUbGwDkYBgAF3YIAJFxFwBgNRUAyY0bACfLLQBsbh0Asb4aAMTgKAAR9xEA",
           "dtype": "i4"
          },
          "sizemode": "area",
          "sizeref": 27650.37
         },
         "mode": "markers+text",
         "name": "Karnataka",
         "showlegend": true,
         "subplot": "map",
         "text": [
          "Bagalkot",
          "Bangalore Rural",
          "Belgaum",
          "Bellary",
          "Bidar",
          "Bijapur",
          "Bijapur",
          "Chikmagalur",
          "Chitradurga",
          "Davanagere",
          "Dharwad",
          "Gadag",
          "Gulbarga",
          "Hassan",
          "Haveri",
          "Kodagu",
          "Kolar",
          "Koppal",
          "Mandya",
          "Mysore",
          "Raichur",
          "Shimoga",
          "Tumkur",
          "Udupi"
         ],
         "type": "scattermap"
        },
        {
         "hovertemplate": "<b>%{hovertext}</b><br><br>State=Kerala<br>Population=%{marker.size}<br>District=%{text}<br>lat=%{lat}<br>lon=%{lon}<extra></extra>",
         "hovertext": {
          "bdata": "AAAAAADAVUAAAAAAAMBVQAAAAAAAwFRAAAAAAABAVUAAAAAAAMBTQAAAAAAAQFVAAAAAAABAVkAAAAAAAEBVQAAAAAAAQFRAAAAAAAAAVEAAAAAAAABVQAAAAAAAgFVAAAAAAADAU0A=",
          "dtype": "f8"
         },
         "lat": {
          "bdata": "4OtPDtAVI0A57TSKfwIkQCcxSgIQnCNAraAPUA/iJ0C+6kl9jKooQNI7+9nY2yFAkwpGM5NJI0C1sbdeLckmQMUw8jZU8iVAHAZp8OGRJUCxw3MA/xIhQBCpUzj56iRAtaoN2ThuJ0A=",
          "dtype": "f8"
         },
         "legendgroup": "Kerala",
         "lon": {
          "bdata": "XB1ZsFMYU0AXdBvBQBFTQF/QsHnvQlNAf6XlyYjWUkD102LK+MRSQJ6Vwn61KFNAuD+4anodU0CexQuliu1SQA/valca/FJATmu4zfwfU0BT/hx+xjhTQHlLqNPiB1NAcc0jDtsEU0A=",
          "dtype": "f8"
         },
         "marker": {
          "color": "#FF6692",
          "size": {
           "bdata": "rXcgANQVMgDu6xAAe38mAO/yEwBvNigAFyEeANUXLwAYwj4ATuAqADNgMgAwoC8ADHkMAA==",
           "dtype": "i4"
          },
          "sizemode": "area",
          "sizeref": 27650.37
         },
         "mode": "markers+text",
         "name": "Kerala",
         "showlegend": true,
         "subplot": "map",
         "text": [
          "Alappuzha",
          "Ernakulam",
          "Idukki",
          "Kannur",
          "Kasaragod",
          "Kollam",
          "Kottayam",
          "Kozhikode",
          "Malappuram",
          "Palakkad",
          "Thiruvananthapuram",
          "Thrissur",
          "Wayanad"
         ],
         "type": "scattermap"
        },
        {
         "hovertemplate": "<b>%{hovertext}</b><br><br>State=Madhya Pradesh<br>Population=%{marker.size}<br>District=%{text}<br>lat=%{lat}<br>lon=%{lon}<extra></extra>",
         "hovertext": {
          "bdata": "AAAAAAAATUAAAAAAAABMQAAAAAAAwFBAAAAAAAAAREAAAAAAAABOQAAAAAAAAFBAAAAAAACAUUAAAAAAAABLQAAAAAAAAEtAAAAAAAAAT0AAAAAAAIBNQAAAAAAAAE9AAAAAAACATUAAAAAAAIBIQAAAAAAAAEtAAAAAAACASkAAAAAAAMBQQAAAAAAAAE9AAAAAAABAUEAAAAAAAIBRQAAAAAAAwFFAAAAAAAAAQUAAAAAAAIBOQAAAAAAAgExAAAAAAAAAT0AAAAAAAABOQAAAAAAAAE9AAAAAAAAAS0AAAAAAAABPQAAAAAAAAEpAAAAAAACATEAAAAAAAIBOQAAAAAAAQFBAAAAAAAAAT0AAAAAAAABOQAAAAAAAgE9AAAAAAACATEAAAAAAAIBNQAAAAAAAAEhAAAAAAAAASkAAAAAAAIBKQAAAAAAAAEpAAAAAAAAAT0AAAAAAAIBLQAAAAAAAgE1A",
          "dtype": "f8"
         },
         "lat": {
          "bdata": "coHwNY0uN0AEdrZ1iKE4QDWJJWHazDVA9jWKKr+zNUBBLQ/A8fY1QC5JGO4IXDpA9+lZ3hB7N0AK4JJHVF01QO+yAopK0DhAOxQgC1w6NkDgpG6SKMQ3QFV3p8z65jlAOePdCP3INkC99uVEm5I2QPlhddJe1jZA0vmYbY19OEBM3O05bgo6QFeIUulHOjZAqudEiWOYNkA8+3XlJa42QOTXSOtsLzdABkH+dmlrNkC3v4xXc7k3QFq6cLsXtDZAqM3ih1oxOEAIoUDHhV86QH3dN5r/szhApgkbF4pzOEDRfiJ54ko3QKiJ1XYWyTdAVjVRdemAN0AU4HiYdtw4QPZw3K/hzDdA4YE08bWgOEDt2bggAu42QEaFt+4RVTZAxt9fXNdyN0AetnMHDpE3QK5WWsm3xzlAFxcBN8ZgOUAi2PW56yw4QAaupHoYJDlAk3c36rxRN0B2oBYnlJg3QK+B3OkQ1DdA",
          "dtype": "f8"
         },
         "legendgroup": "Madhya Pradesh",
         "lon": {
          "bdata": "v9qK/WV3VEBIjISKGnVTQE1aPCT9GlRA9FiZNj66UkDWfSLTY3JTQBKlzdzBsFNAG6quKh5ZU0AZ99Sapw9TQM7FNqcg5FNAfPo8h+ewU0CrZNGOHN5TQDvlTxfoqFNAQOKhMH8dU0C+pfJyE8dSQIfWy+nFQlRAlJS9Sk9OU0AWoRlGLohTQOe+ApR+RFNADhp9OGOBU0AlbPHRdPpSQCNq5C7u/lNAUEcCmTCaUkACMpkDpRVUQHdJJVC0GFRAlAM8keXbUkCwt2A2m3hTQEcMcK86xFJAoRtQboYNVEB7WBF+b4pTQGVyexeEKlNAZKpihojJUkBAbTSs2GRUQLO5TbUKrlNAqM3ioFkwVECVG1LeVkRTQDtd20NG6lNAkjUDc2tdVEAtZ0+ueRVTQHtmprfSSlNAzwQeU+lvU0Afp8aEvoZUQHT08UIwuVNAAhB8EXLzUkC6G4+xKTpUQJyYGbuveVNA",
          "dtype": "f8"
         },
         "marker": {
          "color": "#B6E880",
          "size": {
           "bdata": "tW4LAA/lDABC9xkAmSUVAMIJGABd/BkA9S0kAFeQCwBH5BoAqucfAFtKEwBCAQwAQ9wXAEFaIQAMwAoAr/ESAKQBHwBhtAgABvESAJn/MQA5liUAGKQPAAq3EwC5GBAA+3MUAJL/HQDTmgwAyIIPAI1RFABWlhcA3TMWALIWJADaSiQAxwIiAGQCFAA7CxUAT0QQAOkUFwD1fgoAYlYaAHkyEQAuDRYAMFEeAJbWCQC7QhYA",
           "dtype": "i4"
          },
          "sizemode": "area",
          "sizeref": 27650.37
         },
         "mode": "markers+text",
         "name": "Madhya Pradesh",
         "showlegend": true,
         "subplot": "map",
         "text": [
          "Anuppur",
          "Ashoknagar",
          "Balaghat",
          "Barwani",
          "Betul",
          "Bhind",
          "Bhopal",
          "Burhanpur",
          "Chhatarpur",
          "Chhindwara",
          "Damoh",
          "Datia",
          "Dewas",
          "Dhar",
          "Dindori",
          "Guna",
          "Gwalior",
          "Harda",
          "Hoshangabad",
          "Indore",
          "Jabalpur",
          "Jhabua",
          "Katni",
          "Mandla",
          "Mandsaur",
          "Morena",
          "Neemuch",
          "Panna",
          "Raisen",
          "Rajgarh",
          "Ratlam",
          "Rewa",
          "Sagar",
          "Satna",
          "Sehore",
          "Seoni",
          "Shahdol",
          "Shajapur",
          "Sheopur",
          "Shivpuri",
          "Sidhi",
          "Tikamgarh",
          "Ujjain",
          "Umaria",
          "Vidisha"
         ],
         "type": "scattermap"
        },
        {
         "hovertemplate": "<b>%{hovertext}</b><br><br>State=Manipur<br>Population=%{marker.size}<br>District=%{text}<br>lat=%{lat}<br>lon=%{lon}<extra></extra>",
         "hovertext": {
          "bdata": "AAAAAACAUEAAAAAAAIBPQAAAAAAAwFFAAAAAAACAS0AAAAAAAABOQAAAAAAAAFBAAAAAAADAUUA=",
          "dtype": "f8"
         },
         "lat": {
          "bdata": "b/mIsNKBOEBhwmEQekM4QGI2AceXTThAQ52nAawVOUBt3qxervs4QH5wq9ieizhAhuuV1BoPOUA=",
          "dtype": "f8"
         },
         "legendgroup": "Manipur",
         "lon": {
          "bdata": "jwsTosZ0V0CjfohHC4ZXQLomhvC/WFdA6csahieCV0DLbl4Cpl9XQAuDvL+xfldARN4wMD6cV0A=",
          "dtype": "f8"
         },
         "marker": {
          "color": "#FF97FF",
          "size": {
           "bdata": "V58DADYzAgDfLgQArE8HAGslAgAYcQYAvs4CAA==",
           "dtype": "i4"
          },
          "sizemode": "area",
          "sizeref": 27650.37
         },
         "mode": "markers+text",
         "name": "Manipur",
         "showlegend": true,
         "subplot": "map",
         "text": [
          "Bishnupur",
          "Chandel",
          "Churachandpur",
          "Senapati",
          "Tamenglong",
          "Thoubal",
          "Ukhrul"
         ],
         "type": "scattermap"
        },
        {
         "hovertemplate": "<b>%{hovertext}</b><br><br>State=Meghalaya<br>Population=%{marker.size}<br>District=%{text}<br>lat=%{lat}<br>lon=%{lon}<extra></extra>",
         "hovertext": {
          "bdata": "AAAAAAAATkAAAAAAAIBRQAAAAAAAgEdAAAAAAAAATUAAAAAAAABMQAAAAAAAAE5A",
          "dtype": "f8"
         },
         "lat": {
          "bdata": "b/aKxcjTOUDJe2B4w005QCkEPrzvVjlAP1UB55U9OUBNkIgCy345QGs+flI6gDlA",
          "dtype": "f8"
         },
         "legendgroup": "Meghalaya",
         "lon": {
          "bdata": "6L1k+mWpVkDVXkkll/BWQM6ekLgRGFdAhUxOkVGpVkCQjXXWX4JWQNxBAbo70FZA",
          "dtype": "f8"
         },
         "marker": {
          "color": "#FECB52",
          "size": {
           "bdata": "3dkEAEKaDAB0BwYA/isCANvQCQDl2QUA",
           "dtype": "i4"
          },
          "sizemode": "area",
          "sizeref": 27650.37
         },
         "mode": "markers+text",
         "name": "Meghalaya",
         "showlegend": true,
         "subplot": "map",
         "text": [
          "East Garo Hills",
          "East Khasi Hills",
          "Jaintia Hills",
          "South Garo Hills",
          "West Garo Hills",
          "West Khasi Hills"
         ],
         "type": "scattermap"
        },
        {
         "hovertemplate": "<b>%{hovertext}</b><br><br>State=Mizoram<br>Population=%{marker.size}<br>District=%{text}<br>lat=%{lat}<br>lon=%{lon}<extra></extra>",
         "hovertext": {
          "bdata": "AAAAAABAVUAAAAAAAABUQAAAAAAAgFNAAAAAAACASkAAAAAAAMBSQAAAAAAAgFFAAAAAAADAUkAAAAAAAABVQA==",
          "dtype": "f8"
         },
         "lat": {
          "bdata": "L5W8dGboN0BYUUqcqoo3QEcr7Uy2MzhA1Kv5W2xcNkDT+2G++QE3QDihr0MQvTdAL5d7toFbNkBVVSqjjEM3QA==",
          "dtype": "f8"
         },
         "legendgroup": "Mizoram",
         "lon": {
          "bdata": "6fQ4S6E2V0Dpmud/gE9XQPWwj2MFL1dACFNPaNsqV0BXGaflpShXQA24yJa3G1dAbEUGVM9BV0DEtKOSgTpXQA==",
          "dtype": "f8"
         },
         "marker": {
          "color": "#636efa",
          "size": {
           "bdata": "tRsGADHrAQDzRwEAhswBAJR2AgBcUQEA/twAAKn9AAA=",
           "dtype": "i4"
          },
          "sizemode": "area",
          "sizeref": 27650.37
         },
         "mode": "markers+text",
         "name": "Mizoram",
         "showlegend": true,
         "subplot": "map",
         "text": [
          "Aizawl",
          "Champhai",
          "Kolasib",
          "Lawngtlai",
          "Lunglei",
          "Mamit",
          "Saiha",
          "Serchhip"
         ],
         "type": "scattermap"
        },
        {
         "hovertemplate": "<b>%{hovertext}</b><br><br>State=Nagaland<br>Population=%{marker.size}<br>District=%{text}<br>lat=%{lat}<br>lon=%{lon}<extra></extra>",
         "hovertext": {
          "bdata": "AAAAAABAUkAAAAAAAIBSQAAAAAAAgFRAAAAAAAAASEAAAAAAAEBQQAAAAAAAAE5AAAAAAABAU0AAAAAAAEBSQA==",
          "dtype": "f8"
         },
         "lat": {
          "bdata": "cPU65G3QOUCr5KSyZZo5QNkUH/aZejpAY62sviuxOkBEsaCV+qE5QKFjtgMHNjpAxwDCWd4zOkBSfNWvNgc6QA==",
          "dtype": "f8"
         },
         "legendgroup": "Nagaland",
         "lon": {
          "bdata": "pmg3IgxwV0AhjYbuTXJXQCzLfG1voVdAz0d+evfBV0BvMoV/XKRXQHteQhfrtldAzWxowL2MV0AwJ3teBKBXQA==",
          "dtype": "f8"
         },
         "marker": {
          "color": "#EF553B",
          "size": {
           "bdata": "u8cFANQWBAA++AIAlNEDAFp+AgD0/wIAx4kCANUlAgA=",
           "dtype": "i4"
          },
          "sizemode": "area",
          "sizeref": 27650.37
         },
         "mode": "markers+text",
         "name": "Nagaland",
         "showlegend": true,
         "subplot": "map",
         "text": [
          "Dimapur",
          "Kohima",
          "Mokokchung",
          "Mon",
          "Phek",
          "Tuensang",
          "Wokha",
          "Zunheboto"
         ],
         "type": "scattermap"
        },
        {
         "hovertemplate": "<b>%{hovertext}</b><br><br>State=Orissa<br>Population=%{marker.size}<br>District=%{text}<br>lat=%{lat}<br>lon=%{lon}<extra></extra>",
         "hovertext": {
          "bdata": "AAAAAACAUUAAAAAAAEBSQAAAAAAAQFNAAAAAAACAUUAAAAAAAIBGQAAAAAAAgE9AAAAAAACAUUAAAAAAAIBJQAAAAAAAgEtAAAAAAAAAU0AAAAAAAIBTQAAAAAAAgERAAAAAAAAAREAAAAAAAABLQAAAAAAAwFFAAAAAAACASEAAAAAAAABTQAAAAAAAAEVAAAAAAAAAUUAAAAAAAABQQA==",
          "dtype": "f8"
         },
         "lat": {
          "bdata": "hCU6cld8NUCJktxi3/M0QLE3KyNbaDRABO5H2YLMNEBx4B0o/x4zQD9BWh9lQzNARQw5HLrTNUDGSonPxMgzQOURwOTGFzRAgY+ExjebNECQ2PqU3Q00QDsvm/OG0zJA9r1eYJVAMkA1o4yGyuU1QNOLhJthMTRA9yt9vad4NECyXZqSyNUzQFoeRZD3SjNATgYZWQiENUDxq8GxRBA2QA==",
          "dtype": "f8"
         },
         "legendgroup": "Orissa",
         "lon": {
          "bdata": "Sy41yCzFVUDx3pBWKLRVQGH/n4bFcVVAfQVQrxBiVUBSh487+AhVQByvFPpjM1VAgtg9bOT7VEB4jiWiMcdUQNObkiBrAVVAPlI+xZu1VUCarbwnbmFVQHKnHKoEtFRAfffrbeh+VEDAWKlry5lVQOQjm+mXQ1VAIkY1jdulVEDphzPDfHdVQJTa3LhZ3VRAqKMPmV8WVUAhFIT8VSBVQA==",
          "dtype": "f8"
         },
         "marker": {
          "color": "#00cc96",
          "size": {
           "bdata": "kWgjACH8FgDWCygAazMSABnRCABH2TUAsdcIAKUPGAC2LwsAafoVAJlbIgA/DRUASFsJALpyJgDlsA4ATlAJAKrrGQDnxA4Ay+IPAH3xHwA=",
           "dtype": "i4"
          },
          "sizemode": "area",
          "sizeref": 27650.37
         },
         "mode": "markers+text",
         "name": "Orissa",
         "showlegend": true,
         "subplot": "map",
         "text": [
          "Baleshwar",
          "Bhadrak",
          "Cuttack",
          "Dhenkanal",
          "Gajapati",
          "Ganjam",
          "Jharsuguda",
          "Kalahandi",
          "Kandhamal",
          "Kendrapara",
          "Khordha",
          "Koraput",
          "Malkangiri",
          "Mayurbhanj",
          "Nayagarh",
          "Nuapada",
          "Puri",
          "Rayagada",
          "Sambalpur",
          "Sundargarh"
         ],
         "type": "scattermap"
        },
        {
         "hovertemplate": "<b>%{hovertext}</b><br><br>State=Puducherry<br>Population=%{marker.size}<br>District=%{text}<br>lat=%{lat}<br>lon=%{lon}<extra></extra>",
         "hovertext": {
          "bdata": "AAAAAABAU0AAAAAAAMBVQAAAAAAAwFFA",
          "dtype": "f8"
         },
         "lat": {
          "bdata": "5AcPRZjAJUBiqhaWSQMoQLqb0YortTBA",
          "dtype": "f8"
         },
         "legendgroup": "Puducherry",
         "lon": {
          "bdata": "gXOMd7f0U0B6WFyUGNJSQGBcJ4fCkFRA",
          "dtype": "f8"
         },
         "marker": {
          "color": "#ab63fa",
          "size": {
           "bdata": "Hg4DAFijAABK2QAA",
           "dtype": "i4"
          },
          "sizemode": "area",
          "sizeref": 27650.37
         },
         "mode": "markers+text",
         "name": "Puducherry",
         "showlegend": true,
         "subplot": "map",
         "text": [
          "Karaikal",
          "Mahe",
          "Yanam"
         ],
         "type": "scattermap"
        },
        {
         "hovertemplate": "<b>%{hovertext}</b><br><br>State=Punjab<br>Population=%{marker.size}<br>District=%{text}<br>lat=%{lat}<br>lon=%{lon}<extra></extra>",
         "hovertext": {
          "bdata": "AAAAAAAAUUAAAAAAAIBOQAAAAAAAAE9AAAAAAADAUUAAAAAAAABOQAAAAAAAwFFAAAAAAAAAU0AAAAAAAIBSQAAAAAAAwFFAAAAAAABAUkAAAAAAAIBLQAAAAAAAgE9AAAAAAAAATUAAAAAAAMBQQAAAAAAAQFJAAAAAAACATkA=",
          "dtype": "f8"
         },
         "lat": {
          "bdata": "SZLdR3aMP0A2gpE4xjA+QA/XNAxYlz5AI8Mbt5WkPkAQhiTDUqI+QBBdOJN7BUBAm8uEzTONP0AIel0UFkA/QE1xZO8qVj9ApWEJNxbEPkD/9596Z+s9QNdWH5yswT5AJBF7nPtPPkDYv04e7DY+QKNLXDAz6T5AmuhcH18vPkA=",
          "dtype": "f8"
         },
         "legendgroup": "Punjab",
         "lon": {
          "bdata": "gOPJKyCzUkCS8diTo8NSQCZHnH4Ks1JApxYmYiwXU0DqF13cwZlSQPqnAoqB1FJAsuqxAzX2UkAb4xP00OJSQHD2UId93lJAjiTF4TD1UkCvFIQvjdtSQHqtG9M+ylJASkmT6lGjUkAqZ8+QmhFTQN2Qz1VlIlNAD19DXD35UkA=",
          "dtype": "f8"
         },
         "marker": {
          "color": "#FFA15A",
          "size": {
           "bdata": "IAEmAO0vFQAkbAkAYygJABL2HgDTESMAwTUYALZ4IQBAcAwA82I1ANe+CwCiMQ8ACMMNAAbtHABTcgoAgUEZAA==",
           "dtype": "i4"
          },
          "sizemode": "area",
          "sizeref": 27650.37
         },
         "mode": "markers+text",
         "name": "Punjab",
         "showlegend": true,
         "subplot": "map",
         "text": [
          "Amritsar",
          "Bathinda",
          "Faridkot",
          "Fatehgarh Sahib",
          "Firozpur",
          "Gurdaspur",
          "Hoshiarpur",
          "Jalandhar",
          "Kapurthala",
          "Ludhiana",
          "Mansa",
          "Moga",
          "Muktsar",
          "Patiala",
          "Rupnagar",
          "Sangrur"
         ],
         "type": "scattermap"
        },
        {
         "hovertemplate": "<b>%{hovertext}</b><br><br>State=Rajasthan<br>Population=%{marker.size}<br>District=%{text}<br>lat=%{lat}<br>lon=%{lon}<extra></extra>",
         "hovertext": {
          "bdata": "AAAAAACATUAAAAAAAIBNQAAAAAAAAEdAAAAAAACATEAAAAAAAABHQAAAAAAAAE1AAAAAAAAASkAAAAAAAABLQAAAAAAAgEpAAAAAAACASkAAAAAAAABMQAAAAAAAgExAAAAAAACATEAAAAAAAIBIQAAAAAAAgE5AAAAAAAAATUAAAAAAAEBQQAAAAAAAAEdAAAAAAACARkAAAAAAAABKQAAAAAAAAFBAAAAAAACAS0AAAAAAAIBLQAAAAAAAwFBAAAAAAACASkAAAAAAAIBKQAAAAAAAAEtAAAAAAAAATEAAAAAAAABPQAAAAAAAAEdAAAAAAACASkAAAAAAAABKQA==",
          "dtype": "f8"
         },
         "lat": {
          "bdata": "dvmAWQUzOkChi+Difo07QC2vX+IhdDdAn8Y/g/D6OEAUTrcwTcU5QGy9bm/5UjtA703lsIFzOUARDPjV+B88QMN7qttdfDlAy7pHGLKhOEACFnX0FUs8QBO9a6aP6TpAPShJIla5OkC7G9CvRMA3QK9/VbC8QT1ArRN4+2suPUC2Gr3JkAg7QCWYY1V33jpA1UAqYWYTOUBuGIAhTD84QFDYmsOaIjxADSIJnK+tOkD1ORU03oQ6QH7qLtz7LDlA+xJqcyAUO0CRCy8vDs45QAkL6Ai7PzlAOrMx20ZAOkDdelkhfaU7QPvaQnI1zDhAZrHySWgnOkCQaekj1nA4QA==",
          "dtype": "f8"
         },
         "legendgroup": "Rajasthan",
         "lon": {
          "bdata": "ll1RGr2sUkC0XJmF1ClTQCfxKGhRnFJAY2zRwCw3U0Bn0mKuMOBRQNz1PtzrTVNAaLSPLO2oUkBboN9kPlFSQF7fN5cw81JAJa17ADWzUkAxuVJHJKpSQEsW4e2yJFNA47YQL6pvU0D1EqwAQHZSQNEABoz2Y1JAu70BzcOvUkBFc2nlWvFSQOHsYgzCy1FAHyvYKu8LUkDddg4JMgdTQLG9unPR4VJACrfp3UlAUkDqE4sLfj1TQNAdcYbqC1NAgyZKGBmJUkCnlNf/YWNSQPwlbhDOfVJAICvu3wAbU0Amv9Zdw9JSQOcN66UyMFJA2iJN2q7yUkCQ9+1yx3VSQA==",
          "dtype": "f8"
         },
         "marker": {
          "color": "#19d3f3",
          "size": {
           "bdata": "DGonAEMQOABtbRsAY6gSAOe6JwDu4iYAS8AkACESJAB68xAAkpAXAPseHwBp8BgA9GgSAAgwFQAQDB4AZBQbAIIbZQDfOAoAeucbADmIFQDVmyAA/UI4AEhAFgAmxR0A33gyAEUXHwD1pREA/2AUAFXaKAA60A8ADrAVAATSLgA=",
           "dtype": "i4"
          },
          "sizemode": "area",
          "sizeref": 27650.37
         },
         "mode": "markers+text",
         "name": "Rajasthan",
         "showlegend": true,
         "subplot": "map",
         "text": [
          "Ajmer",
          "Alwar",
          "Banswara",
          "Baran",
          "Barmer",
          "Bharatpur",
          "Bhilwara",
          "Bikaner",
          "Bundi",
          "Chittaurgarh",
          "Churu",
          "Dausa",
          "Dhaulpur",
          "Dungarpur",
          "Ganganagar",
          "Hanumangarh",
          "Jaipur",
          "Jaisalmer",
          "Jalor",
          "Jhalawar",
          "Jhunjhunun",
          "Jodhpur",
          "Karauli",
          "Kota",
          "Nagaur",
          "Pali",
          "Rajsamand",
          "Sawai Madhopur",
          "Sikar",
          "Sirohi",
          "Tonk",
          "Udaipur"
         ],
         "type": "scattermap"
        },
        {
         "hovertemplate": "<b>%{hovertext}</b><br><br>State=Sikkim<br>Population=%{marker.size}<br>District=%{text}<br>lat=%{lat}<br>lon=%{lon}<extra></extra>",
         "hovertext": {
          "bdata": "AAAAAADAU0A=",
          "dtype": "f8"
         },
         "lat": {
          "bdata": "9FIm48ZLO0A=",
          "dtype": "f8"
         },
         "legendgroup": "Sikkim",
         "lon": {
          "bdata": "LUaw/fAvVkA=",
          "dtype": "f8"
         },
         "marker": {
          "color": "#FF6692",
          "size": {
           "bdata": "IhUaAA==",
           "dtype": "i4"
          },
          "sizemode": "area",
          "sizeref": 27650.37
         },
         "mode": "markers+text",
         "name": "Sikkim",
         "showlegend": true,
         "subplot": "map",
         "text": [
          "East"
         ],
         "type": "scattermap"
        },
        {
         "hovertemplate": "<b>%{hovertext}</b><br><br>State=Tamil Nadu<br>Population=%{marker.size}<br>District=%{text}<br>lat=%{lat}<br>lon=%{lon}<extra></extra>",
         "hovertext": {
          "bdata": "AAAAAAAAUEAAAAAAAEBUQAAAAAAAAFNAAAAAAACAUUAAAAAAAIBOQAAAAAAAQFFAAAAAAACAUEAAAAAAAMBSQAAAAAAAwFRAAAAAAAAAUUAAAAAAAMBSQAAAAAAAwFJAAAAAAAAAUUAAAAAAAIBQQAAAAAAAQFFAAAAAAAAAUkAAAAAAAIBQQAAAAAAAAFJAAAAAAACAUkAAAAAAAIBRQAAAAAAAwFJAAAAAAADAUkAAAAAAAIBQQAAAAAAAgFFAAAAAAAAAUkA=",
          "dtype": "f8"
         },
         "lat": {
          "bdata": "duAiKYthJkDCC8cjvx0qQBgaKCAlviVAdv+f09gmJ0BMXXwbrJkoQFXqEy9vwSRAYf460bWIJkBfSbxiK/4oQIx6fkvvXSBADq9yMzWXJUBf+QY5As8jQGagvys1lCVABCm/m+KsJkCpF7fGMIUmQIpziNbSQiRAXXyDfTCgIkBscCXINkInQFMC3E2t6yNAcvBvmX/GJEBsUCFEH9kjQAa76kU9jSpAT+irDeS8JEC6FBv5sNYoQFnL6SLckSlAe7k2BBDwIkA=",
          "dtype": "f8"
         },
         "legendgroup": "Tamil Nadu",
         "lon": {
          "bdata": "TW20YT3OU0BLTJJRAhJUQGdWiEzgRFNAYhq7TlLoU0DYn4/EXYdTQNgEOF7tcVNAk9vJ5+ZaU0CFzrcgpQVUQMmd8pKDVFNA2SZ3jJmFU0DSOpfP34BTQBna0wHX8lNApTVPIlyJU0Awjv/PD7dTQIepOAZ8w1NAMoKfh3q/U0DdPbxg3I9TQGUfWNAupFNAs1E6eXLUU0DyuJVL0FtTQNdQALKfDFRAjOSNTZvmU0CH4VDX485TQAdZWROxwVNATuilLRd4U0A=",
          "dtype": "f8"
         },
         "marker": {
          "color": "#B6E880",
          "size": {
           "bdata": "zoQLAEznRgD9wzQAWsMnABv+FgCf9CAA4FsiACwCPQAmihwALT4QACxcLgBCqhgAiVgaAOefCACpsRgA5aYUAMghNQDdbhQAArYkAMsCEwDo4jgAlUoTAGucJQBLEDwAEKMdAA==",
           "dtype": "i4"
          },
          "sizemode": "area",
          "sizeref": 27650.37
         },
         "mode": "markers+text",
         "name": "Tamil Nadu",
         "showlegend": true,
         "subplot": "map",
         "text": [
          "Ariyalur",
          "Chennai",
          "Coimbatore",
          "Cuddalore",
          "Dharmapuri",
          "Dindigul",
          "Erode",
          "Kancheepuram",
          "Kanniyakumari",
          "Karur",
          "Madurai",
          "Nagapattinam",
          "Namakkal",
          "Perambalur",
          "Pudukkottai",
          "Ramanathapuram",
          "Salem",
          "Sivaganga",
          "Thanjavur",
          "Theni",
          "Thiruvallur",
          "Thiruvarur",
          "Tiruvannamalai",
          "Vellore",
          "Virudhunagar"
         ],
         "type": "scattermap"
        },
        {
         "hovertemplate": "<b>%{hovertext}</b><br><br>State=Tripura<br>Population=%{marker.size}<br>District=%{text}<br>lat=%{lat}<br>lon=%{lon}<extra></extra>",
         "hovertext": {
          "bdata": "AAAAAABAUkAAAAAAAMBSQAAAAAAAgFJAAAAAAADAU0A=",
          "dtype": "f8"
         },
         "lat": {
          "bdata": "7CSDPQfIN0DI2ytWKh84QKUGgmE9NjdA69KL+bjHN0A=",
          "dtype": "f8"
         },
         "legendgroup": "Tripura",
         "lon": {
          "bdata": "yLlhKJT8VkAdZktSawtXQJkYGjjS5lZA99gRXHDaVkA=",
          "dtype": "f8"
         },
         "marker": {
          "color": "#FF97FF",
          "size": {
           "bdata": "dsUFALuWCgDhXQ0AK1UaAA==",
           "dtype": "i4"
          },
          "sizemode": "area",
          "sizeref": 27650.37
         },
         "mode": "markers+text",
         "name": "Tripura",
         "showlegend": true,
         "subplot": "map",
         "text": [
          "Dhalai",
          "North Tripura",
          "South Tripura",
          "West Tripura"
         ],
         "type": "scattermap"
        },
        {
         "hovertemplate": "<b>%{hovertext}</b><br><br>State=Uttaranchal<br>Population=%{marker.size}<br>District=%{text}<br>lat=%{lat}<br>lon=%{lon}<extra></extra>",
         "hovertext": {
          "bdata": "AAAAAACAUUAAAAAAAEBRQAAAAAAAAFJAAAAAAAAAUUAAAAAAAMBRQAAAAAAAgFBAAAAAAACAT0AAAAAAAEBQQA==",
          "dtype": "f8"
         },
         "lat": {
          "bdata": "auc/9vuuPUDjSYJBrvw9QFpc28pYlT5A6vdgwppKPUAugDRQryU+QMmpeBq1dj5AHzTAnx0HPUDVLOyqDfg+QA==",
          "dtype": "f8"
         },
         "legendgroup": "Uttaranchal",
         "lon": {
          "bdata": "NRNMCxvgU0CbxdcUu/VTQFzVPRgF5FNAcHIq4fAEVECCzf4d6BVUQL4Gkbw4n1NAanUp2zPdU0AaIu1RZ6RTQA==",
          "dtype": "f8"
         },
         "marker": {
          "color": "#FECB52",
          "size": {
           "bdata": "qn8JADr3AwC1+QUAQPYDAG9gBwCzcQkABikZAGYJBQA=",
           "dtype": "i4"
          },
          "sizemode": "area",
          "sizeref": 27650.37
         },
         "mode": "markers+text",
         "name": "Uttaranchal",
         "showlegend": true,
         "subplot": "map",
         "text": [
          "Almora",
          "Bageshwar",
          "Chamoli",
          "Champawat",
          "Pithoragarh",
          "Tehri Garhwal",
          "Udham Singh Nagar",
          "Uttarkashi"
         ],
         "type": "scattermap"
        },
        {
         "hovertemplate": "<b>%{hovertext}</b><br><br>State=West Bengal<br>Population=%{marker.size}<br>District=%{text}<br>lat=%{lat}<br>lon=%{lon}<extra></extra>",
         "hovertext": {
          "bdata": "AAAAAAAAT0AAAAAAAABRQAAAAAAAAE9AAAAAAABAUEAAAAAAAMBRQAAAAAAAgFJAAAAAAACAUkAAAAAAAEBQQAAAAAAAAFRAAAAAAAAASkAAAAAAAIBMQAAAAAAAwFBAAAAAAACAS0AAAAAAAABJQA==",
          "dtype": "f8"
         },
         "lat": {
          "bdata": "dZwY084UN0CXW+W6x3E3QNhh1FFbEDhAsVIFf5NXOUDruOZO8dY6QHjRYh7UZjZAGruqUhnhNkDfvOMUXaA6QAe/cOjyjDZA54MBcowUOUB0JYIFb0I4QAwsdn5pkDdA5fKavxJBN0C8S18pbAs6QA==",
          "dtype": "f8"
         },
         "legendgroup": "West Bengal",
         "lon": {
          "bdata": "xMVF8hbIVUDz437pKfRVQIJjoK6y6VVATHGCla8sVkAYO998NhVWQIcGZyqh/1VAtXCIrgEAVkCd5h2nqEJWQMiz37KTFlZAr0GDrwALVkA4TEBGwwpWQFtpFLtOJVZA7/ZUC2aZVUDYxsTXGQ9WQA==",
          "dtype": "f8"
         },
         "marker": {
          "color": "#636efa",
          "size": {
           "bdata": "guE2ALvCdQBEcTUA9JMZACcuHABtAUoAKTdUAE4YOwA2nUQAbd08AD9lbADw2U4Aw7UsAJ7iLQA=",
           "dtype": "i4"
          },
          "sizemode": "area",
          "sizeref": 27650.37
         },
         "mode": "markers+text",
         "name": "West Bengal",
         "showlegend": true,
         "subplot": "map",
         "text": [
          "Bankura",
          "Barddhaman",
          "Birbhum",
          "Dakshin Dinajpur",
          "Darjiling",
          "Haora",
          "Hugli",
          "Jalpaiguri",
          "Kolkata",
          "Maldah",
          "Murshidabad",
          "Nadia",
          "Puruliya",
          "Uttar Dinajpur"
         ],
         "type": "scattermap"
        }
       ],
       "layout": {
        "geo": {
         "fitbounds": "locations",
         "visible": false
        },
        "height": 550,
        "legend": {
         "itemsizing": "constant",
         "title": {
          "text": "State"
         },
         "tracegroupgap": 0
        },
        "map": {
         "center": {
          "lat": 22,
          "lon": 79
         },
         "domain": {
          "x": [
           0,
           1
          ],
          "y": [
           0,
           1
          ]
         },
         "style": "carto-darkmatter",
         "zoom": 3
        },
        "mapbox": {
         "center": {
          "lat": 22,
          "lon": 79
         },
         "style": "carto-darkmatter",
         "zoom": 3
        },
        "margin": {
         "t": 60
        },
        "template": {
         "data": {
          "bar": [
           {
            "error_x": {
             "color": "#2a3f5f"
            },
            "error_y": {
             "color": "#2a3f5f"
            },
            "marker": {
             "line": {
              "color": "#E5ECF6",
              "width": 0.5
             },
             "pattern": {
              "fillmode": "overlay",
              "size": 10,
              "solidity": 0.2
             }
            },
            "type": "bar"
           }
          ],
          "barpolar": [
           {
            "marker": {
             "line": {
              "color": "#E5ECF6",
              "width": 0.5
             },
             "pattern": {
              "fillmode": "overlay",
              "size": 10,
              "solidity": 0.2
             }
            },
            "type": "barpolar"
           }
          ],
          "carpet": [
           {
            "aaxis": {
             "endlinecolor": "#2a3f5f",
             "gridcolor": "white",
             "linecolor": "white",
             "minorgridcolor": "white",
             "startlinecolor": "#2a3f5f"
            },
            "baxis": {
             "endlinecolor": "#2a3f5f",
             "gridcolor": "white",
             "linecolor": "white",
             "minorgridcolor": "white",
             "startlinecolor": "#2a3f5f"
            },
            "type": "carpet"
           }
          ],
          "choropleth": [
           {
            "colorbar": {
             "outlinewidth": 0,
             "ticks": ""
            },
            "type": "choropleth"
           }
          ],
          "contour": [
           {
            "colorbar": {
             "outlinewidth": 0,
             "ticks": ""
            },
            "colorscale": [
             [
              0,
              "#0d0887"
             ],
             [
              0.1111111111111111,
              "#46039f"
             ],
             [
              0.2222222222222222,
              "#7201a8"
             ],
             [
              0.3333333333333333,
              "#9c179e"
             ],
             [
              0.4444444444444444,
              "#bd3786"
             ],
             [
              0.5555555555555556,
              "#d8576b"
             ],
             [
              0.6666666666666666,
              "#ed7953"
             ],
             [
              0.7777777777777778,
              "#fb9f3a"
             ],
             [
              0.8888888888888888,
              "#fdca26"
             ],
             [
              1,
              "#f0f921"
             ]
            ],
            "type": "contour"
           }
          ],
          "contourcarpet": [
           {
            "colorbar": {
             "outlinewidth": 0,
             "ticks": ""
            },
            "type": "contourcarpet"
           }
          ],
          "heatmap": [
           {
            "colorbar": {
             "outlinewidth": 0,
             "ticks": ""
            },
            "colorscale": [
             [
              0,
              "#0d0887"
             ],
             [
              0.1111111111111111,
              "#46039f"
             ],
             [
              0.2222222222222222,
              "#7201a8"
             ],
             [
              0.3333333333333333,
              "#9c179e"
             ],
             [
              0.4444444444444444,
              "#bd3786"
             ],
             [
              0.5555555555555556,
              "#d8576b"
             ],
             [
              0.6666666666666666,
              "#ed7953"
             ],
             [
              0.7777777777777778,
              "#fb9f3a"
             ],
             [
              0.8888888888888888,
              "#fdca26"
             ],
             [
              1,
              "#f0f921"
             ]
            ],
            "type": "heatmap"
           }
          ],
          "histogram": [
           {
            "marker": {
             "pattern": {
              "fillmode": "overlay",
              "size": 10,
              "solidity": 0.2
             }
            },
            "type": "histogram"
           }
          ],
          "histogram2d": [
           {
            "colorbar": {
             "outlinewidth": 0,
             "ticks": ""
            },
            "colorscale": [
             [
              0,
              "#0d0887"
             ],
             [
              0.1111111111111111,
              "#46039f"
             ],
             [
              0.2222222222222222,
              "#7201a8"
             ],
             [
              0.3333333333333333,
              "#9c179e"
             ],
             [
              0.4444444444444444,
              "#bd3786"
             ],
             [
              0.5555555555555556,
              "#d8576b"
             ],
             [
              0.6666666666666666,
              "#ed7953"
             ],
             [
              0.7777777777777778,
              "#fb9f3a"
             ],
             [
              0.8888888888888888,
              "#fdca26"
             ],
             [
              1,
              "#f0f921"
             ]
            ],
            "type": "histogram2d"
           }
          ],
          "histogram2dcontour": [
           {
            "colorbar": {
             "outlinewidth": 0,
             "ticks": ""
            },
            "colorscale": [
             [
              0,
              "#0d0887"
             ],
             [
              0.1111111111111111,
              "#46039f"
             ],
             [
              0.2222222222222222,
              "#7201a8"
             ],
             [
              0.3333333333333333,
              "#9c179e"
             ],
             [
              0.4444444444444444,
              "#bd3786"
             ],
             [
              0.5555555555555556,
              "#d8576b"
             ],
             [
              0.6666666666666666,
              "#ed7953"
             ],
             [
              0.7777777777777778,
              "#fb9f3a"
             ],
             [
              0.8888888888888888,
              "#fdca26"
             ],
             [
              1,
              "#f0f921"
             ]
            ],
            "type": "histogram2dcontour"
           }
          ],
          "mesh3d": [
           {
            "colorbar": {
             "outlinewidth": 0,
             "ticks": ""
            },
            "type": "mesh3d"
           }
          ],
          "parcoords": [
           {
            "line": {
             "colorbar": {
              "outlinewidth": 0,
              "ticks": ""
             }
            },
            "type": "parcoords"
           }
          ],
          "pie": [
           {
            "automargin": true,
            "type": "pie"
           }
          ],
          "scatter": [
           {
            "fillpattern": {
             "fillmode": "overlay",
             "size": 10,
             "solidity": 0.2
            },
            "type": "scatter"
           }
          ],
          "scatter3d": [
           {
            "line": {
             "colorbar": {
              "outlinewidth": 0,
              "ticks": ""
             }
            },
            "marker": {
             "colorbar": {
              "outlinewidth": 0,
              "ticks": ""
             }
            },
            "type": "scatter3d"
           }
          ],
          "scattercarpet": [
           {
            "marker": {
             "colorbar": {
              "outlinewidth": 0,
              "ticks": ""
             }
            },
            "type": "scattercarpet"
           }
          ],
          "scattergeo": [
           {
            "marker": {
             "colorbar": {
              "outlinewidth": 0,
              "ticks": ""
             }
            },
            "type": "scattergeo"
           }
          ],
          "scattergl": [
           {
            "marker": {
             "colorbar": {
              "outlinewidth": 0,
              "ticks": ""
             }
            },
            "type": "scattergl"
           }
          ],
          "scattermap": [
           {
            "marker": {
             "colorbar": {
              "outlinewidth": 0,
              "ticks": ""
             }
            },
            "type": "scattermap"
           }
          ],
          "scattermapbox": [
           {
            "marker": {
             "colorbar": {
              "outlinewidth": 0,
              "ticks": ""
             }
            },
            "type": "scattermapbox"
           }
          ],
          "scatterpolar": [
           {
            "marker": {
             "colorbar": {
              "outlinewidth": 0,
              "ticks": ""
             }
            },
            "type": "scatterpolar"
           }
          ],
          "scatterpolargl": [
           {
            "marker": {
             "colorbar": {
              "outlinewidth": 0,
              "ticks": ""
             }
            },
            "type": "scatterpolargl"
           }
          ],
          "scatterternary": [
           {
            "marker": {
             "colorbar": {
              "outlinewidth": 0,
              "ticks": ""
             }
            },
            "type": "scatterternary"
           }
          ],
          "surface": [
           {
            "colorbar": {
             "outlinewidth": 0,
             "ticks": ""
            },
            "colorscale": [
             [
              0,
              "#0d0887"
             ],
             [
              0.1111111111111111,
              "#46039f"
             ],
             [
              0.2222222222222222,
              "#7201a8"
             ],
             [
              0.3333333333333333,
              "#9c179e"
             ],
             [
              0.4444444444444444,
              "#bd3786"
             ],
             [
              0.5555555555555556,
              "#d8576b"
             ],
             [
              0.6666666666666666,
              "#ed7953"
             ],
             [
              0.7777777777777778,
              "#fb9f3a"
             ],
             [
              0.8888888888888888,
              "#fdca26"
             ],
             [
              1,
              "#f0f921"
             ]
            ],
            "type": "surface"
           }
          ],
          "table": [
           {
            "cells": {
             "fill": {
              "color": "#EBF0F8"
             },
             "line": {
              "color": "white"
             }
            },
            "header": {
             "fill": {
              "color": "#C8D4E3"
             },
             "line": {
              "color": "white"
             }
            },
            "type": "table"
           }
          ]
         },
         "layout": {
          "annotationdefaults": {
           "arrowcolor": "#2a3f5f",
           "arrowhead": 0,
           "arrowwidth": 1
          },
          "autotypenumbers": "strict",
          "coloraxis": {
           "colorbar": {
            "outlinewidth": 0,
            "ticks": ""
           }
          },
          "colorscale": {
           "diverging": [
            [
             0,
             "#8e0152"
            ],
            [
             0.1,
             "#c51b7d"
            ],
            [
             0.2,
             "#de77ae"
            ],
            [
             0.3,
             "#f1b6da"
            ],
            [
             0.4,
             "#fde0ef"
            ],
            [
             0.5,
             "#f7f7f7"
            ],
            [
             0.6,
             "#e6f5d0"
            ],
            [
             0.7,
             "#b8e186"
            ],
            [
             0.8,
             "#7fbc41"
            ],
            [
             0.9,
             "#4d9221"
            ],
            [
             1,
             "#276419"
            ]
           ],
           "sequential": [
            [
             0,
             "#0d0887"
            ],
            [
             0.1111111111111111,
             "#46039f"
            ],
            [
             0.2222222222222222,
             "#7201a8"
            ],
            [
             0.3333333333333333,
             "#9c179e"
            ],
            [
             0.4444444444444444,
             "#bd3786"
            ],
            [
             0.5555555555555556,
             "#d8576b"
            ],
            [
             0.6666666666666666,
             "#ed7953"
            ],
            [
             0.7777777777777778,
             "#fb9f3a"
            ],
            [
             0.8888888888888888,
             "#fdca26"
            ],
            [
             1,
             "#f0f921"
            ]
           ],
           "sequentialminus": [
            [
             0,
             "#0d0887"
            ],
            [
             0.1111111111111111,
             "#46039f"
            ],
            [
             0.2222222222222222,
             "#7201a8"
            ],
            [
             0.3333333333333333,
             "#9c179e"
            ],
            [
             0.4444444444444444,
             "#bd3786"
            ],
            [
             0.5555555555555556,
             "#d8576b"
            ],
            [
             0.6666666666666666,
             "#ed7953"
            ],
            [
             0.7777777777777778,
             "#fb9f3a"
            ],
            [
             0.8888888888888888,
             "#fdca26"
            ],
            [
             1,
             "#f0f921"
            ]
           ]
          },
          "colorway": [
           "#636efa",
           "#EF553B",
           "#00cc96",
           "#ab63fa",
           "#FFA15A",
           "#19d3f3",
           "#FF6692",
           "#B6E880",
           "#FF97FF",
           "#FECB52"
          ],
          "font": {
           "color": "#2a3f5f"
          },
          "geo": {
           "bgcolor": "white",
           "lakecolor": "white",
           "landcolor": "#E5ECF6",
           "showlakes": true,
           "showland": true,
           "subunitcolor": "white"
          },
          "hoverlabel": {
           "align": "left"
          },
          "hovermode": "closest",
          "mapbox": {
           "style": "light"
          },
          "paper_bgcolor": "white",
          "plot_bgcolor": "#E5ECF6",
          "polar": {
           "angularaxis": {
            "gridcolor": "white",
            "linecolor": "white",
            "ticks": ""
           },
           "bgcolor": "#E5ECF6",
           "radialaxis": {
            "gridcolor": "white",
            "linecolor": "white",
            "ticks": ""
           }
          },
          "scene": {
           "xaxis": {
            "backgroundcolor": "#E5ECF6",
            "gridcolor": "white",
            "gridwidth": 2,
            "linecolor": "white",
            "showbackground": true,
            "ticks": "",
            "zerolinecolor": "white"
           },
           "yaxis": {
            "backgroundcolor": "#E5ECF6",
            "gridcolor": "white",
            "gridwidth": 2,
            "linecolor": "white",
            "showbackground": true,
            "ticks": "",
            "zerolinecolor": "white"
           },
           "zaxis": {
            "backgroundcolor": "#E5ECF6",
            "gridcolor": "white",
            "gridwidth": 2,
            "linecolor": "white",
            "showbackground": true,
            "ticks": "",
            "zerolinecolor": "white"
           }
          },
          "shapedefaults": {
           "line": {
            "color": "#2a3f5f"
           }
          },
          "ternary": {
           "aaxis": {
            "gridcolor": "white",
            "linecolor": "white",
            "ticks": ""
           },
           "baxis": {
            "gridcolor": "white",
            "linecolor": "white",
            "ticks": ""
           },
           "bgcolor": "#E5ECF6",
           "caxis": {
            "gridcolor": "white",
            "linecolor": "white",
            "ticks": ""
           }
          },
          "title": {
           "x": 0.05
          },
          "xaxis": {
           "automargin": true,
           "gridcolor": "white",
           "linecolor": "white",
           "ticks": "",
           "title": {
            "standoff": 15
           },
           "zerolinecolor": "white",
           "zerolinewidth": 2
          },
          "yaxis": {
           "automargin": true,
           "gridcolor": "white",
           "linecolor": "white",
           "ticks": "",
           "title": {
            "standoff": 15
           },
           "zerolinecolor": "white",
           "zerolinewidth": 2
          }
         }
        },
        "width": 800
       }
      }
     },
     "metadata": {},
     "output_type": "display_data"
    }
   ],
   "source": [
    "fig = px.scatter_map(df, lat='lat',\n",
    "                     lon='lon',\n",
    "                     text=\"District\", # which column to use to set the color of markers # column added to hover information\n",
    "                     size=\"Population\", # size of markers\n",
    "                     color='State',\n",
    "                     hover_name='literacy_rate',\n",
    "                     zoom=3,\n",
    "                     width=800,\n",
    "                     height=550,\n",
    "                     center={'lat':22,\n",
    "                             'lon':79}\n",
    "                     ,map_style='carto-darkmatter'\n",
    "                     )\n",
    "# Zoom to INDIA only not whole has paramster visible which helps!!\n",
    "fig.update_geos(fitbounds=\"locations\",visible = False)\n",
    "fig.show()"
   ]
  },
  {
   "cell_type": "code",
   "execution_count": null,
   "id": "ed79397a",
   "metadata": {},
   "outputs": [],
   "source": [
    "map_list=['basic', 'carto-darkmatter', 'carto-darkmatter-nolabels', 'carto-positron', 'carto-positron-nolabels', 'carto-voyager', 'carto-voyager-nolabels', 'dark', 'light', 'open-street-map', 'outdoors', 'satellite', 'satellite-streets', 'streets', 'white-bg']"
   ]
  }
 ],
 "metadata": {
  "kernelspec": {
   "display_name": "Dashboard",
   "language": "python",
   "name": "python3"
  },
  "language_info": {
   "codemirror_mode": {
    "name": "ipython",
    "version": 3
   },
   "file_extension": ".py",
   "mimetype": "text/x-python",
   "name": "python",
   "nbconvert_exporter": "python",
   "pygments_lexer": "ipython3",
   "version": "3.11.13"
  }
 },
 "nbformat": 4,
 "nbformat_minor": 5
}
