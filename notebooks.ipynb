{
 "cells": [
  {
   "cell_type": "code",
   "execution_count": 1,
   "id": "f7dabb3d",
   "metadata": {},
   "outputs": [],
   "source": [
    "import numpy as np\n",
    "import pandas as pd\n",
    "import matplotlib.pyplot as plt\n",
    "import plotly.express as px\n",
    "import plotly.graph_objects as go \n",
    "import nbformat"
   ]
  },
  {
   "cell_type": "code",
   "execution_count": 2,
   "id": "d5a498bd",
   "metadata": {},
   "outputs": [],
   "source": [
    "df = pd.read_csv('Data.csv')"
   ]
  },
  {
   "cell_type": "code",
   "execution_count": 3,
   "id": "6cf401a0",
   "metadata": {},
   "outputs": [],
   "source": [
    "df = df.rename(columns={\"Latitude\": \"lat\", \"Longitude\": \"lon\"})"
   ]
  },
  {
   "cell_type": "code",
   "execution_count": 4,
   "id": "877c9fd8",
   "metadata": {},
   "outputs": [
    {
     "data": {
      "text/html": [
       "<div>\n",
       "<style scoped>\n",
       "    .dataframe tbody tr th:only-of-type {\n",
       "        vertical-align: middle;\n",
       "    }\n",
       "\n",
       "    .dataframe tbody tr th {\n",
       "        vertical-align: top;\n",
       "    }\n",
       "\n",
       "    .dataframe thead th {\n",
       "        text-align: right;\n",
       "    }\n",
       "</style>\n",
       "<table border=\"1\" class=\"dataframe\">\n",
       "  <thead>\n",
       "    <tr style=\"text-align: right;\">\n",
       "      <th></th>\n",
       "      <th>State</th>\n",
       "      <th>District</th>\n",
       "      <th>lat</th>\n",
       "      <th>lon</th>\n",
       "      <th>District code</th>\n",
       "      <th>Population</th>\n",
       "      <th>Households_with_Internet</th>\n",
       "      <th>sex_ratio</th>\n",
       "      <th>literacy_rate</th>\n",
       "    </tr>\n",
       "  </thead>\n",
       "  <tbody>\n",
       "    <tr>\n",
       "      <th>0</th>\n",
       "      <td>Andhra Pradesh</td>\n",
       "      <td>Adilabad</td>\n",
       "      <td>19.284514</td>\n",
       "      <td>78.813212</td>\n",
       "      <td>532</td>\n",
       "      <td>2741239</td>\n",
       "      <td>5512</td>\n",
       "      <td>100.0</td>\n",
       "      <td>54.0</td>\n",
       "    </tr>\n",
       "    <tr>\n",
       "      <th>1</th>\n",
       "      <td>Andhra Pradesh</td>\n",
       "      <td>Anantapur</td>\n",
       "      <td>14.312066</td>\n",
       "      <td>77.460158</td>\n",
       "      <td>553</td>\n",
       "      <td>4081148</td>\n",
       "      <td>8606</td>\n",
       "      <td>98.0</td>\n",
       "      <td>57.0</td>\n",
       "    </tr>\n",
       "    <tr>\n",
       "      <th>2</th>\n",
       "      <td>Andhra Pradesh</td>\n",
       "      <td>Chittoor</td>\n",
       "      <td>13.331093</td>\n",
       "      <td>78.927639</td>\n",
       "      <td>554</td>\n",
       "      <td>4174064</td>\n",
       "      <td>13763</td>\n",
       "      <td>100.0</td>\n",
       "      <td>64.0</td>\n",
       "    </tr>\n",
       "    <tr>\n",
       "      <th>3</th>\n",
       "      <td>Andhra Pradesh</td>\n",
       "      <td>East Godavari</td>\n",
       "      <td>16.782718</td>\n",
       "      <td>82.243207</td>\n",
       "      <td>545</td>\n",
       "      <td>5154296</td>\n",
       "      <td>22411</td>\n",
       "      <td>101.0</td>\n",
       "      <td>64.0</td>\n",
       "    </tr>\n",
       "    <tr>\n",
       "      <th>4</th>\n",
       "      <td>Andhra Pradesh</td>\n",
       "      <td>Guntur</td>\n",
       "      <td>15.884926</td>\n",
       "      <td>80.586576</td>\n",
       "      <td>548</td>\n",
       "      <td>4887813</td>\n",
       "      <td>19383</td>\n",
       "      <td>100.0</td>\n",
       "      <td>61.0</td>\n",
       "    </tr>\n",
       "  </tbody>\n",
       "</table>\n",
       "</div>"
      ],
      "text/plain": [
       "            State       District        lat        lon  District code  \\\n",
       "0  Andhra Pradesh       Adilabad  19.284514  78.813212            532   \n",
       "1  Andhra Pradesh      Anantapur  14.312066  77.460158            553   \n",
       "2  Andhra Pradesh       Chittoor  13.331093  78.927639            554   \n",
       "3  Andhra Pradesh  East Godavari  16.782718  82.243207            545   \n",
       "4  Andhra Pradesh         Guntur  15.884926  80.586576            548   \n",
       "\n",
       "   Population  Households_with_Internet  sex_ratio  literacy_rate  \n",
       "0     2741239                      5512      100.0           54.0  \n",
       "1     4081148                      8606       98.0           57.0  \n",
       "2     4174064                     13763      100.0           64.0  \n",
       "3     5154296                     22411      101.0           64.0  \n",
       "4     4887813                     19383      100.0           61.0  "
      ]
     },
     "execution_count": 4,
     "metadata": {},
     "output_type": "execute_result"
    }
   ],
   "source": [
    "df.head()"
   ]
  },
  {
   "cell_type": "code",
   "execution_count": 5,
   "id": "c0870607",
   "metadata": {},
   "outputs": [
    {
     "data": {
      "application/vnd.plotly.v1+json": {
       "config": {
        "plotlyServerURL": "https://plot.ly"
       },
       "data": [
        {
         "hovertemplate": "<b>%{hovertext}</b><br><br>State=Andhra Pradesh<br>Population=%{marker.size}<br>District=%{text}<br>lat=%{lat}<br>lon=%{lon}<extra></extra>",
         "hovertext": {
          "bdata": "AAAAAAAAS0AAAAAAAIBMQAAAAAAAAFBAAAAAAAAAUEAAAAAAAIBOQAAAAAAAQFJAAAAAAAAATUAAAAAAAABNQAAAAAAAwFBAAAAAAAAASkAAAAAAAABIQAAAAAAAAEtAAAAAAACATEAAAAAAAABLQAAAAAAAAExAAAAAAACAS0AAAAAAAIBKQAAAAAAAgE1AAAAAAADAUEA=",
          "dtype": "f8"
         },
         "lat": {
          "bdata": "OdL+59VIM0D8pawOx58sQIZoKfmEqSpATsBVOmDIMEA8wn79FMUvQIbaDWbEYzFAgsPgtPaDMkBoIsx3Fa8xQGmSQdjUJDBAU2HcuwzgLkAIdiVNuaMwQOzXtH2p4zFAMSxc/P0cMUD8ytvI8m0yQBSy7FFj+i5AwqhekSaSMkAgrEsmhkgyQBlO8pZ8BDJAGqHG8AqiMEA=",
          "dtype": "f8"
         },
         "legendgroup": "Andhra Pradesh",
         "lon": {
          "bdata": "Wqu/qwu0U0C5IWs8c11TQJbp629eu1NAjKYStpCPVEALo6d2iiVUQMzLEjvenVNALAYfhwLcU0DPKjuy4ipUQLgHRKl5SVRA40vK06d5U0BP/4QyUX9TQOCfCInRiFNAN/idu97KU0AM1RCm0IRTQMY4tFJ3B1RAMupbVI8QVUD5ZrHUbd1UQFibqDnz91NApk1nYmJdVEA=",
          "dtype": "f8"
         },
         "marker": {
          "color": "#636efa",
          "size": {
           "bdata": "99MpAPxFPgDwsD8A+KVOAAWVSgCbKzwADZ85ADqvKgAW7kQA19k9ACTYPQDISC4AKTw1ACfuJgBI1zMACj8pABrGIwAAmTUAxhI8AA==",
           "dtype": "i4"
          },
          "sizemode": "area",
          "sizeref": 27650.37
         },
         "mode": "markers+text",
         "name": "Andhra Pradesh",
         "showlegend": true,
         "subplot": "map",
         "text": [
          "Adilabad",
          "Anantapur",
          "Chittoor",
          "East Godavari",
          "Guntur",
          "Hyderabad",
          "Karimnagar",
          "Khammam",
          "Krishna",
          "Kurnool",
          "Mahbubnagar",
          "Medak",
          "Nalgonda",
          "Nizamabad",
          "Prakasam",
          "Srikakulam",
          "Vizianagaram",
          "Warangal",
          "West Godavari"
         ],
         "type": "scattermap"
        },
        {
         "hovertemplate": "<b>%{hovertext}</b><br><br>State=Arunachal Pradesh<br>Population=%{marker.size}<br>District=%{text}<br>lat=%{lat}<br>lon=%{lon}<extra></extra>",
         "hovertext": {
          "bdata": "AAAAAACASEAAAAAAAIBIQAAAAAAAgE9AAAAAAAAAREAAAAAAAIBMQAAAAAAAgE1AAAAAAABAUEAAAAAAAEBRQAAAAAAAAEpAAAAAAACARUAAAAAAAABKQAAAAAAAAEtAAAAAAAAATUAAAAAAAABNQA==",
          "dtype": "f8"
         },
         "lat": {
          "bdata": "CE8+u0hcO0DTv9qSBl87QMYtlPpgJzxA9ZdQsWwMPED8CwyFYPI7QGKJSaOWUzxAXl2ky1+1O0AH6yQLBkY7QBLW3E1BrjtAicMKEa7xOkBvHqV3t9Q8QETIq1r2RjxAlONRcgF3O0B2T2RGNhs8QA==",
          "dtype": "f8"
         },
         "legendgroup": "Arunachal Pradesh",
         "lon": {
          "bdata": "22MToAgYWEBRaVbYCENXQGHdS9UoxFdAz8ZsUrNPV0CME4R1MCZYQGlK0soA8VdAQF2Ar5V9V0Dh+TcR3GJXQOYt3H7N9FZAvuCef4raV0A4PUWFGcBXQHOMcJGLeVdAn8o4LpwpV0B834EiP6JXQA==",
          "dtype": "f8"
         },
         "marker": {
          "color": "#EF553B",
          "size": {
           "bdata": "AkMCAGIzAQCOgwEArGcBAD45AgBA0wAAVkQBAL2xAgA5wwAAZ7UBAPiJAAD4RQEA60cBAJK2AQA=",
           "dtype": "i4"
          },
          "sizemode": "area",
          "sizeref": 27650.37
         },
         "mode": "markers+text",
         "name": "Arunachal Pradesh",
         "showlegend": true,
         "subplot": "map",
         "text": [
          "Changlang",
          "East Kameng",
          "East Siang",
          "Kurung Kumey",
          "Lohit",
          "Lower Dibang Valley",
          "Lower Subansiri",
          "Papum Pare",
          "Tawang",
          "Tirap",
          "Upper Siang",
          "Upper Subansiri",
          "West Kameng",
          "West Siang"
         ],
         "type": "scattermap"
        },
        {
         "hovertemplate": "<b>%{hovertext}</b><br><br>State=Assam<br>Population=%{marker.size}<br>District=%{text}<br>lat=%{lat}<br>lon=%{lon}<extra></extra>",
         "hovertext": {
          "bdata": "AAAAAACASkAAAAAAAIBNQAAAAAAAAFFAAAAAAAAASkAAAAAAAABPQAAAAAAAwFBAAAAAAAAATEAAAAAAAABRQAAAAAAAAE9AAAAAAABAUkAAAAAAAIBQQAAAAAAAAE1AAAAAAABAUEAAAAAAAIBLQAAAAAAAgFBAAAAAAACATkAAAAAAAEBRQAAAAAAAAE1AAAAAAAAATkA=",
          "dtype": "f8"
         },
         "lat": {
          "bdata": "snRnCYltOkC5wApoO3M6QAWdRT3J0DhA2MYFdKqVOkCYTjAOJ5Y7QMgXFxFeTjtA1IACUWwEOkBT+Yx4kWA6QGT1tXYedThAdWfQzi/DOkDrKxywwis6QJuYdEH0FjpAJlQp2FSyOECWgjaOS386QLO7S3QrJDtAqDaGP75DOkDb74y+lnY6QNL+EL4yvDpAlKs9EBaJO0A=",
          "dtype": "f8"
         },
         "legendgroup": "Assam",
         "lon": {
          "bdata": "ZwBc56m+VkAnMYt4GatWQG/xXHKVN1dARXtOhKYCV0AOs87Wp61XQKG69JVjxldAuxRCFVGmVkBjHMJ22nRXQEjaeObbJVdAuBlJmFOTV0CTnqcorOVWQFYQ1CZiR1dAoi+PfYwXV0CKZ3xY9YhWQBC0tFD3hFdA0Gt5Q487V0B3Q2Wp+9lWQAAb8M6GNldAjVByIDLsV0A=",
          "dtype": "f8"
         },
         "marker": {
          "color": "#00cc96",
          "size": {
           "bdata": "ttcZAPRFCwCpfxoA9CoOADV4CgD/PBQAN2IPAIhHEABgDwoAoKoQAOYnFwCZlw4Ajr8SAGaJDQDZ5g8AWBYrADfGCwAOXB0AOUMUAA==",
           "dtype": "i4"
          },
          "sizemode": "area",
          "sizeref": 27650.37
         },
         "mode": "markers+text",
         "name": "Assam",
         "showlegend": true,
         "subplot": "map",
         "text": [
          "Barpeta",
          "Bongaigaon",
          "Cachar",
          "Darrang",
          "Dhemaji",
          "Dibrugarh",
          "Goalpara",
          "Golaghat",
          "Hailakandi",
          "Jorhat",
          "Kamrup",
          "Karbi Anglong",
          "Karimganj",
          "Kokrajhar",
          "Lakhimpur",
          "Nagaon",
          "Nalbari",
          "Sonitpur",
          "Tinsukia"
         ],
         "type": "scattermap"
        },
        {
         "hovertemplate": "<b>%{hovertext}</b><br><br>State=Bihar<br>Population=%{marker.size}<br>District=%{text}<br>lat=%{lat}<br>lon=%{lon}<extra></extra>",
         "hovertext": {
          "bdata": "AAAAAACARUAAAAAAAABNQAAAAAAAAFFAAAAAAACAR0AAAAAAAABKQAAAAAAAAEpAAAAAAACATUAAAAAAAABNQAAAAAAAAEdAAAAAAAAASkAAAAAAAABLQAAAAAAAgEhAAAAAAACAS0AAAAAAAABFQAAAAAAAAEdAAAAAAAAARkAAAAAAAIBJQAAAAAAAAEVAAAAAAAAASEAAAAAAAIBNQAAAAAAAAEpAAAAAAACASkAAAAAAAIBIQAAAAAAAgEZAAAAAAACATUAAAAAAAIBGQAAAAAAAgERAAAAAAACATkAAAAAAAABFQAAAAAAAAElAAAAAAACAS0AAAAAAAABKQAAAAAAAgEVAAAAAAAAARUAAAAAAAABNQAAAAAAAAEdAAAAAAACAS0A=",
          "dtype": "f8"
         },
         "lat": {
          "bdata": "qRDytCY2OkCGV+j9N8Y4QIZX6P03xjhAniFlQhXVOEBVeLTCA4s5QB5f6Rz2RjlAcAT6wbSBOUA2hLzrZXw5QH128Y5sJTpA9Q62AQa6OEAZCgHd4HI6QEztEkXAyDhAu7X5lNonOUBeqfarzpA5QEEX6FociTlAcOHZuwdTOkCkUOOI9i45QGZtkM7+xTlATG1FJu9pOkC98Eli0zI5QMzHlenHLzpA+Y8kY7Y6OUDhhn+nYdM4QLlbEe8fKTtAsCvxHSlnOUCevPs9aa46QL+r0Zww0TlAV+trWuD9OEDFlN/LPtI5QGj/E4UPyzlAHUrWAYXlOUCywp7v7R85QMGf1HBYdTpAGVvIwtGQOkCFO9V8cyw6QM7JqI4VSDpA8yo8lz/QOUA=",
          "dtype": "f8"
         },
         "legendgroup": "Bihar",
         "lon": {
          "bdata": "mSPYyrDTVUDk6qVZbh1VQOTqpVluHVVAvNRTmXS3VUDgop/aCYhVQNnDLWSywlVAt3R1+Z4fVUCKwrkdowVVQHvHnvFTflVAkIBRrFg8VUDXnHfIKhZVQLdOjKnXkFVAup5Vl+46VUA/QcMpGe1VQC8BNz04pFVAx1CKLNT8VUBMsudcNYhVQC3xWUh2uVVAwFQTPXOKVUDr34bQq6JVQPNftPT0VFVAKU+sBcFeVUCZS3ina2dVQM8EW8ReE1VAB3NHUHhUVUAzpMScPkBVQH/gmO/i2VVAPc8gStj7VEDlV2BE/aJVQDVz332xfFVAzSIvgqY0VUAEPq800XFVQGeuurznUlVAQ8E/gCZnVUB4BeFPnBVVQM06Ydw8slVAYMOJUx5ZVUA=",
          "dtype": "f8"
         },
         "marker": {
          "color": "#ab63fa",
          "size": {
           "bdata": "seYqACnCJgAiejgASwwfAK1TLQBGWi4A16EpAHAJGgBpFDwA+gFDANwXJwCV3BoAwSsRADXcLgBGbxkAIMsZANBFDwBiix4A03hEANXeFAAmQkkA1egrAIrcIQBCCzwAgRZZAGvPTQBr0DEALiotAHUAHQC+BkEA9kw8ALa1CQB2AwoAVj00AKDRMgBUAyIAbVQ1AA==",
           "dtype": "i4"
          },
          "sizemode": "area",
          "sizeref": 27650.37
         },
         "mode": "markers+text",
         "name": "Bihar",
         "showlegend": true,
         "subplot": "map",
         "text": [
          "Araria",
          "Aurangabad",
          "Aurangabad",
          "Banka",
          "Begusarai",
          "Bhagalpur",
          "Bhojpur",
          "Buxar",
          "Darbhanga",
          "Gaya",
          "Gopalganj",
          "Jamui",
          "Jehanabad",
          "Katihar",
          "Khagaria",
          "Kishanganj",
          "Lakhisarai",
          "Madhepura",
          "Madhubani",
          "Munger",
          "Muzaffarpur",
          "Nalanda",
          "Nawada",
          "Pashchim Champaran",
          "Patna",
          "Purba Champaran",
          "Purnia",
          "Rohtas",
          "Saharsa",
          "Samastipur",
          "Saran",
          "Sheikhpura",
          "Sheohar",
          "Sitamarhi",
          "Siwan",
          "Supaul",
          "Vaishali"
         ],
         "type": "scattermap"
        },
        {
         "hovertemplate": "<b>%{hovertext}</b><br><br>State=Maharashtra<br>Population=%{marker.size}<br>District=%{text}<br>lat=%{lat}<br>lon=%{lon}<extra></extra>",
         "hovertext": {
          "bdata": "AAAAAAAATUAAAAAAAABRQAAAAAAAAFBAAAAAAACAUkAAAAAAAIBTQAAAAAAAgFNAAAAAAADAUkAAAAAAAIBQQAAAAAAAQFJAAAAAAAAAUkAAAAAAAIBPQAAAAAAAAFNAAAAAAADAUEAAAAAAAABRQAAAAAAAgE5AAAAAAABAUkAAAAAAAMBQQAAAAAAAwFNAAAAAAABAUEAAAAAAAIBLQAAAAAAAwFFAAAAAAABAUUAAAAAAAIBPQAAAAAAAAFNAAAAAAACAUkAAAAAAAEBSQAAAAAAAgFJAAAAAAACAU0AAAAAAAMBQQAAAAAAAgFJAAAAAAACAU0AAAAAAAEBSQAAAAAAAQFJA",
          "dtype": "f8"
         },
         "lat": {
          "bdata": "bUhdeREZNEBtSF15ERk0QO81S7EIdDJA7zVLsQh0MkCmJRw0Dr80QPc+ezJLKjVAJh0ICzg2NUBa4rFtzfMyQH5/kTQakTRAn6de1nkYNEBSw8EWJkY1QEt+tyaaOTVAWEeIgGKYM0AJ1xJdBeI0QGtHLJEP/DNAlzHpaOVyMEA03KCRQ1kyQGpL8YxRMjVAL448zJU1M0BRgXjW7oU1QEsP5WZURDRAAw768tAxMkB/mwNpcU8zQC0kWJpXhDJAmvoXWM81MUAN7hyBqScxQGbUbI99rDFAnxtbQMMrMEAI+fwWXdYxQGrBbnHisjNAuVybv7PONEAaCrSoQ0g0QBTBB8DmCjRA",
          "dtype": "f8"
         },
         "legendgroup": "Maharashtra",
         "lon": {
          "bdata": "ueButYbUUkC54G61htRSQNc8WHSUQFJA1zxYdJRAUkCgvPcewkdTQJnRk+FAa1NAcVCpFAIHVEC2uThXXexSQL5OhLD4GFNACUOHMjLUU0A2+2CIlKVSQKSKP+s2C1RAYFEPyelFU0BV6eo0SuNSQP+PcuoF/1JA/iy2EUGIUkA02D0jhTBTQA6/BuhiwVNAP7C7trRrU0AHgbWI45RSQFCjPo1yglJAfSzlWq3/UkARkbqP5yxTQKz08EhFiFJAmwoy7nZQUkAKO7TAQa1SQE1dcqaNi1JAQJekvtlgUkCdTcj3IdtSQPwSEf0fM1JActr1VKWkU0BwbvJPUlBTQENLOaxog1NA",
          "dtype": "f8"
         },
         "marker": {
          "color": "#FFA15A",
          "size": {
           "bdata": "KcImACJ6OADgyxYA2DEoAJKtGwD9EiwAzlASANlxJwCSdicAk6IhAC5LHwALLhQAAfcRAB2LQACG5B0AoSQ7ALRyJQACAkcADEozAKcmGQAzMF0A6EoZADYEHACg4Y8A3aQYAP8PKwBd1S0A8/YMADziQQC0w6gAJtkTAGhEEgB8TSoA",
           "dtype": "i4"
          },
          "sizemode": "area",
          "sizeref": 27650.37
         },
         "mode": "markers+text",
         "name": "Maharashtra",
         "showlegend": true,
         "subplot": "map",
         "text": [
          "Aurangabad",
          "Aurangabad",
          "Raigarh",
          "Raigarh",
          "Akola",
          "Amravati",
          "Bhandara",
          "Bid",
          "Buldana",
          "Chandrapur",
          "Dhule",
          "Gondiya",
          "Hingoli",
          "Jalgaon",
          "Jalna",
          "Kolhapur",
          "Latur",
          "Nagpur",
          "Nanded",
          "Nandurbar",
          "Nashik",
          "Osmanabad",
          "Parbhani",
          "Pune",
          "Ratnagiri",
          "Sangli",
          "Satara",
          "Sindhudurg",
          "Solapur",
          "Thane",
          "Wardha",
          "Washim",
          "Yavatmal"
         ],
         "type": "scattermap"
        },
        {
         "hovertemplate": "<b>%{hovertext}</b><br><br>State=Chandigarh<br>Population=%{marker.size}<br>District=%{text}<br>lat=%{lat}<br>lon=%{lon}<extra></extra>",
         "hovertext": {
          "bdata": "AAAAAAAAU0A=",
          "dtype": "f8"
         },
         "lat": {
          "bdata": "dQKaCBu+PkA=",
          "dtype": "f8"
         },
         "legendgroup": "Chandigarh",
         "lon": {
          "bdata": "0bHd8Y4wU0A=",
          "dtype": "f8"
         },
         "marker": {
          "color": "#19d3f3",
          "size": {
           "bdata": "2hoQAA==",
           "dtype": "i4"
          },
          "sizemode": "area",
          "sizeref": 27650.37
         },
         "mode": "markers+text",
         "name": "Chandigarh",
         "showlegend": true,
         "subplot": "map",
         "text": [
          "Chandigarh"
         ],
         "type": "scattermap"
        },
        {
         "hovertemplate": "<b>%{hovertext}</b><br><br>State=Chhattisgarh<br>Population=%{marker.size}<br>District=%{text}<br>lat=%{lat}<br>lon=%{lon}<extra></extra>",
         "hovertext": {
          "bdata": "AAAAAAAAR0AAAAAAAMBSQAAAAAAAAE5AAAAAAAAAUUAAAAAAAEBRQAAAAAAAAE1AAAAAAAAAT0AAAAAAAABOQAAAAAAAAE9AAAAAAAAAUEAAAAAAAIBSQAAAAAAAQFBAAAAAAAAASUA=",
          "dtype": "f8"
         },
         "lat": {
          "bdata": "ra6Pc9RkM0CTL4SdYFs2QJMvhJ1gWzZAdFoCwQ6ONEBR8QBiyDE1QH6HSUPaxTZAzYjS3uB9NkD7HneEDoE3QK531ixGOTVAmuDWqB0CNkCa4NaoHQI2QLPqgPbS4jRAeeEQ6MJTN0A=",
          "dtype": "f8"
         },
         "legendgroup": "Chhattisgarh",
         "lon": {
          "bdata": "12tsVtphVEDmUdFf2n9UQOZR0V/af1RA1FC0XnFwVEAVUtV6PFVUQOiIS5K091RAU5uW5N2kVEAVLdaPAohUQEUG1zgxqlRAHU38X8rRVEAdTfxfytFUQOd91irSjFRAPgN8wRfPVEA=",
          "dtype": "f8"
         },
         "marker": {
          "color": "#FF6692",
          "size": {
           "bdata": "T5AVAATUBQDNpCgAJTQMAAAGMwDV/gwAcGkSAOUNCgAywg8A4MsWANgxKACAAj4ATgIkAA==",
           "dtype": "i4"
          },
          "sizemode": "area",
          "sizeref": 27650.37
         },
         "mode": "markers+text",
         "name": "Chhattisgarh",
         "showlegend": true,
         "subplot": "map",
         "text": [
          "Bastar",
          "Bilaspur",
          "Bilaspur",
          "Dhamtari",
          "Durg",
          "Jashpur",
          "Korba",
          "Koriya",
          "Mahasamund",
          "Raigarh",
          "Raigarh",
          "Raipur",
          "Surguja"
         ],
         "type": "scattermap"
        },
        {
         "hovertemplate": "<b>%{hovertext}</b><br><br>State=Himachal Pradesh<br>Population=%{marker.size}<br>District=%{text}<br>lat=%{lat}<br>lon=%{lon}<extra></extra>",
         "hovertext": {
          "bdata": "AAAAAADAUkAAAAAAAABOQAAAAAAAAE9AAAAAAADAU0AAAAAAAIBNQAAAAAAAAFNAAAAAAAAAUkAAAAAAAIBRQAAAAAAAAFJAAAAAAADAUkAAAAAAAABRQAAAAAAAgFJAAAAAAABAU0A=",
          "dtype": "f8"
         },
         "lat": {
          "bdata": "fkUrYcdgP0B+RSthx2A/QP/RMvVtVUBAlTE5NzutP0CVMTk3O60/QPb3IDEKEkBANAmD2E6bP0BxaYkJvOg/QDl0mS3Eoj9Av6qKn90nP0C9orimya4+QIx29YPkCT9Ayz0/Z1OVP0A=",
          "dtype": "f8"
         },
         "legendgroup": "Himachal Pradesh",
         "lon": {
          "bdata": "aTDtYs0pU0BpMO1izSlTQLAfC8UvGVNAhff81tkfU0CF9/zW2R9TQNGgKy1fGlNAXjEBZQihU0AXkVHEMFpTQHnSNOPLPVNAbFCc9wtoU0B2zihho1tTQHTie2ZxPFNAR6a0G78LU0A=",
          "dtype": "f8"
         },
         "marker": {
          "color": "#B6E880",
          "size": {
           "bdata": "BNQFAM2kKACo6wcAcPAGAJ3ZEAC7ChcAmUgBAI+uBgBhQQ8AumsMAL8VCADg2ggA1fMHAA==",
           "dtype": "i4"
          },
          "sizemode": "area",
          "sizeref": 27650.37
         },
         "mode": "markers+text",
         "name": "Himachal Pradesh",
         "showlegend": true,
         "subplot": "map",
         "text": [
          "Bilaspur",
          "Bilaspur",
          "Chamba",
          "Hamirpur",
          "Hamirpur",
          "Kangra",
          "Kinnaur",
          "Kullu",
          "Mandi",
          "Shimla",
          "Sirmaur",
          "Solan",
          "Una"
         ],
         "type": "scattermap"
        },
        {
         "hovertemplate": "<b>%{hovertext}</b><br><br>State=Daman and Diu<br>Population=%{marker.size}<br>District=%{text}<br>lat=%{lat}<br>lon=%{lon}<extra></extra>",
         "hovertext": {
          "bdata": "AAAAAADAU0AAAAAAAMBQQA==",
          "dtype": "f8"
         },
         "lat": {
          "bdata": "7r0Lbn5uNEBqvZNLxrk0QA==",
          "dtype": "f8"
         },
         "legendgroup": "Daman and Diu",
         "lon": {
          "bdata": "OVJ1DbY1UkCUwQ01wLVRQA==",
          "dtype": "f8"
         },
         "marker": {
          "color": "#FF97FF",
          "size": {
           "bdata": "xeoCACrbKQA=",
           "dtype": "i4"
          },
          "sizemode": "area",
          "sizeref": 27650.37
         },
         "mode": "markers+text",
         "name": "Daman and Diu",
         "showlegend": true,
         "subplot": "map",
         "text": [
          "Daman",
          "Junagadh"
         ],
         "type": "scattermap"
        },
        {
         "hovertemplate": "<b>%{hovertext}</b><br><br>State=Gujarat<br>Population=%{marker.size}<br>District=%{text}<br>lat=%{lat}<br>lon=%{lon}<extra></extra>",
         "hovertext": {
          "bdata": "AAAAAADAUEAAAAAAAMBSQAAAAAAAgFBAAAAAAACAUkAAAAAAAIBLQAAAAAAAAFJAAAAAAACAUEAAAAAAAIBSQAAAAAAAQFBAAAAAAAAATkAAAAAAAABSQAAAAAAAgFJAAAAAAACAT0AAAAAAAMBSQAAAAAAAAE5AAAAAAAAAT0AAAAAAAMBQQAAAAAAAAFJAAAAAAABAUEAAAAAAAMBSQAAAAAAAAE9AAAAAAAAAT0AAAAAAAEBRQAAAAAAAQFFA",
          "dtype": "f8"
         },
         "lat": {
          "bdata": "U75XOPXtNEBJt3kr/Zo2QK1uAyBfDDVAtb1pOGBINkBmoxGcL0I4QObwCPMDwjVAzqDK+sKzNUAUD6z/lDE3QCz81hsdaTZA3inNxAZ7N0A6ETY8PeM2QMUDxtaDhzdAzopE7Oe0NUBPD6P28d00QKcDgEfqzTZAvNGlbWzON0BECNZSCY01QJrzYdTxZzZAdzYnNNG3N0Dijyf58kE1QFJzPO2j0zZAg3K34DfNNEC/R+MB50I2QBxzrfc/cTRA",
          "dtype": "f8"
         },
         "legendgroup": "Gujarat",
         "lon": {
          "bdata": "z1a+mQejUUBNBXV4Sw9SQNYNcRnQ21FAb1bmAvskUkC1RKa/pvtRQIM0p78WK1JAgtKvG2oKUkBss5qZBStSQC+/MD24Z1FAk0r9Ypo0UUAwKqkTNEFSQIS25R8mHVJAnAOFLsdrUkAGhXGHKDdSQM9IfI6rZ1JALkfBsxrwUUB0YDuaA25RQFq/EgqOtVFA1HRVlLpIUkAiHPgw1TtSQCpYmhjz3lFAsbrc9A1sUkDyXLoao19SQOHWlAqNOlJA",
          "dtype": "f8"
         },
         "marker": {
          "color": "#FECB52",
          "size": {
           "bdata": "KtspAJEUbgDOGhcAye4fAHqdLwCrqhcAbfMrAIk8FQD39SAAU+0fAO0XIwB4DR8A2QEJAAhKFAD4eiQA9oAUAOnuCACODToArQ4lACrLXABszBoAw3sDAPqPPwDOBhoA",
           "dtype": "i4"
          },
          "sizemode": "area",
          "sizeref": 27650.37
         },
         "mode": "markers+text",
         "name": "Gujarat",
         "showlegend": true,
         "subplot": "map",
         "text": [
          "Junagadh",
          "Ahmadabad",
          "Amreli",
          "Anand",
          "Banas Kantha",
          "Bharuch",
          "Bhavnagar",
          "Gandhinagar",
          "Jamnagar",
          "Kachchh",
          "Kheda",
          "Mahesana",
          "Narmada",
          "Navsari",
          "Panch Mahals",
          "Patan",
          "Porbandar",
          "Rajkot",
          "Sabar Kantha",
          "Surat",
          "Surendranagar",
          "The Dangs",
          "Vadodara",
          "Valsad"
         ],
         "type": "scattermap"
        },
        {
         "hovertemplate": "<b>%{hovertext}</b><br><br>State=Goa<br>Population=%{marker.size}<br>District=%{text}<br>lat=%{lat}<br>lon=%{lon}<extra></extra>",
         "hovertext": {
          "bdata": "AAAAAABAVEAAAAAAAIBTQA==",
          "dtype": "f8"
         },
         "lat": {
          "bdata": "NNqjRvIYL0AiA3WQ+2MuQA==",
          "dtype": "f8"
         },
         "legendgroup": "Goa",
         "lon": {
          "bdata": "/iEQpaBzUkDnzHRURnxSQA==",
          "dtype": "f8"
         },
         "marker": {
          "color": "#636efa",
          "size": {
           "bdata": "WHsMABnGCQA=",
           "dtype": "i4"
          },
          "sizemode": "area",
          "sizeref": 27650.37
         },
         "mode": "markers+text",
         "name": "Goa",
         "showlegend": true,
         "subplot": "map",
         "text": [
          "North Goa",
          "South Goa"
         ],
         "type": "scattermap"
        },
        {
         "hovertemplate": "<b>%{hovertext}</b><br><br>State=Haryana<br>Population=%{marker.size}<br>District=%{text}<br>lat=%{lat}<br>lon=%{lon}<extra></extra>",
         "hovertext": {
          "bdata": "AAAAAAAAUkAAAAAAAEBQQAAAAAAAgFFAAAAAAACATUAAAAAAAEBSQAAAAAAAAFBAAAAAAADAUUAAAAAAAABPQAAAAAAAAE5AAAAAAABAUEAAAAAAAMBQQAAAAAAAAFFAAAAAAAAAUkAAAAAAAEBQQAAAAAAAwFFAAAAAAACAUUAAAAAAAABOQA==",
          "dtype": "f8"
         },
         "lat": {
          "bdata": "HHq5qrFZPkASMvQYl7o8QC/svz0TJjxAAlisBq+SPUAStV2wPAs8QGn4QVN9PD1AgbfDcrWYPEBlUSdjlXM9QDPcT3rv9T1AHHYm9QS0PUBsw/OGeA4+QMU+fIadIjxAZm7C/m2zPkA9EL8D8Vc9QNVFmskPMTxAcjhZCXzkPECZcSEMxqI9QA==",
          "dtype": "f8"
         },
         "legendgroup": "Haryana",
         "lon": {
          "bdata": "Fr2K78c8U0CREEm9WQFTQJGE45rwVFNAu/uXF/PiUkDE9D4NPUFTQFP1isH39VJAFdugtSAnU0B7QD5u8RJTQGkNu5cgGFNA+/jECf43U0BxLZFxajJTQDLTl7j4CFNA5SkD3TA+U0DUNhARdDtTQNqwENXPI1NAaJ37tf8hU0Aarn2aOLpSQA==",
          "dtype": "f8"
         },
         "marker": {
          "color": "#EF553B",
          "size": {
           "bdata": "njcRAI3wGABFnRsAu18OAMAbFwA7nBoAxZ8OAIhbFACAZBAALPgWAC+4DgDoEQ4AjZAIAL1kEgDsvA0AVDEQAFXDEwA=",
           "dtype": "i4"
          },
          "sizemode": "area",
          "sizeref": 27650.37
         },
         "mode": "markers+text",
         "name": "Haryana",
         "showlegend": true,
         "subplot": "map",
         "text": [
          "Ambala",
          "Bhiwani",
          "Faridabad",
          "Fatehabad",
          "Gurgaon",
          "Hisar",
          "Jhajjar",
          "Jind",
          "Kaithal",
          "Karnal",
          "Kurukshetra",
          "Mahendragarh",
          "Panchkula",
          "Panipat",
          "Rewari",
          "Rohtak",
          "Sirsa"
         ],
         "type": "scattermap"
        },
        {
         "hovertemplate": "<b>%{hovertext}</b><br><br>State=Uttar Pradesh<br>Population=%{marker.size}<br>District=%{text}<br>lat=%{lat}<br>lon=%{lon}<extra></extra>",
         "hovertext": {
          "bdata": "AAAAAADAU0AAAAAAAIBNQAAAAAAAgE5AAAAAAACATEAAAAAAAABPQAAAAAAAAE9AAAAAAADAUEAAAAAAAABOQAAAAAAAgE5AAAAAAAAAREAAAAAAAIBOQAAAAAAAAERAAAAAAAAATEAAAAAAAABKQAAAAAAAgEhAAAAAAACATEAAAAAAAABNQAAAAAAAAE1AAAAAAAAATkAAAAAAAABLQAAAAAAAAE5AAAAAAACATUAAAAAAAMBQQAAAAAAAgE1AAAAAAAAATUAAAAAAAIBMQAAAAAAAgE5AAAAAAAAAUUAAAAAAAMBQQAAAAAAAgE5AAAAAAACASEAAAAAAAIBOQAAAAAAAAEtAAAAAAAAAUEAAAAAAAIBOQAAAAAAAQFBAAAAAAACASkAAAAAAAIBOQAAAAAAAQFBAAAAAAACASUAAAAAAAIBLQAAAAAAAAEpAAAAAAAAAUUAAAAAAAABMQAAAAAAAAFBAAAAAAACATUAAAAAAAABPQAAAAAAAAE9AAAAAAACATEAAAAAAAIBHQAAAAAAAAE1AAAAAAAAASkAAAAAAAABHQAAAAAAAAE5AAAAAAAAATUAAAAAAAIBGQAAAAAAAAE5AAAAAAAAATEAAAAAAAABJQAAAAAAAgElAAAAAAACASkAAAAAAAIBNQAAAAAAAgExAAAAAAABAUEA=",
          "dtype": "f8"
         },
         "lat": {
          "bdata": "vtKb8ve8OUC+0pvy97w5QJatv9LA/jpASy08Ef/vO0CualGlXGQ5QCcZfAslZDpAPHRumT6rOkAzmyNbHwI6QIzecB+5Cz1AaCFrQBixO0CHt8KHWtw5QOS6E672cjtA0CzLMRVaOUCZ33gdO+w6QHmH/CrSgjxA2wuBMHnVOkC6HfmdYFA9QGwPtj5IWTxA9COt4ToeOUAaD/XR8Cg5QMGEwYwUbDpAiypS9FWXO0AZt8Tyxck6QMydeLobmzpAvB3SrlxzO0CXwhA4YtY5QPOrZfaqNTtAU35BCLBkPECpl3Q8/r88QMshgPbtnzlAobBGRz8oO0CA6BazFqI6QO3TMnFgVjtAunLJeGUROkDcNjTKj7M5QJBan1CwdDlAk8t+BdnePEDbar4Jdv46QG8Rv7MzbjpACVYAIC+JOUCrte/jfOQ6QLV9ery5ljhAZT78eZbWOkDF4VddZVg5QDGxcaeCLDtAg8oxHQqYO0Bv66o7xQI6QCd7QE+SBz1AIodc4yEaOUDiSBagDdo8QLni+DVzeD1A6M03kC6FPEDB3VBVZt05QMHdUFVm3TlAFmvKxv9AOkAIArRDG9U8QItPZOGnCD5AkYm9EabKOkA8pEaxy/07QEkztM6CgDtAMuuS5oh3OEA2dvoT3kg6QCrNLyezoTpA3aqvX05cOUA=",
          "dtype": "f8"
         },
         "legendgroup": "Uttar Pradesh",
         "lon": {
          "bdata": "eAwlYOD0U0B4DCVg4PRTQDedl8tgg1NALiSLDhiAU0AVkiZ0T4NUQD0uplizq1RAW1zNp0nbU0C8GAztx8BUQGWtodReU1NA0cpRZvBdVEDy9BZXVgJVQB2yj2sunlRA48LAiJchVECtnLNN41ZUQLGUGsWj21NAw86LfaqsVEDGCmz93JxTQMspMGaxgFNADfAjTzLQVECATQQD6ERUQI+Q3RXD9FRArqibYdCsU0BKzbnB4MRTQMeXql+AgFRA8ZqzQTPcU0A6DjmXqjZUQDkBTYRNm1NAasxfc5NhU0DseXGtKWtTQNlJYTlP4lRABiu8u3OBVED0ZYeZt9ZUQNAA1E3nEFRADrmWyHrXU0CfkfoGw6JUQCLUkSiSuVNAuHVgS/eYU0C9YByDPelTQFVI9qgs/1NACIlGXMJaVEAR35AhDPtUQN6Al+NzplNAvSp5b2k5VEDDTausbutTQIz4Rr49wlNAVdU/N8dnU0AV/kd2X+BUQPC6oU6Xc1NAI1WWJXumVEAh+P5gF69TQNFdJ6/4aFNAtM2Xoqr5U0CFw5P223tUQIXDk/bbe1RA+4GBJz9OVEDxKLuGBsdTQBTwAtxWZlNA020nUHvCVEDzC6lyIvVTQEWp9LqVNlRAkd1jyVzEVECi5eqZp4NUQGX1xOTAKFRANTUcqdG0VEA=",
          "dtype": "f8"
         },
         "marker": {
          "color": "#00cc96",
          "size": {
           "bdata": "cPAGAJ3ZEADtbEMAIQ84AFfbWgDAliQA2QwVABlnRgAI4hMA8zc1AF5vMQA5ySAA8nQbABvBMQBn4EMA0JolAJkxOACjZDUA9MsdAPIhDwASUS8AkBMbAPIiGABUtCUAFMQcAB0sKABsHiYA8yUZAK1vRwCsPTcAv2U0AD/DQwCtcz4AdskZAHyTRAALfx4AXRQcAChHGQBYaBsAbGgYAABkNgDYoxIADglGALZdDQDxghwA8N0mABCpIQDpizQAyhkmAKbQSACYOT8An/0eAAg+DQC19zAA9/YzAEukIwCO5DQA7ysaAErgLQCYa0QAn2scAH3wOQAPbi8AqRo4AA==",
           "dtype": "i4"
          },
          "sizemode": "area",
          "sizeref": 27650.37
         },
         "mode": "markers+text",
         "name": "Uttar Pradesh",
         "showlegend": true,
         "subplot": "map",
         "text": [
          "Hamirpur",
          "Hamirpur",
          "Agra",
          "Aligarh",
          "Allahabad",
          "Ambedkar Nagar",
          "Auraiya",
          "Azamgarh",
          "Baghpat",
          "Bahraich",
          "Ballia",
          "Balrampur",
          "Banda",
          "Bara Banki",
          "Bareilly",
          "Basti",
          "Bijnor",
          "Bulandshahr",
          "Chandauli",
          "Chitrakoot",
          "Deoria",
          "Etah",
          "Etawah",
          "Faizabad",
          "Farrukhabad",
          "Fatehpur",
          "Firozabad",
          "Gautam Buddha Nagar",
          "Ghaziabad",
          "Ghazipur",
          "Gonda",
          "Gorakhpur",
          "Hardoi",
          "Jalaun",
          "Jaunpur",
          "Jhansi",
          "Jyotiba Phule Nagar",
          "Kannauj",
          "Kanpur Dehat",
          "Kaushambi",
          "Kushinagar",
          "Lalitpur",
          "Lucknow",
          "Mahoba",
          "Mainpuri",
          "Mathura",
          "Mau",
          "Meerut",
          "Mirzapur",
          "Moradabad",
          "Muzaffarnagar",
          "Pilibhit",
          "Pratapgarh",
          "Pratapgarh",
          "Rae Bareli",
          "Rampur",
          "Saharanpur",
          "Sant Kabir Nagar",
          "Shahjahanpur",
          "Sitapur",
          "Sonbhadra",
          "Sultanpur",
          "Unnao",
          "Varanasi"
         ],
         "type": "scattermap"
        },
        {
         "hovertemplate": "<b>%{hovertext}</b><br><br>State=Jammu and Kashmir<br>Population=%{marker.size}<br>District=%{text}<br>lat=%{lat}<br>lon=%{lon}<extra></extra>",
         "hovertext": {
          "bdata": "AAAAAACASkAAAAAAAIBSQAAAAAAAgE5AAAAAAACAT0AAAAAAAABKQAAAAAAAgEtAAAAAAACATkAAAAAAAABNQA==",
          "dtype": "f8"
         },
         "lat": {
          "bdata": "3MqL2geuQEBcVKIbSltAQGijTYVyyEBANZ4C0kdCQEBZAv6iK/FAQBSXBGVH5UBA8Cv+4/UiQUAD3d1AG4ZAQA==",
          "dtype": "f8"
         },
         "legendgroup": "Jammu and Kashmir",
         "lon": {
          "bdata": "lkIztJUEU0DspcGRQbZSQLkaTJDAKFNASLS3Z7LlUkB2X6EJl8BSQGbRJYvwklJAcy/utA3HUkC+2zSdyMlSQA==",
          "dtype": "f8"
         },
         "marker": {
          "color": "#ab63fa",
          "size": {
           "bdata": "UEEGAGZYFwACJgIA82cJADiNCACjRgcAXd8SAOl3CAA=",
           "dtype": "i4"
          },
          "sizemode": "area",
          "sizeref": 27650.37
         },
         "mode": "markers+text",
         "name": "Jammu and Kashmir",
         "showlegend": true,
         "subplot": "map",
         "text": [
          "Doda",
          "Jammu",
          "Kargil",
          "Kathua",
          "Pulwama",
          "Punch",
          "Srinagar",
          "Udhampur"
         ],
         "type": "scattermap"
        },
        {
         "hovertemplate": "<b>%{hovertext}</b><br><br>State=Jharkhand<br>Population=%{marker.size}<br>District=%{text}<br>lat=%{lat}<br>lon=%{lon}<extra></extra>",
         "hovertext": {
          "bdata": "AAAAAAAAT0AAAAAAAIBIQAAAAAAAgEpAAAAAAAAAUEAAAAAAAIBJQAAAAAAAgEhAAAAAAACASUAAAAAAAABHQAAAAAAAgEtAAAAAAAAAS0AAAAAAAABIQAAAAAAAAExAAAAAAACAQ0AAAAAAAIBKQAAAAAAAgFBAAAAAAAAARUAAAAAAAIBMQA==",
          "dtype": "f8"
         },
         "lat": {
          "bdata": "F9sKjnauN0B+y2U/vx04QNo1PNKoVDhA2paXG8HaN0CIiivNZkY4QKnq4HcFFThA4bSm7kdOOEDEsS5uo9E4QCNPP7waFDdAnfP6QY76N0DZzEXuoLk3QFnPy7whfTdA+62zMZaSOEBDw4C9aTI4QAh0awcqLzdAgQn0QMrvOEC7S5O415s2QA==",
          "dtype": "f8"
         },
         "legendgroup": "Jharkhand",
         "lon": {
          "bdata": "GiDxlvl+VUBlHquVtTtVQHco0UxysFVAczw0s9aZVUDbqEE3tNFVQNA1CfTx61RAOkJIMpOFVUDwakq909JVQPgdCoE8I1VATbSlDwK9VUAF9B9E6R5VQOvws+hFKlVAwQgNVZrsVUDuNn66/wxVQB+rECdXVFVAkVbKY7DrVUBJcGNL4iVVQA==",
          "dtype": "f8"
         },
         "marker": {
          "color": "#FFA15A",
          "size": {
           "bdata": "+ncfAMbpDwBpxBYAR/YoAOIpFAAgLxQAolAlAA8LFAC9pA8AAhIMAMIXCwDeCwcARr0NAJ2ZHQDNdywAZ44RABomCQA=",
           "dtype": "i4"
          },
          "sizemode": "area",
          "sizeref": 27650.37
         },
         "mode": "markers+text",
         "name": "Jharkhand",
         "showlegend": true,
         "subplot": "map",
         "text": [
          "Bokaro",
          "Chatra",
          "Deoghar",
          "Dhanbad",
          "Dumka",
          "Garhwa",
          "Giridih",
          "Godda",
          "Gumla",
          "Jamtara",
          "Latehar",
          "Lohardaga",
          "Pakur",
          "Palamu",
          "Ranchi",
          "Sahibganj",
          "Simdega"
         ],
         "type": "scattermap"
        },
        {
         "hovertemplate": "<b>%{hovertext}</b><br><br>State=Karnataka<br>Population=%{marker.size}<br>District=%{text}<br>lat=%{lat}<br>lon=%{lon}<extra></extra>",
         "hovertext": {
          "bdata": "AAAAAACATUAAAAAAAIBRQAAAAAAAAFBAAAAAAAAATUAAAAAAAIBOQAAAAAAAAEFAAAAAAACATEAAAAAAAABSQAAAAAAAgFBAAAAAAADAUEAAAAAAAIBRQAAAAAAAgFBAAAAAAAAATEAAAAAAAEBRQAAAAAAAAFFAAAAAAACAUkAAAAAAAIBQQAAAAAAAAE1AAAAAAAAAUEAAAAAAAEBQQAAAAAAAgElAAAAAAAAAUkAAAAAAAABRQAAAAAAAwFNA",
          "dtype": "f8"
         },
         "lat": {
          "bdata": "zjvtc5ooMEAMK9DMp98pQPvo8gY8KTBAXDti0BQmLkAWBgnoSvMxQNV2JkcU1zBA1XYmRxTXMEBjEP9iv9kqQD66wNwAlSxAoxTIGSypLEDf5I6qCrAuQE9cnFCmAy9AP7SEogkSMUAfe7374+MpQKZrN3SkeS1AmLHbOS/LKEAMMlhOJ6AqQPX0mBFxTS9ADGyQh1kmKUB9iEj/Bn8oQIgkoOwADTBAyJFtaLAgLECr6SrvVy8rQHkSD2Kb5ipA",
          "dtype": "f8"
         },
         "legendgroup": "Karnataka",
         "lon": {
          "bdata": "NyOS80vpUkCzexD9UF5TQFGw6mNKrlJA5MKm6TkeU0AG+fFRdExTQMOMA8Jh/VJAw4wDwmH9UkCZbBftR+tSQLBOqowBJVNAUTC9CLT6UkD0hEMd2shSQCE+N+CC6VJAyjF/oQA4U0C5trdbEgdTQAXUiRRa2VJAnz8CgsbyUkD70F+Z4YBTQBkgV19ZClNA6LXncTQ0U0DIhZIn2CFTQBvC8XjqN1NAKZi3zHHLUkBE17B/eEFTQCB85x0WrlJA",
          "dtype": "f8"
         },
         "marker": {
          "color": "#19d3f3",
          "size": {
           "bdata": "2NUcAMseDwCN7kgAc2wlAIT9GQD+5AMAMzkhACldEQBAUhkAma8dAO8uHAB6PhAAtignACUbGwDkYBgAF3YIAJFxFwBgNRUAyY0bACfLLQBsbh0Asb4aAMTgKAAR9xEA",
           "dtype": "i4"
          },
          "sizemode": "area",
          "sizeref": 27650.37
         },
         "mode": "markers+text",
         "name": "Karnataka",
         "showlegend": true,
         "subplot": "map",
         "text": [
          "Bagalkot",
          "Bangalore Rural",
          "Belgaum",
          "Bellary",
          "Bidar",
          "Bijapur",
          "Bijapur",
          "Chikmagalur",
          "Chitradurga",
          "Davanagere",
          "Dharwad",
          "Gadag",
          "Gulbarga",
          "Hassan",
          "Haveri",
          "Kodagu",
          "Kolar",
          "Koppal",
          "Mandya",
          "Mysore",
          "Raichur",
          "Shimoga",
          "Tumkur",
          "Udupi"
         ],
         "type": "scattermap"
        },
        {
         "hovertemplate": "<b>%{hovertext}</b><br><br>State=Kerala<br>Population=%{marker.size}<br>District=%{text}<br>lat=%{lat}<br>lon=%{lon}<extra></extra>",
         "hovertext": {
          "bdata": "AAAAAADAVUAAAAAAAMBVQAAAAAAAwFRAAAAAAABAVUAAAAAAAMBTQAAAAAAAQFVAAAAAAABAVkAAAAAAAEBVQAAAAAAAQFRAAAAAAAAAVEAAAAAAAABVQAAAAAAAgFVAAAAAAADAU0A=",
          "dtype": "f8"
         },
         "lat": {
          "bdata": "4OtPDtAVI0A57TSKfwIkQCcxSgIQnCNAraAPUA/iJ0C+6kl9jKooQNI7+9nY2yFAkwpGM5NJI0C1sbdeLckmQMUw8jZU8iVAHAZp8OGRJUCxw3MA/xIhQBCpUzj56iRAtaoN2ThuJ0A=",
          "dtype": "f8"
         },
         "legendgroup": "Kerala",
         "lon": {
          "bdata": "XB1ZsFMYU0AXdBvBQBFTQF/QsHnvQlNAf6XlyYjWUkD102LK+MRSQJ6Vwn61KFNAuD+4anodU0CexQuliu1SQA/valca/FJATmu4zfwfU0BT/hx+xjhTQHlLqNPiB1NAcc0jDtsEU0A=",
          "dtype": "f8"
         },
         "marker": {
          "color": "#FF6692",
          "size": {
           "bdata": "rXcgANQVMgDu6xAAe38mAO/yEwBvNigAFyEeANUXLwAYwj4ATuAqADNgMgAwoC8ADHkMAA==",
           "dtype": "i4"
          },
          "sizemode": "area",
          "sizeref": 27650.37
         },
         "mode": "markers+text",
         "name": "Kerala",
         "showlegend": true,
         "subplot": "map",
         "text": [
          "Alappuzha",
          "Ernakulam",
          "Idukki",
          "Kannur",
          "Kasaragod",
          "Kollam",
          "Kottayam",
          "Kozhikode",
          "Malappuram",
          "Palakkad",
          "Thiruvananthapuram",
          "Thrissur",
          "Wayanad"
         ],
         "type": "scattermap"
        },
        {
         "hovertemplate": "<b>%{hovertext}</b><br><br>State=Madhya Pradesh<br>Population=%{marker.size}<br>District=%{text}<br>lat=%{lat}<br>lon=%{lon}<extra></extra>",
         "hovertext": {
          "bdata": "AAAAAAAATUAAAAAAAABMQAAAAAAAwFBAAAAAAAAAREAAAAAAAABOQAAAAAAAAFBAAAAAAACAUUAAAAAAAABLQAAAAAAAAEtAAAAAAAAAT0AAAAAAAIBNQAAAAAAAAE9AAAAAAACATUAAAAAAAIBIQAAAAAAAAEtAAAAAAACASkAAAAAAAMBQQAAAAAAAAE9AAAAAAABAUEAAAAAAAIBRQAAAAAAAwFFAAAAAAAAAQUAAAAAAAIBOQAAAAAAAgExAAAAAAAAAT0AAAAAAAABOQAAAAAAAAE9AAAAAAAAAS0AAAAAAAABPQAAAAAAAAEpAAAAAAACATEAAAAAAAIBOQAAAAAAAQFBAAAAAAAAAT0AAAAAAAABOQAAAAAAAgE9AAAAAAACATEAAAAAAAIBNQAAAAAAAAEhAAAAAAAAASkAAAAAAAIBKQAAAAAAAAEpAAAAAAAAAT0AAAAAAAIBLQAAAAAAAgE1A",
          "dtype": "f8"
         },
         "lat": {
          "bdata": "coHwNY0uN0AEdrZ1iKE4QDWJJWHazDVA9jWKKr+zNUBBLQ/A8fY1QC5JGO4IXDpA9+lZ3hB7N0AK4JJHVF01QO+yAopK0DhAOxQgC1w6NkDgpG6SKMQ3QFV3p8z65jlAOePdCP3INkC99uVEm5I2QPlhddJe1jZA0vmYbY19OEBM3O05bgo6QFeIUulHOjZAqudEiWOYNkA8+3XlJa42QOTXSOtsLzdABkH+dmlrNkC3v4xXc7k3QFq6cLsXtDZAqM3ih1oxOEAIoUDHhV86QH3dN5r/szhApgkbF4pzOEDRfiJ54ko3QKiJ1XYWyTdAVjVRdemAN0AU4HiYdtw4QPZw3K/hzDdA4YE08bWgOEDt2bggAu42QEaFt+4RVTZAxt9fXNdyN0AetnMHDpE3QK5WWsm3xzlAFxcBN8ZgOUAi2PW56yw4QAaupHoYJDlAk3c36rxRN0B2oBYnlJg3QK+B3OkQ1DdA",
          "dtype": "f8"
         },
         "legendgroup": "Madhya Pradesh",
         "lon": {
          "bdata": "v9qK/WV3VEBIjISKGnVTQE1aPCT9GlRA9FiZNj66UkDWfSLTY3JTQBKlzdzBsFNAG6quKh5ZU0AZ99Sapw9TQM7FNqcg5FNAfPo8h+ewU0CrZNGOHN5TQDvlTxfoqFNAQOKhMH8dU0C+pfJyE8dSQIfWy+nFQlRAlJS9Sk9OU0AWoRlGLohTQOe+ApR+RFNADhp9OGOBU0AlbPHRdPpSQCNq5C7u/lNAUEcCmTCaUkACMpkDpRVUQHdJJVC0GFRAlAM8keXbUkCwt2A2m3hTQEcMcK86xFJAoRtQboYNVEB7WBF+b4pTQGVyexeEKlNAZKpihojJUkBAbTSs2GRUQLO5TbUKrlNAqM3ioFkwVECVG1LeVkRTQDtd20NG6lNAkjUDc2tdVEAtZ0+ueRVTQHtmprfSSlNAzwQeU+lvU0Afp8aEvoZUQHT08UIwuVNAAhB8EXLzUkC6G4+xKTpUQJyYGbuveVNA",
          "dtype": "f8"
         },
         "marker": {
          "color": "#B6E880",
          "size": {
           "bdata": "tW4LAA/lDABC9xkAmSUVAMIJGABd/BkA9S0kAFeQCwBH5BoAqucfAFtKEwBCAQwAQ9wXAEFaIQAMwAoAr/ESAKQBHwBhtAgABvESAJn/MQA5liUAGKQPAAq3EwC5GBAA+3MUAJL/HQDTmgwAyIIPAI1RFABWlhcA3TMWALIWJADaSiQAxwIiAGQCFAA7CxUAT0QQAOkUFwD1fgoAYlYaAHkyEQAuDRYAMFEeAJbWCQC7QhYA",
           "dtype": "i4"
          },
          "sizemode": "area",
          "sizeref": 27650.37
         },
         "mode": "markers+text",
         "name": "Madhya Pradesh",
         "showlegend": true,
         "subplot": "map",
         "text": [
          "Anuppur",
          "Ashoknagar",
          "Balaghat",
          "Barwani",
          "Betul",
          "Bhind",
          "Bhopal",
          "Burhanpur",
          "Chhatarpur",
          "Chhindwara",
          "Damoh",
          "Datia",
          "Dewas",
          "Dhar",
          "Dindori",
          "Guna",
          "Gwalior",
          "Harda",
          "Hoshangabad",
          "Indore",
          "Jabalpur",
          "Jhabua",
          "Katni",
          "Mandla",
          "Mandsaur",
          "Morena",
          "Neemuch",
          "Panna",
          "Raisen",
          "Rajgarh",
          "Ratlam",
          "Rewa",
          "Sagar",
          "Satna",
          "Sehore",
          "Seoni",
          "Shahdol",
          "Shajapur",
          "Sheopur",
          "Shivpuri",
          "Sidhi",
          "Tikamgarh",
          "Ujjain",
          "Umaria",
          "Vidisha"
         ],
         "type": "scattermap"
        },
        {
         "hovertemplate": "<b>%{hovertext}</b><br><br>State=Manipur<br>Population=%{marker.size}<br>District=%{text}<br>lat=%{lat}<br>lon=%{lon}<extra></extra>",
         "hovertext": {
          "bdata": "AAAAAACAUEAAAAAAAIBPQAAAAAAAwFFAAAAAAACAS0AAAAAAAABOQAAAAAAAAFBAAAAAAADAUUA=",
          "dtype": "f8"
         },
         "lat": {
          "bdata": "b/mIsNKBOEBhwmEQekM4QGI2AceXTThAQ52nAawVOUBt3qxervs4QH5wq9ieizhAhuuV1BoPOUA=",
          "dtype": "f8"
         },
         "legendgroup": "Manipur",
         "lon": {
          "bdata": "jwsTosZ0V0CjfohHC4ZXQLomhvC/WFdA6csahieCV0DLbl4Cpl9XQAuDvL+xfldARN4wMD6cV0A=",
          "dtype": "f8"
         },
         "marker": {
          "color": "#FF97FF",
          "size": {
           "bdata": "V58DADYzAgDfLgQArE8HAGslAgAYcQYAvs4CAA==",
           "dtype": "i4"
          },
          "sizemode": "area",
          "sizeref": 27650.37
         },
         "mode": "markers+text",
         "name": "Manipur",
         "showlegend": true,
         "subplot": "map",
         "text": [
          "Bishnupur",
          "Chandel",
          "Churachandpur",
          "Senapati",
          "Tamenglong",
          "Thoubal",
          "Ukhrul"
         ],
         "type": "scattermap"
        },
        {
         "hovertemplate": "<b>%{hovertext}</b><br><br>State=Meghalaya<br>Population=%{marker.size}<br>District=%{text}<br>lat=%{lat}<br>lon=%{lon}<extra></extra>",
         "hovertext": {
          "bdata": "AAAAAAAATkAAAAAAAIBRQAAAAAAAgEdAAAAAAAAATUAAAAAAAABMQAAAAAAAAE5A",
          "dtype": "f8"
         },
         "lat": {
          "bdata": "b/aKxcjTOUDJe2B4w005QCkEPrzvVjlAP1UB55U9OUBNkIgCy345QGs+flI6gDlA",
          "dtype": "f8"
         },
         "legendgroup": "Meghalaya",
         "lon": {
          "bdata": "6L1k+mWpVkDVXkkll/BWQM6ekLgRGFdAhUxOkVGpVkCQjXXWX4JWQNxBAbo70FZA",
          "dtype": "f8"
         },
         "marker": {
          "color": "#FECB52",
          "size": {
           "bdata": "3dkEAEKaDAB0BwYA/isCANvQCQDl2QUA",
           "dtype": "i4"
          },
          "sizemode": "area",
          "sizeref": 27650.37
         },
         "mode": "markers+text",
         "name": "Meghalaya",
         "showlegend": true,
         "subplot": "map",
         "text": [
          "East Garo Hills",
          "East Khasi Hills",
          "Jaintia Hills",
          "South Garo Hills",
          "West Garo Hills",
          "West Khasi Hills"
         ],
         "type": "scattermap"
        },
        {
         "hovertemplate": "<b>%{hovertext}</b><br><br>State=Mizoram<br>Population=%{marker.size}<br>District=%{text}<br>lat=%{lat}<br>lon=%{lon}<extra></extra>",
         "hovertext": {
          "bdata": "AAAAAABAVUAAAAAAAABUQAAAAAAAgFNAAAAAAACASkAAAAAAAMBSQAAAAAAAgFFAAAAAAADAUkAAAAAAAABVQA==",
          "dtype": "f8"
         },
         "lat": {
          "bdata": "L5W8dGboN0BYUUqcqoo3QEcr7Uy2MzhA1Kv5W2xcNkDT+2G++QE3QDihr0MQvTdAL5d7toFbNkBVVSqjjEM3QA==",
          "dtype": "f8"
         },
         "legendgroup": "Mizoram",
         "lon": {
          "bdata": "6fQ4S6E2V0Dpmud/gE9XQPWwj2MFL1dACFNPaNsqV0BXGaflpShXQA24yJa3G1dAbEUGVM9BV0DEtKOSgTpXQA==",
          "dtype": "f8"
         },
         "marker": {
          "color": "#636efa",
          "size": {
           "bdata": "tRsGADHrAQDzRwEAhswBAJR2AgBcUQEA/twAAKn9AAA=",
           "dtype": "i4"
          },
          "sizemode": "area",
          "sizeref": 27650.37
         },
         "mode": "markers+text",
         "name": "Mizoram",
         "showlegend": true,
         "subplot": "map",
         "text": [
          "Aizawl",
          "Champhai",
          "Kolasib",
          "Lawngtlai",
          "Lunglei",
          "Mamit",
          "Saiha",
          "Serchhip"
         ],
         "type": "scattermap"
        },
        {
         "hovertemplate": "<b>%{hovertext}</b><br><br>State=Nagaland<br>Population=%{marker.size}<br>District=%{text}<br>lat=%{lat}<br>lon=%{lon}<extra></extra>",
         "hovertext": {
          "bdata": "AAAAAABAUkAAAAAAAIBSQAAAAAAAgFRAAAAAAAAASEAAAAAAAEBQQAAAAAAAAE5AAAAAAABAU0AAAAAAAEBSQA==",
          "dtype": "f8"
         },
         "lat": {
          "bdata": "cPU65G3QOUCr5KSyZZo5QNkUH/aZejpAY62sviuxOkBEsaCV+qE5QKFjtgMHNjpAxwDCWd4zOkBSfNWvNgc6QA==",
          "dtype": "f8"
         },
         "legendgroup": "Nagaland",
         "lon": {
          "bdata": "pmg3IgxwV0AhjYbuTXJXQCzLfG1voVdAz0d+evfBV0BvMoV/XKRXQHteQhfrtldAzWxowL2MV0AwJ3teBKBXQA==",
          "dtype": "f8"
         },
         "marker": {
          "color": "#EF553B",
          "size": {
           "bdata": "u8cFANQWBAA++AIAlNEDAFp+AgD0/wIAx4kCANUlAgA=",
           "dtype": "i4"
          },
          "sizemode": "area",
          "sizeref": 27650.37
         },
         "mode": "markers+text",
         "name": "Nagaland",
         "showlegend": true,
         "subplot": "map",
         "text": [
          "Dimapur",
          "Kohima",
          "Mokokchung",
          "Mon",
          "Phek",
          "Tuensang",
          "Wokha",
          "Zunheboto"
         ],
         "type": "scattermap"
        },
        {
         "hovertemplate": "<b>%{hovertext}</b><br><br>State=Orissa<br>Population=%{marker.size}<br>District=%{text}<br>lat=%{lat}<br>lon=%{lon}<extra></extra>",
         "hovertext": {
          "bdata": "AAAAAACAUUAAAAAAAEBSQAAAAAAAQFNAAAAAAACAUUAAAAAAAIBGQAAAAAAAgE9AAAAAAACAUUAAAAAAAIBJQAAAAAAAgEtAAAAAAAAAU0AAAAAAAIBTQAAAAAAAgERAAAAAAAAAREAAAAAAAABLQAAAAAAAwFFAAAAAAACASEAAAAAAAABTQAAAAAAAAEVAAAAAAAAAUUAAAAAAAABQQA==",
          "dtype": "f8"
         },
         "lat": {
          "bdata": "hCU6cld8NUCJktxi3/M0QLE3KyNbaDRABO5H2YLMNEBx4B0o/x4zQD9BWh9lQzNARQw5HLrTNUDGSonPxMgzQOURwOTGFzRAgY+ExjebNECQ2PqU3Q00QDsvm/OG0zJA9r1eYJVAMkA1o4yGyuU1QNOLhJthMTRA9yt9vad4NECyXZqSyNUzQFoeRZD3SjNATgYZWQiENUDxq8GxRBA2QA==",
          "dtype": "f8"
         },
         "legendgroup": "Orissa",
         "lon": {
          "bdata": "Sy41yCzFVUDx3pBWKLRVQGH/n4bFcVVAfQVQrxBiVUBSh487+AhVQByvFPpjM1VAgtg9bOT7VEB4jiWiMcdUQNObkiBrAVVAPlI+xZu1VUCarbwnbmFVQHKnHKoEtFRAfffrbeh+VEDAWKlry5lVQOQjm+mXQ1VAIkY1jdulVEDphzPDfHdVQJTa3LhZ3VRAqKMPmV8WVUAhFIT8VSBVQA==",
          "dtype": "f8"
         },
         "marker": {
          "color": "#00cc96",
          "size": {
           "bdata": "kWgjACH8FgDWCygAazMSABnRCABH2TUAsdcIAKUPGAC2LwsAafoVAJlbIgA/DRUASFsJALpyJgDlsA4ATlAJAKrrGQDnxA4Ay+IPAH3xHwA=",
           "dtype": "i4"
          },
          "sizemode": "area",
          "sizeref": 27650.37
         },
         "mode": "markers+text",
         "name": "Orissa",
         "showlegend": true,
         "subplot": "map",
         "text": [
          "Baleshwar",
          "Bhadrak",
          "Cuttack",
          "Dhenkanal",
          "Gajapati",
          "Ganjam",
          "Jharsuguda",
          "Kalahandi",
          "Kandhamal",
          "Kendrapara",
          "Khordha",
          "Koraput",
          "Malkangiri",
          "Mayurbhanj",
          "Nayagarh",
          "Nuapada",
          "Puri",
          "Rayagada",
          "Sambalpur",
          "Sundargarh"
         ],
         "type": "scattermap"
        },
        {
         "hovertemplate": "<b>%{hovertext}</b><br><br>State=Puducherry<br>Population=%{marker.size}<br>District=%{text}<br>lat=%{lat}<br>lon=%{lon}<extra></extra>",
         "hovertext": {
          "bdata": "AAAAAABAU0AAAAAAAMBVQAAAAAAAwFFA",
          "dtype": "f8"
         },
         "lat": {
          "bdata": "5AcPRZjAJUBiqhaWSQMoQLqb0YortTBA",
          "dtype": "f8"
         },
         "legendgroup": "Puducherry",
         "lon": {
          "bdata": "gXOMd7f0U0B6WFyUGNJSQGBcJ4fCkFRA",
          "dtype": "f8"
         },
         "marker": {
          "color": "#ab63fa",
          "size": {
           "bdata": "Hg4DAFijAABK2QAA",
           "dtype": "i4"
          },
          "sizemode": "area",
          "sizeref": 27650.37
         },
         "mode": "markers+text",
         "name": "Puducherry",
         "showlegend": true,
         "subplot": "map",
         "text": [
          "Karaikal",
          "Mahe",
          "Yanam"
         ],
         "type": "scattermap"
        },
        {
         "hovertemplate": "<b>%{hovertext}</b><br><br>State=Punjab<br>Population=%{marker.size}<br>District=%{text}<br>lat=%{lat}<br>lon=%{lon}<extra></extra>",
         "hovertext": {
          "bdata": "AAAAAAAAUUAAAAAAAIBOQAAAAAAAAE9AAAAAAADAUUAAAAAAAABOQAAAAAAAwFFAAAAAAAAAU0AAAAAAAIBSQAAAAAAAwFFAAAAAAABAUkAAAAAAAIBLQAAAAAAAgE9AAAAAAAAATUAAAAAAAMBQQAAAAAAAQFJAAAAAAACATkA=",
          "dtype": "f8"
         },
         "lat": {
          "bdata": "SZLdR3aMP0A2gpE4xjA+QA/XNAxYlz5AI8Mbt5WkPkAQhiTDUqI+QBBdOJN7BUBAm8uEzTONP0AIel0UFkA/QE1xZO8qVj9ApWEJNxbEPkD/9596Z+s9QNdWH5yswT5AJBF7nPtPPkDYv04e7DY+QKNLXDAz6T5AmuhcH18vPkA=",
          "dtype": "f8"
         },
         "legendgroup": "Punjab",
         "lon": {
          "bdata": "gOPJKyCzUkCS8diTo8NSQCZHnH4Ks1JApxYmYiwXU0DqF13cwZlSQPqnAoqB1FJAsuqxAzX2UkAb4xP00OJSQHD2UId93lJAjiTF4TD1UkCvFIQvjdtSQHqtG9M+ylJASkmT6lGjUkAqZ8+QmhFTQN2Qz1VlIlNAD19DXD35UkA=",
          "dtype": "f8"
         },
         "marker": {
          "color": "#FFA15A",
          "size": {
           "bdata": "IAEmAO0vFQAkbAkAYygJABL2HgDTESMAwTUYALZ4IQBAcAwA82I1ANe+CwCiMQ8ACMMNAAbtHABTcgoAgUEZAA==",
           "dtype": "i4"
          },
          "sizemode": "area",
          "sizeref": 27650.37
         },
         "mode": "markers+text",
         "name": "Punjab",
         "showlegend": true,
         "subplot": "map",
         "text": [
          "Amritsar",
          "Bathinda",
          "Faridkot",
          "Fatehgarh Sahib",
          "Firozpur",
          "Gurdaspur",
          "Hoshiarpur",
          "Jalandhar",
          "Kapurthala",
          "Ludhiana",
          "Mansa",
          "Moga",
          "Muktsar",
          "Patiala",
          "Rupnagar",
          "Sangrur"
         ],
         "type": "scattermap"
        },
        {
         "hovertemplate": "<b>%{hovertext}</b><br><br>State=Rajasthan<br>Population=%{marker.size}<br>District=%{text}<br>lat=%{lat}<br>lon=%{lon}<extra></extra>",
         "hovertext": {
          "bdata": "AAAAAACATUAAAAAAAIBNQAAAAAAAAEdAAAAAAACATEAAAAAAAABHQAAAAAAAAE1AAAAAAAAASkAAAAAAAABLQAAAAAAAgEpAAAAAAACASkAAAAAAAABMQAAAAAAAgExAAAAAAACATEAAAAAAAIBIQAAAAAAAgE5AAAAAAAAATUAAAAAAAEBQQAAAAAAAAEdAAAAAAACARkAAAAAAAABKQAAAAAAAAFBAAAAAAACAS0AAAAAAAIBLQAAAAAAAwFBAAAAAAACASkAAAAAAAIBKQAAAAAAAAEtAAAAAAAAATEAAAAAAAABPQAAAAAAAAEdAAAAAAACASkAAAAAAAABKQA==",
          "dtype": "f8"
         },
         "lat": {
          "bdata": "dvmAWQUzOkChi+Difo07QC2vX+IhdDdAn8Y/g/D6OEAUTrcwTcU5QGy9bm/5UjtA703lsIFzOUARDPjV+B88QMN7qttdfDlAy7pHGLKhOEACFnX0FUs8QBO9a6aP6TpAPShJIla5OkC7G9CvRMA3QK9/VbC8QT1ArRN4+2suPUC2Gr3JkAg7QCWYY1V33jpA1UAqYWYTOUBuGIAhTD84QFDYmsOaIjxADSIJnK+tOkD1ORU03oQ6QH7qLtz7LDlA+xJqcyAUO0CRCy8vDs45QAkL6Ai7PzlAOrMx20ZAOkDdelkhfaU7QPvaQnI1zDhAZrHySWgnOkCQaekj1nA4QA==",
          "dtype": "f8"
         },
         "legendgroup": "Rajasthan",
         "lon": {
          "bdata": "ll1RGr2sUkC0XJmF1ClTQCfxKGhRnFJAY2zRwCw3U0Bn0mKuMOBRQNz1PtzrTVNAaLSPLO2oUkBboN9kPlFSQF7fN5cw81JAJa17ADWzUkAxuVJHJKpSQEsW4e2yJFNA47YQL6pvU0D1EqwAQHZSQNEABoz2Y1JAu70BzcOvUkBFc2nlWvFSQOHsYgzCy1FAHyvYKu8LUkDddg4JMgdTQLG9unPR4VJACrfp3UlAUkDqE4sLfj1TQNAdcYbqC1NAgyZKGBmJUkCnlNf/YWNSQPwlbhDOfVJAICvu3wAbU0Amv9Zdw9JSQOcN66UyMFJA2iJN2q7yUkCQ9+1yx3VSQA==",
          "dtype": "f8"
         },
         "marker": {
          "color": "#19d3f3",
          "size": {
           "bdata": "DGonAEMQOABtbRsAY6gSAOe6JwDu4iYAS8AkACESJAB68xAAkpAXAPseHwBp8BgA9GgSAAgwFQAQDB4AZBQbAIIbZQDfOAoAeucbADmIFQDVmyAA/UI4AEhAFgAmxR0A33gyAEUXHwD1pREA/2AUAFXaKAA60A8ADrAVAATSLgA=",
           "dtype": "i4"
          },
          "sizemode": "area",
          "sizeref": 27650.37
         },
         "mode": "markers+text",
         "name": "Rajasthan",
         "showlegend": true,
         "subplot": "map",
         "text": [
          "Ajmer",
          "Alwar",
          "Banswara",
          "Baran",
          "Barmer",
          "Bharatpur",
          "Bhilwara",
          "Bikaner",
          "Bundi",
          "Chittaurgarh",
          "Churu",
          "Dausa",
          "Dhaulpur",
          "Dungarpur",
          "Ganganagar",
          "Hanumangarh",
          "Jaipur",
          "Jaisalmer",
          "Jalor",
          "Jhalawar",
          "Jhunjhunun",
          "Jodhpur",
          "Karauli",
          "Kota",
          "Nagaur",
          "Pali",
          "Rajsamand",
          "Sawai Madhopur",
          "Sikar",
          "Sirohi",
          "Tonk",
          "Udaipur"
         ],
         "type": "scattermap"
        },
        {
         "hovertemplate": "<b>%{hovertext}</b><br><br>State=Sikkim<br>Population=%{marker.size}<br>District=%{text}<br>lat=%{lat}<br>lon=%{lon}<extra></extra>",
         "hovertext": {
          "bdata": "AAAAAADAU0A=",
          "dtype": "f8"
         },
         "lat": {
          "bdata": "9FIm48ZLO0A=",
          "dtype": "f8"
         },
         "legendgroup": "Sikkim",
         "lon": {
          "bdata": "LUaw/fAvVkA=",
          "dtype": "f8"
         },
         "marker": {
          "color": "#FF6692",
          "size": {
           "bdata": "IhUaAA==",
           "dtype": "i4"
          },
          "sizemode": "area",
          "sizeref": 27650.37
         },
         "mode": "markers+text",
         "name": "Sikkim",
         "showlegend": true,
         "subplot": "map",
         "text": [
          "East"
         ],
         "type": "scattermap"
        },
        {
         "hovertemplate": "<b>%{hovertext}</b><br><br>State=Tamil Nadu<br>Population=%{marker.size}<br>District=%{text}<br>lat=%{lat}<br>lon=%{lon}<extra></extra>",
         "hovertext": {
          "bdata": "AAAAAAAAUEAAAAAAAEBUQAAAAAAAAFNAAAAAAACAUUAAAAAAAIBOQAAAAAAAQFFAAAAAAACAUEAAAAAAAMBSQAAAAAAAwFRAAAAAAAAAUUAAAAAAAMBSQAAAAAAAwFJAAAAAAAAAUUAAAAAAAIBQQAAAAAAAQFFAAAAAAAAAUkAAAAAAAIBQQAAAAAAAAFJAAAAAAACAUkAAAAAAAIBRQAAAAAAAwFJAAAAAAADAUkAAAAAAAIBQQAAAAAAAgFFAAAAAAAAAUkA=",
          "dtype": "f8"
         },
         "lat": {
          "bdata": "duAiKYthJkDCC8cjvx0qQBgaKCAlviVAdv+f09gmJ0BMXXwbrJkoQFXqEy9vwSRAYf460bWIJkBfSbxiK/4oQIx6fkvvXSBADq9yMzWXJUBf+QY5As8jQGagvys1lCVABCm/m+KsJkCpF7fGMIUmQIpziNbSQiRAXXyDfTCgIkBscCXINkInQFMC3E2t6yNAcvBvmX/GJEBsUCFEH9kjQAa76kU9jSpAT+irDeS8JEC6FBv5sNYoQFnL6SLckSlAe7k2BBDwIkA=",
          "dtype": "f8"
         },
         "legendgroup": "Tamil Nadu",
         "lon": {
          "bdata": "TW20YT3OU0BLTJJRAhJUQGdWiEzgRFNAYhq7TlLoU0DYn4/EXYdTQNgEOF7tcVNAk9vJ5+ZaU0CFzrcgpQVUQMmd8pKDVFNA2SZ3jJmFU0DSOpfP34BTQBna0wHX8lNApTVPIlyJU0Awjv/PD7dTQIepOAZ8w1NAMoKfh3q/U0DdPbxg3I9TQGUfWNAupFNAs1E6eXLUU0DyuJVL0FtTQNdQALKfDFRAjOSNTZvmU0CH4VDX485TQAdZWROxwVNATuilLRd4U0A=",
          "dtype": "f8"
         },
         "marker": {
          "color": "#B6E880",
          "size": {
           "bdata": "zoQLAEznRgD9wzQAWsMnABv+FgCf9CAA4FsiACwCPQAmihwALT4QACxcLgBCqhgAiVgaAOefCACpsRgA5aYUAMghNQDdbhQAArYkAMsCEwDo4jgAlUoTAGucJQBLEDwAEKMdAA==",
           "dtype": "i4"
          },
          "sizemode": "area",
          "sizeref": 27650.37
         },
         "mode": "markers+text",
         "name": "Tamil Nadu",
         "showlegend": true,
         "subplot": "map",
         "text": [
          "Ariyalur",
          "Chennai",
          "Coimbatore",
          "Cuddalore",
          "Dharmapuri",
          "Dindigul",
          "Erode",
          "Kancheepuram",
          "Kanniyakumari",
          "Karur",
          "Madurai",
          "Nagapattinam",
          "Namakkal",
          "Perambalur",
          "Pudukkottai",
          "Ramanathapuram",
          "Salem",
          "Sivaganga",
          "Thanjavur",
          "Theni",
          "Thiruvallur",
          "Thiruvarur",
          "Tiruvannamalai",
          "Vellore",
          "Virudhunagar"
         ],
         "type": "scattermap"
        },
        {
         "hovertemplate": "<b>%{hovertext}</b><br><br>State=Tripura<br>Population=%{marker.size}<br>District=%{text}<br>lat=%{lat}<br>lon=%{lon}<extra></extra>",
         "hovertext": {
          "bdata": "AAAAAABAUkAAAAAAAMBSQAAAAAAAgFJAAAAAAADAU0A=",
          "dtype": "f8"
         },
         "lat": {
          "bdata": "7CSDPQfIN0DI2ytWKh84QKUGgmE9NjdA69KL+bjHN0A=",
          "dtype": "f8"
         },
         "legendgroup": "Tripura",
         "lon": {
          "bdata": "yLlhKJT8VkAdZktSawtXQJkYGjjS5lZA99gRXHDaVkA=",
          "dtype": "f8"
         },
         "marker": {
          "color": "#FF97FF",
          "size": {
           "bdata": "dsUFALuWCgDhXQ0AK1UaAA==",
           "dtype": "i4"
          },
          "sizemode": "area",
          "sizeref": 27650.37
         },
         "mode": "markers+text",
         "name": "Tripura",
         "showlegend": true,
         "subplot": "map",
         "text": [
          "Dhalai",
          "North Tripura",
          "South Tripura",
          "West Tripura"
         ],
         "type": "scattermap"
        },
        {
         "hovertemplate": "<b>%{hovertext}</b><br><br>State=Uttaranchal<br>Population=%{marker.size}<br>District=%{text}<br>lat=%{lat}<br>lon=%{lon}<extra></extra>",
         "hovertext": {
          "bdata": "AAAAAACAUUAAAAAAAEBRQAAAAAAAAFJAAAAAAAAAUUAAAAAAAMBRQAAAAAAAgFBAAAAAAACAT0AAAAAAAEBQQA==",
          "dtype": "f8"
         },
         "lat": {
          "bdata": "auc/9vuuPUDjSYJBrvw9QFpc28pYlT5A6vdgwppKPUAugDRQryU+QMmpeBq1dj5AHzTAnx0HPUDVLOyqDfg+QA==",
          "dtype": "f8"
         },
         "legendgroup": "Uttaranchal",
         "lon": {
          "bdata": "NRNMCxvgU0CbxdcUu/VTQFzVPRgF5FNAcHIq4fAEVECCzf4d6BVUQL4Gkbw4n1NAanUp2zPdU0AaIu1RZ6RTQA==",
          "dtype": "f8"
         },
         "marker": {
          "color": "#FECB52",
          "size": {
           "bdata": "qn8JADr3AwC1+QUAQPYDAG9gBwCzcQkABikZAGYJBQA=",
           "dtype": "i4"
          },
          "sizemode": "area",
          "sizeref": 27650.37
         },
         "mode": "markers+text",
         "name": "Uttaranchal",
         "showlegend": true,
         "subplot": "map",
         "text": [
          "Almora",
          "Bageshwar",
          "Chamoli",
          "Champawat",
          "Pithoragarh",
          "Tehri Garhwal",
          "Udham Singh Nagar",
          "Uttarkashi"
         ],
         "type": "scattermap"
        },
        {
         "hovertemplate": "<b>%{hovertext}</b><br><br>State=West Bengal<br>Population=%{marker.size}<br>District=%{text}<br>lat=%{lat}<br>lon=%{lon}<extra></extra>",
         "hovertext": {
          "bdata": "AAAAAAAAT0AAAAAAAABRQAAAAAAAAE9AAAAAAABAUEAAAAAAAMBRQAAAAAAAgFJAAAAAAACAUkAAAAAAAEBQQAAAAAAAAFRAAAAAAAAASkAAAAAAAIBMQAAAAAAAwFBAAAAAAACAS0AAAAAAAABJQA==",
          "dtype": "f8"
         },
         "lat": {
          "bdata": "dZwY084UN0CXW+W6x3E3QNhh1FFbEDhAsVIFf5NXOUDruOZO8dY6QHjRYh7UZjZAGruqUhnhNkDfvOMUXaA6QAe/cOjyjDZA54MBcowUOUB0JYIFb0I4QAwsdn5pkDdA5fKavxJBN0C8S18pbAs6QA==",
          "dtype": "f8"
         },
         "legendgroup": "West Bengal",
         "lon": {
          "bdata": "xMVF8hbIVUDz437pKfRVQIJjoK6y6VVATHGCla8sVkAYO998NhVWQIcGZyqh/1VAtXCIrgEAVkCd5h2nqEJWQMiz37KTFlZAr0GDrwALVkA4TEBGwwpWQFtpFLtOJVZA7/ZUC2aZVUDYxsTXGQ9WQA==",
          "dtype": "f8"
         },
         "marker": {
          "color": "#636efa",
          "size": {
           "bdata": "guE2ALvCdQBEcTUA9JMZACcuHABtAUoAKTdUAE4YOwA2nUQAbd08AD9lbADw2U4Aw7UsAJ7iLQA=",
           "dtype": "i4"
          },
          "sizemode": "area",
          "sizeref": 27650.37
         },
         "mode": "markers+text",
         "name": "West Bengal",
         "showlegend": true,
         "subplot": "map",
         "text": [
          "Bankura",
          "Barddhaman",
          "Birbhum",
          "Dakshin Dinajpur",
          "Darjiling",
          "Haora",
          "Hugli",
          "Jalpaiguri",
          "Kolkata",
          "Maldah",
          "Murshidabad",
          "Nadia",
          "Puruliya",
          "Uttar Dinajpur"
         ],
         "type": "scattermap"
        }
       ],
       "layout": {
        "geo": {
         "fitbounds": "locations",
         "visible": false
        },
        "height": 550,
        "legend": {
         "itemsizing": "constant",
         "title": {
          "text": "State"
         },
         "tracegroupgap": 0
        },
        "map": {
         "center": {
          "lat": 22,
          "lon": 79
         },
         "domain": {
          "x": [
           0,
           1
          ],
          "y": [
           0,
           1
          ]
         },
         "zoom": 3
        },
        "mapbox": {
         "center": {
          "lat": 22,
          "lon": 79
         },
         "zoom": 3
        },
        "margin": {
         "t": 60
        },
        "template": {
         "data": {
          "bar": [
           {
            "error_x": {
             "color": "#2a3f5f"
            },
            "error_y": {
             "color": "#2a3f5f"
            },
            "marker": {
             "line": {
              "color": "#E5ECF6",
              "width": 0.5
             },
             "pattern": {
              "fillmode": "overlay",
              "size": 10,
              "solidity": 0.2
             }
            },
            "type": "bar"
           }
          ],
          "barpolar": [
           {
            "marker": {
             "line": {
              "color": "#E5ECF6",
              "width": 0.5
             },
             "pattern": {
              "fillmode": "overlay",
              "size": 10,
              "solidity": 0.2
             }
            },
            "type": "barpolar"
           }
          ],
          "carpet": [
           {
            "aaxis": {
             "endlinecolor": "#2a3f5f",
             "gridcolor": "white",
             "linecolor": "white",
             "minorgridcolor": "white",
             "startlinecolor": "#2a3f5f"
            },
            "baxis": {
             "endlinecolor": "#2a3f5f",
             "gridcolor": "white",
             "linecolor": "white",
             "minorgridcolor": "white",
             "startlinecolor": "#2a3f5f"
            },
            "type": "carpet"
           }
          ],
          "choropleth": [
           {
            "colorbar": {
             "outlinewidth": 0,
             "ticks": ""
            },
            "type": "choropleth"
           }
          ],
          "contour": [
           {
            "colorbar": {
             "outlinewidth": 0,
             "ticks": ""
            },
            "colorscale": [
             [
              0,
              "#0d0887"
             ],
             [
              0.1111111111111111,
              "#46039f"
             ],
             [
              0.2222222222222222,
              "#7201a8"
             ],
             [
              0.3333333333333333,
              "#9c179e"
             ],
             [
              0.4444444444444444,
              "#bd3786"
             ],
             [
              0.5555555555555556,
              "#d8576b"
             ],
             [
              0.6666666666666666,
              "#ed7953"
             ],
             [
              0.7777777777777778,
              "#fb9f3a"
             ],
             [
              0.8888888888888888,
              "#fdca26"
             ],
             [
              1,
              "#f0f921"
             ]
            ],
            "type": "contour"
           }
          ],
          "contourcarpet": [
           {
            "colorbar": {
             "outlinewidth": 0,
             "ticks": ""
            },
            "type": "contourcarpet"
           }
          ],
          "heatmap": [
           {
            "colorbar": {
             "outlinewidth": 0,
             "ticks": ""
            },
            "colorscale": [
             [
              0,
              "#0d0887"
             ],
             [
              0.1111111111111111,
              "#46039f"
             ],
             [
              0.2222222222222222,
              "#7201a8"
             ],
             [
              0.3333333333333333,
              "#9c179e"
             ],
             [
              0.4444444444444444,
              "#bd3786"
             ],
             [
              0.5555555555555556,
              "#d8576b"
             ],
             [
              0.6666666666666666,
              "#ed7953"
             ],
             [
              0.7777777777777778,
              "#fb9f3a"
             ],
             [
              0.8888888888888888,
              "#fdca26"
             ],
             [
              1,
              "#f0f921"
             ]
            ],
            "type": "heatmap"
           }
          ],
          "histogram": [
           {
            "marker": {
             "pattern": {
              "fillmode": "overlay",
              "size": 10,
              "solidity": 0.2
             }
            },
            "type": "histogram"
           }
          ],
          "histogram2d": [
           {
            "colorbar": {
             "outlinewidth": 0,
             "ticks": ""
            },
            "colorscale": [
             [
              0,
              "#0d0887"
             ],
             [
              0.1111111111111111,
              "#46039f"
             ],
             [
              0.2222222222222222,
              "#7201a8"
             ],
             [
              0.3333333333333333,
              "#9c179e"
             ],
             [
              0.4444444444444444,
              "#bd3786"
             ],
             [
              0.5555555555555556,
              "#d8576b"
             ],
             [
              0.6666666666666666,
              "#ed7953"
             ],
             [
              0.7777777777777778,
              "#fb9f3a"
             ],
             [
              0.8888888888888888,
              "#fdca26"
             ],
             [
              1,
              "#f0f921"
             ]
            ],
            "type": "histogram2d"
           }
          ],
          "histogram2dcontour": [
           {
            "colorbar": {
             "outlinewidth": 0,
             "ticks": ""
            },
            "colorscale": [
             [
              0,
              "#0d0887"
             ],
             [
              0.1111111111111111,
              "#46039f"
             ],
             [
              0.2222222222222222,
              "#7201a8"
             ],
             [
              0.3333333333333333,
              "#9c179e"
             ],
             [
              0.4444444444444444,
              "#bd3786"
             ],
             [
              0.5555555555555556,
              "#d8576b"
             ],
             [
              0.6666666666666666,
              "#ed7953"
             ],
             [
              0.7777777777777778,
              "#fb9f3a"
             ],
             [
              0.8888888888888888,
              "#fdca26"
             ],
             [
              1,
              "#f0f921"
             ]
            ],
            "type": "histogram2dcontour"
           }
          ],
          "mesh3d": [
           {
            "colorbar": {
             "outlinewidth": 0,
             "ticks": ""
            },
            "type": "mesh3d"
           }
          ],
          "parcoords": [
           {
            "line": {
             "colorbar": {
              "outlinewidth": 0,
              "ticks": ""
             }
            },
            "type": "parcoords"
           }
          ],
          "pie": [
           {
            "automargin": true,
            "type": "pie"
           }
          ],
          "scatter": [
           {
            "fillpattern": {
             "fillmode": "overlay",
             "size": 10,
             "solidity": 0.2
            },
            "type": "scatter"
           }
          ],
          "scatter3d": [
           {
            "line": {
             "colorbar": {
              "outlinewidth": 0,
              "ticks": ""
             }
            },
            "marker": {
             "colorbar": {
              "outlinewidth": 0,
              "ticks": ""
             }
            },
            "type": "scatter3d"
           }
          ],
          "scattercarpet": [
           {
            "marker": {
             "colorbar": {
              "outlinewidth": 0,
              "ticks": ""
             }
            },
            "type": "scattercarpet"
           }
          ],
          "scattergeo": [
           {
            "marker": {
             "colorbar": {
              "outlinewidth": 0,
              "ticks": ""
             }
            },
            "type": "scattergeo"
           }
          ],
          "scattergl": [
           {
            "marker": {
             "colorbar": {
              "outlinewidth": 0,
              "ticks": ""
             }
            },
            "type": "scattergl"
           }
          ],
          "scattermap": [
           {
            "marker": {
             "colorbar": {
              "outlinewidth": 0,
              "ticks": ""
             }
            },
            "type": "scattermap"
           }
          ],
          "scattermapbox": [
           {
            "marker": {
             "colorbar": {
              "outlinewidth": 0,
              "ticks": ""
             }
            },
            "type": "scattermapbox"
           }
          ],
          "scatterpolar": [
           {
            "marker": {
             "colorbar": {
              "outlinewidth": 0,
              "ticks": ""
             }
            },
            "type": "scatterpolar"
           }
          ],
          "scatterpolargl": [
           {
            "marker": {
             "colorbar": {
              "outlinewidth": 0,
              "ticks": ""
             }
            },
            "type": "scatterpolargl"
           }
          ],
          "scatterternary": [
           {
            "marker": {
             "colorbar": {
              "outlinewidth": 0,
              "ticks": ""
             }
            },
            "type": "scatterternary"
           }
          ],
          "surface": [
           {
            "colorbar": {
             "outlinewidth": 0,
             "ticks": ""
            },
            "colorscale": [
             [
              0,
              "#0d0887"
             ],
             [
              0.1111111111111111,
              "#46039f"
             ],
             [
              0.2222222222222222,
              "#7201a8"
             ],
             [
              0.3333333333333333,
              "#9c179e"
             ],
             [
              0.4444444444444444,
              "#bd3786"
             ],
             [
              0.5555555555555556,
              "#d8576b"
             ],
             [
              0.6666666666666666,
              "#ed7953"
             ],
             [
              0.7777777777777778,
              "#fb9f3a"
             ],
             [
              0.8888888888888888,
              "#fdca26"
             ],
             [
              1,
              "#f0f921"
             ]
            ],
            "type": "surface"
           }
          ],
          "table": [
           {
            "cells": {
             "fill": {
              "color": "#EBF0F8"
             },
             "line": {
              "color": "white"
             }
            },
            "header": {
             "fill": {
              "color": "#C8D4E3"
             },
             "line": {
              "color": "white"
             }
            },
            "type": "table"
           }
          ]
         },
         "layout": {
          "annotationdefaults": {
           "arrowcolor": "#2a3f5f",
           "arrowhead": 0,
           "arrowwidth": 1
          },
          "autotypenumbers": "strict",
          "coloraxis": {
           "colorbar": {
            "outlinewidth": 0,
            "ticks": ""
           }
          },
          "colorscale": {
           "diverging": [
            [
             0,
             "#8e0152"
            ],
            [
             0.1,
             "#c51b7d"
            ],
            [
             0.2,
             "#de77ae"
            ],
            [
             0.3,
             "#f1b6da"
            ],
            [
             0.4,
             "#fde0ef"
            ],
            [
             0.5,
             "#f7f7f7"
            ],
            [
             0.6,
             "#e6f5d0"
            ],
            [
             0.7,
             "#b8e186"
            ],
            [
             0.8,
             "#7fbc41"
            ],
            [
             0.9,
             "#4d9221"
            ],
            [
             1,
             "#276419"
            ]
           ],
           "sequential": [
            [
             0,
             "#0d0887"
            ],
            [
             0.1111111111111111,
             "#46039f"
            ],
            [
             0.2222222222222222,
             "#7201a8"
            ],
            [
             0.3333333333333333,
             "#9c179e"
            ],
            [
             0.4444444444444444,
             "#bd3786"
            ],
            [
             0.5555555555555556,
             "#d8576b"
            ],
            [
             0.6666666666666666,
             "#ed7953"
            ],
            [
             0.7777777777777778,
             "#fb9f3a"
            ],
            [
             0.8888888888888888,
             "#fdca26"
            ],
            [
             1,
             "#f0f921"
            ]
           ],
           "sequentialminus": [
            [
             0,
             "#0d0887"
            ],
            [
             0.1111111111111111,
             "#46039f"
            ],
            [
             0.2222222222222222,
             "#7201a8"
            ],
            [
             0.3333333333333333,
             "#9c179e"
            ],
            [
             0.4444444444444444,
             "#bd3786"
            ],
            [
             0.5555555555555556,
             "#d8576b"
            ],
            [
             0.6666666666666666,
             "#ed7953"
            ],
            [
             0.7777777777777778,
             "#fb9f3a"
            ],
            [
             0.8888888888888888,
             "#fdca26"
            ],
            [
             1,
             "#f0f921"
            ]
           ]
          },
          "colorway": [
           "#636efa",
           "#EF553B",
           "#00cc96",
           "#ab63fa",
           "#FFA15A",
           "#19d3f3",
           "#FF6692",
           "#B6E880",
           "#FF97FF",
           "#FECB52"
          ],
          "font": {
           "color": "#2a3f5f"
          },
          "geo": {
           "bgcolor": "white",
           "lakecolor": "white",
           "landcolor": "#E5ECF6",
           "showlakes": true,
           "showland": true,
           "subunitcolor": "white"
          },
          "hoverlabel": {
           "align": "left"
          },
          "hovermode": "closest",
          "mapbox": {
           "style": "light"
          },
          "paper_bgcolor": "white",
          "plot_bgcolor": "#E5ECF6",
          "polar": {
           "angularaxis": {
            "gridcolor": "white",
            "linecolor": "white",
            "ticks": ""
           },
           "bgcolor": "#E5ECF6",
           "radialaxis": {
            "gridcolor": "white",
            "linecolor": "white",
            "ticks": ""
           }
          },
          "scene": {
           "xaxis": {
            "backgroundcolor": "#E5ECF6",
            "gridcolor": "white",
            "gridwidth": 2,
            "linecolor": "white",
            "showbackground": true,
            "ticks": "",
            "zerolinecolor": "white"
           },
           "yaxis": {
            "backgroundcolor": "#E5ECF6",
            "gridcolor": "white",
            "gridwidth": 2,
            "linecolor": "white",
            "showbackground": true,
            "ticks": "",
            "zerolinecolor": "white"
           },
           "zaxis": {
            "backgroundcolor": "#E5ECF6",
            "gridcolor": "white",
            "gridwidth": 2,
            "linecolor": "white",
            "showbackground": true,
            "ticks": "",
            "zerolinecolor": "white"
           }
          },
          "shapedefaults": {
           "line": {
            "color": "#2a3f5f"
           }
          },
          "ternary": {
           "aaxis": {
            "gridcolor": "white",
            "linecolor": "white",
            "ticks": ""
           },
           "baxis": {
            "gridcolor": "white",
            "linecolor": "white",
            "ticks": ""
           },
           "bgcolor": "#E5ECF6",
           "caxis": {
            "gridcolor": "white",
            "linecolor": "white",
            "ticks": ""
           }
          },
          "title": {
           "x": 0.05
          },
          "xaxis": {
           "automargin": true,
           "gridcolor": "white",
           "linecolor": "white",
           "ticks": "",
           "title": {
            "standoff": 15
           },
           "zerolinecolor": "white",
           "zerolinewidth": 2
          },
          "yaxis": {
           "automargin": true,
           "gridcolor": "white",
           "linecolor": "white",
           "ticks": "",
           "title": {
            "standoff": 15
           },
           "zerolinecolor": "white",
           "zerolinewidth": 2
          }
         }
        },
        "width": 800
       }
      }
     },
     "metadata": {},
     "output_type": "display_data"
    }
   ],
   "source": [
    "fig = px.scatter_map(df, lat='lat',\n",
    "                     lon='lon',\n",
    "                     text=\"District\", # which column to use to set the color of markers # column added to hover information\n",
    "                     size=\"Population\", # size of markers\n",
    "                     color='State',\n",
    "                     hover_name='literacy_rate',\n",
    "                     zoom=3,\n",
    "                     width=800,\n",
    "                     height=550,\n",
    "                     center={'lat':22,\n",
    "                             'lon':79}\n",
    "                     )\n",
    "# Zoom to INDIA only not whole has paramster visible which helps!!\n",
    "fig.update_geos(fitbounds=\"locations\",visible = False)\n",
    "fig.show()"
   ]
  },
  {
   "cell_type": "code",
   "execution_count": 6,
   "id": "af2ac1f4",
   "metadata": {},
   "outputs": [],
   "source": [
    "\n",
    "df = df.rename(columns={\"Latitude\": \"lat\", \"Longitude\": \"lon\"})\n"
   ]
  },
  {
   "cell_type": "code",
   "execution_count": 7,
   "id": "56ad8497",
   "metadata": {},
   "outputs": [],
   "source": [
    "state_list = df['State'].unique().tolist()"
   ]
  },
  {
   "cell_type": "code",
   "execution_count": 8,
   "id": "eeba9011",
   "metadata": {},
   "outputs": [
    {
     "data": {
      "text/plain": [
       "31"
      ]
     },
     "execution_count": 8,
     "metadata": {},
     "output_type": "execute_result"
    }
   ],
   "source": [
    "len(state_list)"
   ]
  },
  {
   "cell_type": "code",
   "execution_count": 9,
   "id": "be52326e",
   "metadata": {},
   "outputs": [
    {
     "data": {
      "text/plain": [
       "['Andhra Pradesh',\n",
       " 'Arunachal Pradesh',\n",
       " 'Assam',\n",
       " 'Bihar',\n",
       " 'Maharashtra',\n",
       " 'Chandigarh',\n",
       " 'Chhattisgarh',\n",
       " 'Himachal Pradesh',\n",
       " 'Daman and Diu',\n",
       " 'Gujarat',\n",
       " 'Goa',\n",
       " 'Haryana',\n",
       " 'Uttar Pradesh',\n",
       " 'Jammu and Kashmir',\n",
       " 'Jharkhand',\n",
       " 'Karnataka',\n",
       " 'Kerala',\n",
       " 'Madhya Pradesh',\n",
       " 'Manipur',\n",
       " 'Meghalaya',\n",
       " 'Mizoram',\n",
       " 'Nagaland',\n",
       " 'Orissa',\n",
       " 'Puducherry',\n",
       " 'Punjab',\n",
       " 'Rajasthan',\n",
       " 'Sikkim',\n",
       " 'Tamil Nadu',\n",
       " 'Tripura',\n",
       " 'Uttaranchal',\n",
       " 'West Bengal']"
      ]
     },
     "execution_count": 9,
     "metadata": {},
     "output_type": "execute_result"
    }
   ],
   "source": [
    "state_list"
   ]
  },
  {
   "cell_type": "code",
   "execution_count": 10,
   "id": "5697f987",
   "metadata": {},
   "outputs": [
    {
     "data": {
      "application/vnd.plotly.v1+json": {
       "config": {
        "plotlyServerURL": "https://plot.ly"
       },
       "data": [
        {
         "hovertemplate": "<b>%{hovertext}</b><br><br>State=Andhra Pradesh<br>Population=%{marker.size}<br>District=%{text}<br>lat=%{lat}<br>lon=%{lon}<extra></extra>",
         "hovertext": {
          "bdata": "AAAAAAAAS0AAAAAAAIBMQAAAAAAAAFBAAAAAAAAAUEAAAAAAAIBOQAAAAAAAQFJAAAAAAAAATUAAAAAAAABNQAAAAAAAwFBAAAAAAAAASkAAAAAAAABIQAAAAAAAAEtAAAAAAACATEAAAAAAAABLQAAAAAAAAExAAAAAAACAS0AAAAAAAIBKQAAAAAAAgE1AAAAAAADAUEA=",
          "dtype": "f8"
         },
         "lat": {
          "bdata": "OdL+59VIM0D8pawOx58sQIZoKfmEqSpATsBVOmDIMEA8wn79FMUvQIbaDWbEYzFAgsPgtPaDMkBoIsx3Fa8xQGmSQdjUJDBAU2HcuwzgLkAIdiVNuaMwQOzXtH2p4zFAMSxc/P0cMUD8ytvI8m0yQBSy7FFj+i5AwqhekSaSMkAgrEsmhkgyQBlO8pZ8BDJAGqHG8AqiMEA=",
          "dtype": "f8"
         },
         "legendgroup": "Andhra Pradesh",
         "lon": {
          "bdata": "Wqu/qwu0U0C5IWs8c11TQJbp629eu1NAjKYStpCPVEALo6d2iiVUQMzLEjvenVNALAYfhwLcU0DPKjuy4ipUQLgHRKl5SVRA40vK06d5U0BP/4QyUX9TQOCfCInRiFNAN/idu97KU0AM1RCm0IRTQMY4tFJ3B1RAMupbVI8QVUD5ZrHUbd1UQFibqDnz91NApk1nYmJdVEA=",
          "dtype": "f8"
         },
         "marker": {
          "color": "#636efa",
          "size": {
           "bdata": "99MpAPxFPgDwsD8A+KVOAAWVSgCbKzwADZ85ADqvKgAW7kQA19k9ACTYPQDISC4AKTw1ACfuJgBI1zMACj8pABrGIwAAmTUAxhI8AA==",
           "dtype": "i4"
          },
          "sizemode": "area",
          "sizeref": 27650.37
         },
         "mode": "markers+text",
         "name": "Andhra Pradesh",
         "showlegend": true,
         "subplot": "map",
         "text": [
          "Adilabad",
          "Anantapur",
          "Chittoor",
          "East Godavari",
          "Guntur",
          "Hyderabad",
          "Karimnagar",
          "Khammam",
          "Krishna",
          "Kurnool",
          "Mahbubnagar",
          "Medak",
          "Nalgonda",
          "Nizamabad",
          "Prakasam",
          "Srikakulam",
          "Vizianagaram",
          "Warangal",
          "West Godavari"
         ],
         "type": "scattermap"
        },
        {
         "hovertemplate": "<b>%{hovertext}</b><br><br>State=Arunachal Pradesh<br>Population=%{marker.size}<br>District=%{text}<br>lat=%{lat}<br>lon=%{lon}<extra></extra>",
         "hovertext": {
          "bdata": "AAAAAACASEAAAAAAAIBIQAAAAAAAgE9AAAAAAAAAREAAAAAAAIBMQAAAAAAAgE1AAAAAAABAUEAAAAAAAEBRQAAAAAAAAEpAAAAAAACARUAAAAAAAABKQAAAAAAAAEtAAAAAAAAATUAAAAAAAABNQA==",
          "dtype": "f8"
         },
         "lat": {
          "bdata": "CE8+u0hcO0DTv9qSBl87QMYtlPpgJzxA9ZdQsWwMPED8CwyFYPI7QGKJSaOWUzxAXl2ky1+1O0AH6yQLBkY7QBLW3E1BrjtAicMKEa7xOkBvHqV3t9Q8QETIq1r2RjxAlONRcgF3O0B2T2RGNhs8QA==",
          "dtype": "f8"
         },
         "legendgroup": "Arunachal Pradesh",
         "lon": {
          "bdata": "22MToAgYWEBRaVbYCENXQGHdS9UoxFdAz8ZsUrNPV0CME4R1MCZYQGlK0soA8VdAQF2Ar5V9V0Dh+TcR3GJXQOYt3H7N9FZAvuCef4raV0A4PUWFGcBXQHOMcJGLeVdAn8o4LpwpV0B834EiP6JXQA==",
          "dtype": "f8"
         },
         "marker": {
          "color": "#EF553B",
          "size": {
           "bdata": "AkMCAGIzAQCOgwEArGcBAD45AgBA0wAAVkQBAL2xAgA5wwAAZ7UBAPiJAAD4RQEA60cBAJK2AQA=",
           "dtype": "i4"
          },
          "sizemode": "area",
          "sizeref": 27650.37
         },
         "mode": "markers+text",
         "name": "Arunachal Pradesh",
         "showlegend": true,
         "subplot": "map",
         "text": [
          "Changlang",
          "East Kameng",
          "East Siang",
          "Kurung Kumey",
          "Lohit",
          "Lower Dibang Valley",
          "Lower Subansiri",
          "Papum Pare",
          "Tawang",
          "Tirap",
          "Upper Siang",
          "Upper Subansiri",
          "West Kameng",
          "West Siang"
         ],
         "type": "scattermap"
        },
        {
         "hovertemplate": "<b>%{hovertext}</b><br><br>State=Assam<br>Population=%{marker.size}<br>District=%{text}<br>lat=%{lat}<br>lon=%{lon}<extra></extra>",
         "hovertext": {
          "bdata": "AAAAAACASkAAAAAAAIBNQAAAAAAAAFFAAAAAAAAASkAAAAAAAABPQAAAAAAAwFBAAAAAAAAATEAAAAAAAABRQAAAAAAAAE9AAAAAAABAUkAAAAAAAIBQQAAAAAAAAE1AAAAAAABAUEAAAAAAAIBLQAAAAAAAgFBAAAAAAACATkAAAAAAAEBRQAAAAAAAAE1AAAAAAAAATkA=",
          "dtype": "f8"
         },
         "lat": {
          "bdata": "snRnCYltOkC5wApoO3M6QAWdRT3J0DhA2MYFdKqVOkCYTjAOJ5Y7QMgXFxFeTjtA1IACUWwEOkBT+Yx4kWA6QGT1tXYedThAdWfQzi/DOkDrKxywwis6QJuYdEH0FjpAJlQp2FSyOECWgjaOS386QLO7S3QrJDtAqDaGP75DOkDb74y+lnY6QNL+EL4yvDpAlKs9EBaJO0A=",
          "dtype": "f8"
         },
         "legendgroup": "Assam",
         "lon": {
          "bdata": "ZwBc56m+VkAnMYt4GatWQG/xXHKVN1dARXtOhKYCV0AOs87Wp61XQKG69JVjxldAuxRCFVGmVkBjHMJ22nRXQEjaeObbJVdAuBlJmFOTV0CTnqcorOVWQFYQ1CZiR1dAoi+PfYwXV0CKZ3xY9YhWQBC0tFD3hFdA0Gt5Q487V0B3Q2Wp+9lWQAAb8M6GNldAjVByIDLsV0A=",
          "dtype": "f8"
         },
         "marker": {
          "color": "#00cc96",
          "size": {
           "bdata": "ttcZAPRFCwCpfxoA9CoOADV4CgD/PBQAN2IPAIhHEABgDwoAoKoQAOYnFwCZlw4Ajr8SAGaJDQDZ5g8AWBYrADfGCwAOXB0AOUMUAA==",
           "dtype": "i4"
          },
          "sizemode": "area",
          "sizeref": 27650.37
         },
         "mode": "markers+text",
         "name": "Assam",
         "showlegend": true,
         "subplot": "map",
         "text": [
          "Barpeta",
          "Bongaigaon",
          "Cachar",
          "Darrang",
          "Dhemaji",
          "Dibrugarh",
          "Goalpara",
          "Golaghat",
          "Hailakandi",
          "Jorhat",
          "Kamrup",
          "Karbi Anglong",
          "Karimganj",
          "Kokrajhar",
          "Lakhimpur",
          "Nagaon",
          "Nalbari",
          "Sonitpur",
          "Tinsukia"
         ],
         "type": "scattermap"
        },
        {
         "hovertemplate": "<b>%{hovertext}</b><br><br>State=Bihar<br>Population=%{marker.size}<br>District=%{text}<br>lat=%{lat}<br>lon=%{lon}<extra></extra>",
         "hovertext": {
          "bdata": "AAAAAACARUAAAAAAAABNQAAAAAAAAFFAAAAAAACAR0AAAAAAAABKQAAAAAAAAEpAAAAAAACATUAAAAAAAABNQAAAAAAAAEdAAAAAAAAASkAAAAAAAABLQAAAAAAAgEhAAAAAAACAS0AAAAAAAABFQAAAAAAAAEdAAAAAAAAARkAAAAAAAIBJQAAAAAAAAEVAAAAAAAAASEAAAAAAAIBNQAAAAAAAAEpAAAAAAACASkAAAAAAAIBIQAAAAAAAgEZAAAAAAACATUAAAAAAAIBGQAAAAAAAgERAAAAAAACATkAAAAAAAABFQAAAAAAAAElAAAAAAACAS0AAAAAAAABKQAAAAAAAgEVAAAAAAAAARUAAAAAAAABNQAAAAAAAAEdAAAAAAACAS0A=",
          "dtype": "f8"
         },
         "lat": {
          "bdata": "qRDytCY2OkCGV+j9N8Y4QIZX6P03xjhAniFlQhXVOEBVeLTCA4s5QB5f6Rz2RjlAcAT6wbSBOUA2hLzrZXw5QH128Y5sJTpA9Q62AQa6OEAZCgHd4HI6QEztEkXAyDhAu7X5lNonOUBeqfarzpA5QEEX6FociTlAcOHZuwdTOkCkUOOI9i45QGZtkM7+xTlATG1FJu9pOkC98Eli0zI5QMzHlenHLzpA+Y8kY7Y6OUDhhn+nYdM4QLlbEe8fKTtAsCvxHSlnOUCevPs9aa46QL+r0Zww0TlAV+trWuD9OEDFlN/LPtI5QGj/E4UPyzlAHUrWAYXlOUCywp7v7R85QMGf1HBYdTpAGVvIwtGQOkCFO9V8cyw6QM7JqI4VSDpA8yo8lz/QOUA=",
          "dtype": "f8"
         },
         "legendgroup": "Bihar",
         "lon": {
          "bdata": "mSPYyrDTVUDk6qVZbh1VQOTqpVluHVVAvNRTmXS3VUDgop/aCYhVQNnDLWSywlVAt3R1+Z4fVUCKwrkdowVVQHvHnvFTflVAkIBRrFg8VUDXnHfIKhZVQLdOjKnXkFVAup5Vl+46VUA/QcMpGe1VQC8BNz04pFVAx1CKLNT8VUBMsudcNYhVQC3xWUh2uVVAwFQTPXOKVUDr34bQq6JVQPNftPT0VFVAKU+sBcFeVUCZS3ina2dVQM8EW8ReE1VAB3NHUHhUVUAzpMScPkBVQH/gmO/i2VVAPc8gStj7VEDlV2BE/aJVQDVz332xfFVAzSIvgqY0VUAEPq800XFVQGeuurznUlVAQ8E/gCZnVUB4BeFPnBVVQM06Ydw8slVAYMOJUx5ZVUA=",
          "dtype": "f8"
         },
         "marker": {
          "color": "#ab63fa",
          "size": {
           "bdata": "seYqACnCJgAiejgASwwfAK1TLQBGWi4A16EpAHAJGgBpFDwA+gFDANwXJwCV3BoAwSsRADXcLgBGbxkAIMsZANBFDwBiix4A03hEANXeFAAmQkkA1egrAIrcIQBCCzwAgRZZAGvPTQBr0DEALiotAHUAHQC+BkEA9kw8ALa1CQB2AwoAVj00AKDRMgBUAyIAbVQ1AA==",
           "dtype": "i4"
          },
          "sizemode": "area",
          "sizeref": 27650.37
         },
         "mode": "markers+text",
         "name": "Bihar",
         "showlegend": true,
         "subplot": "map",
         "text": [
          "Araria",
          "Aurangabad",
          "Aurangabad",
          "Banka",
          "Begusarai",
          "Bhagalpur",
          "Bhojpur",
          "Buxar",
          "Darbhanga",
          "Gaya",
          "Gopalganj",
          "Jamui",
          "Jehanabad",
          "Katihar",
          "Khagaria",
          "Kishanganj",
          "Lakhisarai",
          "Madhepura",
          "Madhubani",
          "Munger",
          "Muzaffarpur",
          "Nalanda",
          "Nawada",
          "Pashchim Champaran",
          "Patna",
          "Purba Champaran",
          "Purnia",
          "Rohtas",
          "Saharsa",
          "Samastipur",
          "Saran",
          "Sheikhpura",
          "Sheohar",
          "Sitamarhi",
          "Siwan",
          "Supaul",
          "Vaishali"
         ],
         "type": "scattermap"
        },
        {
         "hovertemplate": "<b>%{hovertext}</b><br><br>State=Maharashtra<br>Population=%{marker.size}<br>District=%{text}<br>lat=%{lat}<br>lon=%{lon}<extra></extra>",
         "hovertext": {
          "bdata": "AAAAAAAATUAAAAAAAABRQAAAAAAAAFBAAAAAAACAUkAAAAAAAIBTQAAAAAAAgFNAAAAAAADAUkAAAAAAAIBQQAAAAAAAQFJAAAAAAAAAUkAAAAAAAIBPQAAAAAAAAFNAAAAAAADAUEAAAAAAAABRQAAAAAAAgE5AAAAAAABAUkAAAAAAAMBQQAAAAAAAwFNAAAAAAABAUEAAAAAAAIBLQAAAAAAAwFFAAAAAAABAUUAAAAAAAIBPQAAAAAAAAFNAAAAAAACAUkAAAAAAAEBSQAAAAAAAgFJAAAAAAACAU0AAAAAAAMBQQAAAAAAAgFJAAAAAAACAU0AAAAAAAEBSQAAAAAAAQFJA",
          "dtype": "f8"
         },
         "lat": {
          "bdata": "bUhdeREZNEBtSF15ERk0QO81S7EIdDJA7zVLsQh0MkCmJRw0Dr80QPc+ezJLKjVAJh0ICzg2NUBa4rFtzfMyQH5/kTQakTRAn6de1nkYNEBSw8EWJkY1QEt+tyaaOTVAWEeIgGKYM0AJ1xJdBeI0QGtHLJEP/DNAlzHpaOVyMEA03KCRQ1kyQGpL8YxRMjVAL448zJU1M0BRgXjW7oU1QEsP5WZURDRAAw768tAxMkB/mwNpcU8zQC0kWJpXhDJAmvoXWM81MUAN7hyBqScxQGbUbI99rDFAnxtbQMMrMEAI+fwWXdYxQGrBbnHisjNAuVybv7PONEAaCrSoQ0g0QBTBB8DmCjRA",
          "dtype": "f8"
         },
         "legendgroup": "Maharashtra",
         "lon": {
          "bdata": "ueButYbUUkC54G61htRSQNc8WHSUQFJA1zxYdJRAUkCgvPcewkdTQJnRk+FAa1NAcVCpFAIHVEC2uThXXexSQL5OhLD4GFNACUOHMjLUU0A2+2CIlKVSQKSKP+s2C1RAYFEPyelFU0BV6eo0SuNSQP+PcuoF/1JA/iy2EUGIUkA02D0jhTBTQA6/BuhiwVNAP7C7trRrU0AHgbWI45RSQFCjPo1yglJAfSzlWq3/UkARkbqP5yxTQKz08EhFiFJAmwoy7nZQUkAKO7TAQa1SQE1dcqaNi1JAQJekvtlgUkCdTcj3IdtSQPwSEf0fM1JActr1VKWkU0BwbvJPUlBTQENLOaxog1NA",
          "dtype": "f8"
         },
         "marker": {
          "color": "#FFA15A",
          "size": {
           "bdata": "KcImACJ6OADgyxYA2DEoAJKtGwD9EiwAzlASANlxJwCSdicAk6IhAC5LHwALLhQAAfcRAB2LQACG5B0AoSQ7ALRyJQACAkcADEozAKcmGQAzMF0A6EoZADYEHACg4Y8A3aQYAP8PKwBd1S0A8/YMADziQQC0w6gAJtkTAGhEEgB8TSoA",
           "dtype": "i4"
          },
          "sizemode": "area",
          "sizeref": 27650.37
         },
         "mode": "markers+text",
         "name": "Maharashtra",
         "showlegend": true,
         "subplot": "map",
         "text": [
          "Aurangabad",
          "Aurangabad",
          "Raigarh",
          "Raigarh",
          "Akola",
          "Amravati",
          "Bhandara",
          "Bid",
          "Buldana",
          "Chandrapur",
          "Dhule",
          "Gondiya",
          "Hingoli",
          "Jalgaon",
          "Jalna",
          "Kolhapur",
          "Latur",
          "Nagpur",
          "Nanded",
          "Nandurbar",
          "Nashik",
          "Osmanabad",
          "Parbhani",
          "Pune",
          "Ratnagiri",
          "Sangli",
          "Satara",
          "Sindhudurg",
          "Solapur",
          "Thane",
          "Wardha",
          "Washim",
          "Yavatmal"
         ],
         "type": "scattermap"
        },
        {
         "hovertemplate": "<b>%{hovertext}</b><br><br>State=Chandigarh<br>Population=%{marker.size}<br>District=%{text}<br>lat=%{lat}<br>lon=%{lon}<extra></extra>",
         "hovertext": {
          "bdata": "AAAAAAAAU0A=",
          "dtype": "f8"
         },
         "lat": {
          "bdata": "dQKaCBu+PkA=",
          "dtype": "f8"
         },
         "legendgroup": "Chandigarh",
         "lon": {
          "bdata": "0bHd8Y4wU0A=",
          "dtype": "f8"
         },
         "marker": {
          "color": "#19d3f3",
          "size": {
           "bdata": "2hoQAA==",
           "dtype": "i4"
          },
          "sizemode": "area",
          "sizeref": 27650.37
         },
         "mode": "markers+text",
         "name": "Chandigarh",
         "showlegend": true,
         "subplot": "map",
         "text": [
          "Chandigarh"
         ],
         "type": "scattermap"
        },
        {
         "hovertemplate": "<b>%{hovertext}</b><br><br>State=Chhattisgarh<br>Population=%{marker.size}<br>District=%{text}<br>lat=%{lat}<br>lon=%{lon}<extra></extra>",
         "hovertext": {
          "bdata": "AAAAAAAAR0AAAAAAAMBSQAAAAAAAAE5AAAAAAAAAUUAAAAAAAEBRQAAAAAAAAE1AAAAAAAAAT0AAAAAAAABOQAAAAAAAAE9AAAAAAAAAUEAAAAAAAIBSQAAAAAAAQFBAAAAAAAAASUA=",
          "dtype": "f8"
         },
         "lat": {
          "bdata": "ra6Pc9RkM0CTL4SdYFs2QJMvhJ1gWzZAdFoCwQ6ONEBR8QBiyDE1QH6HSUPaxTZAzYjS3uB9NkD7HneEDoE3QK531ixGOTVAmuDWqB0CNkCa4NaoHQI2QLPqgPbS4jRAeeEQ6MJTN0A=",
          "dtype": "f8"
         },
         "legendgroup": "Chhattisgarh",
         "lon": {
          "bdata": "12tsVtphVEDmUdFf2n9UQOZR0V/af1RA1FC0XnFwVEAVUtV6PFVUQOiIS5K091RAU5uW5N2kVEAVLdaPAohUQEUG1zgxqlRAHU38X8rRVEAdTfxfytFUQOd91irSjFRAPgN8wRfPVEA=",
          "dtype": "f8"
         },
         "marker": {
          "color": "#FF6692",
          "size": {
           "bdata": "T5AVAATUBQDNpCgAJTQMAAAGMwDV/gwAcGkSAOUNCgAywg8A4MsWANgxKACAAj4ATgIkAA==",
           "dtype": "i4"
          },
          "sizemode": "area",
          "sizeref": 27650.37
         },
         "mode": "markers+text",
         "name": "Chhattisgarh",
         "showlegend": true,
         "subplot": "map",
         "text": [
          "Bastar",
          "Bilaspur",
          "Bilaspur",
          "Dhamtari",
          "Durg",
          "Jashpur",
          "Korba",
          "Koriya",
          "Mahasamund",
          "Raigarh",
          "Raigarh",
          "Raipur",
          "Surguja"
         ],
         "type": "scattermap"
        },
        {
         "hovertemplate": "<b>%{hovertext}</b><br><br>State=Himachal Pradesh<br>Population=%{marker.size}<br>District=%{text}<br>lat=%{lat}<br>lon=%{lon}<extra></extra>",
         "hovertext": {
          "bdata": "AAAAAADAUkAAAAAAAABOQAAAAAAAAE9AAAAAAADAU0AAAAAAAIBNQAAAAAAAAFNAAAAAAAAAUkAAAAAAAIBRQAAAAAAAAFJAAAAAAADAUkAAAAAAAABRQAAAAAAAgFJAAAAAAABAU0A=",
          "dtype": "f8"
         },
         "lat": {
          "bdata": "fkUrYcdgP0B+RSthx2A/QP/RMvVtVUBAlTE5NzutP0CVMTk3O60/QPb3IDEKEkBANAmD2E6bP0BxaYkJvOg/QDl0mS3Eoj9Av6qKn90nP0C9orimya4+QIx29YPkCT9Ayz0/Z1OVP0A=",
          "dtype": "f8"
         },
         "legendgroup": "Himachal Pradesh",
         "lon": {
          "bdata": "aTDtYs0pU0BpMO1izSlTQLAfC8UvGVNAhff81tkfU0CF9/zW2R9TQNGgKy1fGlNAXjEBZQihU0AXkVHEMFpTQHnSNOPLPVNAbFCc9wtoU0B2zihho1tTQHTie2ZxPFNAR6a0G78LU0A=",
          "dtype": "f8"
         },
         "marker": {
          "color": "#B6E880",
          "size": {
           "bdata": "BNQFAM2kKACo6wcAcPAGAJ3ZEAC7ChcAmUgBAI+uBgBhQQ8AumsMAL8VCADg2ggA1fMHAA==",
           "dtype": "i4"
          },
          "sizemode": "area",
          "sizeref": 27650.37
         },
         "mode": "markers+text",
         "name": "Himachal Pradesh",
         "showlegend": true,
         "subplot": "map",
         "text": [
          "Bilaspur",
          "Bilaspur",
          "Chamba",
          "Hamirpur",
          "Hamirpur",
          "Kangra",
          "Kinnaur",
          "Kullu",
          "Mandi",
          "Shimla",
          "Sirmaur",
          "Solan",
          "Una"
         ],
         "type": "scattermap"
        },
        {
         "hovertemplate": "<b>%{hovertext}</b><br><br>State=Daman and Diu<br>Population=%{marker.size}<br>District=%{text}<br>lat=%{lat}<br>lon=%{lon}<extra></extra>",
         "hovertext": {
          "bdata": "AAAAAADAU0AAAAAAAMBQQA==",
          "dtype": "f8"
         },
         "lat": {
          "bdata": "7r0Lbn5uNEBqvZNLxrk0QA==",
          "dtype": "f8"
         },
         "legendgroup": "Daman and Diu",
         "lon": {
          "bdata": "OVJ1DbY1UkCUwQ01wLVRQA==",
          "dtype": "f8"
         },
         "marker": {
          "color": "#FF97FF",
          "size": {
           "bdata": "xeoCACrbKQA=",
           "dtype": "i4"
          },
          "sizemode": "area",
          "sizeref": 27650.37
         },
         "mode": "markers+text",
         "name": "Daman and Diu",
         "showlegend": true,
         "subplot": "map",
         "text": [
          "Daman",
          "Junagadh"
         ],
         "type": "scattermap"
        },
        {
         "hovertemplate": "<b>%{hovertext}</b><br><br>State=Gujarat<br>Population=%{marker.size}<br>District=%{text}<br>lat=%{lat}<br>lon=%{lon}<extra></extra>",
         "hovertext": {
          "bdata": "AAAAAADAUEAAAAAAAMBSQAAAAAAAgFBAAAAAAACAUkAAAAAAAIBLQAAAAAAAAFJAAAAAAACAUEAAAAAAAIBSQAAAAAAAQFBAAAAAAAAATkAAAAAAAABSQAAAAAAAgFJAAAAAAACAT0AAAAAAAMBSQAAAAAAAAE5AAAAAAAAAT0AAAAAAAMBQQAAAAAAAAFJAAAAAAABAUEAAAAAAAMBSQAAAAAAAAE9AAAAAAAAAT0AAAAAAAEBRQAAAAAAAQFFA",
          "dtype": "f8"
         },
         "lat": {
          "bdata": "U75XOPXtNEBJt3kr/Zo2QK1uAyBfDDVAtb1pOGBINkBmoxGcL0I4QObwCPMDwjVAzqDK+sKzNUAUD6z/lDE3QCz81hsdaTZA3inNxAZ7N0A6ETY8PeM2QMUDxtaDhzdAzopE7Oe0NUBPD6P28d00QKcDgEfqzTZAvNGlbWzON0BECNZSCY01QJrzYdTxZzZAdzYnNNG3N0Dijyf58kE1QFJzPO2j0zZAg3K34DfNNEC/R+MB50I2QBxzrfc/cTRA",
          "dtype": "f8"
         },
         "legendgroup": "Gujarat",
         "lon": {
          "bdata": "z1a+mQejUUBNBXV4Sw9SQNYNcRnQ21FAb1bmAvskUkC1RKa/pvtRQIM0p78WK1JAgtKvG2oKUkBss5qZBStSQC+/MD24Z1FAk0r9Ypo0UUAwKqkTNEFSQIS25R8mHVJAnAOFLsdrUkAGhXGHKDdSQM9IfI6rZ1JALkfBsxrwUUB0YDuaA25RQFq/EgqOtVFA1HRVlLpIUkAiHPgw1TtSQCpYmhjz3lFAsbrc9A1sUkDyXLoao19SQOHWlAqNOlJA",
          "dtype": "f8"
         },
         "marker": {
          "color": "#FECB52",
          "size": {
           "bdata": "KtspAJEUbgDOGhcAye4fAHqdLwCrqhcAbfMrAIk8FQD39SAAU+0fAO0XIwB4DR8A2QEJAAhKFAD4eiQA9oAUAOnuCACODToArQ4lACrLXABszBoAw3sDAPqPPwDOBhoA",
           "dtype": "i4"
          },
          "sizemode": "area",
          "sizeref": 27650.37
         },
         "mode": "markers+text",
         "name": "Gujarat",
         "showlegend": true,
         "subplot": "map",
         "text": [
          "Junagadh",
          "Ahmadabad",
          "Amreli",
          "Anand",
          "Banas Kantha",
          "Bharuch",
          "Bhavnagar",
          "Gandhinagar",
          "Jamnagar",
          "Kachchh",
          "Kheda",
          "Mahesana",
          "Narmada",
          "Navsari",
          "Panch Mahals",
          "Patan",
          "Porbandar",
          "Rajkot",
          "Sabar Kantha",
          "Surat",
          "Surendranagar",
          "The Dangs",
          "Vadodara",
          "Valsad"
         ],
         "type": "scattermap"
        },
        {
         "hovertemplate": "<b>%{hovertext}</b><br><br>State=Goa<br>Population=%{marker.size}<br>District=%{text}<br>lat=%{lat}<br>lon=%{lon}<extra></extra>",
         "hovertext": {
          "bdata": "AAAAAABAVEAAAAAAAIBTQA==",
          "dtype": "f8"
         },
         "lat": {
          "bdata": "NNqjRvIYL0AiA3WQ+2MuQA==",
          "dtype": "f8"
         },
         "legendgroup": "Goa",
         "lon": {
          "bdata": "/iEQpaBzUkDnzHRURnxSQA==",
          "dtype": "f8"
         },
         "marker": {
          "color": "#636efa",
          "size": {
           "bdata": "WHsMABnGCQA=",
           "dtype": "i4"
          },
          "sizemode": "area",
          "sizeref": 27650.37
         },
         "mode": "markers+text",
         "name": "Goa",
         "showlegend": true,
         "subplot": "map",
         "text": [
          "North Goa",
          "South Goa"
         ],
         "type": "scattermap"
        },
        {
         "hovertemplate": "<b>%{hovertext}</b><br><br>State=Haryana<br>Population=%{marker.size}<br>District=%{text}<br>lat=%{lat}<br>lon=%{lon}<extra></extra>",
         "hovertext": {
          "bdata": "AAAAAAAAUkAAAAAAAEBQQAAAAAAAgFFAAAAAAACATUAAAAAAAEBSQAAAAAAAAFBAAAAAAADAUUAAAAAAAABPQAAAAAAAAE5AAAAAAABAUEAAAAAAAMBQQAAAAAAAAFFAAAAAAAAAUkAAAAAAAEBQQAAAAAAAwFFAAAAAAACAUUAAAAAAAABOQA==",
          "dtype": "f8"
         },
         "lat": {
          "bdata": "HHq5qrFZPkASMvQYl7o8QC/svz0TJjxAAlisBq+SPUAStV2wPAs8QGn4QVN9PD1AgbfDcrWYPEBlUSdjlXM9QDPcT3rv9T1AHHYm9QS0PUBsw/OGeA4+QMU+fIadIjxAZm7C/m2zPkA9EL8D8Vc9QNVFmskPMTxAcjhZCXzkPECZcSEMxqI9QA==",
          "dtype": "f8"
         },
         "legendgroup": "Haryana",
         "lon": {
          "bdata": "Fr2K78c8U0CREEm9WQFTQJGE45rwVFNAu/uXF/PiUkDE9D4NPUFTQFP1isH39VJAFdugtSAnU0B7QD5u8RJTQGkNu5cgGFNA+/jECf43U0BxLZFxajJTQDLTl7j4CFNA5SkD3TA+U0DUNhARdDtTQNqwENXPI1NAaJ37tf8hU0Aarn2aOLpSQA==",
          "dtype": "f8"
         },
         "marker": {
          "color": "#EF553B",
          "size": {
           "bdata": "njcRAI3wGABFnRsAu18OAMAbFwA7nBoAxZ8OAIhbFACAZBAALPgWAC+4DgDoEQ4AjZAIAL1kEgDsvA0AVDEQAFXDEwA=",
           "dtype": "i4"
          },
          "sizemode": "area",
          "sizeref": 27650.37
         },
         "mode": "markers+text",
         "name": "Haryana",
         "showlegend": true,
         "subplot": "map",
         "text": [
          "Ambala",
          "Bhiwani",
          "Faridabad",
          "Fatehabad",
          "Gurgaon",
          "Hisar",
          "Jhajjar",
          "Jind",
          "Kaithal",
          "Karnal",
          "Kurukshetra",
          "Mahendragarh",
          "Panchkula",
          "Panipat",
          "Rewari",
          "Rohtak",
          "Sirsa"
         ],
         "type": "scattermap"
        },
        {
         "hovertemplate": "<b>%{hovertext}</b><br><br>State=Uttar Pradesh<br>Population=%{marker.size}<br>District=%{text}<br>lat=%{lat}<br>lon=%{lon}<extra></extra>",
         "hovertext": {
          "bdata": "AAAAAADAU0AAAAAAAIBNQAAAAAAAgE5AAAAAAACATEAAAAAAAABPQAAAAAAAAE9AAAAAAADAUEAAAAAAAABOQAAAAAAAgE5AAAAAAAAAREAAAAAAAIBOQAAAAAAAAERAAAAAAAAATEAAAAAAAABKQAAAAAAAgEhAAAAAAACATEAAAAAAAABNQAAAAAAAAE1AAAAAAAAATkAAAAAAAABLQAAAAAAAAE5AAAAAAACATUAAAAAAAMBQQAAAAAAAgE1AAAAAAAAATUAAAAAAAIBMQAAAAAAAgE5AAAAAAAAAUUAAAAAAAMBQQAAAAAAAgE5AAAAAAACASEAAAAAAAIBOQAAAAAAAAEtAAAAAAAAAUEAAAAAAAIBOQAAAAAAAQFBAAAAAAACASkAAAAAAAIBOQAAAAAAAQFBAAAAAAACASUAAAAAAAIBLQAAAAAAAAEpAAAAAAAAAUUAAAAAAAABMQAAAAAAAAFBAAAAAAACATUAAAAAAAABPQAAAAAAAAE9AAAAAAACATEAAAAAAAIBHQAAAAAAAAE1AAAAAAAAASkAAAAAAAABHQAAAAAAAAE5AAAAAAAAATUAAAAAAAIBGQAAAAAAAAE5AAAAAAAAATEAAAAAAAABJQAAAAAAAgElAAAAAAACASkAAAAAAAIBNQAAAAAAAgExAAAAAAABAUEA=",
          "dtype": "f8"
         },
         "lat": {
          "bdata": "vtKb8ve8OUC+0pvy97w5QJatv9LA/jpASy08Ef/vO0CualGlXGQ5QCcZfAslZDpAPHRumT6rOkAzmyNbHwI6QIzecB+5Cz1AaCFrQBixO0CHt8KHWtw5QOS6E672cjtA0CzLMRVaOUCZ33gdO+w6QHmH/CrSgjxA2wuBMHnVOkC6HfmdYFA9QGwPtj5IWTxA9COt4ToeOUAaD/XR8Cg5QMGEwYwUbDpAiypS9FWXO0AZt8Tyxck6QMydeLobmzpAvB3SrlxzO0CXwhA4YtY5QPOrZfaqNTtAU35BCLBkPECpl3Q8/r88QMshgPbtnzlAobBGRz8oO0CA6BazFqI6QO3TMnFgVjtAunLJeGUROkDcNjTKj7M5QJBan1CwdDlAk8t+BdnePEDbar4Jdv46QG8Rv7MzbjpACVYAIC+JOUCrte/jfOQ6QLV9ery5ljhAZT78eZbWOkDF4VddZVg5QDGxcaeCLDtAg8oxHQqYO0Bv66o7xQI6QCd7QE+SBz1AIodc4yEaOUDiSBagDdo8QLni+DVzeD1A6M03kC6FPEDB3VBVZt05QMHdUFVm3TlAFmvKxv9AOkAIArRDG9U8QItPZOGnCD5AkYm9EabKOkA8pEaxy/07QEkztM6CgDtAMuuS5oh3OEA2dvoT3kg6QCrNLyezoTpA3aqvX05cOUA=",
          "dtype": "f8"
         },
         "legendgroup": "Uttar Pradesh",
         "lon": {
          "bdata": "eAwlYOD0U0B4DCVg4PRTQDedl8tgg1NALiSLDhiAU0AVkiZ0T4NUQD0uplizq1RAW1zNp0nbU0C8GAztx8BUQGWtodReU1NA0cpRZvBdVEDy9BZXVgJVQB2yj2sunlRA48LAiJchVECtnLNN41ZUQLGUGsWj21NAw86LfaqsVEDGCmz93JxTQMspMGaxgFNADfAjTzLQVECATQQD6ERUQI+Q3RXD9FRArqibYdCsU0BKzbnB4MRTQMeXql+AgFRA8ZqzQTPcU0A6DjmXqjZUQDkBTYRNm1NAasxfc5NhU0DseXGtKWtTQNlJYTlP4lRABiu8u3OBVED0ZYeZt9ZUQNAA1E3nEFRADrmWyHrXU0CfkfoGw6JUQCLUkSiSuVNAuHVgS/eYU0C9YByDPelTQFVI9qgs/1NACIlGXMJaVEAR35AhDPtUQN6Al+NzplNAvSp5b2k5VEDDTausbutTQIz4Rr49wlNAVdU/N8dnU0AV/kd2X+BUQPC6oU6Xc1NAI1WWJXumVEAh+P5gF69TQNFdJ6/4aFNAtM2Xoqr5U0CFw5P223tUQIXDk/bbe1RA+4GBJz9OVEDxKLuGBsdTQBTwAtxWZlNA020nUHvCVEDzC6lyIvVTQEWp9LqVNlRAkd1jyVzEVECi5eqZp4NUQGX1xOTAKFRANTUcqdG0VEA=",
          "dtype": "f8"
         },
         "marker": {
          "color": "#00cc96",
          "size": {
           "bdata": "cPAGAJ3ZEADtbEMAIQ84AFfbWgDAliQA2QwVABlnRgAI4hMA8zc1AF5vMQA5ySAA8nQbABvBMQBn4EMA0JolAJkxOACjZDUA9MsdAPIhDwASUS8AkBMbAPIiGABUtCUAFMQcAB0sKABsHiYA8yUZAK1vRwCsPTcAv2U0AD/DQwCtcz4AdskZAHyTRAALfx4AXRQcAChHGQBYaBsAbGgYAABkNgDYoxIADglGALZdDQDxghwA8N0mABCpIQDpizQAyhkmAKbQSACYOT8An/0eAAg+DQC19zAA9/YzAEukIwCO5DQA7ysaAErgLQCYa0QAn2scAH3wOQAPbi8AqRo4AA==",
           "dtype": "i4"
          },
          "sizemode": "area",
          "sizeref": 27650.37
         },
         "mode": "markers+text",
         "name": "Uttar Pradesh",
         "showlegend": true,
         "subplot": "map",
         "text": [
          "Hamirpur",
          "Hamirpur",
          "Agra",
          "Aligarh",
          "Allahabad",
          "Ambedkar Nagar",
          "Auraiya",
          "Azamgarh",
          "Baghpat",
          "Bahraich",
          "Ballia",
          "Balrampur",
          "Banda",
          "Bara Banki",
          "Bareilly",
          "Basti",
          "Bijnor",
          "Bulandshahr",
          "Chandauli",
          "Chitrakoot",
          "Deoria",
          "Etah",
          "Etawah",
          "Faizabad",
          "Farrukhabad",
          "Fatehpur",
          "Firozabad",
          "Gautam Buddha Nagar",
          "Ghaziabad",
          "Ghazipur",
          "Gonda",
          "Gorakhpur",
          "Hardoi",
          "Jalaun",
          "Jaunpur",
          "Jhansi",
          "Jyotiba Phule Nagar",
          "Kannauj",
          "Kanpur Dehat",
          "Kaushambi",
          "Kushinagar",
          "Lalitpur",
          "Lucknow",
          "Mahoba",
          "Mainpuri",
          "Mathura",
          "Mau",
          "Meerut",
          "Mirzapur",
          "Moradabad",
          "Muzaffarnagar",
          "Pilibhit",
          "Pratapgarh",
          "Pratapgarh",
          "Rae Bareli",
          "Rampur",
          "Saharanpur",
          "Sant Kabir Nagar",
          "Shahjahanpur",
          "Sitapur",
          "Sonbhadra",
          "Sultanpur",
          "Unnao",
          "Varanasi"
         ],
         "type": "scattermap"
        },
        {
         "hovertemplate": "<b>%{hovertext}</b><br><br>State=Jammu and Kashmir<br>Population=%{marker.size}<br>District=%{text}<br>lat=%{lat}<br>lon=%{lon}<extra></extra>",
         "hovertext": {
          "bdata": "AAAAAACASkAAAAAAAIBSQAAAAAAAgE5AAAAAAACAT0AAAAAAAABKQAAAAAAAgEtAAAAAAACATkAAAAAAAABNQA==",
          "dtype": "f8"
         },
         "lat": {
          "bdata": "3MqL2geuQEBcVKIbSltAQGijTYVyyEBANZ4C0kdCQEBZAv6iK/FAQBSXBGVH5UBA8Cv+4/UiQUAD3d1AG4ZAQA==",
          "dtype": "f8"
         },
         "legendgroup": "Jammu and Kashmir",
         "lon": {
          "bdata": "lkIztJUEU0DspcGRQbZSQLkaTJDAKFNASLS3Z7LlUkB2X6EJl8BSQGbRJYvwklJAcy/utA3HUkC+2zSdyMlSQA==",
          "dtype": "f8"
         },
         "marker": {
          "color": "#ab63fa",
          "size": {
           "bdata": "UEEGAGZYFwACJgIA82cJADiNCACjRgcAXd8SAOl3CAA=",
           "dtype": "i4"
          },
          "sizemode": "area",
          "sizeref": 27650.37
         },
         "mode": "markers+text",
         "name": "Jammu and Kashmir",
         "showlegend": true,
         "subplot": "map",
         "text": [
          "Doda",
          "Jammu",
          "Kargil",
          "Kathua",
          "Pulwama",
          "Punch",
          "Srinagar",
          "Udhampur"
         ],
         "type": "scattermap"
        },
        {
         "hovertemplate": "<b>%{hovertext}</b><br><br>State=Jharkhand<br>Population=%{marker.size}<br>District=%{text}<br>lat=%{lat}<br>lon=%{lon}<extra></extra>",
         "hovertext": {
          "bdata": "AAAAAAAAT0AAAAAAAIBIQAAAAAAAgEpAAAAAAAAAUEAAAAAAAIBJQAAAAAAAgEhAAAAAAACASUAAAAAAAABHQAAAAAAAgEtAAAAAAAAAS0AAAAAAAABIQAAAAAAAAExAAAAAAACAQ0AAAAAAAIBKQAAAAAAAgFBAAAAAAAAARUAAAAAAAIBMQA==",
          "dtype": "f8"
         },
         "lat": {
          "bdata": "F9sKjnauN0B+y2U/vx04QNo1PNKoVDhA2paXG8HaN0CIiivNZkY4QKnq4HcFFThA4bSm7kdOOEDEsS5uo9E4QCNPP7waFDdAnfP6QY76N0DZzEXuoLk3QFnPy7whfTdA+62zMZaSOEBDw4C9aTI4QAh0awcqLzdAgQn0QMrvOEC7S5O415s2QA==",
          "dtype": "f8"
         },
         "legendgroup": "Jharkhand",
         "lon": {
          "bdata": "GiDxlvl+VUBlHquVtTtVQHco0UxysFVAczw0s9aZVUDbqEE3tNFVQNA1CfTx61RAOkJIMpOFVUDwakq909JVQPgdCoE8I1VATbSlDwK9VUAF9B9E6R5VQOvws+hFKlVAwQgNVZrsVUDuNn66/wxVQB+rECdXVFVAkVbKY7DrVUBJcGNL4iVVQA==",
          "dtype": "f8"
         },
         "marker": {
          "color": "#FFA15A",
          "size": {
           "bdata": "+ncfAMbpDwBpxBYAR/YoAOIpFAAgLxQAolAlAA8LFAC9pA8AAhIMAMIXCwDeCwcARr0NAJ2ZHQDNdywAZ44RABomCQA=",
           "dtype": "i4"
          },
          "sizemode": "area",
          "sizeref": 27650.37
         },
         "mode": "markers+text",
         "name": "Jharkhand",
         "showlegend": true,
         "subplot": "map",
         "text": [
          "Bokaro",
          "Chatra",
          "Deoghar",
          "Dhanbad",
          "Dumka",
          "Garhwa",
          "Giridih",
          "Godda",
          "Gumla",
          "Jamtara",
          "Latehar",
          "Lohardaga",
          "Pakur",
          "Palamu",
          "Ranchi",
          "Sahibganj",
          "Simdega"
         ],
         "type": "scattermap"
        },
        {
         "hovertemplate": "<b>%{hovertext}</b><br><br>State=Karnataka<br>Population=%{marker.size}<br>District=%{text}<br>lat=%{lat}<br>lon=%{lon}<extra></extra>",
         "hovertext": {
          "bdata": "AAAAAACATUAAAAAAAIBRQAAAAAAAAFBAAAAAAAAATUAAAAAAAIBOQAAAAAAAAEFAAAAAAACATEAAAAAAAABSQAAAAAAAgFBAAAAAAADAUEAAAAAAAIBRQAAAAAAAgFBAAAAAAAAATEAAAAAAAEBRQAAAAAAAAFFAAAAAAACAUkAAAAAAAIBQQAAAAAAAAE1AAAAAAAAAUEAAAAAAAEBQQAAAAAAAgElAAAAAAAAAUkAAAAAAAABRQAAAAAAAwFNA",
          "dtype": "f8"
         },
         "lat": {
          "bdata": "zjvtc5ooMEAMK9DMp98pQPvo8gY8KTBAXDti0BQmLkAWBgnoSvMxQNV2JkcU1zBA1XYmRxTXMEBjEP9iv9kqQD66wNwAlSxAoxTIGSypLEDf5I6qCrAuQE9cnFCmAy9AP7SEogkSMUAfe7374+MpQKZrN3SkeS1AmLHbOS/LKEAMMlhOJ6AqQPX0mBFxTS9ADGyQh1kmKUB9iEj/Bn8oQIgkoOwADTBAyJFtaLAgLECr6SrvVy8rQHkSD2Kb5ipA",
          "dtype": "f8"
         },
         "legendgroup": "Karnataka",
         "lon": {
          "bdata": "NyOS80vpUkCzexD9UF5TQFGw6mNKrlJA5MKm6TkeU0AG+fFRdExTQMOMA8Jh/VJAw4wDwmH9UkCZbBftR+tSQLBOqowBJVNAUTC9CLT6UkD0hEMd2shSQCE+N+CC6VJAyjF/oQA4U0C5trdbEgdTQAXUiRRa2VJAnz8CgsbyUkD70F+Z4YBTQBkgV19ZClNA6LXncTQ0U0DIhZIn2CFTQBvC8XjqN1NAKZi3zHHLUkBE17B/eEFTQCB85x0WrlJA",
          "dtype": "f8"
         },
         "marker": {
          "color": "#19d3f3",
          "size": {
           "bdata": "2NUcAMseDwCN7kgAc2wlAIT9GQD+5AMAMzkhACldEQBAUhkAma8dAO8uHAB6PhAAtignACUbGwDkYBgAF3YIAJFxFwBgNRUAyY0bACfLLQBsbh0Asb4aAMTgKAAR9xEA",
           "dtype": "i4"
          },
          "sizemode": "area",
          "sizeref": 27650.37
         },
         "mode": "markers+text",
         "name": "Karnataka",
         "showlegend": true,
         "subplot": "map",
         "text": [
          "Bagalkot",
          "Bangalore Rural",
          "Belgaum",
          "Bellary",
          "Bidar",
          "Bijapur",
          "Bijapur",
          "Chikmagalur",
          "Chitradurga",
          "Davanagere",
          "Dharwad",
          "Gadag",
          "Gulbarga",
          "Hassan",
          "Haveri",
          "Kodagu",
          "Kolar",
          "Koppal",
          "Mandya",
          "Mysore",
          "Raichur",
          "Shimoga",
          "Tumkur",
          "Udupi"
         ],
         "type": "scattermap"
        },
        {
         "hovertemplate": "<b>%{hovertext}</b><br><br>State=Kerala<br>Population=%{marker.size}<br>District=%{text}<br>lat=%{lat}<br>lon=%{lon}<extra></extra>",
         "hovertext": {
          "bdata": "AAAAAADAVUAAAAAAAMBVQAAAAAAAwFRAAAAAAABAVUAAAAAAAMBTQAAAAAAAQFVAAAAAAABAVkAAAAAAAEBVQAAAAAAAQFRAAAAAAAAAVEAAAAAAAABVQAAAAAAAgFVAAAAAAADAU0A=",
          "dtype": "f8"
         },
         "lat": {
          "bdata": "4OtPDtAVI0A57TSKfwIkQCcxSgIQnCNAraAPUA/iJ0C+6kl9jKooQNI7+9nY2yFAkwpGM5NJI0C1sbdeLckmQMUw8jZU8iVAHAZp8OGRJUCxw3MA/xIhQBCpUzj56iRAtaoN2ThuJ0A=",
          "dtype": "f8"
         },
         "legendgroup": "Kerala",
         "lon": {
          "bdata": "XB1ZsFMYU0AXdBvBQBFTQF/QsHnvQlNAf6XlyYjWUkD102LK+MRSQJ6Vwn61KFNAuD+4anodU0CexQuliu1SQA/valca/FJATmu4zfwfU0BT/hx+xjhTQHlLqNPiB1NAcc0jDtsEU0A=",
          "dtype": "f8"
         },
         "marker": {
          "color": "#FF6692",
          "size": {
           "bdata": "rXcgANQVMgDu6xAAe38mAO/yEwBvNigAFyEeANUXLwAYwj4ATuAqADNgMgAwoC8ADHkMAA==",
           "dtype": "i4"
          },
          "sizemode": "area",
          "sizeref": 27650.37
         },
         "mode": "markers+text",
         "name": "Kerala",
         "showlegend": true,
         "subplot": "map",
         "text": [
          "Alappuzha",
          "Ernakulam",
          "Idukki",
          "Kannur",
          "Kasaragod",
          "Kollam",
          "Kottayam",
          "Kozhikode",
          "Malappuram",
          "Palakkad",
          "Thiruvananthapuram",
          "Thrissur",
          "Wayanad"
         ],
         "type": "scattermap"
        },
        {
         "hovertemplate": "<b>%{hovertext}</b><br><br>State=Madhya Pradesh<br>Population=%{marker.size}<br>District=%{text}<br>lat=%{lat}<br>lon=%{lon}<extra></extra>",
         "hovertext": {
          "bdata": "AAAAAAAATUAAAAAAAABMQAAAAAAAwFBAAAAAAAAAREAAAAAAAABOQAAAAAAAAFBAAAAAAACAUUAAAAAAAABLQAAAAAAAAEtAAAAAAAAAT0AAAAAAAIBNQAAAAAAAAE9AAAAAAACATUAAAAAAAIBIQAAAAAAAAEtAAAAAAACASkAAAAAAAMBQQAAAAAAAAE9AAAAAAABAUEAAAAAAAIBRQAAAAAAAwFFAAAAAAAAAQUAAAAAAAIBOQAAAAAAAgExAAAAAAAAAT0AAAAAAAABOQAAAAAAAAE9AAAAAAAAAS0AAAAAAAABPQAAAAAAAAEpAAAAAAACATEAAAAAAAIBOQAAAAAAAQFBAAAAAAAAAT0AAAAAAAABOQAAAAAAAgE9AAAAAAACATEAAAAAAAIBNQAAAAAAAAEhAAAAAAAAASkAAAAAAAIBKQAAAAAAAAEpAAAAAAAAAT0AAAAAAAIBLQAAAAAAAgE1A",
          "dtype": "f8"
         },
         "lat": {
          "bdata": "coHwNY0uN0AEdrZ1iKE4QDWJJWHazDVA9jWKKr+zNUBBLQ/A8fY1QC5JGO4IXDpA9+lZ3hB7N0AK4JJHVF01QO+yAopK0DhAOxQgC1w6NkDgpG6SKMQ3QFV3p8z65jlAOePdCP3INkC99uVEm5I2QPlhddJe1jZA0vmYbY19OEBM3O05bgo6QFeIUulHOjZAqudEiWOYNkA8+3XlJa42QOTXSOtsLzdABkH+dmlrNkC3v4xXc7k3QFq6cLsXtDZAqM3ih1oxOEAIoUDHhV86QH3dN5r/szhApgkbF4pzOEDRfiJ54ko3QKiJ1XYWyTdAVjVRdemAN0AU4HiYdtw4QPZw3K/hzDdA4YE08bWgOEDt2bggAu42QEaFt+4RVTZAxt9fXNdyN0AetnMHDpE3QK5WWsm3xzlAFxcBN8ZgOUAi2PW56yw4QAaupHoYJDlAk3c36rxRN0B2oBYnlJg3QK+B3OkQ1DdA",
          "dtype": "f8"
         },
         "legendgroup": "Madhya Pradesh",
         "lon": {
          "bdata": "v9qK/WV3VEBIjISKGnVTQE1aPCT9GlRA9FiZNj66UkDWfSLTY3JTQBKlzdzBsFNAG6quKh5ZU0AZ99Sapw9TQM7FNqcg5FNAfPo8h+ewU0CrZNGOHN5TQDvlTxfoqFNAQOKhMH8dU0C+pfJyE8dSQIfWy+nFQlRAlJS9Sk9OU0AWoRlGLohTQOe+ApR+RFNADhp9OGOBU0AlbPHRdPpSQCNq5C7u/lNAUEcCmTCaUkACMpkDpRVUQHdJJVC0GFRAlAM8keXbUkCwt2A2m3hTQEcMcK86xFJAoRtQboYNVEB7WBF+b4pTQGVyexeEKlNAZKpihojJUkBAbTSs2GRUQLO5TbUKrlNAqM3ioFkwVECVG1LeVkRTQDtd20NG6lNAkjUDc2tdVEAtZ0+ueRVTQHtmprfSSlNAzwQeU+lvU0Afp8aEvoZUQHT08UIwuVNAAhB8EXLzUkC6G4+xKTpUQJyYGbuveVNA",
          "dtype": "f8"
         },
         "marker": {
          "color": "#B6E880",
          "size": {
           "bdata": "tW4LAA/lDABC9xkAmSUVAMIJGABd/BkA9S0kAFeQCwBH5BoAqucfAFtKEwBCAQwAQ9wXAEFaIQAMwAoAr/ESAKQBHwBhtAgABvESAJn/MQA5liUAGKQPAAq3EwC5GBAA+3MUAJL/HQDTmgwAyIIPAI1RFABWlhcA3TMWALIWJADaSiQAxwIiAGQCFAA7CxUAT0QQAOkUFwD1fgoAYlYaAHkyEQAuDRYAMFEeAJbWCQC7QhYA",
           "dtype": "i4"
          },
          "sizemode": "area",
          "sizeref": 27650.37
         },
         "mode": "markers+text",
         "name": "Madhya Pradesh",
         "showlegend": true,
         "subplot": "map",
         "text": [
          "Anuppur",
          "Ashoknagar",
          "Balaghat",
          "Barwani",
          "Betul",
          "Bhind",
          "Bhopal",
          "Burhanpur",
          "Chhatarpur",
          "Chhindwara",
          "Damoh",
          "Datia",
          "Dewas",
          "Dhar",
          "Dindori",
          "Guna",
          "Gwalior",
          "Harda",
          "Hoshangabad",
          "Indore",
          "Jabalpur",
          "Jhabua",
          "Katni",
          "Mandla",
          "Mandsaur",
          "Morena",
          "Neemuch",
          "Panna",
          "Raisen",
          "Rajgarh",
          "Ratlam",
          "Rewa",
          "Sagar",
          "Satna",
          "Sehore",
          "Seoni",
          "Shahdol",
          "Shajapur",
          "Sheopur",
          "Shivpuri",
          "Sidhi",
          "Tikamgarh",
          "Ujjain",
          "Umaria",
          "Vidisha"
         ],
         "type": "scattermap"
        },
        {
         "hovertemplate": "<b>%{hovertext}</b><br><br>State=Manipur<br>Population=%{marker.size}<br>District=%{text}<br>lat=%{lat}<br>lon=%{lon}<extra></extra>",
         "hovertext": {
          "bdata": "AAAAAACAUEAAAAAAAIBPQAAAAAAAwFFAAAAAAACAS0AAAAAAAABOQAAAAAAAAFBAAAAAAADAUUA=",
          "dtype": "f8"
         },
         "lat": {
          "bdata": "b/mIsNKBOEBhwmEQekM4QGI2AceXTThAQ52nAawVOUBt3qxervs4QH5wq9ieizhAhuuV1BoPOUA=",
          "dtype": "f8"
         },
         "legendgroup": "Manipur",
         "lon": {
          "bdata": "jwsTosZ0V0CjfohHC4ZXQLomhvC/WFdA6csahieCV0DLbl4Cpl9XQAuDvL+xfldARN4wMD6cV0A=",
          "dtype": "f8"
         },
         "marker": {
          "color": "#FF97FF",
          "size": {
           "bdata": "V58DADYzAgDfLgQArE8HAGslAgAYcQYAvs4CAA==",
           "dtype": "i4"
          },
          "sizemode": "area",
          "sizeref": 27650.37
         },
         "mode": "markers+text",
         "name": "Manipur",
         "showlegend": true,
         "subplot": "map",
         "text": [
          "Bishnupur",
          "Chandel",
          "Churachandpur",
          "Senapati",
          "Tamenglong",
          "Thoubal",
          "Ukhrul"
         ],
         "type": "scattermap"
        },
        {
         "hovertemplate": "<b>%{hovertext}</b><br><br>State=Meghalaya<br>Population=%{marker.size}<br>District=%{text}<br>lat=%{lat}<br>lon=%{lon}<extra></extra>",
         "hovertext": {
          "bdata": "AAAAAAAATkAAAAAAAIBRQAAAAAAAgEdAAAAAAAAATUAAAAAAAABMQAAAAAAAAE5A",
          "dtype": "f8"
         },
         "lat": {
          "bdata": "b/aKxcjTOUDJe2B4w005QCkEPrzvVjlAP1UB55U9OUBNkIgCy345QGs+flI6gDlA",
          "dtype": "f8"
         },
         "legendgroup": "Meghalaya",
         "lon": {
          "bdata": "6L1k+mWpVkDVXkkll/BWQM6ekLgRGFdAhUxOkVGpVkCQjXXWX4JWQNxBAbo70FZA",
          "dtype": "f8"
         },
         "marker": {
          "color": "#FECB52",
          "size": {
           "bdata": "3dkEAEKaDAB0BwYA/isCANvQCQDl2QUA",
           "dtype": "i4"
          },
          "sizemode": "area",
          "sizeref": 27650.37
         },
         "mode": "markers+text",
         "name": "Meghalaya",
         "showlegend": true,
         "subplot": "map",
         "text": [
          "East Garo Hills",
          "East Khasi Hills",
          "Jaintia Hills",
          "South Garo Hills",
          "West Garo Hills",
          "West Khasi Hills"
         ],
         "type": "scattermap"
        },
        {
         "hovertemplate": "<b>%{hovertext}</b><br><br>State=Mizoram<br>Population=%{marker.size}<br>District=%{text}<br>lat=%{lat}<br>lon=%{lon}<extra></extra>",
         "hovertext": {
          "bdata": "AAAAAABAVUAAAAAAAABUQAAAAAAAgFNAAAAAAACASkAAAAAAAMBSQAAAAAAAgFFAAAAAAADAUkAAAAAAAABVQA==",
          "dtype": "f8"
         },
         "lat": {
          "bdata": "L5W8dGboN0BYUUqcqoo3QEcr7Uy2MzhA1Kv5W2xcNkDT+2G++QE3QDihr0MQvTdAL5d7toFbNkBVVSqjjEM3QA==",
          "dtype": "f8"
         },
         "legendgroup": "Mizoram",
         "lon": {
          "bdata": "6fQ4S6E2V0Dpmud/gE9XQPWwj2MFL1dACFNPaNsqV0BXGaflpShXQA24yJa3G1dAbEUGVM9BV0DEtKOSgTpXQA==",
          "dtype": "f8"
         },
         "marker": {
          "color": "#636efa",
          "size": {
           "bdata": "tRsGADHrAQDzRwEAhswBAJR2AgBcUQEA/twAAKn9AAA=",
           "dtype": "i4"
          },
          "sizemode": "area",
          "sizeref": 27650.37
         },
         "mode": "markers+text",
         "name": "Mizoram",
         "showlegend": true,
         "subplot": "map",
         "text": [
          "Aizawl",
          "Champhai",
          "Kolasib",
          "Lawngtlai",
          "Lunglei",
          "Mamit",
          "Saiha",
          "Serchhip"
         ],
         "type": "scattermap"
        },
        {
         "hovertemplate": "<b>%{hovertext}</b><br><br>State=Nagaland<br>Population=%{marker.size}<br>District=%{text}<br>lat=%{lat}<br>lon=%{lon}<extra></extra>",
         "hovertext": {
          "bdata": "AAAAAABAUkAAAAAAAIBSQAAAAAAAgFRAAAAAAAAASEAAAAAAAEBQQAAAAAAAAE5AAAAAAABAU0AAAAAAAEBSQA==",
          "dtype": "f8"
         },
         "lat": {
          "bdata": "cPU65G3QOUCr5KSyZZo5QNkUH/aZejpAY62sviuxOkBEsaCV+qE5QKFjtgMHNjpAxwDCWd4zOkBSfNWvNgc6QA==",
          "dtype": "f8"
         },
         "legendgroup": "Nagaland",
         "lon": {
          "bdata": "pmg3IgxwV0AhjYbuTXJXQCzLfG1voVdAz0d+evfBV0BvMoV/XKRXQHteQhfrtldAzWxowL2MV0AwJ3teBKBXQA==",
          "dtype": "f8"
         },
         "marker": {
          "color": "#EF553B",
          "size": {
           "bdata": "u8cFANQWBAA++AIAlNEDAFp+AgD0/wIAx4kCANUlAgA=",
           "dtype": "i4"
          },
          "sizemode": "area",
          "sizeref": 27650.37
         },
         "mode": "markers+text",
         "name": "Nagaland",
         "showlegend": true,
         "subplot": "map",
         "text": [
          "Dimapur",
          "Kohima",
          "Mokokchung",
          "Mon",
          "Phek",
          "Tuensang",
          "Wokha",
          "Zunheboto"
         ],
         "type": "scattermap"
        },
        {
         "hovertemplate": "<b>%{hovertext}</b><br><br>State=Orissa<br>Population=%{marker.size}<br>District=%{text}<br>lat=%{lat}<br>lon=%{lon}<extra></extra>",
         "hovertext": {
          "bdata": "AAAAAACAUUAAAAAAAEBSQAAAAAAAQFNAAAAAAACAUUAAAAAAAIBGQAAAAAAAgE9AAAAAAACAUUAAAAAAAIBJQAAAAAAAgEtAAAAAAAAAU0AAAAAAAIBTQAAAAAAAgERAAAAAAAAAREAAAAAAAABLQAAAAAAAwFFAAAAAAACASEAAAAAAAABTQAAAAAAAAEVAAAAAAAAAUUAAAAAAAABQQA==",
          "dtype": "f8"
         },
         "lat": {
          "bdata": "hCU6cld8NUCJktxi3/M0QLE3KyNbaDRABO5H2YLMNEBx4B0o/x4zQD9BWh9lQzNARQw5HLrTNUDGSonPxMgzQOURwOTGFzRAgY+ExjebNECQ2PqU3Q00QDsvm/OG0zJA9r1eYJVAMkA1o4yGyuU1QNOLhJthMTRA9yt9vad4NECyXZqSyNUzQFoeRZD3SjNATgYZWQiENUDxq8GxRBA2QA==",
          "dtype": "f8"
         },
         "legendgroup": "Orissa",
         "lon": {
          "bdata": "Sy41yCzFVUDx3pBWKLRVQGH/n4bFcVVAfQVQrxBiVUBSh487+AhVQByvFPpjM1VAgtg9bOT7VEB4jiWiMcdUQNObkiBrAVVAPlI+xZu1VUCarbwnbmFVQHKnHKoEtFRAfffrbeh+VEDAWKlry5lVQOQjm+mXQ1VAIkY1jdulVEDphzPDfHdVQJTa3LhZ3VRAqKMPmV8WVUAhFIT8VSBVQA==",
          "dtype": "f8"
         },
         "marker": {
          "color": "#00cc96",
          "size": {
           "bdata": "kWgjACH8FgDWCygAazMSABnRCABH2TUAsdcIAKUPGAC2LwsAafoVAJlbIgA/DRUASFsJALpyJgDlsA4ATlAJAKrrGQDnxA4Ay+IPAH3xHwA=",
           "dtype": "i4"
          },
          "sizemode": "area",
          "sizeref": 27650.37
         },
         "mode": "markers+text",
         "name": "Orissa",
         "showlegend": true,
         "subplot": "map",
         "text": [
          "Baleshwar",
          "Bhadrak",
          "Cuttack",
          "Dhenkanal",
          "Gajapati",
          "Ganjam",
          "Jharsuguda",
          "Kalahandi",
          "Kandhamal",
          "Kendrapara",
          "Khordha",
          "Koraput",
          "Malkangiri",
          "Mayurbhanj",
          "Nayagarh",
          "Nuapada",
          "Puri",
          "Rayagada",
          "Sambalpur",
          "Sundargarh"
         ],
         "type": "scattermap"
        },
        {
         "hovertemplate": "<b>%{hovertext}</b><br><br>State=Puducherry<br>Population=%{marker.size}<br>District=%{text}<br>lat=%{lat}<br>lon=%{lon}<extra></extra>",
         "hovertext": {
          "bdata": "AAAAAABAU0AAAAAAAMBVQAAAAAAAwFFA",
          "dtype": "f8"
         },
         "lat": {
          "bdata": "5AcPRZjAJUBiqhaWSQMoQLqb0YortTBA",
          "dtype": "f8"
         },
         "legendgroup": "Puducherry",
         "lon": {
          "bdata": "gXOMd7f0U0B6WFyUGNJSQGBcJ4fCkFRA",
          "dtype": "f8"
         },
         "marker": {
          "color": "#ab63fa",
          "size": {
           "bdata": "Hg4DAFijAABK2QAA",
           "dtype": "i4"
          },
          "sizemode": "area",
          "sizeref": 27650.37
         },
         "mode": "markers+text",
         "name": "Puducherry",
         "showlegend": true,
         "subplot": "map",
         "text": [
          "Karaikal",
          "Mahe",
          "Yanam"
         ],
         "type": "scattermap"
        },
        {
         "hovertemplate": "<b>%{hovertext}</b><br><br>State=Punjab<br>Population=%{marker.size}<br>District=%{text}<br>lat=%{lat}<br>lon=%{lon}<extra></extra>",
         "hovertext": {
          "bdata": "AAAAAAAAUUAAAAAAAIBOQAAAAAAAAE9AAAAAAADAUUAAAAAAAABOQAAAAAAAwFFAAAAAAAAAU0AAAAAAAIBSQAAAAAAAwFFAAAAAAABAUkAAAAAAAIBLQAAAAAAAgE9AAAAAAAAATUAAAAAAAMBQQAAAAAAAQFJAAAAAAACATkA=",
          "dtype": "f8"
         },
         "lat": {
          "bdata": "SZLdR3aMP0A2gpE4xjA+QA/XNAxYlz5AI8Mbt5WkPkAQhiTDUqI+QBBdOJN7BUBAm8uEzTONP0AIel0UFkA/QE1xZO8qVj9ApWEJNxbEPkD/9596Z+s9QNdWH5yswT5AJBF7nPtPPkDYv04e7DY+QKNLXDAz6T5AmuhcH18vPkA=",
          "dtype": "f8"
         },
         "legendgroup": "Punjab",
         "lon": {
          "bdata": "gOPJKyCzUkCS8diTo8NSQCZHnH4Ks1JApxYmYiwXU0DqF13cwZlSQPqnAoqB1FJAsuqxAzX2UkAb4xP00OJSQHD2UId93lJAjiTF4TD1UkCvFIQvjdtSQHqtG9M+ylJASkmT6lGjUkAqZ8+QmhFTQN2Qz1VlIlNAD19DXD35UkA=",
          "dtype": "f8"
         },
         "marker": {
          "color": "#FFA15A",
          "size": {
           "bdata": "IAEmAO0vFQAkbAkAYygJABL2HgDTESMAwTUYALZ4IQBAcAwA82I1ANe+CwCiMQ8ACMMNAAbtHABTcgoAgUEZAA==",
           "dtype": "i4"
          },
          "sizemode": "area",
          "sizeref": 27650.37
         },
         "mode": "markers+text",
         "name": "Punjab",
         "showlegend": true,
         "subplot": "map",
         "text": [
          "Amritsar",
          "Bathinda",
          "Faridkot",
          "Fatehgarh Sahib",
          "Firozpur",
          "Gurdaspur",
          "Hoshiarpur",
          "Jalandhar",
          "Kapurthala",
          "Ludhiana",
          "Mansa",
          "Moga",
          "Muktsar",
          "Patiala",
          "Rupnagar",
          "Sangrur"
         ],
         "type": "scattermap"
        },
        {
         "hovertemplate": "<b>%{hovertext}</b><br><br>State=Rajasthan<br>Population=%{marker.size}<br>District=%{text}<br>lat=%{lat}<br>lon=%{lon}<extra></extra>",
         "hovertext": {
          "bdata": "AAAAAACATUAAAAAAAIBNQAAAAAAAAEdAAAAAAACATEAAAAAAAABHQAAAAAAAAE1AAAAAAAAASkAAAAAAAABLQAAAAAAAgEpAAAAAAACASkAAAAAAAABMQAAAAAAAgExAAAAAAACATEAAAAAAAIBIQAAAAAAAgE5AAAAAAAAATUAAAAAAAEBQQAAAAAAAAEdAAAAAAACARkAAAAAAAABKQAAAAAAAAFBAAAAAAACAS0AAAAAAAIBLQAAAAAAAwFBAAAAAAACASkAAAAAAAIBKQAAAAAAAAEtAAAAAAAAATEAAAAAAAABPQAAAAAAAAEdAAAAAAACASkAAAAAAAABKQA==",
          "dtype": "f8"
         },
         "lat": {
          "bdata": "dvmAWQUzOkChi+Difo07QC2vX+IhdDdAn8Y/g/D6OEAUTrcwTcU5QGy9bm/5UjtA703lsIFzOUARDPjV+B88QMN7qttdfDlAy7pHGLKhOEACFnX0FUs8QBO9a6aP6TpAPShJIla5OkC7G9CvRMA3QK9/VbC8QT1ArRN4+2suPUC2Gr3JkAg7QCWYY1V33jpA1UAqYWYTOUBuGIAhTD84QFDYmsOaIjxADSIJnK+tOkD1ORU03oQ6QH7qLtz7LDlA+xJqcyAUO0CRCy8vDs45QAkL6Ai7PzlAOrMx20ZAOkDdelkhfaU7QPvaQnI1zDhAZrHySWgnOkCQaekj1nA4QA==",
          "dtype": "f8"
         },
         "legendgroup": "Rajasthan",
         "lon": {
          "bdata": "ll1RGr2sUkC0XJmF1ClTQCfxKGhRnFJAY2zRwCw3U0Bn0mKuMOBRQNz1PtzrTVNAaLSPLO2oUkBboN9kPlFSQF7fN5cw81JAJa17ADWzUkAxuVJHJKpSQEsW4e2yJFNA47YQL6pvU0D1EqwAQHZSQNEABoz2Y1JAu70BzcOvUkBFc2nlWvFSQOHsYgzCy1FAHyvYKu8LUkDddg4JMgdTQLG9unPR4VJACrfp3UlAUkDqE4sLfj1TQNAdcYbqC1NAgyZKGBmJUkCnlNf/YWNSQPwlbhDOfVJAICvu3wAbU0Amv9Zdw9JSQOcN66UyMFJA2iJN2q7yUkCQ9+1yx3VSQA==",
          "dtype": "f8"
         },
         "marker": {
          "color": "#19d3f3",
          "size": {
           "bdata": "DGonAEMQOABtbRsAY6gSAOe6JwDu4iYAS8AkACESJAB68xAAkpAXAPseHwBp8BgA9GgSAAgwFQAQDB4AZBQbAIIbZQDfOAoAeucbADmIFQDVmyAA/UI4AEhAFgAmxR0A33gyAEUXHwD1pREA/2AUAFXaKAA60A8ADrAVAATSLgA=",
           "dtype": "i4"
          },
          "sizemode": "area",
          "sizeref": 27650.37
         },
         "mode": "markers+text",
         "name": "Rajasthan",
         "showlegend": true,
         "subplot": "map",
         "text": [
          "Ajmer",
          "Alwar",
          "Banswara",
          "Baran",
          "Barmer",
          "Bharatpur",
          "Bhilwara",
          "Bikaner",
          "Bundi",
          "Chittaurgarh",
          "Churu",
          "Dausa",
          "Dhaulpur",
          "Dungarpur",
          "Ganganagar",
          "Hanumangarh",
          "Jaipur",
          "Jaisalmer",
          "Jalor",
          "Jhalawar",
          "Jhunjhunun",
          "Jodhpur",
          "Karauli",
          "Kota",
          "Nagaur",
          "Pali",
          "Rajsamand",
          "Sawai Madhopur",
          "Sikar",
          "Sirohi",
          "Tonk",
          "Udaipur"
         ],
         "type": "scattermap"
        },
        {
         "hovertemplate": "<b>%{hovertext}</b><br><br>State=Sikkim<br>Population=%{marker.size}<br>District=%{text}<br>lat=%{lat}<br>lon=%{lon}<extra></extra>",
         "hovertext": {
          "bdata": "AAAAAADAU0A=",
          "dtype": "f8"
         },
         "lat": {
          "bdata": "9FIm48ZLO0A=",
          "dtype": "f8"
         },
         "legendgroup": "Sikkim",
         "lon": {
          "bdata": "LUaw/fAvVkA=",
          "dtype": "f8"
         },
         "marker": {
          "color": "#FF6692",
          "size": {
           "bdata": "IhUaAA==",
           "dtype": "i4"
          },
          "sizemode": "area",
          "sizeref": 27650.37
         },
         "mode": "markers+text",
         "name": "Sikkim",
         "showlegend": true,
         "subplot": "map",
         "text": [
          "East"
         ],
         "type": "scattermap"
        },
        {
         "hovertemplate": "<b>%{hovertext}</b><br><br>State=Tamil Nadu<br>Population=%{marker.size}<br>District=%{text}<br>lat=%{lat}<br>lon=%{lon}<extra></extra>",
         "hovertext": {
          "bdata": "AAAAAAAAUEAAAAAAAEBUQAAAAAAAAFNAAAAAAACAUUAAAAAAAIBOQAAAAAAAQFFAAAAAAACAUEAAAAAAAMBSQAAAAAAAwFRAAAAAAAAAUUAAAAAAAMBSQAAAAAAAwFJAAAAAAAAAUUAAAAAAAIBQQAAAAAAAQFFAAAAAAAAAUkAAAAAAAIBQQAAAAAAAAFJAAAAAAACAUkAAAAAAAIBRQAAAAAAAwFJAAAAAAADAUkAAAAAAAIBQQAAAAAAAgFFAAAAAAAAAUkA=",
          "dtype": "f8"
         },
         "lat": {
          "bdata": "duAiKYthJkDCC8cjvx0qQBgaKCAlviVAdv+f09gmJ0BMXXwbrJkoQFXqEy9vwSRAYf460bWIJkBfSbxiK/4oQIx6fkvvXSBADq9yMzWXJUBf+QY5As8jQGagvys1lCVABCm/m+KsJkCpF7fGMIUmQIpziNbSQiRAXXyDfTCgIkBscCXINkInQFMC3E2t6yNAcvBvmX/GJEBsUCFEH9kjQAa76kU9jSpAT+irDeS8JEC6FBv5sNYoQFnL6SLckSlAe7k2BBDwIkA=",
          "dtype": "f8"
         },
         "legendgroup": "Tamil Nadu",
         "lon": {
          "bdata": "TW20YT3OU0BLTJJRAhJUQGdWiEzgRFNAYhq7TlLoU0DYn4/EXYdTQNgEOF7tcVNAk9vJ5+ZaU0CFzrcgpQVUQMmd8pKDVFNA2SZ3jJmFU0DSOpfP34BTQBna0wHX8lNApTVPIlyJU0Awjv/PD7dTQIepOAZ8w1NAMoKfh3q/U0DdPbxg3I9TQGUfWNAupFNAs1E6eXLUU0DyuJVL0FtTQNdQALKfDFRAjOSNTZvmU0CH4VDX485TQAdZWROxwVNATuilLRd4U0A=",
          "dtype": "f8"
         },
         "marker": {
          "color": "#B6E880",
          "size": {
           "bdata": "zoQLAEznRgD9wzQAWsMnABv+FgCf9CAA4FsiACwCPQAmihwALT4QACxcLgBCqhgAiVgaAOefCACpsRgA5aYUAMghNQDdbhQAArYkAMsCEwDo4jgAlUoTAGucJQBLEDwAEKMdAA==",
           "dtype": "i4"
          },
          "sizemode": "area",
          "sizeref": 27650.37
         },
         "mode": "markers+text",
         "name": "Tamil Nadu",
         "showlegend": true,
         "subplot": "map",
         "text": [
          "Ariyalur",
          "Chennai",
          "Coimbatore",
          "Cuddalore",
          "Dharmapuri",
          "Dindigul",
          "Erode",
          "Kancheepuram",
          "Kanniyakumari",
          "Karur",
          "Madurai",
          "Nagapattinam",
          "Namakkal",
          "Perambalur",
          "Pudukkottai",
          "Ramanathapuram",
          "Salem",
          "Sivaganga",
          "Thanjavur",
          "Theni",
          "Thiruvallur",
          "Thiruvarur",
          "Tiruvannamalai",
          "Vellore",
          "Virudhunagar"
         ],
         "type": "scattermap"
        },
        {
         "hovertemplate": "<b>%{hovertext}</b><br><br>State=Tripura<br>Population=%{marker.size}<br>District=%{text}<br>lat=%{lat}<br>lon=%{lon}<extra></extra>",
         "hovertext": {
          "bdata": "AAAAAABAUkAAAAAAAMBSQAAAAAAAgFJAAAAAAADAU0A=",
          "dtype": "f8"
         },
         "lat": {
          "bdata": "7CSDPQfIN0DI2ytWKh84QKUGgmE9NjdA69KL+bjHN0A=",
          "dtype": "f8"
         },
         "legendgroup": "Tripura",
         "lon": {
          "bdata": "yLlhKJT8VkAdZktSawtXQJkYGjjS5lZA99gRXHDaVkA=",
          "dtype": "f8"
         },
         "marker": {
          "color": "#FF97FF",
          "size": {
           "bdata": "dsUFALuWCgDhXQ0AK1UaAA==",
           "dtype": "i4"
          },
          "sizemode": "area",
          "sizeref": 27650.37
         },
         "mode": "markers+text",
         "name": "Tripura",
         "showlegend": true,
         "subplot": "map",
         "text": [
          "Dhalai",
          "North Tripura",
          "South Tripura",
          "West Tripura"
         ],
         "type": "scattermap"
        },
        {
         "hovertemplate": "<b>%{hovertext}</b><br><br>State=Uttaranchal<br>Population=%{marker.size}<br>District=%{text}<br>lat=%{lat}<br>lon=%{lon}<extra></extra>",
         "hovertext": {
          "bdata": "AAAAAACAUUAAAAAAAEBRQAAAAAAAAFJAAAAAAAAAUUAAAAAAAMBRQAAAAAAAgFBAAAAAAACAT0AAAAAAAEBQQA==",
          "dtype": "f8"
         },
         "lat": {
          "bdata": "auc/9vuuPUDjSYJBrvw9QFpc28pYlT5A6vdgwppKPUAugDRQryU+QMmpeBq1dj5AHzTAnx0HPUDVLOyqDfg+QA==",
          "dtype": "f8"
         },
         "legendgroup": "Uttaranchal",
         "lon": {
          "bdata": "NRNMCxvgU0CbxdcUu/VTQFzVPRgF5FNAcHIq4fAEVECCzf4d6BVUQL4Gkbw4n1NAanUp2zPdU0AaIu1RZ6RTQA==",
          "dtype": "f8"
         },
         "marker": {
          "color": "#FECB52",
          "size": {
           "bdata": "qn8JADr3AwC1+QUAQPYDAG9gBwCzcQkABikZAGYJBQA=",
           "dtype": "i4"
          },
          "sizemode": "area",
          "sizeref": 27650.37
         },
         "mode": "markers+text",
         "name": "Uttaranchal",
         "showlegend": true,
         "subplot": "map",
         "text": [
          "Almora",
          "Bageshwar",
          "Chamoli",
          "Champawat",
          "Pithoragarh",
          "Tehri Garhwal",
          "Udham Singh Nagar",
          "Uttarkashi"
         ],
         "type": "scattermap"
        },
        {
         "hovertemplate": "<b>%{hovertext}</b><br><br>State=West Bengal<br>Population=%{marker.size}<br>District=%{text}<br>lat=%{lat}<br>lon=%{lon}<extra></extra>",
         "hovertext": {
          "bdata": "AAAAAAAAT0AAAAAAAABRQAAAAAAAAE9AAAAAAABAUEAAAAAAAMBRQAAAAAAAgFJAAAAAAACAUkAAAAAAAEBQQAAAAAAAAFRAAAAAAAAASkAAAAAAAIBMQAAAAAAAwFBAAAAAAACAS0AAAAAAAABJQA==",
          "dtype": "f8"
         },
         "lat": {
          "bdata": "dZwY084UN0CXW+W6x3E3QNhh1FFbEDhAsVIFf5NXOUDruOZO8dY6QHjRYh7UZjZAGruqUhnhNkDfvOMUXaA6QAe/cOjyjDZA54MBcowUOUB0JYIFb0I4QAwsdn5pkDdA5fKavxJBN0C8S18pbAs6QA==",
          "dtype": "f8"
         },
         "legendgroup": "West Bengal",
         "lon": {
          "bdata": "xMVF8hbIVUDz437pKfRVQIJjoK6y6VVATHGCla8sVkAYO998NhVWQIcGZyqh/1VAtXCIrgEAVkCd5h2nqEJWQMiz37KTFlZAr0GDrwALVkA4TEBGwwpWQFtpFLtOJVZA7/ZUC2aZVUDYxsTXGQ9WQA==",
          "dtype": "f8"
         },
         "marker": {
          "color": "#636efa",
          "size": {
           "bdata": "guE2ALvCdQBEcTUA9JMZACcuHABtAUoAKTdUAE4YOwA2nUQAbd08AD9lbADw2U4Aw7UsAJ7iLQA=",
           "dtype": "i4"
          },
          "sizemode": "area",
          "sizeref": 27650.37
         },
         "mode": "markers+text",
         "name": "West Bengal",
         "showlegend": true,
         "subplot": "map",
         "text": [
          "Bankura",
          "Barddhaman",
          "Birbhum",
          "Dakshin Dinajpur",
          "Darjiling",
          "Haora",
          "Hugli",
          "Jalpaiguri",
          "Kolkata",
          "Maldah",
          "Murshidabad",
          "Nadia",
          "Puruliya",
          "Uttar Dinajpur"
         ],
         "type": "scattermap"
        }
       ],
       "layout": {
        "geo": {
         "fitbounds": "locations",
         "visible": false
        },
        "height": 550,
        "legend": {
         "itemsizing": "constant",
         "title": {
          "text": "State"
         },
         "tracegroupgap": 0
        },
        "map": {
         "center": {
          "lat": 22,
          "lon": 79
         },
         "domain": {
          "x": [
           0,
           1
          ],
          "y": [
           0,
           1
          ]
         },
         "style": "outdoors",
         "zoom": 3
        },
        "mapbox": {
         "center": {
          "lat": 22,
          "lon": 79
         },
         "style": "outdoors",
         "zoom": 3
        },
        "margin": {
         "t": 60
        },
        "template": {
         "data": {
          "bar": [
           {
            "error_x": {
             "color": "#2a3f5f"
            },
            "error_y": {
             "color": "#2a3f5f"
            },
            "marker": {
             "line": {
              "color": "#E5ECF6",
              "width": 0.5
             },
             "pattern": {
              "fillmode": "overlay",
              "size": 10,
              "solidity": 0.2
             }
            },
            "type": "bar"
           }
          ],
          "barpolar": [
           {
            "marker": {
             "line": {
              "color": "#E5ECF6",
              "width": 0.5
             },
             "pattern": {
              "fillmode": "overlay",
              "size": 10,
              "solidity": 0.2
             }
            },
            "type": "barpolar"
           }
          ],
          "carpet": [
           {
            "aaxis": {
             "endlinecolor": "#2a3f5f",
             "gridcolor": "white",
             "linecolor": "white",
             "minorgridcolor": "white",
             "startlinecolor": "#2a3f5f"
            },
            "baxis": {
             "endlinecolor": "#2a3f5f",
             "gridcolor": "white",
             "linecolor": "white",
             "minorgridcolor": "white",
             "startlinecolor": "#2a3f5f"
            },
            "type": "carpet"
           }
          ],
          "choropleth": [
           {
            "colorbar": {
             "outlinewidth": 0,
             "ticks": ""
            },
            "type": "choropleth"
           }
          ],
          "contour": [
           {
            "colorbar": {
             "outlinewidth": 0,
             "ticks": ""
            },
            "colorscale": [
             [
              0,
              "#0d0887"
             ],
             [
              0.1111111111111111,
              "#46039f"
             ],
             [
              0.2222222222222222,
              "#7201a8"
             ],
             [
              0.3333333333333333,
              "#9c179e"
             ],
             [
              0.4444444444444444,
              "#bd3786"
             ],
             [
              0.5555555555555556,
              "#d8576b"
             ],
             [
              0.6666666666666666,
              "#ed7953"
             ],
             [
              0.7777777777777778,
              "#fb9f3a"
             ],
             [
              0.8888888888888888,
              "#fdca26"
             ],
             [
              1,
              "#f0f921"
             ]
            ],
            "type": "contour"
           }
          ],
          "contourcarpet": [
           {
            "colorbar": {
             "outlinewidth": 0,
             "ticks": ""
            },
            "type": "contourcarpet"
           }
          ],
          "heatmap": [
           {
            "colorbar": {
             "outlinewidth": 0,
             "ticks": ""
            },
            "colorscale": [
             [
              0,
              "#0d0887"
             ],
             [
              0.1111111111111111,
              "#46039f"
             ],
             [
              0.2222222222222222,
              "#7201a8"
             ],
             [
              0.3333333333333333,
              "#9c179e"
             ],
             [
              0.4444444444444444,
              "#bd3786"
             ],
             [
              0.5555555555555556,
              "#d8576b"
             ],
             [
              0.6666666666666666,
              "#ed7953"
             ],
             [
              0.7777777777777778,
              "#fb9f3a"
             ],
             [
              0.8888888888888888,
              "#fdca26"
             ],
             [
              1,
              "#f0f921"
             ]
            ],
            "type": "heatmap"
           }
          ],
          "histogram": [
           {
            "marker": {
             "pattern": {
              "fillmode": "overlay",
              "size": 10,
              "solidity": 0.2
             }
            },
            "type": "histogram"
           }
          ],
          "histogram2d": [
           {
            "colorbar": {
             "outlinewidth": 0,
             "ticks": ""
            },
            "colorscale": [
             [
              0,
              "#0d0887"
             ],
             [
              0.1111111111111111,
              "#46039f"
             ],
             [
              0.2222222222222222,
              "#7201a8"
             ],
             [
              0.3333333333333333,
              "#9c179e"
             ],
             [
              0.4444444444444444,
              "#bd3786"
             ],
             [
              0.5555555555555556,
              "#d8576b"
             ],
             [
              0.6666666666666666,
              "#ed7953"
             ],
             [
              0.7777777777777778,
              "#fb9f3a"
             ],
             [
              0.8888888888888888,
              "#fdca26"
             ],
             [
              1,
              "#f0f921"
             ]
            ],
            "type": "histogram2d"
           }
          ],
          "histogram2dcontour": [
           {
            "colorbar": {
             "outlinewidth": 0,
             "ticks": ""
            },
            "colorscale": [
             [
              0,
              "#0d0887"
             ],
             [
              0.1111111111111111,
              "#46039f"
             ],
             [
              0.2222222222222222,
              "#7201a8"
             ],
             [
              0.3333333333333333,
              "#9c179e"
             ],
             [
              0.4444444444444444,
              "#bd3786"
             ],
             [
              0.5555555555555556,
              "#d8576b"
             ],
             [
              0.6666666666666666,
              "#ed7953"
             ],
             [
              0.7777777777777778,
              "#fb9f3a"
             ],
             [
              0.8888888888888888,
              "#fdca26"
             ],
             [
              1,
              "#f0f921"
             ]
            ],
            "type": "histogram2dcontour"
           }
          ],
          "mesh3d": [
           {
            "colorbar": {
             "outlinewidth": 0,
             "ticks": ""
            },
            "type": "mesh3d"
           }
          ],
          "parcoords": [
           {
            "line": {
             "colorbar": {
              "outlinewidth": 0,
              "ticks": ""
             }
            },
            "type": "parcoords"
           }
          ],
          "pie": [
           {
            "automargin": true,
            "type": "pie"
           }
          ],
          "scatter": [
           {
            "fillpattern": {
             "fillmode": "overlay",
             "size": 10,
             "solidity": 0.2
            },
            "type": "scatter"
           }
          ],
          "scatter3d": [
           {
            "line": {
             "colorbar": {
              "outlinewidth": 0,
              "ticks": ""
             }
            },
            "marker": {
             "colorbar": {
              "outlinewidth": 0,
              "ticks": ""
             }
            },
            "type": "scatter3d"
           }
          ],
          "scattercarpet": [
           {
            "marker": {
             "colorbar": {
              "outlinewidth": 0,
              "ticks": ""
             }
            },
            "type": "scattercarpet"
           }
          ],
          "scattergeo": [
           {
            "marker": {
             "colorbar": {
              "outlinewidth": 0,
              "ticks": ""
             }
            },
            "type": "scattergeo"
           }
          ],
          "scattergl": [
           {
            "marker": {
             "colorbar": {
              "outlinewidth": 0,
              "ticks": ""
             }
            },
            "type": "scattergl"
           }
          ],
          "scattermap": [
           {
            "marker": {
             "colorbar": {
              "outlinewidth": 0,
              "ticks": ""
             }
            },
            "type": "scattermap"
           }
          ],
          "scattermapbox": [
           {
            "marker": {
             "colorbar": {
              "outlinewidth": 0,
              "ticks": ""
             }
            },
            "type": "scattermapbox"
           }
          ],
          "scatterpolar": [
           {
            "marker": {
             "colorbar": {
              "outlinewidth": 0,
              "ticks": ""
             }
            },
            "type": "scatterpolar"
           }
          ],
          "scatterpolargl": [
           {
            "marker": {
             "colorbar": {
              "outlinewidth": 0,
              "ticks": ""
             }
            },
            "type": "scatterpolargl"
           }
          ],
          "scatterternary": [
           {
            "marker": {
             "colorbar": {
              "outlinewidth": 0,
              "ticks": ""
             }
            },
            "type": "scatterternary"
           }
          ],
          "surface": [
           {
            "colorbar": {
             "outlinewidth": 0,
             "ticks": ""
            },
            "colorscale": [
             [
              0,
              "#0d0887"
             ],
             [
              0.1111111111111111,
              "#46039f"
             ],
             [
              0.2222222222222222,
              "#7201a8"
             ],
             [
              0.3333333333333333,
              "#9c179e"
             ],
             [
              0.4444444444444444,
              "#bd3786"
             ],
             [
              0.5555555555555556,
              "#d8576b"
             ],
             [
              0.6666666666666666,
              "#ed7953"
             ],
             [
              0.7777777777777778,
              "#fb9f3a"
             ],
             [
              0.8888888888888888,
              "#fdca26"
             ],
             [
              1,
              "#f0f921"
             ]
            ],
            "type": "surface"
           }
          ],
          "table": [
           {
            "cells": {
             "fill": {
              "color": "#EBF0F8"
             },
             "line": {
              "color": "white"
             }
            },
            "header": {
             "fill": {
              "color": "#C8D4E3"
             },
             "line": {
              "color": "white"
             }
            },
            "type": "table"
           }
          ]
         },
         "layout": {
          "annotationdefaults": {
           "arrowcolor": "#2a3f5f",
           "arrowhead": 0,
           "arrowwidth": 1
          },
          "autotypenumbers": "strict",
          "coloraxis": {
           "colorbar": {
            "outlinewidth": 0,
            "ticks": ""
           }
          },
          "colorscale": {
           "diverging": [
            [
             0,
             "#8e0152"
            ],
            [
             0.1,
             "#c51b7d"
            ],
            [
             0.2,
             "#de77ae"
            ],
            [
             0.3,
             "#f1b6da"
            ],
            [
             0.4,
             "#fde0ef"
            ],
            [
             0.5,
             "#f7f7f7"
            ],
            [
             0.6,
             "#e6f5d0"
            ],
            [
             0.7,
             "#b8e186"
            ],
            [
             0.8,
             "#7fbc41"
            ],
            [
             0.9,
             "#4d9221"
            ],
            [
             1,
             "#276419"
            ]
           ],
           "sequential": [
            [
             0,
             "#0d0887"
            ],
            [
             0.1111111111111111,
             "#46039f"
            ],
            [
             0.2222222222222222,
             "#7201a8"
            ],
            [
             0.3333333333333333,
             "#9c179e"
            ],
            [
             0.4444444444444444,
             "#bd3786"
            ],
            [
             0.5555555555555556,
             "#d8576b"
            ],
            [
             0.6666666666666666,
             "#ed7953"
            ],
            [
             0.7777777777777778,
             "#fb9f3a"
            ],
            [
             0.8888888888888888,
             "#fdca26"
            ],
            [
             1,
             "#f0f921"
            ]
           ],
           "sequentialminus": [
            [
             0,
             "#0d0887"
            ],
            [
             0.1111111111111111,
             "#46039f"
            ],
            [
             0.2222222222222222,
             "#7201a8"
            ],
            [
             0.3333333333333333,
             "#9c179e"
            ],
            [
             0.4444444444444444,
             "#bd3786"
            ],
            [
             0.5555555555555556,
             "#d8576b"
            ],
            [
             0.6666666666666666,
             "#ed7953"
            ],
            [
             0.7777777777777778,
             "#fb9f3a"
            ],
            [
             0.8888888888888888,
             "#fdca26"
            ],
            [
             1,
             "#f0f921"
            ]
           ]
          },
          "colorway": [
           "#636efa",
           "#EF553B",
           "#00cc96",
           "#ab63fa",
           "#FFA15A",
           "#19d3f3",
           "#FF6692",
           "#B6E880",
           "#FF97FF",
           "#FECB52"
          ],
          "font": {
           "color": "#2a3f5f"
          },
          "geo": {
           "bgcolor": "white",
           "lakecolor": "white",
           "landcolor": "#E5ECF6",
           "showlakes": true,
           "showland": true,
           "subunitcolor": "white"
          },
          "hoverlabel": {
           "align": "left"
          },
          "hovermode": "closest",
          "mapbox": {
           "style": "light"
          },
          "paper_bgcolor": "white",
          "plot_bgcolor": "#E5ECF6",
          "polar": {
           "angularaxis": {
            "gridcolor": "white",
            "linecolor": "white",
            "ticks": ""
           },
           "bgcolor": "#E5ECF6",
           "radialaxis": {
            "gridcolor": "white",
            "linecolor": "white",
            "ticks": ""
           }
          },
          "scene": {
           "xaxis": {
            "backgroundcolor": "#E5ECF6",
            "gridcolor": "white",
            "gridwidth": 2,
            "linecolor": "white",
            "showbackground": true,
            "ticks": "",
            "zerolinecolor": "white"
           },
           "yaxis": {
            "backgroundcolor": "#E5ECF6",
            "gridcolor": "white",
            "gridwidth": 2,
            "linecolor": "white",
            "showbackground": true,
            "ticks": "",
            "zerolinecolor": "white"
           },
           "zaxis": {
            "backgroundcolor": "#E5ECF6",
            "gridcolor": "white",
            "gridwidth": 2,
            "linecolor": "white",
            "showbackground": true,
            "ticks": "",
            "zerolinecolor": "white"
           }
          },
          "shapedefaults": {
           "line": {
            "color": "#2a3f5f"
           }
          },
          "ternary": {
           "aaxis": {
            "gridcolor": "white",
            "linecolor": "white",
            "ticks": ""
           },
           "baxis": {
            "gridcolor": "white",
            "linecolor": "white",
            "ticks": ""
           },
           "bgcolor": "#E5ECF6",
           "caxis": {
            "gridcolor": "white",
            "linecolor": "white",
            "ticks": ""
           }
          },
          "title": {
           "x": 0.05
          },
          "xaxis": {
           "automargin": true,
           "gridcolor": "white",
           "linecolor": "white",
           "ticks": "",
           "title": {
            "standoff": 15
           },
           "zerolinecolor": "white",
           "zerolinewidth": 2
          },
          "yaxis": {
           "automargin": true,
           "gridcolor": "white",
           "linecolor": "white",
           "ticks": "",
           "title": {
            "standoff": 15
           },
           "zerolinecolor": "white",
           "zerolinewidth": 2
          }
         }
        },
        "width": 800
       }
      }
     },
     "metadata": {},
     "output_type": "display_data"
    }
   ],
   "source": [
    "fig = px.scatter_map(df, lat='lat',\n",
    "                     lon='lon',\n",
    "                     text=\"District\", # which column to use to set the color of markers # column added to hover information\n",
    "                     size=\"Population\", # size of markers\n",
    "                     color='State',\n",
    "                     hover_name='literacy_rate',\n",
    "                     zoom=3,\n",
    "                     width=800,\n",
    "                     height=550,\n",
    "                     center={'lat':22,\n",
    "                             'lon':79}\n",
    "                     ,map_style='outdoors'\n",
    "                     )\n",
    "# Zoom to INDIA only not whole has paramster visible which helps!!\n",
    "fig.update_geos(fitbounds=\"locations\",visible = False)\n",
    "fig.show()"
   ]
  },
  {
   "cell_type": "code",
   "execution_count": 11,
   "id": "ed79397a",
   "metadata": {},
   "outputs": [],
   "source": [
    "map_list=['basic', 'carto-darkmatter', 'carto-darkmatter-nolabels', 'carto-positron', 'carto-positron-nolabels', 'carto-voyager', 'carto-voyager-nolabels', 'dark', 'light', 'open-street-map', 'outdoors', 'satellite', 'satellite-streets', 'streets', 'white-bg']"
   ]
  },
  {
   "cell_type": "code",
   "execution_count": 12,
   "id": "97cab248",
   "metadata": {},
   "outputs": [
    {
     "data": {
      "text/plain": [
       "['Overall',\n",
       " 'Andhra Pradesh',\n",
       " 'Arunachal Pradesh',\n",
       " 'Assam',\n",
       " 'Bihar',\n",
       " 'Maharashtra',\n",
       " 'Chandigarh',\n",
       " 'Chhattisgarh',\n",
       " 'Himachal Pradesh',\n",
       " 'Daman and Diu',\n",
       " 'Gujarat',\n",
       " 'Goa',\n",
       " 'Haryana',\n",
       " 'Uttar Pradesh',\n",
       " 'Jammu and Kashmir',\n",
       " 'Jharkhand',\n",
       " 'Karnataka',\n",
       " 'Kerala',\n",
       " 'Madhya Pradesh',\n",
       " 'Manipur',\n",
       " 'Meghalaya',\n",
       " 'Mizoram',\n",
       " 'Nagaland',\n",
       " 'Orissa',\n",
       " 'Puducherry',\n",
       " 'Punjab',\n",
       " 'Rajasthan',\n",
       " 'Sikkim',\n",
       " 'Tamil Nadu',\n",
       " 'Tripura',\n",
       " 'Uttaranchal',\n",
       " 'West Bengal']"
      ]
     },
     "execution_count": 12,
     "metadata": {},
     "output_type": "execute_result"
    }
   ],
   "source": [
    "state_list.insert(0,'Overall')\n",
    "state_list"
   ]
  },
  {
   "cell_type": "code",
   "execution_count": 37,
   "id": "0f3c30a6",
   "metadata": {},
   "outputs": [
    {
     "data": {
      "application/vnd.plotly.v1+json": {
       "config": {
        "plotlyServerURL": "https://plot.ly"
       },
       "data": [
        {
         "coloraxis": "coloraxis",
         "hovertemplate": "<b>%{hovertext}</b><br><br>literacy_rate=%{z}<br>lat=%{lat}<br>lon=%{lon}<extra></extra>",
         "hovertext": [
          "Andhra Pradesh",
          "Andhra Pradesh",
          "Andhra Pradesh",
          "Andhra Pradesh",
          "Andhra Pradesh",
          "Andhra Pradesh",
          "Andhra Pradesh",
          "Andhra Pradesh",
          "Andhra Pradesh",
          "Andhra Pradesh",
          "Andhra Pradesh",
          "Andhra Pradesh",
          "Andhra Pradesh",
          "Andhra Pradesh",
          "Andhra Pradesh",
          "Andhra Pradesh",
          "Andhra Pradesh",
          "Andhra Pradesh",
          "Andhra Pradesh",
          "Arunachal Pradesh",
          "Arunachal Pradesh",
          "Arunachal Pradesh",
          "Arunachal Pradesh",
          "Arunachal Pradesh",
          "Arunachal Pradesh",
          "Arunachal Pradesh",
          "Arunachal Pradesh",
          "Arunachal Pradesh",
          "Arunachal Pradesh",
          "Arunachal Pradesh",
          "Arunachal Pradesh",
          "Arunachal Pradesh",
          "Arunachal Pradesh",
          "Assam",
          "Assam",
          "Assam",
          "Assam",
          "Assam",
          "Assam",
          "Assam",
          "Assam",
          "Assam",
          "Assam",
          "Assam",
          "Assam",
          "Assam",
          "Assam",
          "Assam",
          "Assam",
          "Assam",
          "Assam",
          "Assam",
          "Bihar",
          "Bihar",
          "Bihar",
          "Maharashtra",
          "Maharashtra",
          "Bihar",
          "Bihar",
          "Bihar",
          "Bihar",
          "Bihar",
          "Bihar",
          "Bihar",
          "Bihar",
          "Bihar",
          "Bihar",
          "Bihar",
          "Bihar",
          "Bihar",
          "Bihar",
          "Bihar",
          "Bihar",
          "Bihar",
          "Bihar",
          "Bihar",
          "Bihar",
          "Bihar",
          "Bihar",
          "Bihar",
          "Bihar",
          "Bihar",
          "Bihar",
          "Bihar",
          "Bihar",
          "Bihar",
          "Bihar",
          "Bihar",
          "Bihar",
          "Bihar",
          "Bihar",
          "Chandigarh",
          "Chhattisgarh",
          "Chhattisgarh",
          "Chhattisgarh",
          "Himachal Pradesh",
          "Himachal Pradesh",
          "Chhattisgarh",
          "Chhattisgarh",
          "Chhattisgarh",
          "Chhattisgarh",
          "Chhattisgarh",
          "Chhattisgarh",
          "Chhattisgarh",
          "Chhattisgarh",
          "Maharashtra",
          "Maharashtra",
          "Chhattisgarh",
          "Chhattisgarh",
          "Daman and Diu",
          "Daman and Diu",
          "Gujarat",
          "Goa",
          "Goa",
          "Gujarat",
          "Gujarat",
          "Gujarat",
          "Gujarat",
          "Gujarat",
          "Gujarat",
          "Gujarat",
          "Gujarat",
          "Gujarat",
          "Gujarat",
          "Gujarat",
          "Gujarat",
          "Gujarat",
          "Gujarat",
          "Gujarat",
          "Gujarat",
          "Gujarat",
          "Gujarat",
          "Gujarat",
          "Gujarat",
          "Gujarat",
          "Gujarat",
          "Gujarat",
          "Haryana",
          "Haryana",
          "Haryana",
          "Haryana",
          "Haryana",
          "Haryana",
          "Haryana",
          "Haryana",
          "Haryana",
          "Haryana",
          "Haryana",
          "Haryana",
          "Haryana",
          "Haryana",
          "Haryana",
          "Haryana",
          "Haryana",
          "Himachal Pradesh",
          "Himachal Pradesh",
          "Himachal Pradesh",
          "Uttar Pradesh",
          "Uttar Pradesh",
          "Himachal Pradesh",
          "Himachal Pradesh",
          "Himachal Pradesh",
          "Himachal Pradesh",
          "Himachal Pradesh",
          "Himachal Pradesh",
          "Himachal Pradesh",
          "Himachal Pradesh",
          "Jammu and Kashmir",
          "Jammu and Kashmir",
          "Jammu and Kashmir",
          "Jammu and Kashmir",
          "Jammu and Kashmir",
          "Jammu and Kashmir",
          "Jammu and Kashmir",
          "Jammu and Kashmir",
          "Jharkhand",
          "Jharkhand",
          "Jharkhand",
          "Jharkhand",
          "Jharkhand",
          "Jharkhand",
          "Jharkhand",
          "Jharkhand",
          "Jharkhand",
          "Jharkhand",
          "Jharkhand",
          "Jharkhand",
          "Jharkhand",
          "Jharkhand",
          "Jharkhand",
          "Jharkhand",
          "Jharkhand",
          "Karnataka",
          "Karnataka",
          "Karnataka",
          "Karnataka",
          "Karnataka",
          "Karnataka",
          "Karnataka",
          "Karnataka",
          "Karnataka",
          "Karnataka",
          "Karnataka",
          "Karnataka",
          "Karnataka",
          "Karnataka",
          "Karnataka",
          "Karnataka",
          "Karnataka",
          "Karnataka",
          "Karnataka",
          "Karnataka",
          "Karnataka",
          "Karnataka",
          "Karnataka",
          "Karnataka",
          "Kerala",
          "Kerala",
          "Kerala",
          "Kerala",
          "Kerala",
          "Kerala",
          "Kerala",
          "Kerala",
          "Kerala",
          "Kerala",
          "Kerala",
          "Kerala",
          "Kerala",
          "Madhya Pradesh",
          "Madhya Pradesh",
          "Madhya Pradesh",
          "Madhya Pradesh",
          "Madhya Pradesh",
          "Madhya Pradesh",
          "Madhya Pradesh",
          "Madhya Pradesh",
          "Madhya Pradesh",
          "Madhya Pradesh",
          "Madhya Pradesh",
          "Madhya Pradesh",
          "Madhya Pradesh",
          "Madhya Pradesh",
          "Madhya Pradesh",
          "Madhya Pradesh",
          "Madhya Pradesh",
          "Madhya Pradesh",
          "Madhya Pradesh",
          "Madhya Pradesh",
          "Madhya Pradesh",
          "Madhya Pradesh",
          "Madhya Pradesh",
          "Madhya Pradesh",
          "Madhya Pradesh",
          "Madhya Pradesh",
          "Madhya Pradesh",
          "Madhya Pradesh",
          "Madhya Pradesh",
          "Madhya Pradesh",
          "Madhya Pradesh",
          "Madhya Pradesh",
          "Madhya Pradesh",
          "Madhya Pradesh",
          "Madhya Pradesh",
          "Madhya Pradesh",
          "Madhya Pradesh",
          "Madhya Pradesh",
          "Madhya Pradesh",
          "Madhya Pradesh",
          "Madhya Pradesh",
          "Madhya Pradesh",
          "Madhya Pradesh",
          "Madhya Pradesh",
          "Madhya Pradesh",
          "Maharashtra",
          "Maharashtra",
          "Maharashtra",
          "Maharashtra",
          "Maharashtra",
          "Maharashtra",
          "Maharashtra",
          "Maharashtra",
          "Maharashtra",
          "Maharashtra",
          "Maharashtra",
          "Maharashtra",
          "Maharashtra",
          "Maharashtra",
          "Maharashtra",
          "Maharashtra",
          "Maharashtra",
          "Maharashtra",
          "Maharashtra",
          "Maharashtra",
          "Maharashtra",
          "Maharashtra",
          "Maharashtra",
          "Maharashtra",
          "Maharashtra",
          "Maharashtra",
          "Maharashtra",
          "Maharashtra",
          "Maharashtra",
          "Manipur",
          "Manipur",
          "Manipur",
          "Manipur",
          "Manipur",
          "Manipur",
          "Manipur",
          "Meghalaya",
          "Meghalaya",
          "Meghalaya",
          "Meghalaya",
          "Meghalaya",
          "Meghalaya",
          "Mizoram",
          "Mizoram",
          "Mizoram",
          "Mizoram",
          "Mizoram",
          "Mizoram",
          "Mizoram",
          "Mizoram",
          "Nagaland",
          "Nagaland",
          "Nagaland",
          "Nagaland",
          "Nagaland",
          "Nagaland",
          "Nagaland",
          "Nagaland",
          "Orissa",
          "Orissa",
          "Orissa",
          "Orissa",
          "Orissa",
          "Orissa",
          "Orissa",
          "Orissa",
          "Orissa",
          "Orissa",
          "Orissa",
          "Orissa",
          "Orissa",
          "Orissa",
          "Orissa",
          "Orissa",
          "Orissa",
          "Orissa",
          "Orissa",
          "Orissa",
          "Puducherry",
          "Puducherry",
          "Puducherry",
          "Punjab",
          "Punjab",
          "Punjab",
          "Punjab",
          "Punjab",
          "Punjab",
          "Punjab",
          "Punjab",
          "Punjab",
          "Punjab",
          "Punjab",
          "Punjab",
          "Punjab",
          "Punjab",
          "Punjab",
          "Punjab",
          "Rajasthan",
          "Rajasthan",
          "Rajasthan",
          "Rajasthan",
          "Rajasthan",
          "Rajasthan",
          "Rajasthan",
          "Rajasthan",
          "Rajasthan",
          "Rajasthan",
          "Rajasthan",
          "Rajasthan",
          "Rajasthan",
          "Rajasthan",
          "Rajasthan",
          "Rajasthan",
          "Rajasthan",
          "Rajasthan",
          "Rajasthan",
          "Rajasthan",
          "Rajasthan",
          "Rajasthan",
          "Rajasthan",
          "Rajasthan",
          "Rajasthan",
          "Rajasthan",
          "Rajasthan",
          "Rajasthan",
          "Rajasthan",
          "Rajasthan",
          "Rajasthan",
          "Rajasthan",
          "Sikkim",
          "Tamil Nadu",
          "Tamil Nadu",
          "Tamil Nadu",
          "Tamil Nadu",
          "Tamil Nadu",
          "Tamil Nadu",
          "Tamil Nadu",
          "Tamil Nadu",
          "Tamil Nadu",
          "Tamil Nadu",
          "Tamil Nadu",
          "Tamil Nadu",
          "Tamil Nadu",
          "Tamil Nadu",
          "Tamil Nadu",
          "Tamil Nadu",
          "Tamil Nadu",
          "Tamil Nadu",
          "Tamil Nadu",
          "Tamil Nadu",
          "Tamil Nadu",
          "Tamil Nadu",
          "Tamil Nadu",
          "Tamil Nadu",
          "Tamil Nadu",
          "Tripura",
          "Tripura",
          "Tripura",
          "Tripura",
          "Uttar Pradesh",
          "Uttar Pradesh",
          "Uttar Pradesh",
          "Uttar Pradesh",
          "Uttar Pradesh",
          "Uttar Pradesh",
          "Uttar Pradesh",
          "Uttar Pradesh",
          "Uttar Pradesh",
          "Uttar Pradesh",
          "Uttar Pradesh",
          "Uttar Pradesh",
          "Uttar Pradesh",
          "Uttar Pradesh",
          "Uttar Pradesh",
          "Uttar Pradesh",
          "Uttar Pradesh",
          "Uttar Pradesh",
          "Uttar Pradesh",
          "Uttar Pradesh",
          "Uttar Pradesh",
          "Uttar Pradesh",
          "Uttar Pradesh",
          "Uttar Pradesh",
          "Uttar Pradesh",
          "Uttar Pradesh",
          "Uttar Pradesh",
          "Uttar Pradesh",
          "Uttar Pradesh",
          "Uttar Pradesh",
          "Uttar Pradesh",
          "Uttar Pradesh",
          "Uttar Pradesh",
          "Uttar Pradesh",
          "Uttar Pradesh",
          "Uttar Pradesh",
          "Uttar Pradesh",
          "Uttar Pradesh",
          "Uttar Pradesh",
          "Uttar Pradesh",
          "Uttar Pradesh",
          "Uttar Pradesh",
          "Uttar Pradesh",
          "Uttar Pradesh",
          "Uttar Pradesh",
          "Uttar Pradesh",
          "Uttar Pradesh",
          "Uttar Pradesh",
          "Uttar Pradesh",
          "Uttar Pradesh",
          "Uttar Pradesh",
          "Uttar Pradesh",
          "Uttar Pradesh",
          "Uttar Pradesh",
          "Uttar Pradesh",
          "Uttar Pradesh",
          "Uttar Pradesh",
          "Uttar Pradesh",
          "Uttar Pradesh",
          "Uttar Pradesh",
          "Uttar Pradesh",
          "Uttar Pradesh",
          "Uttaranchal",
          "Uttaranchal",
          "Uttaranchal",
          "Uttaranchal",
          "Uttaranchal",
          "Uttaranchal",
          "Uttaranchal",
          "Uttaranchal",
          "West Bengal",
          "West Bengal",
          "West Bengal",
          "West Bengal",
          "West Bengal",
          "West Bengal",
          "West Bengal",
          "West Bengal",
          "West Bengal",
          "West Bengal",
          "West Bengal",
          "West Bengal",
          "West Bengal",
          "West Bengal"
         ],
         "lat": {
          "bdata": "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",
          "dtype": "f8"
         },
         "lon": {
          "bdata": "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",
          "dtype": "f8"
         },
         "name": "",
         "opacity": 0.3,
         "subplot": "map",
         "type": "densitymap",
         "z": {
          "bdata": "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",
          "dtype": "f8"
         }
        }
       ],
       "layout": {
        "coloraxis": {
         "colorbar": {
          "title": {
           "text": "literacy_rate"
          }
         },
         "colorscale": [
          [
           0,
           "#0d0887"
          ],
          [
           0.1111111111111111,
           "#46039f"
          ],
          [
           0.2222222222222222,
           "#7201a8"
          ],
          [
           0.3333333333333333,
           "#9c179e"
          ],
          [
           0.4444444444444444,
           "#bd3786"
          ],
          [
           0.5555555555555556,
           "#d8576b"
          ],
          [
           0.6666666666666666,
           "#ed7953"
          ],
          [
           0.7777777777777778,
           "#fb9f3a"
          ],
          [
           0.8888888888888888,
           "#fdca26"
          ],
          [
           1,
           "#f0f921"
          ]
         ]
        },
        "geo": {
         "fitbounds": "locations",
         "visible": false
        },
        "height": 550,
        "legend": {
         "tracegroupgap": 0
        },
        "map": {
         "center": {
          "lat": 22,
          "lon": 79
         },
         "domain": {
          "x": [
           0,
           1
          ],
          "y": [
           0,
           1
          ]
         },
         "zoom": 3
        },
        "mapbox": {
         "center": {
          "lat": 22,
          "lon": 79
         },
         "zoom": 3
        },
        "margin": {
         "t": 60
        },
        "template": {
         "data": {
          "bar": [
           {
            "error_x": {
             "color": "#2a3f5f"
            },
            "error_y": {
             "color": "#2a3f5f"
            },
            "marker": {
             "line": {
              "color": "#E5ECF6",
              "width": 0.5
             },
             "pattern": {
              "fillmode": "overlay",
              "size": 10,
              "solidity": 0.2
             }
            },
            "type": "bar"
           }
          ],
          "barpolar": [
           {
            "marker": {
             "line": {
              "color": "#E5ECF6",
              "width": 0.5
             },
             "pattern": {
              "fillmode": "overlay",
              "size": 10,
              "solidity": 0.2
             }
            },
            "type": "barpolar"
           }
          ],
          "carpet": [
           {
            "aaxis": {
             "endlinecolor": "#2a3f5f",
             "gridcolor": "white",
             "linecolor": "white",
             "minorgridcolor": "white",
             "startlinecolor": "#2a3f5f"
            },
            "baxis": {
             "endlinecolor": "#2a3f5f",
             "gridcolor": "white",
             "linecolor": "white",
             "minorgridcolor": "white",
             "startlinecolor": "#2a3f5f"
            },
            "type": "carpet"
           }
          ],
          "choropleth": [
           {
            "colorbar": {
             "outlinewidth": 0,
             "ticks": ""
            },
            "type": "choropleth"
           }
          ],
          "contour": [
           {
            "colorbar": {
             "outlinewidth": 0,
             "ticks": ""
            },
            "colorscale": [
             [
              0,
              "#0d0887"
             ],
             [
              0.1111111111111111,
              "#46039f"
             ],
             [
              0.2222222222222222,
              "#7201a8"
             ],
             [
              0.3333333333333333,
              "#9c179e"
             ],
             [
              0.4444444444444444,
              "#bd3786"
             ],
             [
              0.5555555555555556,
              "#d8576b"
             ],
             [
              0.6666666666666666,
              "#ed7953"
             ],
             [
              0.7777777777777778,
              "#fb9f3a"
             ],
             [
              0.8888888888888888,
              "#fdca26"
             ],
             [
              1,
              "#f0f921"
             ]
            ],
            "type": "contour"
           }
          ],
          "contourcarpet": [
           {
            "colorbar": {
             "outlinewidth": 0,
             "ticks": ""
            },
            "type": "contourcarpet"
           }
          ],
          "heatmap": [
           {
            "colorbar": {
             "outlinewidth": 0,
             "ticks": ""
            },
            "colorscale": [
             [
              0,
              "#0d0887"
             ],
             [
              0.1111111111111111,
              "#46039f"
             ],
             [
              0.2222222222222222,
              "#7201a8"
             ],
             [
              0.3333333333333333,
              "#9c179e"
             ],
             [
              0.4444444444444444,
              "#bd3786"
             ],
             [
              0.5555555555555556,
              "#d8576b"
             ],
             [
              0.6666666666666666,
              "#ed7953"
             ],
             [
              0.7777777777777778,
              "#fb9f3a"
             ],
             [
              0.8888888888888888,
              "#fdca26"
             ],
             [
              1,
              "#f0f921"
             ]
            ],
            "type": "heatmap"
           }
          ],
          "histogram": [
           {
            "marker": {
             "pattern": {
              "fillmode": "overlay",
              "size": 10,
              "solidity": 0.2
             }
            },
            "type": "histogram"
           }
          ],
          "histogram2d": [
           {
            "colorbar": {
             "outlinewidth": 0,
             "ticks": ""
            },
            "colorscale": [
             [
              0,
              "#0d0887"
             ],
             [
              0.1111111111111111,
              "#46039f"
             ],
             [
              0.2222222222222222,
              "#7201a8"
             ],
             [
              0.3333333333333333,
              "#9c179e"
             ],
             [
              0.4444444444444444,
              "#bd3786"
             ],
             [
              0.5555555555555556,
              "#d8576b"
             ],
             [
              0.6666666666666666,
              "#ed7953"
             ],
             [
              0.7777777777777778,
              "#fb9f3a"
             ],
             [
              0.8888888888888888,
              "#fdca26"
             ],
             [
              1,
              "#f0f921"
             ]
            ],
            "type": "histogram2d"
           }
          ],
          "histogram2dcontour": [
           {
            "colorbar": {
             "outlinewidth": 0,
             "ticks": ""
            },
            "colorscale": [
             [
              0,
              "#0d0887"
             ],
             [
              0.1111111111111111,
              "#46039f"
             ],
             [
              0.2222222222222222,
              "#7201a8"
             ],
             [
              0.3333333333333333,
              "#9c179e"
             ],
             [
              0.4444444444444444,
              "#bd3786"
             ],
             [
              0.5555555555555556,
              "#d8576b"
             ],
             [
              0.6666666666666666,
              "#ed7953"
             ],
             [
              0.7777777777777778,
              "#fb9f3a"
             ],
             [
              0.8888888888888888,
              "#fdca26"
             ],
             [
              1,
              "#f0f921"
             ]
            ],
            "type": "histogram2dcontour"
           }
          ],
          "mesh3d": [
           {
            "colorbar": {
             "outlinewidth": 0,
             "ticks": ""
            },
            "type": "mesh3d"
           }
          ],
          "parcoords": [
           {
            "line": {
             "colorbar": {
              "outlinewidth": 0,
              "ticks": ""
             }
            },
            "type": "parcoords"
           }
          ],
          "pie": [
           {
            "automargin": true,
            "type": "pie"
           }
          ],
          "scatter": [
           {
            "fillpattern": {
             "fillmode": "overlay",
             "size": 10,
             "solidity": 0.2
            },
            "type": "scatter"
           }
          ],
          "scatter3d": [
           {
            "line": {
             "colorbar": {
              "outlinewidth": 0,
              "ticks": ""
             }
            },
            "marker": {
             "colorbar": {
              "outlinewidth": 0,
              "ticks": ""
             }
            },
            "type": "scatter3d"
           }
          ],
          "scattercarpet": [
           {
            "marker": {
             "colorbar": {
              "outlinewidth": 0,
              "ticks": ""
             }
            },
            "type": "scattercarpet"
           }
          ],
          "scattergeo": [
           {
            "marker": {
             "colorbar": {
              "outlinewidth": 0,
              "ticks": ""
             }
            },
            "type": "scattergeo"
           }
          ],
          "scattergl": [
           {
            "marker": {
             "colorbar": {
              "outlinewidth": 0,
              "ticks": ""
             }
            },
            "type": "scattergl"
           }
          ],
          "scattermap": [
           {
            "marker": {
             "colorbar": {
              "outlinewidth": 0,
              "ticks": ""
             }
            },
            "type": "scattermap"
           }
          ],
          "scattermapbox": [
           {
            "marker": {
             "colorbar": {
              "outlinewidth": 0,
              "ticks": ""
             }
            },
            "type": "scattermapbox"
           }
          ],
          "scatterpolar": [
           {
            "marker": {
             "colorbar": {
              "outlinewidth": 0,
              "ticks": ""
             }
            },
            "type": "scatterpolar"
           }
          ],
          "scatterpolargl": [
           {
            "marker": {
             "colorbar": {
              "outlinewidth": 0,
              "ticks": ""
             }
            },
            "type": "scatterpolargl"
           }
          ],
          "scatterternary": [
           {
            "marker": {
             "colorbar": {
              "outlinewidth": 0,
              "ticks": ""
             }
            },
            "type": "scatterternary"
           }
          ],
          "surface": [
           {
            "colorbar": {
             "outlinewidth": 0,
             "ticks": ""
            },
            "colorscale": [
             [
              0,
              "#0d0887"
             ],
             [
              0.1111111111111111,
              "#46039f"
             ],
             [
              0.2222222222222222,
              "#7201a8"
             ],
             [
              0.3333333333333333,
              "#9c179e"
             ],
             [
              0.4444444444444444,
              "#bd3786"
             ],
             [
              0.5555555555555556,
              "#d8576b"
             ],
             [
              0.6666666666666666,
              "#ed7953"
             ],
             [
              0.7777777777777778,
              "#fb9f3a"
             ],
             [
              0.8888888888888888,
              "#fdca26"
             ],
             [
              1,
              "#f0f921"
             ]
            ],
            "type": "surface"
           }
          ],
          "table": [
           {
            "cells": {
             "fill": {
              "color": "#EBF0F8"
             },
             "line": {
              "color": "white"
             }
            },
            "header": {
             "fill": {
              "color": "#C8D4E3"
             },
             "line": {
              "color": "white"
             }
            },
            "type": "table"
           }
          ]
         },
         "layout": {
          "annotationdefaults": {
           "arrowcolor": "#2a3f5f",
           "arrowhead": 0,
           "arrowwidth": 1
          },
          "autotypenumbers": "strict",
          "coloraxis": {
           "colorbar": {
            "outlinewidth": 0,
            "ticks": ""
           }
          },
          "colorscale": {
           "diverging": [
            [
             0,
             "#8e0152"
            ],
            [
             0.1,
             "#c51b7d"
            ],
            [
             0.2,
             "#de77ae"
            ],
            [
             0.3,
             "#f1b6da"
            ],
            [
             0.4,
             "#fde0ef"
            ],
            [
             0.5,
             "#f7f7f7"
            ],
            [
             0.6,
             "#e6f5d0"
            ],
            [
             0.7,
             "#b8e186"
            ],
            [
             0.8,
             "#7fbc41"
            ],
            [
             0.9,
             "#4d9221"
            ],
            [
             1,
             "#276419"
            ]
           ],
           "sequential": [
            [
             0,
             "#0d0887"
            ],
            [
             0.1111111111111111,
             "#46039f"
            ],
            [
             0.2222222222222222,
             "#7201a8"
            ],
            [
             0.3333333333333333,
             "#9c179e"
            ],
            [
             0.4444444444444444,
             "#bd3786"
            ],
            [
             0.5555555555555556,
             "#d8576b"
            ],
            [
             0.6666666666666666,
             "#ed7953"
            ],
            [
             0.7777777777777778,
             "#fb9f3a"
            ],
            [
             0.8888888888888888,
             "#fdca26"
            ],
            [
             1,
             "#f0f921"
            ]
           ],
           "sequentialminus": [
            [
             0,
             "#0d0887"
            ],
            [
             0.1111111111111111,
             "#46039f"
            ],
            [
             0.2222222222222222,
             "#7201a8"
            ],
            [
             0.3333333333333333,
             "#9c179e"
            ],
            [
             0.4444444444444444,
             "#bd3786"
            ],
            [
             0.5555555555555556,
             "#d8576b"
            ],
            [
             0.6666666666666666,
             "#ed7953"
            ],
            [
             0.7777777777777778,
             "#fb9f3a"
            ],
            [
             0.8888888888888888,
             "#fdca26"
            ],
            [
             1,
             "#f0f921"
            ]
           ]
          },
          "colorway": [
           "#636efa",
           "#EF553B",
           "#00cc96",
           "#ab63fa",
           "#FFA15A",
           "#19d3f3",
           "#FF6692",
           "#B6E880",
           "#FF97FF",
           "#FECB52"
          ],
          "font": {
           "color": "#2a3f5f"
          },
          "geo": {
           "bgcolor": "white",
           "lakecolor": "white",
           "landcolor": "#E5ECF6",
           "showlakes": true,
           "showland": true,
           "subunitcolor": "white"
          },
          "hoverlabel": {
           "align": "left"
          },
          "hovermode": "closest",
          "mapbox": {
           "style": "light"
          },
          "paper_bgcolor": "white",
          "plot_bgcolor": "#E5ECF6",
          "polar": {
           "angularaxis": {
            "gridcolor": "white",
            "linecolor": "white",
            "ticks": ""
           },
           "bgcolor": "#E5ECF6",
           "radialaxis": {
            "gridcolor": "white",
            "linecolor": "white",
            "ticks": ""
           }
          },
          "scene": {
           "xaxis": {
            "backgroundcolor": "#E5ECF6",
            "gridcolor": "white",
            "gridwidth": 2,
            "linecolor": "white",
            "showbackground": true,
            "ticks": "",
            "zerolinecolor": "white"
           },
           "yaxis": {
            "backgroundcolor": "#E5ECF6",
            "gridcolor": "white",
            "gridwidth": 2,
            "linecolor": "white",
            "showbackground": true,
            "ticks": "",
            "zerolinecolor": "white"
           },
           "zaxis": {
            "backgroundcolor": "#E5ECF6",
            "gridcolor": "white",
            "gridwidth": 2,
            "linecolor": "white",
            "showbackground": true,
            "ticks": "",
            "zerolinecolor": "white"
           }
          },
          "shapedefaults": {
           "line": {
            "color": "#2a3f5f"
           }
          },
          "ternary": {
           "aaxis": {
            "gridcolor": "white",
            "linecolor": "white",
            "ticks": ""
           },
           "baxis": {
            "gridcolor": "white",
            "linecolor": "white",
            "ticks": ""
           },
           "bgcolor": "#E5ECF6",
           "caxis": {
            "gridcolor": "white",
            "linecolor": "white",
            "ticks": ""
           }
          },
          "title": {
           "x": 0.05
          },
          "xaxis": {
           "automargin": true,
           "gridcolor": "white",
           "linecolor": "white",
           "ticks": "",
           "title": {
            "standoff": 15
           },
           "zerolinecolor": "white",
           "zerolinewidth": 2
          },
          "yaxis": {
           "automargin": true,
           "gridcolor": "white",
           "linecolor": "white",
           "ticks": "",
           "title": {
            "standoff": 15
           },
           "zerolinecolor": "white",
           "zerolinewidth": 2
          }
         }
        },
        "width": 800
       }
      }
     },
     "metadata": {},
     "output_type": "display_data"
    }
   ],
   "source": [
    "fig = px.scatter_map(df, lat='lat',\n",
    "                     lon='lon',\n",
    "                    #  text=\"literacy_rate\", # which column to use to set the color of markers # column added to hover information\n",
    "                     size=\"Population\", # size of markers\n",
    "                     color='State',\n",
    "                     hover_name='District',\n",
    "                     zoom=3,\n",
    "                     width=800,\n",
    "                     height=550,\n",
    "                     center={'lat':22,\n",
    "                             'lon':79}\n",
    "                    #  ,map_style=map\n",
    "                     )\n",
    "        # Zoom to INDIA only not whole has paramster visible which helps!!\n",
    "fig.update_traces(mode='markers+text', textposition='top center')\n",
    "fig.update_geos(fitbounds=\"locations\",visible = False)\n",
    "\n",
    "gif = px.density_map(df, lat='lat',\n",
    "                     lon='lon',\n",
    "                    #  text=\"literacy_rate\", # which column to use to set the color of markers # column added to hover information\n",
    "                    #  size=\"Populatio/n\", # size of markers\n",
    "                     z='literacy_rate',\n",
    "                     opacity=0.3,\n",
    "                     hover_name='State',\n",
    "                     zoom=3,\n",
    "                     width=800,\n",
    "                     height=550,\n",
    "                     center={'lat':22,\n",
    "                             'lon':79})\n",
    "gif.update_geos(fitbounds=\"locations\",visible = False)\n",
    "gif.show()"
   ]
  },
  {
   "cell_type": "code",
   "execution_count": 36,
   "id": "002b94f5",
   "metadata": {},
   "outputs": [
    {
     "data": {
      "application/vnd.plotly.v1+json": {
       "config": {
        "plotlyServerURL": "https://plot.ly"
       },
       "data": [
        {
         "coloraxis": "coloraxis",
         "hovertemplate": "<b>%{hovertext}</b><br><br>literacy_rate=%{z}<br>lat=%{lat}<br>lon=%{lon}<extra></extra>",
         "hovertext": [
          "Andhra Pradesh",
          "Andhra Pradesh",
          "Andhra Pradesh",
          "Andhra Pradesh",
          "Andhra Pradesh",
          "Andhra Pradesh",
          "Andhra Pradesh",
          "Andhra Pradesh",
          "Andhra Pradesh",
          "Andhra Pradesh",
          "Andhra Pradesh",
          "Andhra Pradesh",
          "Andhra Pradesh",
          "Andhra Pradesh",
          "Andhra Pradesh",
          "Andhra Pradesh",
          "Andhra Pradesh",
          "Andhra Pradesh",
          "Andhra Pradesh",
          "Arunachal Pradesh",
          "Arunachal Pradesh",
          "Arunachal Pradesh",
          "Arunachal Pradesh",
          "Arunachal Pradesh",
          "Arunachal Pradesh",
          "Arunachal Pradesh",
          "Arunachal Pradesh",
          "Arunachal Pradesh",
          "Arunachal Pradesh",
          "Arunachal Pradesh",
          "Arunachal Pradesh",
          "Arunachal Pradesh",
          "Arunachal Pradesh",
          "Assam",
          "Assam",
          "Assam",
          "Assam",
          "Assam",
          "Assam",
          "Assam",
          "Assam",
          "Assam",
          "Assam",
          "Assam",
          "Assam",
          "Assam",
          "Assam",
          "Assam",
          "Assam",
          "Assam",
          "Assam",
          "Assam",
          "Bihar",
          "Bihar",
          "Bihar",
          "Maharashtra",
          "Maharashtra",
          "Bihar",
          "Bihar",
          "Bihar",
          "Bihar",
          "Bihar",
          "Bihar",
          "Bihar",
          "Bihar",
          "Bihar",
          "Bihar",
          "Bihar",
          "Bihar",
          "Bihar",
          "Bihar",
          "Bihar",
          "Bihar",
          "Bihar",
          "Bihar",
          "Bihar",
          "Bihar",
          "Bihar",
          "Bihar",
          "Bihar",
          "Bihar",
          "Bihar",
          "Bihar",
          "Bihar",
          "Bihar",
          "Bihar",
          "Bihar",
          "Bihar",
          "Bihar",
          "Bihar",
          "Bihar",
          "Chandigarh",
          "Chhattisgarh",
          "Chhattisgarh",
          "Chhattisgarh",
          "Himachal Pradesh",
          "Himachal Pradesh",
          "Chhattisgarh",
          "Chhattisgarh",
          "Chhattisgarh",
          "Chhattisgarh",
          "Chhattisgarh",
          "Chhattisgarh",
          "Chhattisgarh",
          "Chhattisgarh",
          "Maharashtra",
          "Maharashtra",
          "Chhattisgarh",
          "Chhattisgarh",
          "Daman and Diu",
          "Daman and Diu",
          "Gujarat",
          "Goa",
          "Goa",
          "Gujarat",
          "Gujarat",
          "Gujarat",
          "Gujarat",
          "Gujarat",
          "Gujarat",
          "Gujarat",
          "Gujarat",
          "Gujarat",
          "Gujarat",
          "Gujarat",
          "Gujarat",
          "Gujarat",
          "Gujarat",
          "Gujarat",
          "Gujarat",
          "Gujarat",
          "Gujarat",
          "Gujarat",
          "Gujarat",
          "Gujarat",
          "Gujarat",
          "Gujarat",
          "Haryana",
          "Haryana",
          "Haryana",
          "Haryana",
          "Haryana",
          "Haryana",
          "Haryana",
          "Haryana",
          "Haryana",
          "Haryana",
          "Haryana",
          "Haryana",
          "Haryana",
          "Haryana",
          "Haryana",
          "Haryana",
          "Haryana",
          "Himachal Pradesh",
          "Himachal Pradesh",
          "Himachal Pradesh",
          "Uttar Pradesh",
          "Uttar Pradesh",
          "Himachal Pradesh",
          "Himachal Pradesh",
          "Himachal Pradesh",
          "Himachal Pradesh",
          "Himachal Pradesh",
          "Himachal Pradesh",
          "Himachal Pradesh",
          "Himachal Pradesh",
          "Jammu and Kashmir",
          "Jammu and Kashmir",
          "Jammu and Kashmir",
          "Jammu and Kashmir",
          "Jammu and Kashmir",
          "Jammu and Kashmir",
          "Jammu and Kashmir",
          "Jammu and Kashmir",
          "Jharkhand",
          "Jharkhand",
          "Jharkhand",
          "Jharkhand",
          "Jharkhand",
          "Jharkhand",
          "Jharkhand",
          "Jharkhand",
          "Jharkhand",
          "Jharkhand",
          "Jharkhand",
          "Jharkhand",
          "Jharkhand",
          "Jharkhand",
          "Jharkhand",
          "Jharkhand",
          "Jharkhand",
          "Karnataka",
          "Karnataka",
          "Karnataka",
          "Karnataka",
          "Karnataka",
          "Karnataka",
          "Karnataka",
          "Karnataka",
          "Karnataka",
          "Karnataka",
          "Karnataka",
          "Karnataka",
          "Karnataka",
          "Karnataka",
          "Karnataka",
          "Karnataka",
          "Karnataka",
          "Karnataka",
          "Karnataka",
          "Karnataka",
          "Karnataka",
          "Karnataka",
          "Karnataka",
          "Karnataka",
          "Kerala",
          "Kerala",
          "Kerala",
          "Kerala",
          "Kerala",
          "Kerala",
          "Kerala",
          "Kerala",
          "Kerala",
          "Kerala",
          "Kerala",
          "Kerala",
          "Kerala",
          "Madhya Pradesh",
          "Madhya Pradesh",
          "Madhya Pradesh",
          "Madhya Pradesh",
          "Madhya Pradesh",
          "Madhya Pradesh",
          "Madhya Pradesh",
          "Madhya Pradesh",
          "Madhya Pradesh",
          "Madhya Pradesh",
          "Madhya Pradesh",
          "Madhya Pradesh",
          "Madhya Pradesh",
          "Madhya Pradesh",
          "Madhya Pradesh",
          "Madhya Pradesh",
          "Madhya Pradesh",
          "Madhya Pradesh",
          "Madhya Pradesh",
          "Madhya Pradesh",
          "Madhya Pradesh",
          "Madhya Pradesh",
          "Madhya Pradesh",
          "Madhya Pradesh",
          "Madhya Pradesh",
          "Madhya Pradesh",
          "Madhya Pradesh",
          "Madhya Pradesh",
          "Madhya Pradesh",
          "Madhya Pradesh",
          "Madhya Pradesh",
          "Madhya Pradesh",
          "Madhya Pradesh",
          "Madhya Pradesh",
          "Madhya Pradesh",
          "Madhya Pradesh",
          "Madhya Pradesh",
          "Madhya Pradesh",
          "Madhya Pradesh",
          "Madhya Pradesh",
          "Madhya Pradesh",
          "Madhya Pradesh",
          "Madhya Pradesh",
          "Madhya Pradesh",
          "Madhya Pradesh",
          "Maharashtra",
          "Maharashtra",
          "Maharashtra",
          "Maharashtra",
          "Maharashtra",
          "Maharashtra",
          "Maharashtra",
          "Maharashtra",
          "Maharashtra",
          "Maharashtra",
          "Maharashtra",
          "Maharashtra",
          "Maharashtra",
          "Maharashtra",
          "Maharashtra",
          "Maharashtra",
          "Maharashtra",
          "Maharashtra",
          "Maharashtra",
          "Maharashtra",
          "Maharashtra",
          "Maharashtra",
          "Maharashtra",
          "Maharashtra",
          "Maharashtra",
          "Maharashtra",
          "Maharashtra",
          "Maharashtra",
          "Maharashtra",
          "Manipur",
          "Manipur",
          "Manipur",
          "Manipur",
          "Manipur",
          "Manipur",
          "Manipur",
          "Meghalaya",
          "Meghalaya",
          "Meghalaya",
          "Meghalaya",
          "Meghalaya",
          "Meghalaya",
          "Mizoram",
          "Mizoram",
          "Mizoram",
          "Mizoram",
          "Mizoram",
          "Mizoram",
          "Mizoram",
          "Mizoram",
          "Nagaland",
          "Nagaland",
          "Nagaland",
          "Nagaland",
          "Nagaland",
          "Nagaland",
          "Nagaland",
          "Nagaland",
          "Orissa",
          "Orissa",
          "Orissa",
          "Orissa",
          "Orissa",
          "Orissa",
          "Orissa",
          "Orissa",
          "Orissa",
          "Orissa",
          "Orissa",
          "Orissa",
          "Orissa",
          "Orissa",
          "Orissa",
          "Orissa",
          "Orissa",
          "Orissa",
          "Orissa",
          "Orissa",
          "Puducherry",
          "Puducherry",
          "Puducherry",
          "Punjab",
          "Punjab",
          "Punjab",
          "Punjab",
          "Punjab",
          "Punjab",
          "Punjab",
          "Punjab",
          "Punjab",
          "Punjab",
          "Punjab",
          "Punjab",
          "Punjab",
          "Punjab",
          "Punjab",
          "Punjab",
          "Rajasthan",
          "Rajasthan",
          "Rajasthan",
          "Rajasthan",
          "Rajasthan",
          "Rajasthan",
          "Rajasthan",
          "Rajasthan",
          "Rajasthan",
          "Rajasthan",
          "Rajasthan",
          "Rajasthan",
          "Rajasthan",
          "Rajasthan",
          "Rajasthan",
          "Rajasthan",
          "Rajasthan",
          "Rajasthan",
          "Rajasthan",
          "Rajasthan",
          "Rajasthan",
          "Rajasthan",
          "Rajasthan",
          "Rajasthan",
          "Rajasthan",
          "Rajasthan",
          "Rajasthan",
          "Rajasthan",
          "Rajasthan",
          "Rajasthan",
          "Rajasthan",
          "Rajasthan",
          "Sikkim",
          "Tamil Nadu",
          "Tamil Nadu",
          "Tamil Nadu",
          "Tamil Nadu",
          "Tamil Nadu",
          "Tamil Nadu",
          "Tamil Nadu",
          "Tamil Nadu",
          "Tamil Nadu",
          "Tamil Nadu",
          "Tamil Nadu",
          "Tamil Nadu",
          "Tamil Nadu",
          "Tamil Nadu",
          "Tamil Nadu",
          "Tamil Nadu",
          "Tamil Nadu",
          "Tamil Nadu",
          "Tamil Nadu",
          "Tamil Nadu",
          "Tamil Nadu",
          "Tamil Nadu",
          "Tamil Nadu",
          "Tamil Nadu",
          "Tamil Nadu",
          "Tripura",
          "Tripura",
          "Tripura",
          "Tripura",
          "Uttar Pradesh",
          "Uttar Pradesh",
          "Uttar Pradesh",
          "Uttar Pradesh",
          "Uttar Pradesh",
          "Uttar Pradesh",
          "Uttar Pradesh",
          "Uttar Pradesh",
          "Uttar Pradesh",
          "Uttar Pradesh",
          "Uttar Pradesh",
          "Uttar Pradesh",
          "Uttar Pradesh",
          "Uttar Pradesh",
          "Uttar Pradesh",
          "Uttar Pradesh",
          "Uttar Pradesh",
          "Uttar Pradesh",
          "Uttar Pradesh",
          "Uttar Pradesh",
          "Uttar Pradesh",
          "Uttar Pradesh",
          "Uttar Pradesh",
          "Uttar Pradesh",
          "Uttar Pradesh",
          "Uttar Pradesh",
          "Uttar Pradesh",
          "Uttar Pradesh",
          "Uttar Pradesh",
          "Uttar Pradesh",
          "Uttar Pradesh",
          "Uttar Pradesh",
          "Uttar Pradesh",
          "Uttar Pradesh",
          "Uttar Pradesh",
          "Uttar Pradesh",
          "Uttar Pradesh",
          "Uttar Pradesh",
          "Uttar Pradesh",
          "Uttar Pradesh",
          "Uttar Pradesh",
          "Uttar Pradesh",
          "Uttar Pradesh",
          "Uttar Pradesh",
          "Uttar Pradesh",
          "Uttar Pradesh",
          "Uttar Pradesh",
          "Uttar Pradesh",
          "Uttar Pradesh",
          "Uttar Pradesh",
          "Uttar Pradesh",
          "Uttar Pradesh",
          "Uttar Pradesh",
          "Uttar Pradesh",
          "Uttar Pradesh",
          "Uttar Pradesh",
          "Uttar Pradesh",
          "Uttar Pradesh",
          "Uttar Pradesh",
          "Uttar Pradesh",
          "Uttar Pradesh",
          "Uttar Pradesh",
          "Uttaranchal",
          "Uttaranchal",
          "Uttaranchal",
          "Uttaranchal",
          "Uttaranchal",
          "Uttaranchal",
          "Uttaranchal",
          "Uttaranchal",
          "West Bengal",
          "West Bengal",
          "West Bengal",
          "West Bengal",
          "West Bengal",
          "West Bengal",
          "West Bengal",
          "West Bengal",
          "West Bengal",
          "West Bengal",
          "West Bengal",
          "West Bengal",
          "West Bengal",
          "West Bengal"
         ],
         "lat": {
          "bdata": "OdL+59VIM0D8pawOx58sQIZoKfmEqSpATsBVOmDIMEA8wn79FMUvQIbaDWbEYzFAgsPgtPaDMkBoIsx3Fa8xQGmSQdjUJDBAU2HcuwzgLkAIdiVNuaMwQOzXtH2p4zFAMSxc/P0cMUD8ytvI8m0yQBSy7FFj+i5AwqhekSaSMkAgrEsmhkgyQBlO8pZ8BDJAGqHG8AqiMEAITz67SFw7QNO/2pIGXztAxi2U+mAnPED1l1CxbAw8QPwLDIVg8jtAYolJo5ZTPEBeXaTLX7U7QAfrJAsGRjtAEtbcTUGuO0CJwwoRrvE6QG8epXe31DxARMirWvZGPECU41FyAXc7QHZPZEY2GzxAsnRnCYltOkC5wApoO3M6QAWdRT3J0DhA2MYFdKqVOkCYTjAOJ5Y7QMgXFxFeTjtA1IACUWwEOkBT+Yx4kWA6QGT1tXYedThAdWfQzi/DOkDrKxywwis6QJuYdEH0FjpAJlQp2FSyOECWgjaOS386QLO7S3QrJDtAqDaGP75DOkDb74y+lnY6QNL+EL4yvDpAlKs9EBaJO0CpEPK0JjY6QIZX6P03xjhAhlfo/TfGOEBtSF15ERk0QG1IXXkRGTRAniFlQhXVOEBVeLTCA4s5QB5f6Rz2RjlAcAT6wbSBOUA2hLzrZXw5QH128Y5sJTpA9Q62AQa6OEAZCgHd4HI6QEztEkXAyDhAu7X5lNonOUBeqfarzpA5QEEX6FociTlAcOHZuwdTOkCkUOOI9i45QGZtkM7+xTlATG1FJu9pOkC98Eli0zI5QMzHlenHLzpA+Y8kY7Y6OUDhhn+nYdM4QLlbEe8fKTtAsCvxHSlnOUCevPs9aa46QL+r0Zww0TlAV+trWuD9OEDFlN/LPtI5QGj/E4UPyzlAHUrWAYXlOUCywp7v7R85QMGf1HBYdTpAGVvIwtGQOkCFO9V8cyw6QM7JqI4VSDpA8yo8lz/QOUB1ApoIG74+QK2uj3PUZDNAky+EnWBbNkCTL4SdYFs2QH5FK2HHYD9AfkUrYcdgP0B0WgLBDo40QFHxAGLIMTVAfodJQ9rFNkDNiNLe4H02QPsed4QOgTdArnfWLEY5NUCa4NaoHQI2QJrg1qgdAjZA7zVLsQh0MkDvNUuxCHQyQLPqgPbS4jRAeeEQ6MJTN0DuvQtufm40QGq9k0vGuTRAU75XOPXtNEA02qNG8hgvQCIDdZD7Yy5ASbd5K/2aNkCtbgMgXww1QLW9aThgSDZAZqMRnC9COEDm8AjzA8I1QM6gyvrCszVAFA+s/5QxN0As/NYbHWk2QN4pzcQGezdAOhE2PD3jNkDFA8bWg4c3QM6KROzntDVATw+j9vHdNECnA4BH6s02QLzRpW1szjdARAjWUgmNNUCa82HU8Wc2QHc2JzTRtzdA4o8n+fJBNUBSczzto9M2QINyt+A3zTRAv0fjAedCNkAcc633P3E0QBx6uaqxWT5AEjL0GJe6PEAv7L89EyY8QAJYrAavkj1AErVdsDwLPEBp+EFTfTw9QIG3w3K1mDxAZVEnY5VzPUAz3E967/U9QBx2JvUEtD1AbMPzhngOPkDFPnyGnSI8QGZuwv5tsz5APRC/A/FXPUDVRZrJDzE8QHI4WQl85DxAmXEhDMaiPUD/0TL1bVVAQJUxOTc7rT9AlTE5NzutP0C+0pvy97w5QL7Sm/L3vDlA9vcgMQoSQEA0CYPYTps/QHFpiQm86D9AOXSZLcSiP0C/qoqf3Sc/QL2iuKbJrj5AjHb1g+QJP0DLPT9nU5U/QNzKi9oHrkBAXFSiG0pbQEBoo02FcshAQDWeAtJHQkBAWQL+oivxQEAUlwRlR+VAQPAr/uP1IkFAA93dQBuGQEAX2wqOdq43QH7LZT+/HThA2jU80qhUOEDalpcbwdo3QIiKK81mRjhAqergdwUVOEDhtKbuR044QMSxLm6j0ThAI08/vBoUN0Cd8/pBjvo3QNnMRe6guTdAWc/LvCF9N0D7rbMxlpI4QEPDgL1pMjhACHRrByovN0CBCfRAyu84QLtLk7jXmzZAzjvtc5ooMEAMK9DMp98pQPvo8gY8KTBAXDti0BQmLkAWBgnoSvMxQNV2JkcU1zBA1XYmRxTXMEBjEP9iv9kqQD66wNwAlSxAoxTIGSypLEDf5I6qCrAuQE9cnFCmAy9AP7SEogkSMUAfe7374+MpQKZrN3SkeS1AmLHbOS/LKEAMMlhOJ6AqQPX0mBFxTS9ADGyQh1kmKUB9iEj/Bn8oQIgkoOwADTBAyJFtaLAgLECr6SrvVy8rQHkSD2Kb5ipA4OtPDtAVI0A57TSKfwIkQCcxSgIQnCNAraAPUA/iJ0C+6kl9jKooQNI7+9nY2yFAkwpGM5NJI0C1sbdeLckmQMUw8jZU8iVAHAZp8OGRJUCxw3MA/xIhQBCpUzj56iRAtaoN2ThuJ0BygfA1jS43QAR2tnWIoThANYklYdrMNUD2NYoqv7M1QEEtD8Dx9jVALkkY7ghcOkD36VneEHs3QArgkkdUXTVA77ICikrQOEA7FCALXDo2QOCkbpIoxDdAVXenzPrmOUA5490I/cg2QL325USbkjZA+WF10l7WNkDS+ZhtjX04QEzc7TluCjpAV4hS6Uc6NkCq50SJY5g2QDz7deUlrjZA5NdI62wvN0AGQf52aWs2QLe/jFdzuTdAWrpwuxe0NkCozeKHWjE4QAihQMeFXzpAfd03mv+zOECmCRsXinM4QNF+InniSjdAqInVdhbJN0BWNVF16YA3QBTgeJh23DhA9nDcr+HMN0DhgTTxtaA4QO3ZuCAC7jZARoW37hFVNkDG319c13I3QB62cwcOkTdArlZaybfHOUAXFwE3xmA5QCLY9bnrLDhABq6kehgkOUCTdzfqvFE3QHagFieUmDdAr4Hc6RDUN0CmJRw0Dr80QPc+ezJLKjVAJh0ICzg2NUBa4rFtzfMyQH5/kTQakTRAn6de1nkYNEBSw8EWJkY1QEt+tyaaOTVAWEeIgGKYM0AJ1xJdBeI0QGtHLJEP/DNAlzHpaOVyMEA03KCRQ1kyQGpL8YxRMjVAL448zJU1M0BRgXjW7oU1QEsP5WZURDRAAw768tAxMkB/mwNpcU8zQC0kWJpXhDJAmvoXWM81MUAN7hyBqScxQGbUbI99rDFAnxtbQMMrMEAI+fwWXdYxQGrBbnHisjNAuVybv7PONEAaCrSoQ0g0QBTBB8DmCjRAb/mIsNKBOEBhwmEQekM4QGI2AceXTThAQ52nAawVOUBt3qxervs4QH5wq9ieizhAhuuV1BoPOUBv9orFyNM5QMl7YHjDTTlAKQQ+vO9WOUA/VQHnlT05QE2QiALLfjlAaz5+UjqAOUAvlbx0Zug3QFhRSpyqijdARyvtTLYzOEDUq/lbbFw2QNP7Yb75ATdAOKGvQxC9N0Avl3u2gVs2QFVVKqOMQzdAcPU65G3QOUCr5KSyZZo5QNkUH/aZejpAY62sviuxOkBEsaCV+qE5QKFjtgMHNjpAxwDCWd4zOkBSfNWvNgc6QIQlOnJXfDVAiZLcYt/zNECxNysjW2g0QATuR9mCzDRAceAdKP8eM0A/QVofZUMzQEUMORy60zVAxkqJz8TIM0DlEcDkxhc0QIGPhMY3mzRAkNj6lN0NNEA7L5vzhtMyQPa9XmCVQDJANaOMhsrlNUDTi4SbYTE0QPcrfb2neDRAsl2aksjVM0BaHkWQ90ozQE4GGVkIhDVA8avBsUQQNkDkBw9FmMAlQGKqFpZJAyhAupvRiiu1MEBJkt1Hdow/QDaCkTjGMD5AD9c0DFiXPkAjwxu3laQ+QBCGJMNSoj5AEF04k3sFQECby4TNM40/QAh6XRQWQD9ATXFk7ypWP0ClYQk3FsQ+QP/3n3pn6z1A11YfnKzBPkAkEXuc+08+QNi/Th7sNj5Ao0tcMDPpPkCa6FwfXy8+QHb5gFkFMzpAoYvg4n6NO0Atr1/iIXQ3QJ/GP4Pw+jhAFE63ME3FOUBsvW5v+VI7QO9N5bCBczlAEQz41fgfPEDDe6rbXXw5QMu6RxiyoThAAhZ19BVLPEATvWumj+k6QD0oSSJWuTpAuxvQr0TAN0Cvf1WwvEE9QK0TePtrLj1Athq9yZAIO0AlmGNVd946QNVAKmFmEzlAbhiAIUw/OEBQ2JrDmiI8QA0iCZyvrTpA9TkVNN6EOkB+6i7c+yw5QPsSanMgFDtAkQsvLw7OOUAJC+gIuz85QDqzMdtGQDpA3XpZIX2lO0D72kJyNcw4QGax8kloJzpAkGnpI9ZwOED0Uibjxks7QHbgIimLYSZAwgvHI78dKkAYGiggJb4lQHb/n9PYJidATF18G6yZKEBV6hMvb8EkQGH+OtG1iCZAX0m8Yiv+KECMen5L710gQA6vcjM1lyVAX/kGOQLPI0BmoL8rNZQlQAQpv5virCZAqRe3xjCFJkCKc4jW0kIkQF18g30woCJAbHAlyDZCJ0BTAtxNresjQHLwb5l/xiRAbFAhRB/ZI0AGu+pFPY0qQE/oqw3kvCRAuhQb+bDWKEBZy+ki3JEpQHu5NgQQ8CJA7CSDPQfIN0DI2ytWKh84QKUGgmE9NjdA69KL+bjHN0CWrb/SwP46QEstPBH/7ztArmpRpVxkOUAnGXwLJWQ6QDx0bpk+qzpAM5sjWx8COkCM3nAfuQs9QGgha0AYsTtAh7fCh1rcOUDkuhOu9nI7QNAsyzEVWjlAmd94HTvsOkB5h/wq0oI8QNsLgTB51TpAuh35nWBQPUBsD7Y+SFk8QPQjreE6HjlAGg/10fAoOUDBhMGMFGw6QIsqUvRVlztAGbfE8sXJOkDMnXi6G5s6QLwd0q5ccztAl8IQOGLWOUDzq2X2qjU7QFN+QQiwZDxAqZd0PP6/PEDLIYD27Z85QKGwRkc/KDtAgOgWsxaiOkDt0zJxYFY7QLpyyXhlETpA3DY0yo+zOUCQWp9QsHQ5QJPLfgXZ3jxA22q+CXb+OkBvEb+zM246QAlWACAviTlAq7Xv43zkOkC1fXq8uZY4QGU+/HmW1jpAxeFXXWVYOUAxsXGngiw7QIPKMR0KmDtAb+uqO8UCOkAne0BPkgc9QCKHXOMhGjlA4kgWoA3aPEC54vg1c3g9QOjNN5AuhTxAwd1QVWbdOUDB3VBVZt05QBZrysb/QDpACAK0QxvVPECLT2Thpwg+QJGJvRGmyjpAPKRGscv9O0BJM7TOgoA7QDLrkuaIdzhANnb6E95IOkAqzS8ns6E6QN2qr19OXDlAauc/9vuuPUDjSYJBrvw9QFpc28pYlT5A6vdgwppKPUAugDRQryU+QMmpeBq1dj5AHzTAnx0HPUDVLOyqDfg+QHWcGNPOFDdAl1vlusdxN0DYYdRRWxA4QLFSBX+TVzlA67jmTvHWOkB40WIe1GY2QBq7qlIZ4TZA37zjFF2gOkAHv3Do8ow2QOeDAXKMFDlAdCWCBW9COEAMLHZ+aZA3QOXymr8SQTdAvEtfKWwLOkA=",
          "dtype": "f8"
         },
         "lon": {
          "bdata": "Wqu/qwu0U0C5IWs8c11TQJbp629eu1NAjKYStpCPVEALo6d2iiVUQMzLEjvenVNALAYfhwLcU0DPKjuy4ipUQLgHRKl5SVRA40vK06d5U0BP/4QyUX9TQOCfCInRiFNAN/idu97KU0AM1RCm0IRTQMY4tFJ3B1RAMupbVI8QVUD5ZrHUbd1UQFibqDnz91NApk1nYmJdVEDbYxOgCBhYQFFpVtgIQ1dAYd1L1SjEV0DPxmxSs09XQIwThHUwJlhAaUrSygDxV0BAXYCvlX1XQOH5NxHcYldA5i3cfs30VkC+4J5/itpXQDg9RYUZwFdAc4xwkYt5V0CfyjgunClXQHzfgSI/oldAZwBc56m+VkAnMYt4GatWQG/xXHKVN1dARXtOhKYCV0AOs87Wp61XQKG69JVjxldAuxRCFVGmVkBjHMJ22nRXQEjaeObbJVdAuBlJmFOTV0CTnqcorOVWQFYQ1CZiR1dAoi+PfYwXV0CKZ3xY9YhWQBC0tFD3hFdA0Gt5Q487V0B3Q2Wp+9lWQAAb8M6GNldAjVByIDLsV0CZI9jKsNNVQOTqpVluHVVA5OqlWW4dVUC54G61htRSQLngbrWG1FJAvNRTmXS3VUDgop/aCYhVQNnDLWSywlVAt3R1+Z4fVUCKwrkdowVVQHvHnvFTflVAkIBRrFg8VUDXnHfIKhZVQLdOjKnXkFVAup5Vl+46VUA/QcMpGe1VQC8BNz04pFVAx1CKLNT8VUBMsudcNYhVQC3xWUh2uVVAwFQTPXOKVUDr34bQq6JVQPNftPT0VFVAKU+sBcFeVUCZS3ina2dVQM8EW8ReE1VAB3NHUHhUVUAzpMScPkBVQH/gmO/i2VVAPc8gStj7VEDlV2BE/aJVQDVz332xfFVAzSIvgqY0VUAEPq800XFVQGeuurznUlVAQ8E/gCZnVUB4BeFPnBVVQM06Ydw8slVAYMOJUx5ZVUDRsd3xjjBTQNdrbFbaYVRA5lHRX9p/VEDmUdFf2n9UQGkw7WLNKVNAaTDtYs0pU0DUULRecXBUQBVS1Xo8VVRA6IhLkrT3VEBTm5bk3aRUQBUt1o8CiFRARQbXODGqVEAdTfxfytFUQB1N/F/K0VRA1zxYdJRAUkDXPFh0lEBSQOd91irSjFRAPgN8wRfPVEA5UnUNtjVSQJTBDTXAtVFAz1a+mQejUUD+IRCloHNSQOfMdFRGfFJATQV1eEsPUkDWDXEZ0NtRQG9W5gL7JFJAtUSmv6b7UUCDNKe/FitSQILSrxtqClJAbLOamQUrUkAvvzA9uGdRQJNK/WKaNFFAMCqpEzRBUkCEtuUfJh1SQJwDhS7Ha1JABoVxhyg3UkDPSHyOq2dSQC5HwbMa8FFAdGA7mgNuUUBavxIKjrVRQNR0VZS6SFJAIhz4MNU7UkAqWJoY895RQLG63PQNbFJA8ly6GqNfUkDh1pQKjTpSQBa9iu/HPFNAkRBJvVkBU0CRhOOa8FRTQLv7lxfz4lJAxPQ+DT1BU0BT9YrB9/VSQBXboLUgJ1NAe0A+bvESU0BpDbuXIBhTQPv4xAn+N1NAcS2RcWoyU0Ay05e4+AhTQOUpA90wPlNA1DYQEXQ7U0DasBDVzyNTQGid+7X/IVNAGq59mji6UkCwHwvFLxlTQIX3/NbZH1NAhff81tkfU0B4DCVg4PRTQHgMJWDg9FNA0aArLV8aU0BeMQFlCKFTQBeRUcQwWlNAedI048s9U0BsUJz3C2hTQHbOKGGjW1NAdOJ7ZnE8U0BHprQbvwtTQJZCM7SVBFNA7KXBkUG2UkC5GkyQwChTQEi0t2ey5VJAdl+hCZfAUkBm0SWL8JJSQHMv7rQNx1JAvts0ncjJUkAaIPGW+X5VQGUeq5W1O1VAdyjRTHKwVUBzPDSz1plVQNuoQTe00VVA0DUJ9PHrVEA6Qkgyk4VVQPBqSr3T0lVA+B0KgTwjVUBNtKUPAr1VQAX0H0TpHlVA6/Cz6EUqVUDBCA1VmuxVQO42frr/DFVAH6sQJ1dUVUCRVspjsOtVQElwY0viJVVANyOS80vpUkCzexD9UF5TQFGw6mNKrlJA5MKm6TkeU0AG+fFRdExTQMOMA8Jh/VJAw4wDwmH9UkCZbBftR+tSQLBOqowBJVNAUTC9CLT6UkD0hEMd2shSQCE+N+CC6VJAyjF/oQA4U0C5trdbEgdTQAXUiRRa2VJAnz8CgsbyUkD70F+Z4YBTQBkgV19ZClNA6LXncTQ0U0DIhZIn2CFTQBvC8XjqN1NAKZi3zHHLUkBE17B/eEFTQCB85x0WrlJAXB1ZsFMYU0AXdBvBQBFTQF/QsHnvQlNAf6XlyYjWUkD102LK+MRSQJ6Vwn61KFNAuD+4anodU0CexQuliu1SQA/valca/FJATmu4zfwfU0BT/hx+xjhTQHlLqNPiB1NAcc0jDtsEU0C/2or9ZXdUQEiMhIoadVNATVo8JP0aVED0WJk2PrpSQNZ9ItNjclNAEqXN3MGwU0Abqq4qHllTQBn31JqnD1NAzsU2pyDkU0B8+jyH57BTQKtk0Y4c3lNAO+VPF+ioU0BA4qEwfx1TQL6l8nITx1JAh9bL6cVCVECUlL1KT05TQBahGUYuiFNA574ClH5EU0AOGn04Y4FTQCVs8dF0+lJAI2rkLu7+U0BQRwKZMJpSQAIymQOlFVRAd0klULQYVECUAzyR5dtSQLC3YDabeFNARwxwrzrEUkChG1Buhg1UQHtYEX5vilNAZXJ7F4QqU0BkqmKGiMlSQEBtNKzYZFRAs7lNtQquU0CozeKgWTBUQJUbUt5WRFNAO13bQ0bqU0CSNQNza11UQC1nT655FVNAe2amt9JKU0DPBB5T6W9TQB+nxoS+hlRAdPTxQjC5U0ACEHwRcvNSQLobj7EpOlRAnJgZu695U0CgvPcewkdTQJnRk+FAa1NAcVCpFAIHVEC2uThXXexSQL5OhLD4GFNACUOHMjLUU0A2+2CIlKVSQKSKP+s2C1RAYFEPyelFU0BV6eo0SuNSQP+PcuoF/1JA/iy2EUGIUkA02D0jhTBTQA6/BuhiwVNAP7C7trRrU0AHgbWI45RSQFCjPo1yglJAfSzlWq3/UkARkbqP5yxTQKz08EhFiFJAmwoy7nZQUkAKO7TAQa1SQE1dcqaNi1JAQJekvtlgUkCdTcj3IdtSQPwSEf0fM1JActr1VKWkU0BwbvJPUlBTQENLOaxog1NAjwsTosZ0V0CjfohHC4ZXQLomhvC/WFdA6csahieCV0DLbl4Cpl9XQAuDvL+xfldARN4wMD6cV0DovWT6ZalWQNVeSSWX8FZAzp6QuBEYV0CFTE6RUalWQJCNddZfglZA3EEBujvQVkDp9DhLoTZXQOma53+AT1dA9bCPYwUvV0AIU09o2ypXQFcZp+WlKFdADbjIlrcbV0BsRQZUz0FXQMS0o5KBOldApmg3IgxwV0AhjYbuTXJXQCzLfG1voVdAz0d+evfBV0BvMoV/XKRXQHteQhfrtldAzWxowL2MV0AwJ3teBKBXQEsuNcgsxVVA8d6QVii0VUBh/5+GxXFVQH0FUK8QYlVAUoePO/gIVUAcrxT6YzNVQILYPWzk+1RAeI4lojHHVEDTm5IgawFVQD5SPsWbtVVAmq28J25hVUBypxyqBLRUQH33623oflRAwFipa8uZVUDkI5vpl0NVQCJGNY3bpVRA6Yczw3x3VUCU2ty4Wd1UQKijD5lfFlVAIRSE/FUgVUCBc4x3t/RTQHpYXJQY0lJAYFwnh8KQVECA48krILNSQJLx2JOjw1JAJkecfgqzUkCnFiZiLBdTQOoXXdzBmVJA+qcCioHUUkCy6rEDNfZSQBvjE/TQ4lJAcPZQh33eUkCOJMXhMPVSQK8UhC+N21JAeq0b0z7KUkBKSZPqUaNSQCpnz5CaEVNA3ZDPVWUiU0APX0NcPflSQJZdURq9rFJAtFyZhdQpU0An8ShoUZxSQGNs0cAsN1NAZ9JirjDgUUDc9T7c601TQGi0jyztqFJAW6DfZD5RUkBe3zeXMPNSQCWtewA1s1JAMblSRySqUkBLFuHtsiRTQOO2EC+qb1NA9RKsAEB2UkDRAAaM9mNSQLu9Ac3Dr1JARXNp5VrxUkDh7GIMwstRQB8r2CrvC1JA3XYOCTIHU0Cxvbpz0eFSQAq36d1JQFJA6hOLC349U0DQHXGG6gtTQIMmShgZiVJAp5TX/2FjUkD8JW4Qzn1SQCAr7t8AG1NAJr/WXcPSUkDnDeulMjBSQNoiTdqu8lJAkPftcsd1UkAtRrD98C9WQE1ttGE9zlNAS0ySUQISVEBnVohM4ERTQGIau05S6FNA2J+PxF2HU0DYBDhe7XFTQJPbyefmWlNAhc63IKUFVEDJnfKSg1RTQNkmd4yZhVNA0jqXz9+AU0AZ2tMB1/JTQKU1TyJciVNAMI7/zw+3U0CHqTgGfMNTQDKCn4d6v1NA3T28YNyPU0BlH1jQLqRTQLNROnly1FNA8riVS9BbU0DXUACynwxUQIzkjU2b5lNAh+FQ1+POU0AHWVkTscFTQE7opS0XeFNAyLlhKJT8VkAdZktSawtXQJkYGjjS5lZA99gRXHDaVkA3nZfLYINTQC4kiw4YgFNAFZImdE+DVEA9LqZYs6tUQFtczadJ21NAvBgM7cfAVEBlraHUXlNTQNHKUWbwXVRA8vQWV1YCVUAdso9rLp5UQOPCwIiXIVRArZyzTeNWVECxlBrFo9tTQMPOi32qrFRAxgps/dycU0DLKTBmsYBTQA3wI08y0FRAgE0EA+hEVECPkN0Vw/RUQK6om2HQrFNASs25weDEU0DHl6pfgIBUQPGas0Ez3FNAOg45l6o2VEA5AU2ETZtTQGrMX3OTYVNA7HlxrSlrU0DZSWE5T+JUQAYrvLtzgVRA9GWHmbfWVEDQANRN5xBUQA65lsh611NAn5H6BsOiVEAi1JEokrlTQLh1YEv3mFNAvWAcgz3pU0BVSPaoLP9TQAiJRlzCWlRAEd+QIQz7VEDegJfjc6ZTQL0qeW9pOVRAw02rrG7rU0CM+Ea+PcJTQFXVPzfHZ1NAFf5Hdl/gVEDwuqFOl3NTQCNVliV7plRAIfj+YBevU0DRXSev+GhTQLTNl6Kq+VNAhcOT9tt7VECFw5P223tUQPuBgSc/TlRA8Si7hgbHU0AU8ALcVmZTQNNtJ1B7wlRA8wupciL1U0BFqfS6lTZUQJHdY8lcxFRAouXqmaeDVEBl9cTkwChUQDU1HKnRtFRANRNMCxvgU0CbxdcUu/VTQFzVPRgF5FNAcHIq4fAEVECCzf4d6BVUQL4Gkbw4n1NAanUp2zPdU0AaIu1RZ6RTQMTFRfIWyFVA8+N+6Sn0VUCCY6CusulVQExxgpWvLFZAGDvffDYVVkCHBmcqof9VQLVwiK4BAFZAneYdp6hCVkDIs9+ykxZWQK9Bg68AC1ZAOExARsMKVkBbaRS7TiVWQO/2VAtmmVVA2MbE1xkPVkA=",
          "dtype": "f8"
         },
         "name": "",
         "opacity": 0.3,
         "subplot": "map",
         "type": "densitymap",
         "z": {
          "bdata": "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",
          "dtype": "f8"
         }
        }
       ],
       "layout": {
        "coloraxis": {
         "colorbar": {
          "title": {
           "text": "literacy_rate"
          }
         },
         "colorscale": [
          [
           0,
           "#0d0887"
          ],
          [
           0.1111111111111111,
           "#46039f"
          ],
          [
           0.2222222222222222,
           "#7201a8"
          ],
          [
           0.3333333333333333,
           "#9c179e"
          ],
          [
           0.4444444444444444,
           "#bd3786"
          ],
          [
           0.5555555555555556,
           "#d8576b"
          ],
          [
           0.6666666666666666,
           "#ed7953"
          ],
          [
           0.7777777777777778,
           "#fb9f3a"
          ],
          [
           0.8888888888888888,
           "#fdca26"
          ],
          [
           1,
           "#f0f921"
          ]
         ]
        },
        "geo": {
         "fitbounds": "locations",
         "visible": false
        },
        "height": 550,
        "legend": {
         "tracegroupgap": 0
        },
        "map": {
         "center": {
          "lat": 22,
          "lon": 79
         },
         "domain": {
          "x": [
           0,
           1
          ],
          "y": [
           0,
           1
          ]
         },
         "zoom": 3
        },
        "mapbox": {
         "center": {
          "lat": 22,
          "lon": 79
         },
         "zoom": 3
        },
        "margin": {
         "t": 60
        },
        "template": {
         "data": {
          "bar": [
           {
            "error_x": {
             "color": "#2a3f5f"
            },
            "error_y": {
             "color": "#2a3f5f"
            },
            "marker": {
             "line": {
              "color": "#E5ECF6",
              "width": 0.5
             },
             "pattern": {
              "fillmode": "overlay",
              "size": 10,
              "solidity": 0.2
             }
            },
            "type": "bar"
           }
          ],
          "barpolar": [
           {
            "marker": {
             "line": {
              "color": "#E5ECF6",
              "width": 0.5
             },
             "pattern": {
              "fillmode": "overlay",
              "size": 10,
              "solidity": 0.2
             }
            },
            "type": "barpolar"
           }
          ],
          "carpet": [
           {
            "aaxis": {
             "endlinecolor": "#2a3f5f",
             "gridcolor": "white",
             "linecolor": "white",
             "minorgridcolor": "white",
             "startlinecolor": "#2a3f5f"
            },
            "baxis": {
             "endlinecolor": "#2a3f5f",
             "gridcolor": "white",
             "linecolor": "white",
             "minorgridcolor": "white",
             "startlinecolor": "#2a3f5f"
            },
            "type": "carpet"
           }
          ],
          "choropleth": [
           {
            "colorbar": {
             "outlinewidth": 0,
             "ticks": ""
            },
            "type": "choropleth"
           }
          ],
          "contour": [
           {
            "colorbar": {
             "outlinewidth": 0,
             "ticks": ""
            },
            "colorscale": [
             [
              0,
              "#0d0887"
             ],
             [
              0.1111111111111111,
              "#46039f"
             ],
             [
              0.2222222222222222,
              "#7201a8"
             ],
             [
              0.3333333333333333,
              "#9c179e"
             ],
             [
              0.4444444444444444,
              "#bd3786"
             ],
             [
              0.5555555555555556,
              "#d8576b"
             ],
             [
              0.6666666666666666,
              "#ed7953"
             ],
             [
              0.7777777777777778,
              "#fb9f3a"
             ],
             [
              0.8888888888888888,
              "#fdca26"
             ],
             [
              1,
              "#f0f921"
             ]
            ],
            "type": "contour"
           }
          ],
          "contourcarpet": [
           {
            "colorbar": {
             "outlinewidth": 0,
             "ticks": ""
            },
            "type": "contourcarpet"
           }
          ],
          "heatmap": [
           {
            "colorbar": {
             "outlinewidth": 0,
             "ticks": ""
            },
            "colorscale": [
             [
              0,
              "#0d0887"
             ],
             [
              0.1111111111111111,
              "#46039f"
             ],
             [
              0.2222222222222222,
              "#7201a8"
             ],
             [
              0.3333333333333333,
              "#9c179e"
             ],
             [
              0.4444444444444444,
              "#bd3786"
             ],
             [
              0.5555555555555556,
              "#d8576b"
             ],
             [
              0.6666666666666666,
              "#ed7953"
             ],
             [
              0.7777777777777778,
              "#fb9f3a"
             ],
             [
              0.8888888888888888,
              "#fdca26"
             ],
             [
              1,
              "#f0f921"
             ]
            ],
            "type": "heatmap"
           }
          ],
          "histogram": [
           {
            "marker": {
             "pattern": {
              "fillmode": "overlay",
              "size": 10,
              "solidity": 0.2
             }
            },
            "type": "histogram"
           }
          ],
          "histogram2d": [
           {
            "colorbar": {
             "outlinewidth": 0,
             "ticks": ""
            },
            "colorscale": [
             [
              0,
              "#0d0887"
             ],
             [
              0.1111111111111111,
              "#46039f"
             ],
             [
              0.2222222222222222,
              "#7201a8"
             ],
             [
              0.3333333333333333,
              "#9c179e"
             ],
             [
              0.4444444444444444,
              "#bd3786"
             ],
             [
              0.5555555555555556,
              "#d8576b"
             ],
             [
              0.6666666666666666,
              "#ed7953"
             ],
             [
              0.7777777777777778,
              "#fb9f3a"
             ],
             [
              0.8888888888888888,
              "#fdca26"
             ],
             [
              1,
              "#f0f921"
             ]
            ],
            "type": "histogram2d"
           }
          ],
          "histogram2dcontour": [
           {
            "colorbar": {
             "outlinewidth": 0,
             "ticks": ""
            },
            "colorscale": [
             [
              0,
              "#0d0887"
             ],
             [
              0.1111111111111111,
              "#46039f"
             ],
             [
              0.2222222222222222,
              "#7201a8"
             ],
             [
              0.3333333333333333,
              "#9c179e"
             ],
             [
              0.4444444444444444,
              "#bd3786"
             ],
             [
              0.5555555555555556,
              "#d8576b"
             ],
             [
              0.6666666666666666,
              "#ed7953"
             ],
             [
              0.7777777777777778,
              "#fb9f3a"
             ],
             [
              0.8888888888888888,
              "#fdca26"
             ],
             [
              1,
              "#f0f921"
             ]
            ],
            "type": "histogram2dcontour"
           }
          ],
          "mesh3d": [
           {
            "colorbar": {
             "outlinewidth": 0,
             "ticks": ""
            },
            "type": "mesh3d"
           }
          ],
          "parcoords": [
           {
            "line": {
             "colorbar": {
              "outlinewidth": 0,
              "ticks": ""
             }
            },
            "type": "parcoords"
           }
          ],
          "pie": [
           {
            "automargin": true,
            "type": "pie"
           }
          ],
          "scatter": [
           {
            "fillpattern": {
             "fillmode": "overlay",
             "size": 10,
             "solidity": 0.2
            },
            "type": "scatter"
           }
          ],
          "scatter3d": [
           {
            "line": {
             "colorbar": {
              "outlinewidth": 0,
              "ticks": ""
             }
            },
            "marker": {
             "colorbar": {
              "outlinewidth": 0,
              "ticks": ""
             }
            },
            "type": "scatter3d"
           }
          ],
          "scattercarpet": [
           {
            "marker": {
             "colorbar": {
              "outlinewidth": 0,
              "ticks": ""
             }
            },
            "type": "scattercarpet"
           }
          ],
          "scattergeo": [
           {
            "marker": {
             "colorbar": {
              "outlinewidth": 0,
              "ticks": ""
             }
            },
            "type": "scattergeo"
           }
          ],
          "scattergl": [
           {
            "marker": {
             "colorbar": {
              "outlinewidth": 0,
              "ticks": ""
             }
            },
            "type": "scattergl"
           }
          ],
          "scattermap": [
           {
            "marker": {
             "colorbar": {
              "outlinewidth": 0,
              "ticks": ""
             }
            },
            "type": "scattermap"
           }
          ],
          "scattermapbox": [
           {
            "marker": {
             "colorbar": {
              "outlinewidth": 0,
              "ticks": ""
             }
            },
            "type": "scattermapbox"
           }
          ],
          "scatterpolar": [
           {
            "marker": {
             "colorbar": {
              "outlinewidth": 0,
              "ticks": ""
             }
            },
            "type": "scatterpolar"
           }
          ],
          "scatterpolargl": [
           {
            "marker": {
             "colorbar": {
              "outlinewidth": 0,
              "ticks": ""
             }
            },
            "type": "scatterpolargl"
           }
          ],
          "scatterternary": [
           {
            "marker": {
             "colorbar": {
              "outlinewidth": 0,
              "ticks": ""
             }
            },
            "type": "scatterternary"
           }
          ],
          "surface": [
           {
            "colorbar": {
             "outlinewidth": 0,
             "ticks": ""
            },
            "colorscale": [
             [
              0,
              "#0d0887"
             ],
             [
              0.1111111111111111,
              "#46039f"
             ],
             [
              0.2222222222222222,
              "#7201a8"
             ],
             [
              0.3333333333333333,
              "#9c179e"
             ],
             [
              0.4444444444444444,
              "#bd3786"
             ],
             [
              0.5555555555555556,
              "#d8576b"
             ],
             [
              0.6666666666666666,
              "#ed7953"
             ],
             [
              0.7777777777777778,
              "#fb9f3a"
             ],
             [
              0.8888888888888888,
              "#fdca26"
             ],
             [
              1,
              "#f0f921"
             ]
            ],
            "type": "surface"
           }
          ],
          "table": [
           {
            "cells": {
             "fill": {
              "color": "#EBF0F8"
             },
             "line": {
              "color": "white"
             }
            },
            "header": {
             "fill": {
              "color": "#C8D4E3"
             },
             "line": {
              "color": "white"
             }
            },
            "type": "table"
           }
          ]
         },
         "layout": {
          "annotationdefaults": {
           "arrowcolor": "#2a3f5f",
           "arrowhead": 0,
           "arrowwidth": 1
          },
          "autotypenumbers": "strict",
          "coloraxis": {
           "colorbar": {
            "outlinewidth": 0,
            "ticks": ""
           }
          },
          "colorscale": {
           "diverging": [
            [
             0,
             "#8e0152"
            ],
            [
             0.1,
             "#c51b7d"
            ],
            [
             0.2,
             "#de77ae"
            ],
            [
             0.3,
             "#f1b6da"
            ],
            [
             0.4,
             "#fde0ef"
            ],
            [
             0.5,
             "#f7f7f7"
            ],
            [
             0.6,
             "#e6f5d0"
            ],
            [
             0.7,
             "#b8e186"
            ],
            [
             0.8,
             "#7fbc41"
            ],
            [
             0.9,
             "#4d9221"
            ],
            [
             1,
             "#276419"
            ]
           ],
           "sequential": [
            [
             0,
             "#0d0887"
            ],
            [
             0.1111111111111111,
             "#46039f"
            ],
            [
             0.2222222222222222,
             "#7201a8"
            ],
            [
             0.3333333333333333,
             "#9c179e"
            ],
            [
             0.4444444444444444,
             "#bd3786"
            ],
            [
             0.5555555555555556,
             "#d8576b"
            ],
            [
             0.6666666666666666,
             "#ed7953"
            ],
            [
             0.7777777777777778,
             "#fb9f3a"
            ],
            [
             0.8888888888888888,
             "#fdca26"
            ],
            [
             1,
             "#f0f921"
            ]
           ],
           "sequentialminus": [
            [
             0,
             "#0d0887"
            ],
            [
             0.1111111111111111,
             "#46039f"
            ],
            [
             0.2222222222222222,
             "#7201a8"
            ],
            [
             0.3333333333333333,
             "#9c179e"
            ],
            [
             0.4444444444444444,
             "#bd3786"
            ],
            [
             0.5555555555555556,
             "#d8576b"
            ],
            [
             0.6666666666666666,
             "#ed7953"
            ],
            [
             0.7777777777777778,
             "#fb9f3a"
            ],
            [
             0.8888888888888888,
             "#fdca26"
            ],
            [
             1,
             "#f0f921"
            ]
           ]
          },
          "colorway": [
           "#636efa",
           "#EF553B",
           "#00cc96",
           "#ab63fa",
           "#FFA15A",
           "#19d3f3",
           "#FF6692",
           "#B6E880",
           "#FF97FF",
           "#FECB52"
          ],
          "font": {
           "color": "#2a3f5f"
          },
          "geo": {
           "bgcolor": "white",
           "lakecolor": "white",
           "landcolor": "#E5ECF6",
           "showlakes": true,
           "showland": true,
           "subunitcolor": "white"
          },
          "hoverlabel": {
           "align": "left"
          },
          "hovermode": "closest",
          "mapbox": {
           "style": "light"
          },
          "paper_bgcolor": "white",
          "plot_bgcolor": "#E5ECF6",
          "polar": {
           "angularaxis": {
            "gridcolor": "white",
            "linecolor": "white",
            "ticks": ""
           },
           "bgcolor": "#E5ECF6",
           "radialaxis": {
            "gridcolor": "white",
            "linecolor": "white",
            "ticks": ""
           }
          },
          "scene": {
           "xaxis": {
            "backgroundcolor": "#E5ECF6",
            "gridcolor": "white",
            "gridwidth": 2,
            "linecolor": "white",
            "showbackground": true,
            "ticks": "",
            "zerolinecolor": "white"
           },
           "yaxis": {
            "backgroundcolor": "#E5ECF6",
            "gridcolor": "white",
            "gridwidth": 2,
            "linecolor": "white",
            "showbackground": true,
            "ticks": "",
            "zerolinecolor": "white"
           },
           "zaxis": {
            "backgroundcolor": "#E5ECF6",
            "gridcolor": "white",
            "gridwidth": 2,
            "linecolor": "white",
            "showbackground": true,
            "ticks": "",
            "zerolinecolor": "white"
           }
          },
          "shapedefaults": {
           "line": {
            "color": "#2a3f5f"
           }
          },
          "ternary": {
           "aaxis": {
            "gridcolor": "white",
            "linecolor": "white",
            "ticks": ""
           },
           "baxis": {
            "gridcolor": "white",
            "linecolor": "white",
            "ticks": ""
           },
           "bgcolor": "#E5ECF6",
           "caxis": {
            "gridcolor": "white",
            "linecolor": "white",
            "ticks": ""
           }
          },
          "title": {
           "x": 0.05
          },
          "xaxis": {
           "automargin": true,
           "gridcolor": "white",
           "linecolor": "white",
           "ticks": "",
           "title": {
            "standoff": 15
           },
           "zerolinecolor": "white",
           "zerolinewidth": 2
          },
          "yaxis": {
           "automargin": true,
           "gridcolor": "white",
           "linecolor": "white",
           "ticks": "",
           "title": {
            "standoff": 15
           },
           "zerolinecolor": "white",
           "zerolinewidth": 2
          }
         }
        },
        "width": 800
       }
      }
     },
     "metadata": {},
     "output_type": "display_data"
    }
   ],
   "source": [
    "fig = px.density_map(df, lat='lat',\n",
    "                     lon='lon',\n",
    "                    #  text=\"literacy_rate\", # which column to use to set the color of markers # column added to hover information\n",
    "                    #  size=\"Populatio/n\", # size of markers\n",
    "                     z='literacy_rate',\n",
    "                     opacity=0.3,\n",
    "                     hover_name='State',\n",
    "                     zoom=3,\n",
    "                     width=800,\n",
    "                     height=550,\n",
    "                     center={'lat':22,\n",
    "                             'lon':79})\n",
    "fig.update_geos(fitbounds=\"locations\",visible = False)\n",
    "fig.show()"
   ]
  },
  {
   "cell_type": "code",
   "execution_count": null,
   "id": "7d4b2cef",
   "metadata": {},
   "outputs": [],
   "source": []
  },
  {
   "cell_type": "code",
   "execution_count": 40,
   "id": "8fd159e0",
   "metadata": {},
   "outputs": [
    {
     "data": {
      "application/vnd.plotly.v1+json": {
       "config": {
        "plotlyServerURL": "https://plot.ly"
       },
       "data": [
        {
         "coloraxis": "coloraxis",
         "hovertemplate": "literacy_rate=%{z}<br>lat=%{lat}<br>lon=%{lon}<extra></extra>",
         "lat": {
          "bdata": "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",
          "dtype": "f8"
         },
         "lon": {
          "bdata": "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",
          "dtype": "f8"
         },
         "name": "",
         "opacity": 0.6,
         "radius": 20,
         "subplot": "map",
         "type": "densitymap",
         "z": {
          "bdata": "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",
          "dtype": "f8"
         }
        },
        {
         "customdata": {
          "bdata": "AAAAAAAAS0AAAAAAAIBMQAAAAAAAAFBAAAAAAAAAUEAAAAAAAIBOQAAAAAAAQFJAAAAAAAAATUAAAAAAAABNQAAAAAAAwFBAAAAAAAAASkAAAAAAAABIQAAAAAAAAEtAAAAAAACATEAAAAAAAABLQAAAAAAAAExAAAAAAACAS0AAAAAAAIBKQAAAAAAAgE1AAAAAAADAUEA=",
          "dtype": "f8",
          "shape": "19, 1"
         },
         "hovertemplate": "<b>%{hovertext}</b><br><br>State=Andhra Pradesh<br>Population=%{marker.size}<br>lat=%{lat}<br>lon=%{lon}<br>literacy_rate=%{customdata[0]:.2f}<extra></extra>",
         "hovertext": [
          "Adilabad",
          "Anantapur",
          "Chittoor",
          "East Godavari",
          "Guntur",
          "Hyderabad",
          "Karimnagar",
          "Khammam",
          "Krishna",
          "Kurnool",
          "Mahbubnagar",
          "Medak",
          "Nalgonda",
          "Nizamabad",
          "Prakasam",
          "Srikakulam",
          "Vizianagaram",
          "Warangal",
          "West Godavari"
         ],
         "lat": {
          "bdata": "OdL+59VIM0D8pawOx58sQIZoKfmEqSpATsBVOmDIMEA8wn79FMUvQIbaDWbEYzFAgsPgtPaDMkBoIsx3Fa8xQGmSQdjUJDBAU2HcuwzgLkAIdiVNuaMwQOzXtH2p4zFAMSxc/P0cMUD8ytvI8m0yQBSy7FFj+i5AwqhekSaSMkAgrEsmhkgyQBlO8pZ8BDJAGqHG8AqiMEA=",
          "dtype": "f8"
         },
         "legendgroup": "Andhra Pradesh",
         "lon": {
          "bdata": "Wqu/qwu0U0C5IWs8c11TQJbp629eu1NAjKYStpCPVEALo6d2iiVUQMzLEjvenVNALAYfhwLcU0DPKjuy4ipUQLgHRKl5SVRA40vK06d5U0BP/4QyUX9TQOCfCInRiFNAN/idu97KU0AM1RCm0IRTQMY4tFJ3B1RAMupbVI8QVUD5ZrHUbd1UQFibqDnz91NApk1nYmJdVEA=",
          "dtype": "f8"
         },
         "marker": {
          "color": "#636efa",
          "size": {
           "bdata": "99MpAPxFPgDwsD8A+KVOAAWVSgCbKzwADZ85ADqvKgAW7kQA19k9ACTYPQDISC4AKTw1ACfuJgBI1zMACj8pABrGIwAAmTUAxhI8AA==",
           "dtype": "i4"
          },
          "sizemode": "area",
          "sizeref": 27650.37
         },
         "mode": "markers",
         "name": "Andhra Pradesh",
         "showlegend": true,
         "subplot": "map",
         "type": "scattermap"
        },
        {
         "customdata": {
          "bdata": "AAAAAACASEAAAAAAAIBIQAAAAAAAgE9AAAAAAAAAREAAAAAAAIBMQAAAAAAAgE1AAAAAAABAUEAAAAAAAEBRQAAAAAAAAEpAAAAAAACARUAAAAAAAABKQAAAAAAAAEtAAAAAAAAATUAAAAAAAABNQA==",
          "dtype": "f8",
          "shape": "14, 1"
         },
         "hovertemplate": "<b>%{hovertext}</b><br><br>State=Arunachal Pradesh<br>Population=%{marker.size}<br>lat=%{lat}<br>lon=%{lon}<br>literacy_rate=%{customdata[0]:.2f}<extra></extra>",
         "hovertext": [
          "Changlang",
          "East Kameng",
          "East Siang",
          "Kurung Kumey",
          "Lohit",
          "Lower Dibang Valley",
          "Lower Subansiri",
          "Papum Pare",
          "Tawang",
          "Tirap",
          "Upper Siang",
          "Upper Subansiri",
          "West Kameng",
          "West Siang"
         ],
         "lat": {
          "bdata": "CE8+u0hcO0DTv9qSBl87QMYtlPpgJzxA9ZdQsWwMPED8CwyFYPI7QGKJSaOWUzxAXl2ky1+1O0AH6yQLBkY7QBLW3E1BrjtAicMKEa7xOkBvHqV3t9Q8QETIq1r2RjxAlONRcgF3O0B2T2RGNhs8QA==",
          "dtype": "f8"
         },
         "legendgroup": "Arunachal Pradesh",
         "lon": {
          "bdata": "22MToAgYWEBRaVbYCENXQGHdS9UoxFdAz8ZsUrNPV0CME4R1MCZYQGlK0soA8VdAQF2Ar5V9V0Dh+TcR3GJXQOYt3H7N9FZAvuCef4raV0A4PUWFGcBXQHOMcJGLeVdAn8o4LpwpV0B834EiP6JXQA==",
          "dtype": "f8"
         },
         "marker": {
          "color": "#EF553B",
          "size": {
           "bdata": "AkMCAGIzAQCOgwEArGcBAD45AgBA0wAAVkQBAL2xAgA5wwAAZ7UBAPiJAAD4RQEA60cBAJK2AQA=",
           "dtype": "i4"
          },
          "sizemode": "area",
          "sizeref": 27650.37
         },
         "mode": "markers",
         "name": "Arunachal Pradesh",
         "showlegend": true,
         "subplot": "map",
         "type": "scattermap"
        },
        {
         "customdata": {
          "bdata": "AAAAAACASkAAAAAAAIBNQAAAAAAAAFFAAAAAAAAASkAAAAAAAABPQAAAAAAAwFBAAAAAAAAATEAAAAAAAABRQAAAAAAAAE9AAAAAAABAUkAAAAAAAIBQQAAAAAAAAE1AAAAAAABAUEAAAAAAAIBLQAAAAAAAgFBAAAAAAACATkAAAAAAAEBRQAAAAAAAAE1AAAAAAAAATkA=",
          "dtype": "f8",
          "shape": "19, 1"
         },
         "hovertemplate": "<b>%{hovertext}</b><br><br>State=Assam<br>Population=%{marker.size}<br>lat=%{lat}<br>lon=%{lon}<br>literacy_rate=%{customdata[0]:.2f}<extra></extra>",
         "hovertext": [
          "Barpeta",
          "Bongaigaon",
          "Cachar",
          "Darrang",
          "Dhemaji",
          "Dibrugarh",
          "Goalpara",
          "Golaghat",
          "Hailakandi",
          "Jorhat",
          "Kamrup",
          "Karbi Anglong",
          "Karimganj",
          "Kokrajhar",
          "Lakhimpur",
          "Nagaon",
          "Nalbari",
          "Sonitpur",
          "Tinsukia"
         ],
         "lat": {
          "bdata": "snRnCYltOkC5wApoO3M6QAWdRT3J0DhA2MYFdKqVOkCYTjAOJ5Y7QMgXFxFeTjtA1IACUWwEOkBT+Yx4kWA6QGT1tXYedThAdWfQzi/DOkDrKxywwis6QJuYdEH0FjpAJlQp2FSyOECWgjaOS386QLO7S3QrJDtAqDaGP75DOkDb74y+lnY6QNL+EL4yvDpAlKs9EBaJO0A=",
          "dtype": "f8"
         },
         "legendgroup": "Assam",
         "lon": {
          "bdata": "ZwBc56m+VkAnMYt4GatWQG/xXHKVN1dARXtOhKYCV0AOs87Wp61XQKG69JVjxldAuxRCFVGmVkBjHMJ22nRXQEjaeObbJVdAuBlJmFOTV0CTnqcorOVWQFYQ1CZiR1dAoi+PfYwXV0CKZ3xY9YhWQBC0tFD3hFdA0Gt5Q487V0B3Q2Wp+9lWQAAb8M6GNldAjVByIDLsV0A=",
          "dtype": "f8"
         },
         "marker": {
          "color": "#00cc96",
          "size": {
           "bdata": "ttcZAPRFCwCpfxoA9CoOADV4CgD/PBQAN2IPAIhHEABgDwoAoKoQAOYnFwCZlw4Ajr8SAGaJDQDZ5g8AWBYrADfGCwAOXB0AOUMUAA==",
           "dtype": "i4"
          },
          "sizemode": "area",
          "sizeref": 27650.37
         },
         "mode": "markers",
         "name": "Assam",
         "showlegend": true,
         "subplot": "map",
         "type": "scattermap"
        },
        {
         "customdata": {
          "bdata": "AAAAAACARUAAAAAAAABNQAAAAAAAAFFAAAAAAACAR0AAAAAAAABKQAAAAAAAAEpAAAAAAACATUAAAAAAAABNQAAAAAAAAEdAAAAAAAAASkAAAAAAAABLQAAAAAAAgEhAAAAAAACAS0AAAAAAAABFQAAAAAAAAEdAAAAAAAAARkAAAAAAAIBJQAAAAAAAAEVAAAAAAAAASEAAAAAAAIBNQAAAAAAAAEpAAAAAAACASkAAAAAAAIBIQAAAAAAAgEZAAAAAAACATUAAAAAAAIBGQAAAAAAAgERAAAAAAACATkAAAAAAAABFQAAAAAAAAElAAAAAAACAS0AAAAAAAABKQAAAAAAAgEVAAAAAAAAARUAAAAAAAABNQAAAAAAAAEdAAAAAAACAS0A=",
          "dtype": "f8",
          "shape": "37, 1"
         },
         "hovertemplate": "<b>%{hovertext}</b><br><br>State=Bihar<br>Population=%{marker.size}<br>lat=%{lat}<br>lon=%{lon}<br>literacy_rate=%{customdata[0]:.2f}<extra></extra>",
         "hovertext": [
          "Araria",
          "Aurangabad",
          "Aurangabad",
          "Banka",
          "Begusarai",
          "Bhagalpur",
          "Bhojpur",
          "Buxar",
          "Darbhanga",
          "Gaya",
          "Gopalganj",
          "Jamui",
          "Jehanabad",
          "Katihar",
          "Khagaria",
          "Kishanganj",
          "Lakhisarai",
          "Madhepura",
          "Madhubani",
          "Munger",
          "Muzaffarpur",
          "Nalanda",
          "Nawada",
          "Pashchim Champaran",
          "Patna",
          "Purba Champaran",
          "Purnia",
          "Rohtas",
          "Saharsa",
          "Samastipur",
          "Saran",
          "Sheikhpura",
          "Sheohar",
          "Sitamarhi",
          "Siwan",
          "Supaul",
          "Vaishali"
         ],
         "lat": {
          "bdata": "qRDytCY2OkCGV+j9N8Y4QIZX6P03xjhAniFlQhXVOEBVeLTCA4s5QB5f6Rz2RjlAcAT6wbSBOUA2hLzrZXw5QH128Y5sJTpA9Q62AQa6OEAZCgHd4HI6QEztEkXAyDhAu7X5lNonOUBeqfarzpA5QEEX6FociTlAcOHZuwdTOkCkUOOI9i45QGZtkM7+xTlATG1FJu9pOkC98Eli0zI5QMzHlenHLzpA+Y8kY7Y6OUDhhn+nYdM4QLlbEe8fKTtAsCvxHSlnOUCevPs9aa46QL+r0Zww0TlAV+trWuD9OEDFlN/LPtI5QGj/E4UPyzlAHUrWAYXlOUCywp7v7R85QMGf1HBYdTpAGVvIwtGQOkCFO9V8cyw6QM7JqI4VSDpA8yo8lz/QOUA=",
          "dtype": "f8"
         },
         "legendgroup": "Bihar",
         "lon": {
          "bdata": "mSPYyrDTVUDk6qVZbh1VQOTqpVluHVVAvNRTmXS3VUDgop/aCYhVQNnDLWSywlVAt3R1+Z4fVUCKwrkdowVVQHvHnvFTflVAkIBRrFg8VUDXnHfIKhZVQLdOjKnXkFVAup5Vl+46VUA/QcMpGe1VQC8BNz04pFVAx1CKLNT8VUBMsudcNYhVQC3xWUh2uVVAwFQTPXOKVUDr34bQq6JVQPNftPT0VFVAKU+sBcFeVUCZS3ina2dVQM8EW8ReE1VAB3NHUHhUVUAzpMScPkBVQH/gmO/i2VVAPc8gStj7VEDlV2BE/aJVQDVz332xfFVAzSIvgqY0VUAEPq800XFVQGeuurznUlVAQ8E/gCZnVUB4BeFPnBVVQM06Ydw8slVAYMOJUx5ZVUA=",
          "dtype": "f8"
         },
         "marker": {
          "color": "#ab63fa",
          "size": {
           "bdata": "seYqACnCJgAiejgASwwfAK1TLQBGWi4A16EpAHAJGgBpFDwA+gFDANwXJwCV3BoAwSsRADXcLgBGbxkAIMsZANBFDwBiix4A03hEANXeFAAmQkkA1egrAIrcIQBCCzwAgRZZAGvPTQBr0DEALiotAHUAHQC+BkEA9kw8ALa1CQB2AwoAVj00AKDRMgBUAyIAbVQ1AA==",
           "dtype": "i4"
          },
          "sizemode": "area",
          "sizeref": 27650.37
         },
         "mode": "markers",
         "name": "Bihar",
         "showlegend": true,
         "subplot": "map",
         "type": "scattermap"
        },
        {
         "customdata": {
          "bdata": "AAAAAAAATUAAAAAAAABRQAAAAAAAAFBAAAAAAACAUkAAAAAAAIBTQAAAAAAAgFNAAAAAAADAUkAAAAAAAIBQQAAAAAAAQFJAAAAAAAAAUkAAAAAAAIBPQAAAAAAAAFNAAAAAAADAUEAAAAAAAABRQAAAAAAAgE5AAAAAAABAUkAAAAAAAMBQQAAAAAAAwFNAAAAAAABAUEAAAAAAAIBLQAAAAAAAwFFAAAAAAABAUUAAAAAAAIBPQAAAAAAAAFNAAAAAAACAUkAAAAAAAEBSQAAAAAAAgFJAAAAAAACAU0AAAAAAAMBQQAAAAAAAgFJAAAAAAACAU0AAAAAAAEBSQAAAAAAAQFJA",
          "dtype": "f8",
          "shape": "33, 1"
         },
         "hovertemplate": "<b>%{hovertext}</b><br><br>State=Maharashtra<br>Population=%{marker.size}<br>lat=%{lat}<br>lon=%{lon}<br>literacy_rate=%{customdata[0]:.2f}<extra></extra>",
         "hovertext": [
          "Aurangabad",
          "Aurangabad",
          "Raigarh",
          "Raigarh",
          "Akola",
          "Amravati",
          "Bhandara",
          "Bid",
          "Buldana",
          "Chandrapur",
          "Dhule",
          "Gondiya",
          "Hingoli",
          "Jalgaon",
          "Jalna",
          "Kolhapur",
          "Latur",
          "Nagpur",
          "Nanded",
          "Nandurbar",
          "Nashik",
          "Osmanabad",
          "Parbhani",
          "Pune",
          "Ratnagiri",
          "Sangli",
          "Satara",
          "Sindhudurg",
          "Solapur",
          "Thane",
          "Wardha",
          "Washim",
          "Yavatmal"
         ],
         "lat": {
          "bdata": "bUhdeREZNEBtSF15ERk0QO81S7EIdDJA7zVLsQh0MkCmJRw0Dr80QPc+ezJLKjVAJh0ICzg2NUBa4rFtzfMyQH5/kTQakTRAn6de1nkYNEBSw8EWJkY1QEt+tyaaOTVAWEeIgGKYM0AJ1xJdBeI0QGtHLJEP/DNAlzHpaOVyMEA03KCRQ1kyQGpL8YxRMjVAL448zJU1M0BRgXjW7oU1QEsP5WZURDRAAw768tAxMkB/mwNpcU8zQC0kWJpXhDJAmvoXWM81MUAN7hyBqScxQGbUbI99rDFAnxtbQMMrMEAI+fwWXdYxQGrBbnHisjNAuVybv7PONEAaCrSoQ0g0QBTBB8DmCjRA",
          "dtype": "f8"
         },
         "legendgroup": "Maharashtra",
         "lon": {
          "bdata": "ueButYbUUkC54G61htRSQNc8WHSUQFJA1zxYdJRAUkCgvPcewkdTQJnRk+FAa1NAcVCpFAIHVEC2uThXXexSQL5OhLD4GFNACUOHMjLUU0A2+2CIlKVSQKSKP+s2C1RAYFEPyelFU0BV6eo0SuNSQP+PcuoF/1JA/iy2EUGIUkA02D0jhTBTQA6/BuhiwVNAP7C7trRrU0AHgbWI45RSQFCjPo1yglJAfSzlWq3/UkARkbqP5yxTQKz08EhFiFJAmwoy7nZQUkAKO7TAQa1SQE1dcqaNi1JAQJekvtlgUkCdTcj3IdtSQPwSEf0fM1JActr1VKWkU0BwbvJPUlBTQENLOaxog1NA",
          "dtype": "f8"
         },
         "marker": {
          "color": "#FFA15A",
          "size": {
           "bdata": "KcImACJ6OADgyxYA2DEoAJKtGwD9EiwAzlASANlxJwCSdicAk6IhAC5LHwALLhQAAfcRAB2LQACG5B0AoSQ7ALRyJQACAkcADEozAKcmGQAzMF0A6EoZADYEHACg4Y8A3aQYAP8PKwBd1S0A8/YMADziQQC0w6gAJtkTAGhEEgB8TSoA",
           "dtype": "i4"
          },
          "sizemode": "area",
          "sizeref": 27650.37
         },
         "mode": "markers",
         "name": "Maharashtra",
         "showlegend": true,
         "subplot": "map",
         "type": "scattermap"
        },
        {
         "customdata": {
          "bdata": "AAAAAAAAU0A=",
          "dtype": "f8",
          "shape": "1, 1"
         },
         "hovertemplate": "<b>%{hovertext}</b><br><br>State=Chandigarh<br>Population=%{marker.size}<br>lat=%{lat}<br>lon=%{lon}<br>literacy_rate=%{customdata[0]:.2f}<extra></extra>",
         "hovertext": [
          "Chandigarh"
         ],
         "lat": {
          "bdata": "dQKaCBu+PkA=",
          "dtype": "f8"
         },
         "legendgroup": "Chandigarh",
         "lon": {
          "bdata": "0bHd8Y4wU0A=",
          "dtype": "f8"
         },
         "marker": {
          "color": "#19d3f3",
          "size": {
           "bdata": "2hoQAA==",
           "dtype": "i4"
          },
          "sizemode": "area",
          "sizeref": 27650.37
         },
         "mode": "markers",
         "name": "Chandigarh",
         "showlegend": true,
         "subplot": "map",
         "type": "scattermap"
        },
        {
         "customdata": {
          "bdata": "AAAAAAAAR0AAAAAAAMBSQAAAAAAAAE5AAAAAAAAAUUAAAAAAAEBRQAAAAAAAAE1AAAAAAAAAT0AAAAAAAABOQAAAAAAAAE9AAAAAAAAAUEAAAAAAAIBSQAAAAAAAQFBAAAAAAAAASUA=",
          "dtype": "f8",
          "shape": "13, 1"
         },
         "hovertemplate": "<b>%{hovertext}</b><br><br>State=Chhattisgarh<br>Population=%{marker.size}<br>lat=%{lat}<br>lon=%{lon}<br>literacy_rate=%{customdata[0]:.2f}<extra></extra>",
         "hovertext": [
          "Bastar",
          "Bilaspur",
          "Bilaspur",
          "Dhamtari",
          "Durg",
          "Jashpur",
          "Korba",
          "Koriya",
          "Mahasamund",
          "Raigarh",
          "Raigarh",
          "Raipur",
          "Surguja"
         ],
         "lat": {
          "bdata": "ra6Pc9RkM0CTL4SdYFs2QJMvhJ1gWzZAdFoCwQ6ONEBR8QBiyDE1QH6HSUPaxTZAzYjS3uB9NkD7HneEDoE3QK531ixGOTVAmuDWqB0CNkCa4NaoHQI2QLPqgPbS4jRAeeEQ6MJTN0A=",
          "dtype": "f8"
         },
         "legendgroup": "Chhattisgarh",
         "lon": {
          "bdata": "12tsVtphVEDmUdFf2n9UQOZR0V/af1RA1FC0XnFwVEAVUtV6PFVUQOiIS5K091RAU5uW5N2kVEAVLdaPAohUQEUG1zgxqlRAHU38X8rRVEAdTfxfytFUQOd91irSjFRAPgN8wRfPVEA=",
          "dtype": "f8"
         },
         "marker": {
          "color": "#FF6692",
          "size": {
           "bdata": "T5AVAATUBQDNpCgAJTQMAAAGMwDV/gwAcGkSAOUNCgAywg8A4MsWANgxKACAAj4ATgIkAA==",
           "dtype": "i4"
          },
          "sizemode": "area",
          "sizeref": 27650.37
         },
         "mode": "markers",
         "name": "Chhattisgarh",
         "showlegend": true,
         "subplot": "map",
         "type": "scattermap"
        },
        {
         "customdata": {
          "bdata": "AAAAAADAUkAAAAAAAABOQAAAAAAAAE9AAAAAAADAU0AAAAAAAIBNQAAAAAAAAFNAAAAAAAAAUkAAAAAAAIBRQAAAAAAAAFJAAAAAAADAUkAAAAAAAABRQAAAAAAAgFJAAAAAAABAU0A=",
          "dtype": "f8",
          "shape": "13, 1"
         },
         "hovertemplate": "<b>%{hovertext}</b><br><br>State=Himachal Pradesh<br>Population=%{marker.size}<br>lat=%{lat}<br>lon=%{lon}<br>literacy_rate=%{customdata[0]:.2f}<extra></extra>",
         "hovertext": [
          "Bilaspur",
          "Bilaspur",
          "Chamba",
          "Hamirpur",
          "Hamirpur",
          "Kangra",
          "Kinnaur",
          "Kullu",
          "Mandi",
          "Shimla",
          "Sirmaur",
          "Solan",
          "Una"
         ],
         "lat": {
          "bdata": "fkUrYcdgP0B+RSthx2A/QP/RMvVtVUBAlTE5NzutP0CVMTk3O60/QPb3IDEKEkBANAmD2E6bP0BxaYkJvOg/QDl0mS3Eoj9Av6qKn90nP0C9orimya4+QIx29YPkCT9Ayz0/Z1OVP0A=",
          "dtype": "f8"
         },
         "legendgroup": "Himachal Pradesh",
         "lon": {
          "bdata": "aTDtYs0pU0BpMO1izSlTQLAfC8UvGVNAhff81tkfU0CF9/zW2R9TQNGgKy1fGlNAXjEBZQihU0AXkVHEMFpTQHnSNOPLPVNAbFCc9wtoU0B2zihho1tTQHTie2ZxPFNAR6a0G78LU0A=",
          "dtype": "f8"
         },
         "marker": {
          "color": "#B6E880",
          "size": {
           "bdata": "BNQFAM2kKACo6wcAcPAGAJ3ZEAC7ChcAmUgBAI+uBgBhQQ8AumsMAL8VCADg2ggA1fMHAA==",
           "dtype": "i4"
          },
          "sizemode": "area",
          "sizeref": 27650.37
         },
         "mode": "markers",
         "name": "Himachal Pradesh",
         "showlegend": true,
         "subplot": "map",
         "type": "scattermap"
        },
        {
         "customdata": {
          "bdata": "AAAAAADAU0AAAAAAAMBQQA==",
          "dtype": "f8",
          "shape": "2, 1"
         },
         "hovertemplate": "<b>%{hovertext}</b><br><br>State=Daman and Diu<br>Population=%{marker.size}<br>lat=%{lat}<br>lon=%{lon}<br>literacy_rate=%{customdata[0]:.2f}<extra></extra>",
         "hovertext": [
          "Daman",
          "Junagadh"
         ],
         "lat": {
          "bdata": "7r0Lbn5uNEBqvZNLxrk0QA==",
          "dtype": "f8"
         },
         "legendgroup": "Daman and Diu",
         "lon": {
          "bdata": "OVJ1DbY1UkCUwQ01wLVRQA==",
          "dtype": "f8"
         },
         "marker": {
          "color": "#FF97FF",
          "size": {
           "bdata": "xeoCACrbKQA=",
           "dtype": "i4"
          },
          "sizemode": "area",
          "sizeref": 27650.37
         },
         "mode": "markers",
         "name": "Daman and Diu",
         "showlegend": true,
         "subplot": "map",
         "type": "scattermap"
        },
        {
         "customdata": {
          "bdata": "AAAAAADAUEAAAAAAAMBSQAAAAAAAgFBAAAAAAACAUkAAAAAAAIBLQAAAAAAAAFJAAAAAAACAUEAAAAAAAIBSQAAAAAAAQFBAAAAAAAAATkAAAAAAAABSQAAAAAAAgFJAAAAAAACAT0AAAAAAAMBSQAAAAAAAAE5AAAAAAAAAT0AAAAAAAMBQQAAAAAAAAFJAAAAAAABAUEAAAAAAAMBSQAAAAAAAAE9AAAAAAAAAT0AAAAAAAEBRQAAAAAAAQFFA",
          "dtype": "f8",
          "shape": "24, 1"
         },
         "hovertemplate": "<b>%{hovertext}</b><br><br>State=Gujarat<br>Population=%{marker.size}<br>lat=%{lat}<br>lon=%{lon}<br>literacy_rate=%{customdata[0]:.2f}<extra></extra>",
         "hovertext": [
          "Junagadh",
          "Ahmadabad",
          "Amreli",
          "Anand",
          "Banas Kantha",
          "Bharuch",
          "Bhavnagar",
          "Gandhinagar",
          "Jamnagar",
          "Kachchh",
          "Kheda",
          "Mahesana",
          "Narmada",
          "Navsari",
          "Panch Mahals",
          "Patan",
          "Porbandar",
          "Rajkot",
          "Sabar Kantha",
          "Surat",
          "Surendranagar",
          "The Dangs",
          "Vadodara",
          "Valsad"
         ],
         "lat": {
          "bdata": "U75XOPXtNEBJt3kr/Zo2QK1uAyBfDDVAtb1pOGBINkBmoxGcL0I4QObwCPMDwjVAzqDK+sKzNUAUD6z/lDE3QCz81hsdaTZA3inNxAZ7N0A6ETY8PeM2QMUDxtaDhzdAzopE7Oe0NUBPD6P28d00QKcDgEfqzTZAvNGlbWzON0BECNZSCY01QJrzYdTxZzZAdzYnNNG3N0Dijyf58kE1QFJzPO2j0zZAg3K34DfNNEC/R+MB50I2QBxzrfc/cTRA",
          "dtype": "f8"
         },
         "legendgroup": "Gujarat",
         "lon": {
          "bdata": "z1a+mQejUUBNBXV4Sw9SQNYNcRnQ21FAb1bmAvskUkC1RKa/pvtRQIM0p78WK1JAgtKvG2oKUkBss5qZBStSQC+/MD24Z1FAk0r9Ypo0UUAwKqkTNEFSQIS25R8mHVJAnAOFLsdrUkAGhXGHKDdSQM9IfI6rZ1JALkfBsxrwUUB0YDuaA25RQFq/EgqOtVFA1HRVlLpIUkAiHPgw1TtSQCpYmhjz3lFAsbrc9A1sUkDyXLoao19SQOHWlAqNOlJA",
          "dtype": "f8"
         },
         "marker": {
          "color": "#FECB52",
          "size": {
           "bdata": "KtspAJEUbgDOGhcAye4fAHqdLwCrqhcAbfMrAIk8FQD39SAAU+0fAO0XIwB4DR8A2QEJAAhKFAD4eiQA9oAUAOnuCACODToArQ4lACrLXABszBoAw3sDAPqPPwDOBhoA",
           "dtype": "i4"
          },
          "sizemode": "area",
          "sizeref": 27650.37
         },
         "mode": "markers",
         "name": "Gujarat",
         "showlegend": true,
         "subplot": "map",
         "type": "scattermap"
        },
        {
         "customdata": {
          "bdata": "AAAAAABAVEAAAAAAAIBTQA==",
          "dtype": "f8",
          "shape": "2, 1"
         },
         "hovertemplate": "<b>%{hovertext}</b><br><br>State=Goa<br>Population=%{marker.size}<br>lat=%{lat}<br>lon=%{lon}<br>literacy_rate=%{customdata[0]:.2f}<extra></extra>",
         "hovertext": [
          "North Goa",
          "South Goa"
         ],
         "lat": {
          "bdata": "NNqjRvIYL0AiA3WQ+2MuQA==",
          "dtype": "f8"
         },
         "legendgroup": "Goa",
         "lon": {
          "bdata": "/iEQpaBzUkDnzHRURnxSQA==",
          "dtype": "f8"
         },
         "marker": {
          "color": "#636efa",
          "size": {
           "bdata": "WHsMABnGCQA=",
           "dtype": "i4"
          },
          "sizemode": "area",
          "sizeref": 27650.37
         },
         "mode": "markers",
         "name": "Goa",
         "showlegend": true,
         "subplot": "map",
         "type": "scattermap"
        },
        {
         "customdata": {
          "bdata": "AAAAAAAAUkAAAAAAAEBQQAAAAAAAgFFAAAAAAACATUAAAAAAAEBSQAAAAAAAAFBAAAAAAADAUUAAAAAAAABPQAAAAAAAAE5AAAAAAABAUEAAAAAAAMBQQAAAAAAAAFFAAAAAAAAAUkAAAAAAAEBQQAAAAAAAwFFAAAAAAACAUUAAAAAAAABOQA==",
          "dtype": "f8",
          "shape": "17, 1"
         },
         "hovertemplate": "<b>%{hovertext}</b><br><br>State=Haryana<br>Population=%{marker.size}<br>lat=%{lat}<br>lon=%{lon}<br>literacy_rate=%{customdata[0]:.2f}<extra></extra>",
         "hovertext": [
          "Ambala",
          "Bhiwani",
          "Faridabad",
          "Fatehabad",
          "Gurgaon",
          "Hisar",
          "Jhajjar",
          "Jind",
          "Kaithal",
          "Karnal",
          "Kurukshetra",
          "Mahendragarh",
          "Panchkula",
          "Panipat",
          "Rewari",
          "Rohtak",
          "Sirsa"
         ],
         "lat": {
          "bdata": "HHq5qrFZPkASMvQYl7o8QC/svz0TJjxAAlisBq+SPUAStV2wPAs8QGn4QVN9PD1AgbfDcrWYPEBlUSdjlXM9QDPcT3rv9T1AHHYm9QS0PUBsw/OGeA4+QMU+fIadIjxAZm7C/m2zPkA9EL8D8Vc9QNVFmskPMTxAcjhZCXzkPECZcSEMxqI9QA==",
          "dtype": "f8"
         },
         "legendgroup": "Haryana",
         "lon": {
          "bdata": "Fr2K78c8U0CREEm9WQFTQJGE45rwVFNAu/uXF/PiUkDE9D4NPUFTQFP1isH39VJAFdugtSAnU0B7QD5u8RJTQGkNu5cgGFNA+/jECf43U0BxLZFxajJTQDLTl7j4CFNA5SkD3TA+U0DUNhARdDtTQNqwENXPI1NAaJ37tf8hU0Aarn2aOLpSQA==",
          "dtype": "f8"
         },
         "marker": {
          "color": "#EF553B",
          "size": {
           "bdata": "njcRAI3wGABFnRsAu18OAMAbFwA7nBoAxZ8OAIhbFACAZBAALPgWAC+4DgDoEQ4AjZAIAL1kEgDsvA0AVDEQAFXDEwA=",
           "dtype": "i4"
          },
          "sizemode": "area",
          "sizeref": 27650.37
         },
         "mode": "markers",
         "name": "Haryana",
         "showlegend": true,
         "subplot": "map",
         "type": "scattermap"
        },
        {
         "customdata": {
          "bdata": "AAAAAADAU0AAAAAAAIBNQAAAAAAAgE5AAAAAAACATEAAAAAAAABPQAAAAAAAAE9AAAAAAADAUEAAAAAAAABOQAAAAAAAgE5AAAAAAAAAREAAAAAAAIBOQAAAAAAAAERAAAAAAAAATEAAAAAAAABKQAAAAAAAgEhAAAAAAACATEAAAAAAAABNQAAAAAAAAE1AAAAAAAAATkAAAAAAAABLQAAAAAAAAE5AAAAAAACATUAAAAAAAMBQQAAAAAAAgE1AAAAAAAAATUAAAAAAAIBMQAAAAAAAgE5AAAAAAAAAUUAAAAAAAMBQQAAAAAAAgE5AAAAAAACASEAAAAAAAIBOQAAAAAAAAEtAAAAAAAAAUEAAAAAAAIBOQAAAAAAAQFBAAAAAAACASkAAAAAAAIBOQAAAAAAAQFBAAAAAAACASUAAAAAAAIBLQAAAAAAAAEpAAAAAAAAAUUAAAAAAAABMQAAAAAAAAFBAAAAAAACATUAAAAAAAABPQAAAAAAAAE9AAAAAAACATEAAAAAAAIBHQAAAAAAAAE1AAAAAAAAASkAAAAAAAABHQAAAAAAAAE5AAAAAAAAATUAAAAAAAIBGQAAAAAAAAE5AAAAAAAAATEAAAAAAAABJQAAAAAAAgElAAAAAAACASkAAAAAAAIBNQAAAAAAAgExAAAAAAABAUEA=",
          "dtype": "f8",
          "shape": "64, 1"
         },
         "hovertemplate": "<b>%{hovertext}</b><br><br>State=Uttar Pradesh<br>Population=%{marker.size}<br>lat=%{lat}<br>lon=%{lon}<br>literacy_rate=%{customdata[0]:.2f}<extra></extra>",
         "hovertext": [
          "Hamirpur",
          "Hamirpur",
          "Agra",
          "Aligarh",
          "Allahabad",
          "Ambedkar Nagar",
          "Auraiya",
          "Azamgarh",
          "Baghpat",
          "Bahraich",
          "Ballia",
          "Balrampur",
          "Banda",
          "Bara Banki",
          "Bareilly",
          "Basti",
          "Bijnor",
          "Bulandshahr",
          "Chandauli",
          "Chitrakoot",
          "Deoria",
          "Etah",
          "Etawah",
          "Faizabad",
          "Farrukhabad",
          "Fatehpur",
          "Firozabad",
          "Gautam Buddha Nagar",
          "Ghaziabad",
          "Ghazipur",
          "Gonda",
          "Gorakhpur",
          "Hardoi",
          "Jalaun",
          "Jaunpur",
          "Jhansi",
          "Jyotiba Phule Nagar",
          "Kannauj",
          "Kanpur Dehat",
          "Kaushambi",
          "Kushinagar",
          "Lalitpur",
          "Lucknow",
          "Mahoba",
          "Mainpuri",
          "Mathura",
          "Mau",
          "Meerut",
          "Mirzapur",
          "Moradabad",
          "Muzaffarnagar",
          "Pilibhit",
          "Pratapgarh",
          "Pratapgarh",
          "Rae Bareli",
          "Rampur",
          "Saharanpur",
          "Sant Kabir Nagar",
          "Shahjahanpur",
          "Sitapur",
          "Sonbhadra",
          "Sultanpur",
          "Unnao",
          "Varanasi"
         ],
         "lat": {
          "bdata": "vtKb8ve8OUC+0pvy97w5QJatv9LA/jpASy08Ef/vO0CualGlXGQ5QCcZfAslZDpAPHRumT6rOkAzmyNbHwI6QIzecB+5Cz1AaCFrQBixO0CHt8KHWtw5QOS6E672cjtA0CzLMRVaOUCZ33gdO+w6QHmH/CrSgjxA2wuBMHnVOkC6HfmdYFA9QGwPtj5IWTxA9COt4ToeOUAaD/XR8Cg5QMGEwYwUbDpAiypS9FWXO0AZt8Tyxck6QMydeLobmzpAvB3SrlxzO0CXwhA4YtY5QPOrZfaqNTtAU35BCLBkPECpl3Q8/r88QMshgPbtnzlAobBGRz8oO0CA6BazFqI6QO3TMnFgVjtAunLJeGUROkDcNjTKj7M5QJBan1CwdDlAk8t+BdnePEDbar4Jdv46QG8Rv7MzbjpACVYAIC+JOUCrte/jfOQ6QLV9ery5ljhAZT78eZbWOkDF4VddZVg5QDGxcaeCLDtAg8oxHQqYO0Bv66o7xQI6QCd7QE+SBz1AIodc4yEaOUDiSBagDdo8QLni+DVzeD1A6M03kC6FPEDB3VBVZt05QMHdUFVm3TlAFmvKxv9AOkAIArRDG9U8QItPZOGnCD5AkYm9EabKOkA8pEaxy/07QEkztM6CgDtAMuuS5oh3OEA2dvoT3kg6QCrNLyezoTpA3aqvX05cOUA=",
          "dtype": "f8"
         },
         "legendgroup": "Uttar Pradesh",
         "lon": {
          "bdata": "eAwlYOD0U0B4DCVg4PRTQDedl8tgg1NALiSLDhiAU0AVkiZ0T4NUQD0uplizq1RAW1zNp0nbU0C8GAztx8BUQGWtodReU1NA0cpRZvBdVEDy9BZXVgJVQB2yj2sunlRA48LAiJchVECtnLNN41ZUQLGUGsWj21NAw86LfaqsVEDGCmz93JxTQMspMGaxgFNADfAjTzLQVECATQQD6ERUQI+Q3RXD9FRArqibYdCsU0BKzbnB4MRTQMeXql+AgFRA8ZqzQTPcU0A6DjmXqjZUQDkBTYRNm1NAasxfc5NhU0DseXGtKWtTQNlJYTlP4lRABiu8u3OBVED0ZYeZt9ZUQNAA1E3nEFRADrmWyHrXU0CfkfoGw6JUQCLUkSiSuVNAuHVgS/eYU0C9YByDPelTQFVI9qgs/1NACIlGXMJaVEAR35AhDPtUQN6Al+NzplNAvSp5b2k5VEDDTausbutTQIz4Rr49wlNAVdU/N8dnU0AV/kd2X+BUQPC6oU6Xc1NAI1WWJXumVEAh+P5gF69TQNFdJ6/4aFNAtM2Xoqr5U0CFw5P223tUQIXDk/bbe1RA+4GBJz9OVEDxKLuGBsdTQBTwAtxWZlNA020nUHvCVEDzC6lyIvVTQEWp9LqVNlRAkd1jyVzEVECi5eqZp4NUQGX1xOTAKFRANTUcqdG0VEA=",
          "dtype": "f8"
         },
         "marker": {
          "color": "#00cc96",
          "size": {
           "bdata": "cPAGAJ3ZEADtbEMAIQ84AFfbWgDAliQA2QwVABlnRgAI4hMA8zc1AF5vMQA5ySAA8nQbABvBMQBn4EMA0JolAJkxOACjZDUA9MsdAPIhDwASUS8AkBMbAPIiGABUtCUAFMQcAB0sKABsHiYA8yUZAK1vRwCsPTcAv2U0AD/DQwCtcz4AdskZAHyTRAALfx4AXRQcAChHGQBYaBsAbGgYAABkNgDYoxIADglGALZdDQDxghwA8N0mABCpIQDpizQAyhkmAKbQSACYOT8An/0eAAg+DQC19zAA9/YzAEukIwCO5DQA7ysaAErgLQCYa0QAn2scAH3wOQAPbi8AqRo4AA==",
           "dtype": "i4"
          },
          "sizemode": "area",
          "sizeref": 27650.37
         },
         "mode": "markers",
         "name": "Uttar Pradesh",
         "showlegend": true,
         "subplot": "map",
         "type": "scattermap"
        },
        {
         "customdata": {
          "bdata": "AAAAAACASkAAAAAAAIBSQAAAAAAAgE5AAAAAAACAT0AAAAAAAABKQAAAAAAAgEtAAAAAAACATkAAAAAAAABNQA==",
          "dtype": "f8",
          "shape": "8, 1"
         },
         "hovertemplate": "<b>%{hovertext}</b><br><br>State=Jammu and Kashmir<br>Population=%{marker.size}<br>lat=%{lat}<br>lon=%{lon}<br>literacy_rate=%{customdata[0]:.2f}<extra></extra>",
         "hovertext": [
          "Doda",
          "Jammu",
          "Kargil",
          "Kathua",
          "Pulwama",
          "Punch",
          "Srinagar",
          "Udhampur"
         ],
         "lat": {
          "bdata": "3MqL2geuQEBcVKIbSltAQGijTYVyyEBANZ4C0kdCQEBZAv6iK/FAQBSXBGVH5UBA8Cv+4/UiQUAD3d1AG4ZAQA==",
          "dtype": "f8"
         },
         "legendgroup": "Jammu and Kashmir",
         "lon": {
          "bdata": "lkIztJUEU0DspcGRQbZSQLkaTJDAKFNASLS3Z7LlUkB2X6EJl8BSQGbRJYvwklJAcy/utA3HUkC+2zSdyMlSQA==",
          "dtype": "f8"
         },
         "marker": {
          "color": "#ab63fa",
          "size": {
           "bdata": "UEEGAGZYFwACJgIA82cJADiNCACjRgcAXd8SAOl3CAA=",
           "dtype": "i4"
          },
          "sizemode": "area",
          "sizeref": 27650.37
         },
         "mode": "markers",
         "name": "Jammu and Kashmir",
         "showlegend": true,
         "subplot": "map",
         "type": "scattermap"
        },
        {
         "customdata": {
          "bdata": "AAAAAAAAT0AAAAAAAIBIQAAAAAAAgEpAAAAAAAAAUEAAAAAAAIBJQAAAAAAAgEhAAAAAAACASUAAAAAAAABHQAAAAAAAgEtAAAAAAAAAS0AAAAAAAABIQAAAAAAAAExAAAAAAACAQ0AAAAAAAIBKQAAAAAAAgFBAAAAAAAAARUAAAAAAAIBMQA==",
          "dtype": "f8",
          "shape": "17, 1"
         },
         "hovertemplate": "<b>%{hovertext}</b><br><br>State=Jharkhand<br>Population=%{marker.size}<br>lat=%{lat}<br>lon=%{lon}<br>literacy_rate=%{customdata[0]:.2f}<extra></extra>",
         "hovertext": [
          "Bokaro",
          "Chatra",
          "Deoghar",
          "Dhanbad",
          "Dumka",
          "Garhwa",
          "Giridih",
          "Godda",
          "Gumla",
          "Jamtara",
          "Latehar",
          "Lohardaga",
          "Pakur",
          "Palamu",
          "Ranchi",
          "Sahibganj",
          "Simdega"
         ],
         "lat": {
          "bdata": "F9sKjnauN0B+y2U/vx04QNo1PNKoVDhA2paXG8HaN0CIiivNZkY4QKnq4HcFFThA4bSm7kdOOEDEsS5uo9E4QCNPP7waFDdAnfP6QY76N0DZzEXuoLk3QFnPy7whfTdA+62zMZaSOEBDw4C9aTI4QAh0awcqLzdAgQn0QMrvOEC7S5O415s2QA==",
          "dtype": "f8"
         },
         "legendgroup": "Jharkhand",
         "lon": {
          "bdata": "GiDxlvl+VUBlHquVtTtVQHco0UxysFVAczw0s9aZVUDbqEE3tNFVQNA1CfTx61RAOkJIMpOFVUDwakq909JVQPgdCoE8I1VATbSlDwK9VUAF9B9E6R5VQOvws+hFKlVAwQgNVZrsVUDuNn66/wxVQB+rECdXVFVAkVbKY7DrVUBJcGNL4iVVQA==",
          "dtype": "f8"
         },
         "marker": {
          "color": "#FFA15A",
          "size": {
           "bdata": "+ncfAMbpDwBpxBYAR/YoAOIpFAAgLxQAolAlAA8LFAC9pA8AAhIMAMIXCwDeCwcARr0NAJ2ZHQDNdywAZ44RABomCQA=",
           "dtype": "i4"
          },
          "sizemode": "area",
          "sizeref": 27650.37
         },
         "mode": "markers",
         "name": "Jharkhand",
         "showlegend": true,
         "subplot": "map",
         "type": "scattermap"
        },
        {
         "customdata": {
          "bdata": "AAAAAACATUAAAAAAAIBRQAAAAAAAAFBAAAAAAAAATUAAAAAAAIBOQAAAAAAAAEFAAAAAAACATEAAAAAAAABSQAAAAAAAgFBAAAAAAADAUEAAAAAAAIBRQAAAAAAAgFBAAAAAAAAATEAAAAAAAEBRQAAAAAAAAFFAAAAAAACAUkAAAAAAAIBQQAAAAAAAAE1AAAAAAAAAUEAAAAAAAEBQQAAAAAAAgElAAAAAAAAAUkAAAAAAAABRQAAAAAAAwFNA",
          "dtype": "f8",
          "shape": "24, 1"
         },
         "hovertemplate": "<b>%{hovertext}</b><br><br>State=Karnataka<br>Population=%{marker.size}<br>lat=%{lat}<br>lon=%{lon}<br>literacy_rate=%{customdata[0]:.2f}<extra></extra>",
         "hovertext": [
          "Bagalkot",
          "Bangalore Rural",
          "Belgaum",
          "Bellary",
          "Bidar",
          "Bijapur",
          "Bijapur",
          "Chikmagalur",
          "Chitradurga",
          "Davanagere",
          "Dharwad",
          "Gadag",
          "Gulbarga",
          "Hassan",
          "Haveri",
          "Kodagu",
          "Kolar",
          "Koppal",
          "Mandya",
          "Mysore",
          "Raichur",
          "Shimoga",
          "Tumkur",
          "Udupi"
         ],
         "lat": {
          "bdata": "zjvtc5ooMEAMK9DMp98pQPvo8gY8KTBAXDti0BQmLkAWBgnoSvMxQNV2JkcU1zBA1XYmRxTXMEBjEP9iv9kqQD66wNwAlSxAoxTIGSypLEDf5I6qCrAuQE9cnFCmAy9AP7SEogkSMUAfe7374+MpQKZrN3SkeS1AmLHbOS/LKEAMMlhOJ6AqQPX0mBFxTS9ADGyQh1kmKUB9iEj/Bn8oQIgkoOwADTBAyJFtaLAgLECr6SrvVy8rQHkSD2Kb5ipA",
          "dtype": "f8"
         },
         "legendgroup": "Karnataka",
         "lon": {
          "bdata": "NyOS80vpUkCzexD9UF5TQFGw6mNKrlJA5MKm6TkeU0AG+fFRdExTQMOMA8Jh/VJAw4wDwmH9UkCZbBftR+tSQLBOqowBJVNAUTC9CLT6UkD0hEMd2shSQCE+N+CC6VJAyjF/oQA4U0C5trdbEgdTQAXUiRRa2VJAnz8CgsbyUkD70F+Z4YBTQBkgV19ZClNA6LXncTQ0U0DIhZIn2CFTQBvC8XjqN1NAKZi3zHHLUkBE17B/eEFTQCB85x0WrlJA",
          "dtype": "f8"
         },
         "marker": {
          "color": "#19d3f3",
          "size": {
           "bdata": "2NUcAMseDwCN7kgAc2wlAIT9GQD+5AMAMzkhACldEQBAUhkAma8dAO8uHAB6PhAAtignACUbGwDkYBgAF3YIAJFxFwBgNRUAyY0bACfLLQBsbh0Asb4aAMTgKAAR9xEA",
           "dtype": "i4"
          },
          "sizemode": "area",
          "sizeref": 27650.37
         },
         "mode": "markers",
         "name": "Karnataka",
         "showlegend": true,
         "subplot": "map",
         "type": "scattermap"
        },
        {
         "customdata": {
          "bdata": "AAAAAADAVUAAAAAAAMBVQAAAAAAAwFRAAAAAAABAVUAAAAAAAMBTQAAAAAAAQFVAAAAAAABAVkAAAAAAAEBVQAAAAAAAQFRAAAAAAAAAVEAAAAAAAABVQAAAAAAAgFVAAAAAAADAU0A=",
          "dtype": "f8",
          "shape": "13, 1"
         },
         "hovertemplate": "<b>%{hovertext}</b><br><br>State=Kerala<br>Population=%{marker.size}<br>lat=%{lat}<br>lon=%{lon}<br>literacy_rate=%{customdata[0]:.2f}<extra></extra>",
         "hovertext": [
          "Alappuzha",
          "Ernakulam",
          "Idukki",
          "Kannur",
          "Kasaragod",
          "Kollam",
          "Kottayam",
          "Kozhikode",
          "Malappuram",
          "Palakkad",
          "Thiruvananthapuram",
          "Thrissur",
          "Wayanad"
         ],
         "lat": {
          "bdata": "4OtPDtAVI0A57TSKfwIkQCcxSgIQnCNAraAPUA/iJ0C+6kl9jKooQNI7+9nY2yFAkwpGM5NJI0C1sbdeLckmQMUw8jZU8iVAHAZp8OGRJUCxw3MA/xIhQBCpUzj56iRAtaoN2ThuJ0A=",
          "dtype": "f8"
         },
         "legendgroup": "Kerala",
         "lon": {
          "bdata": "XB1ZsFMYU0AXdBvBQBFTQF/QsHnvQlNAf6XlyYjWUkD102LK+MRSQJ6Vwn61KFNAuD+4anodU0CexQuliu1SQA/valca/FJATmu4zfwfU0BT/hx+xjhTQHlLqNPiB1NAcc0jDtsEU0A=",
          "dtype": "f8"
         },
         "marker": {
          "color": "#FF6692",
          "size": {
           "bdata": "rXcgANQVMgDu6xAAe38mAO/yEwBvNigAFyEeANUXLwAYwj4ATuAqADNgMgAwoC8ADHkMAA==",
           "dtype": "i4"
          },
          "sizemode": "area",
          "sizeref": 27650.37
         },
         "mode": "markers",
         "name": "Kerala",
         "showlegend": true,
         "subplot": "map",
         "type": "scattermap"
        },
        {
         "customdata": {
          "bdata": "AAAAAAAATUAAAAAAAABMQAAAAAAAwFBAAAAAAAAAREAAAAAAAABOQAAAAAAAAFBAAAAAAACAUUAAAAAAAABLQAAAAAAAAEtAAAAAAAAAT0AAAAAAAIBNQAAAAAAAAE9AAAAAAACATUAAAAAAAIBIQAAAAAAAAEtAAAAAAACASkAAAAAAAMBQQAAAAAAAAE9AAAAAAABAUEAAAAAAAIBRQAAAAAAAwFFAAAAAAAAAQUAAAAAAAIBOQAAAAAAAgExAAAAAAAAAT0AAAAAAAABOQAAAAAAAAE9AAAAAAAAAS0AAAAAAAABPQAAAAAAAAEpAAAAAAACATEAAAAAAAIBOQAAAAAAAQFBAAAAAAAAAT0AAAAAAAABOQAAAAAAAgE9AAAAAAACATEAAAAAAAIBNQAAAAAAAAEhAAAAAAAAASkAAAAAAAIBKQAAAAAAAAEpAAAAAAAAAT0AAAAAAAIBLQAAAAAAAgE1A",
          "dtype": "f8",
          "shape": "45, 1"
         },
         "hovertemplate": "<b>%{hovertext}</b><br><br>State=Madhya Pradesh<br>Population=%{marker.size}<br>lat=%{lat}<br>lon=%{lon}<br>literacy_rate=%{customdata[0]:.2f}<extra></extra>",
         "hovertext": [
          "Anuppur",
          "Ashoknagar",
          "Balaghat",
          "Barwani",
          "Betul",
          "Bhind",
          "Bhopal",
          "Burhanpur",
          "Chhatarpur",
          "Chhindwara",
          "Damoh",
          "Datia",
          "Dewas",
          "Dhar",
          "Dindori",
          "Guna",
          "Gwalior",
          "Harda",
          "Hoshangabad",
          "Indore",
          "Jabalpur",
          "Jhabua",
          "Katni",
          "Mandla",
          "Mandsaur",
          "Morena",
          "Neemuch",
          "Panna",
          "Raisen",
          "Rajgarh",
          "Ratlam",
          "Rewa",
          "Sagar",
          "Satna",
          "Sehore",
          "Seoni",
          "Shahdol",
          "Shajapur",
          "Sheopur",
          "Shivpuri",
          "Sidhi",
          "Tikamgarh",
          "Ujjain",
          "Umaria",
          "Vidisha"
         ],
         "lat": {
          "bdata": "coHwNY0uN0AEdrZ1iKE4QDWJJWHazDVA9jWKKr+zNUBBLQ/A8fY1QC5JGO4IXDpA9+lZ3hB7N0AK4JJHVF01QO+yAopK0DhAOxQgC1w6NkDgpG6SKMQ3QFV3p8z65jlAOePdCP3INkC99uVEm5I2QPlhddJe1jZA0vmYbY19OEBM3O05bgo6QFeIUulHOjZAqudEiWOYNkA8+3XlJa42QOTXSOtsLzdABkH+dmlrNkC3v4xXc7k3QFq6cLsXtDZAqM3ih1oxOEAIoUDHhV86QH3dN5r/szhApgkbF4pzOEDRfiJ54ko3QKiJ1XYWyTdAVjVRdemAN0AU4HiYdtw4QPZw3K/hzDdA4YE08bWgOEDt2bggAu42QEaFt+4RVTZAxt9fXNdyN0AetnMHDpE3QK5WWsm3xzlAFxcBN8ZgOUAi2PW56yw4QAaupHoYJDlAk3c36rxRN0B2oBYnlJg3QK+B3OkQ1DdA",
          "dtype": "f8"
         },
         "legendgroup": "Madhya Pradesh",
         "lon": {
          "bdata": "v9qK/WV3VEBIjISKGnVTQE1aPCT9GlRA9FiZNj66UkDWfSLTY3JTQBKlzdzBsFNAG6quKh5ZU0AZ99Sapw9TQM7FNqcg5FNAfPo8h+ewU0CrZNGOHN5TQDvlTxfoqFNAQOKhMH8dU0C+pfJyE8dSQIfWy+nFQlRAlJS9Sk9OU0AWoRlGLohTQOe+ApR+RFNADhp9OGOBU0AlbPHRdPpSQCNq5C7u/lNAUEcCmTCaUkACMpkDpRVUQHdJJVC0GFRAlAM8keXbUkCwt2A2m3hTQEcMcK86xFJAoRtQboYNVEB7WBF+b4pTQGVyexeEKlNAZKpihojJUkBAbTSs2GRUQLO5TbUKrlNAqM3ioFkwVECVG1LeVkRTQDtd20NG6lNAkjUDc2tdVEAtZ0+ueRVTQHtmprfSSlNAzwQeU+lvU0Afp8aEvoZUQHT08UIwuVNAAhB8EXLzUkC6G4+xKTpUQJyYGbuveVNA",
          "dtype": "f8"
         },
         "marker": {
          "color": "#B6E880",
          "size": {
           "bdata": "tW4LAA/lDABC9xkAmSUVAMIJGABd/BkA9S0kAFeQCwBH5BoAqucfAFtKEwBCAQwAQ9wXAEFaIQAMwAoAr/ESAKQBHwBhtAgABvESAJn/MQA5liUAGKQPAAq3EwC5GBAA+3MUAJL/HQDTmgwAyIIPAI1RFABWlhcA3TMWALIWJADaSiQAxwIiAGQCFAA7CxUAT0QQAOkUFwD1fgoAYlYaAHkyEQAuDRYAMFEeAJbWCQC7QhYA",
           "dtype": "i4"
          },
          "sizemode": "area",
          "sizeref": 27650.37
         },
         "mode": "markers",
         "name": "Madhya Pradesh",
         "showlegend": true,
         "subplot": "map",
         "type": "scattermap"
        },
        {
         "customdata": {
          "bdata": "AAAAAACAUEAAAAAAAIBPQAAAAAAAwFFAAAAAAACAS0AAAAAAAABOQAAAAAAAAFBAAAAAAADAUUA=",
          "dtype": "f8",
          "shape": "7, 1"
         },
         "hovertemplate": "<b>%{hovertext}</b><br><br>State=Manipur<br>Population=%{marker.size}<br>lat=%{lat}<br>lon=%{lon}<br>literacy_rate=%{customdata[0]:.2f}<extra></extra>",
         "hovertext": [
          "Bishnupur",
          "Chandel",
          "Churachandpur",
          "Senapati",
          "Tamenglong",
          "Thoubal",
          "Ukhrul"
         ],
         "lat": {
          "bdata": "b/mIsNKBOEBhwmEQekM4QGI2AceXTThAQ52nAawVOUBt3qxervs4QH5wq9ieizhAhuuV1BoPOUA=",
          "dtype": "f8"
         },
         "legendgroup": "Manipur",
         "lon": {
          "bdata": "jwsTosZ0V0CjfohHC4ZXQLomhvC/WFdA6csahieCV0DLbl4Cpl9XQAuDvL+xfldARN4wMD6cV0A=",
          "dtype": "f8"
         },
         "marker": {
          "color": "#FF97FF",
          "size": {
           "bdata": "V58DADYzAgDfLgQArE8HAGslAgAYcQYAvs4CAA==",
           "dtype": "i4"
          },
          "sizemode": "area",
          "sizeref": 27650.37
         },
         "mode": "markers",
         "name": "Manipur",
         "showlegend": true,
         "subplot": "map",
         "type": "scattermap"
        },
        {
         "customdata": {
          "bdata": "AAAAAAAATkAAAAAAAIBRQAAAAAAAgEdAAAAAAAAATUAAAAAAAABMQAAAAAAAAE5A",
          "dtype": "f8",
          "shape": "6, 1"
         },
         "hovertemplate": "<b>%{hovertext}</b><br><br>State=Meghalaya<br>Population=%{marker.size}<br>lat=%{lat}<br>lon=%{lon}<br>literacy_rate=%{customdata[0]:.2f}<extra></extra>",
         "hovertext": [
          "East Garo Hills",
          "East Khasi Hills",
          "Jaintia Hills",
          "South Garo Hills",
          "West Garo Hills",
          "West Khasi Hills"
         ],
         "lat": {
          "bdata": "b/aKxcjTOUDJe2B4w005QCkEPrzvVjlAP1UB55U9OUBNkIgCy345QGs+flI6gDlA",
          "dtype": "f8"
         },
         "legendgroup": "Meghalaya",
         "lon": {
          "bdata": "6L1k+mWpVkDVXkkll/BWQM6ekLgRGFdAhUxOkVGpVkCQjXXWX4JWQNxBAbo70FZA",
          "dtype": "f8"
         },
         "marker": {
          "color": "#FECB52",
          "size": {
           "bdata": "3dkEAEKaDAB0BwYA/isCANvQCQDl2QUA",
           "dtype": "i4"
          },
          "sizemode": "area",
          "sizeref": 27650.37
         },
         "mode": "markers",
         "name": "Meghalaya",
         "showlegend": true,
         "subplot": "map",
         "type": "scattermap"
        },
        {
         "customdata": {
          "bdata": "AAAAAABAVUAAAAAAAABUQAAAAAAAgFNAAAAAAACASkAAAAAAAMBSQAAAAAAAgFFAAAAAAADAUkAAAAAAAABVQA==",
          "dtype": "f8",
          "shape": "8, 1"
         },
         "hovertemplate": "<b>%{hovertext}</b><br><br>State=Mizoram<br>Population=%{marker.size}<br>lat=%{lat}<br>lon=%{lon}<br>literacy_rate=%{customdata[0]:.2f}<extra></extra>",
         "hovertext": [
          "Aizawl",
          "Champhai",
          "Kolasib",
          "Lawngtlai",
          "Lunglei",
          "Mamit",
          "Saiha",
          "Serchhip"
         ],
         "lat": {
          "bdata": "L5W8dGboN0BYUUqcqoo3QEcr7Uy2MzhA1Kv5W2xcNkDT+2G++QE3QDihr0MQvTdAL5d7toFbNkBVVSqjjEM3QA==",
          "dtype": "f8"
         },
         "legendgroup": "Mizoram",
         "lon": {
          "bdata": "6fQ4S6E2V0Dpmud/gE9XQPWwj2MFL1dACFNPaNsqV0BXGaflpShXQA24yJa3G1dAbEUGVM9BV0DEtKOSgTpXQA==",
          "dtype": "f8"
         },
         "marker": {
          "color": "#636efa",
          "size": {
           "bdata": "tRsGADHrAQDzRwEAhswBAJR2AgBcUQEA/twAAKn9AAA=",
           "dtype": "i4"
          },
          "sizemode": "area",
          "sizeref": 27650.37
         },
         "mode": "markers",
         "name": "Mizoram",
         "showlegend": true,
         "subplot": "map",
         "type": "scattermap"
        },
        {
         "customdata": {
          "bdata": "AAAAAABAUkAAAAAAAIBSQAAAAAAAgFRAAAAAAAAASEAAAAAAAEBQQAAAAAAAAE5AAAAAAABAU0AAAAAAAEBSQA==",
          "dtype": "f8",
          "shape": "8, 1"
         },
         "hovertemplate": "<b>%{hovertext}</b><br><br>State=Nagaland<br>Population=%{marker.size}<br>lat=%{lat}<br>lon=%{lon}<br>literacy_rate=%{customdata[0]:.2f}<extra></extra>",
         "hovertext": [
          "Dimapur",
          "Kohima",
          "Mokokchung",
          "Mon",
          "Phek",
          "Tuensang",
          "Wokha",
          "Zunheboto"
         ],
         "lat": {
          "bdata": "cPU65G3QOUCr5KSyZZo5QNkUH/aZejpAY62sviuxOkBEsaCV+qE5QKFjtgMHNjpAxwDCWd4zOkBSfNWvNgc6QA==",
          "dtype": "f8"
         },
         "legendgroup": "Nagaland",
         "lon": {
          "bdata": "pmg3IgxwV0AhjYbuTXJXQCzLfG1voVdAz0d+evfBV0BvMoV/XKRXQHteQhfrtldAzWxowL2MV0AwJ3teBKBXQA==",
          "dtype": "f8"
         },
         "marker": {
          "color": "#EF553B",
          "size": {
           "bdata": "u8cFANQWBAA++AIAlNEDAFp+AgD0/wIAx4kCANUlAgA=",
           "dtype": "i4"
          },
          "sizemode": "area",
          "sizeref": 27650.37
         },
         "mode": "markers",
         "name": "Nagaland",
         "showlegend": true,
         "subplot": "map",
         "type": "scattermap"
        },
        {
         "customdata": {
          "bdata": "AAAAAACAUUAAAAAAAEBSQAAAAAAAQFNAAAAAAACAUUAAAAAAAIBGQAAAAAAAgE9AAAAAAACAUUAAAAAAAIBJQAAAAAAAgEtAAAAAAAAAU0AAAAAAAIBTQAAAAAAAgERAAAAAAAAAREAAAAAAAABLQAAAAAAAwFFAAAAAAACASEAAAAAAAABTQAAAAAAAAEVAAAAAAAAAUUAAAAAAAABQQA==",
          "dtype": "f8",
          "shape": "20, 1"
         },
         "hovertemplate": "<b>%{hovertext}</b><br><br>State=Orissa<br>Population=%{marker.size}<br>lat=%{lat}<br>lon=%{lon}<br>literacy_rate=%{customdata[0]:.2f}<extra></extra>",
         "hovertext": [
          "Baleshwar",
          "Bhadrak",
          "Cuttack",
          "Dhenkanal",
          "Gajapati",
          "Ganjam",
          "Jharsuguda",
          "Kalahandi",
          "Kandhamal",
          "Kendrapara",
          "Khordha",
          "Koraput",
          "Malkangiri",
          "Mayurbhanj",
          "Nayagarh",
          "Nuapada",
          "Puri",
          "Rayagada",
          "Sambalpur",
          "Sundargarh"
         ],
         "lat": {
          "bdata": "hCU6cld8NUCJktxi3/M0QLE3KyNbaDRABO5H2YLMNEBx4B0o/x4zQD9BWh9lQzNARQw5HLrTNUDGSonPxMgzQOURwOTGFzRAgY+ExjebNECQ2PqU3Q00QDsvm/OG0zJA9r1eYJVAMkA1o4yGyuU1QNOLhJthMTRA9yt9vad4NECyXZqSyNUzQFoeRZD3SjNATgYZWQiENUDxq8GxRBA2QA==",
          "dtype": "f8"
         },
         "legendgroup": "Orissa",
         "lon": {
          "bdata": "Sy41yCzFVUDx3pBWKLRVQGH/n4bFcVVAfQVQrxBiVUBSh487+AhVQByvFPpjM1VAgtg9bOT7VEB4jiWiMcdUQNObkiBrAVVAPlI+xZu1VUCarbwnbmFVQHKnHKoEtFRAfffrbeh+VEDAWKlry5lVQOQjm+mXQ1VAIkY1jdulVEDphzPDfHdVQJTa3LhZ3VRAqKMPmV8WVUAhFIT8VSBVQA==",
          "dtype": "f8"
         },
         "marker": {
          "color": "#00cc96",
          "size": {
           "bdata": "kWgjACH8FgDWCygAazMSABnRCABH2TUAsdcIAKUPGAC2LwsAafoVAJlbIgA/DRUASFsJALpyJgDlsA4ATlAJAKrrGQDnxA4Ay+IPAH3xHwA=",
           "dtype": "i4"
          },
          "sizemode": "area",
          "sizeref": 27650.37
         },
         "mode": "markers",
         "name": "Orissa",
         "showlegend": true,
         "subplot": "map",
         "type": "scattermap"
        },
        {
         "customdata": {
          "bdata": "AAAAAABAU0AAAAAAAMBVQAAAAAAAwFFA",
          "dtype": "f8",
          "shape": "3, 1"
         },
         "hovertemplate": "<b>%{hovertext}</b><br><br>State=Puducherry<br>Population=%{marker.size}<br>lat=%{lat}<br>lon=%{lon}<br>literacy_rate=%{customdata[0]:.2f}<extra></extra>",
         "hovertext": [
          "Karaikal",
          "Mahe",
          "Yanam"
         ],
         "lat": {
          "bdata": "5AcPRZjAJUBiqhaWSQMoQLqb0YortTBA",
          "dtype": "f8"
         },
         "legendgroup": "Puducherry",
         "lon": {
          "bdata": "gXOMd7f0U0B6WFyUGNJSQGBcJ4fCkFRA",
          "dtype": "f8"
         },
         "marker": {
          "color": "#ab63fa",
          "size": {
           "bdata": "Hg4DAFijAABK2QAA",
           "dtype": "i4"
          },
          "sizemode": "area",
          "sizeref": 27650.37
         },
         "mode": "markers",
         "name": "Puducherry",
         "showlegend": true,
         "subplot": "map",
         "type": "scattermap"
        },
        {
         "customdata": {
          "bdata": "AAAAAAAAUUAAAAAAAIBOQAAAAAAAAE9AAAAAAADAUUAAAAAAAABOQAAAAAAAwFFAAAAAAAAAU0AAAAAAAIBSQAAAAAAAwFFAAAAAAABAUkAAAAAAAIBLQAAAAAAAgE9AAAAAAAAATUAAAAAAAMBQQAAAAAAAQFJAAAAAAACATkA=",
          "dtype": "f8",
          "shape": "16, 1"
         },
         "hovertemplate": "<b>%{hovertext}</b><br><br>State=Punjab<br>Population=%{marker.size}<br>lat=%{lat}<br>lon=%{lon}<br>literacy_rate=%{customdata[0]:.2f}<extra></extra>",
         "hovertext": [
          "Amritsar",
          "Bathinda",
          "Faridkot",
          "Fatehgarh Sahib",
          "Firozpur",
          "Gurdaspur",
          "Hoshiarpur",
          "Jalandhar",
          "Kapurthala",
          "Ludhiana",
          "Mansa",
          "Moga",
          "Muktsar",
          "Patiala",
          "Rupnagar",
          "Sangrur"
         ],
         "lat": {
          "bdata": "SZLdR3aMP0A2gpE4xjA+QA/XNAxYlz5AI8Mbt5WkPkAQhiTDUqI+QBBdOJN7BUBAm8uEzTONP0AIel0UFkA/QE1xZO8qVj9ApWEJNxbEPkD/9596Z+s9QNdWH5yswT5AJBF7nPtPPkDYv04e7DY+QKNLXDAz6T5AmuhcH18vPkA=",
          "dtype": "f8"
         },
         "legendgroup": "Punjab",
         "lon": {
          "bdata": "gOPJKyCzUkCS8diTo8NSQCZHnH4Ks1JApxYmYiwXU0DqF13cwZlSQPqnAoqB1FJAsuqxAzX2UkAb4xP00OJSQHD2UId93lJAjiTF4TD1UkCvFIQvjdtSQHqtG9M+ylJASkmT6lGjUkAqZ8+QmhFTQN2Qz1VlIlNAD19DXD35UkA=",
          "dtype": "f8"
         },
         "marker": {
          "color": "#FFA15A",
          "size": {
           "bdata": "IAEmAO0vFQAkbAkAYygJABL2HgDTESMAwTUYALZ4IQBAcAwA82I1ANe+CwCiMQ8ACMMNAAbtHABTcgoAgUEZAA==",
           "dtype": "i4"
          },
          "sizemode": "area",
          "sizeref": 27650.37
         },
         "mode": "markers",
         "name": "Punjab",
         "showlegend": true,
         "subplot": "map",
         "type": "scattermap"
        },
        {
         "customdata": {
          "bdata": "AAAAAACATUAAAAAAAIBNQAAAAAAAAEdAAAAAAACATEAAAAAAAABHQAAAAAAAAE1AAAAAAAAASkAAAAAAAABLQAAAAAAAgEpAAAAAAACASkAAAAAAAABMQAAAAAAAgExAAAAAAACATEAAAAAAAIBIQAAAAAAAgE5AAAAAAAAATUAAAAAAAEBQQAAAAAAAAEdAAAAAAACARkAAAAAAAABKQAAAAAAAAFBAAAAAAACAS0AAAAAAAIBLQAAAAAAAwFBAAAAAAACASkAAAAAAAIBKQAAAAAAAAEtAAAAAAAAATEAAAAAAAABPQAAAAAAAAEdAAAAAAACASkAAAAAAAABKQA==",
          "dtype": "f8",
          "shape": "32, 1"
         },
         "hovertemplate": "<b>%{hovertext}</b><br><br>State=Rajasthan<br>Population=%{marker.size}<br>lat=%{lat}<br>lon=%{lon}<br>literacy_rate=%{customdata[0]:.2f}<extra></extra>",
         "hovertext": [
          "Ajmer",
          "Alwar",
          "Banswara",
          "Baran",
          "Barmer",
          "Bharatpur",
          "Bhilwara",
          "Bikaner",
          "Bundi",
          "Chittaurgarh",
          "Churu",
          "Dausa",
          "Dhaulpur",
          "Dungarpur",
          "Ganganagar",
          "Hanumangarh",
          "Jaipur",
          "Jaisalmer",
          "Jalor",
          "Jhalawar",
          "Jhunjhunun",
          "Jodhpur",
          "Karauli",
          "Kota",
          "Nagaur",
          "Pali",
          "Rajsamand",
          "Sawai Madhopur",
          "Sikar",
          "Sirohi",
          "Tonk",
          "Udaipur"
         ],
         "lat": {
          "bdata": "dvmAWQUzOkChi+Difo07QC2vX+IhdDdAn8Y/g/D6OEAUTrcwTcU5QGy9bm/5UjtA703lsIFzOUARDPjV+B88QMN7qttdfDlAy7pHGLKhOEACFnX0FUs8QBO9a6aP6TpAPShJIla5OkC7G9CvRMA3QK9/VbC8QT1ArRN4+2suPUC2Gr3JkAg7QCWYY1V33jpA1UAqYWYTOUBuGIAhTD84QFDYmsOaIjxADSIJnK+tOkD1ORU03oQ6QH7qLtz7LDlA+xJqcyAUO0CRCy8vDs45QAkL6Ai7PzlAOrMx20ZAOkDdelkhfaU7QPvaQnI1zDhAZrHySWgnOkCQaekj1nA4QA==",
          "dtype": "f8"
         },
         "legendgroup": "Rajasthan",
         "lon": {
          "bdata": "ll1RGr2sUkC0XJmF1ClTQCfxKGhRnFJAY2zRwCw3U0Bn0mKuMOBRQNz1PtzrTVNAaLSPLO2oUkBboN9kPlFSQF7fN5cw81JAJa17ADWzUkAxuVJHJKpSQEsW4e2yJFNA47YQL6pvU0D1EqwAQHZSQNEABoz2Y1JAu70BzcOvUkBFc2nlWvFSQOHsYgzCy1FAHyvYKu8LUkDddg4JMgdTQLG9unPR4VJACrfp3UlAUkDqE4sLfj1TQNAdcYbqC1NAgyZKGBmJUkCnlNf/YWNSQPwlbhDOfVJAICvu3wAbU0Amv9Zdw9JSQOcN66UyMFJA2iJN2q7yUkCQ9+1yx3VSQA==",
          "dtype": "f8"
         },
         "marker": {
          "color": "#19d3f3",
          "size": {
           "bdata": "DGonAEMQOABtbRsAY6gSAOe6JwDu4iYAS8AkACESJAB68xAAkpAXAPseHwBp8BgA9GgSAAgwFQAQDB4AZBQbAIIbZQDfOAoAeucbADmIFQDVmyAA/UI4AEhAFgAmxR0A33gyAEUXHwD1pREA/2AUAFXaKAA60A8ADrAVAATSLgA=",
           "dtype": "i4"
          },
          "sizemode": "area",
          "sizeref": 27650.37
         },
         "mode": "markers",
         "name": "Rajasthan",
         "showlegend": true,
         "subplot": "map",
         "type": "scattermap"
        },
        {
         "customdata": {
          "bdata": "AAAAAADAU0A=",
          "dtype": "f8",
          "shape": "1, 1"
         },
         "hovertemplate": "<b>%{hovertext}</b><br><br>State=Sikkim<br>Population=%{marker.size}<br>lat=%{lat}<br>lon=%{lon}<br>literacy_rate=%{customdata[0]:.2f}<extra></extra>",
         "hovertext": [
          "East"
         ],
         "lat": {
          "bdata": "9FIm48ZLO0A=",
          "dtype": "f8"
         },
         "legendgroup": "Sikkim",
         "lon": {
          "bdata": "LUaw/fAvVkA=",
          "dtype": "f8"
         },
         "marker": {
          "color": "#FF6692",
          "size": {
           "bdata": "IhUaAA==",
           "dtype": "i4"
          },
          "sizemode": "area",
          "sizeref": 27650.37
         },
         "mode": "markers",
         "name": "Sikkim",
         "showlegend": true,
         "subplot": "map",
         "type": "scattermap"
        },
        {
         "customdata": {
          "bdata": "AAAAAAAAUEAAAAAAAEBUQAAAAAAAAFNAAAAAAACAUUAAAAAAAIBOQAAAAAAAQFFAAAAAAACAUEAAAAAAAMBSQAAAAAAAwFRAAAAAAAAAUUAAAAAAAMBSQAAAAAAAwFJAAAAAAAAAUUAAAAAAAIBQQAAAAAAAQFFAAAAAAAAAUkAAAAAAAIBQQAAAAAAAAFJAAAAAAACAUkAAAAAAAIBRQAAAAAAAwFJAAAAAAADAUkAAAAAAAIBQQAAAAAAAgFFAAAAAAAAAUkA=",
          "dtype": "f8",
          "shape": "25, 1"
         },
         "hovertemplate": "<b>%{hovertext}</b><br><br>State=Tamil Nadu<br>Population=%{marker.size}<br>lat=%{lat}<br>lon=%{lon}<br>literacy_rate=%{customdata[0]:.2f}<extra></extra>",
         "hovertext": [
          "Ariyalur",
          "Chennai",
          "Coimbatore",
          "Cuddalore",
          "Dharmapuri",
          "Dindigul",
          "Erode",
          "Kancheepuram",
          "Kanniyakumari",
          "Karur",
          "Madurai",
          "Nagapattinam",
          "Namakkal",
          "Perambalur",
          "Pudukkottai",
          "Ramanathapuram",
          "Salem",
          "Sivaganga",
          "Thanjavur",
          "Theni",
          "Thiruvallur",
          "Thiruvarur",
          "Tiruvannamalai",
          "Vellore",
          "Virudhunagar"
         ],
         "lat": {
          "bdata": "duAiKYthJkDCC8cjvx0qQBgaKCAlviVAdv+f09gmJ0BMXXwbrJkoQFXqEy9vwSRAYf460bWIJkBfSbxiK/4oQIx6fkvvXSBADq9yMzWXJUBf+QY5As8jQGagvys1lCVABCm/m+KsJkCpF7fGMIUmQIpziNbSQiRAXXyDfTCgIkBscCXINkInQFMC3E2t6yNAcvBvmX/GJEBsUCFEH9kjQAa76kU9jSpAT+irDeS8JEC6FBv5sNYoQFnL6SLckSlAe7k2BBDwIkA=",
          "dtype": "f8"
         },
         "legendgroup": "Tamil Nadu",
         "lon": {
          "bdata": "TW20YT3OU0BLTJJRAhJUQGdWiEzgRFNAYhq7TlLoU0DYn4/EXYdTQNgEOF7tcVNAk9vJ5+ZaU0CFzrcgpQVUQMmd8pKDVFNA2SZ3jJmFU0DSOpfP34BTQBna0wHX8lNApTVPIlyJU0Awjv/PD7dTQIepOAZ8w1NAMoKfh3q/U0DdPbxg3I9TQGUfWNAupFNAs1E6eXLUU0DyuJVL0FtTQNdQALKfDFRAjOSNTZvmU0CH4VDX485TQAdZWROxwVNATuilLRd4U0A=",
          "dtype": "f8"
         },
         "marker": {
          "color": "#B6E880",
          "size": {
           "bdata": "zoQLAEznRgD9wzQAWsMnABv+FgCf9CAA4FsiACwCPQAmihwALT4QACxcLgBCqhgAiVgaAOefCACpsRgA5aYUAMghNQDdbhQAArYkAMsCEwDo4jgAlUoTAGucJQBLEDwAEKMdAA==",
           "dtype": "i4"
          },
          "sizemode": "area",
          "sizeref": 27650.37
         },
         "mode": "markers",
         "name": "Tamil Nadu",
         "showlegend": true,
         "subplot": "map",
         "type": "scattermap"
        },
        {
         "customdata": {
          "bdata": "AAAAAABAUkAAAAAAAMBSQAAAAAAAgFJAAAAAAADAU0A=",
          "dtype": "f8",
          "shape": "4, 1"
         },
         "hovertemplate": "<b>%{hovertext}</b><br><br>State=Tripura<br>Population=%{marker.size}<br>lat=%{lat}<br>lon=%{lon}<br>literacy_rate=%{customdata[0]:.2f}<extra></extra>",
         "hovertext": [
          "Dhalai",
          "North Tripura",
          "South Tripura",
          "West Tripura"
         ],
         "lat": {
          "bdata": "7CSDPQfIN0DI2ytWKh84QKUGgmE9NjdA69KL+bjHN0A=",
          "dtype": "f8"
         },
         "legendgroup": "Tripura",
         "lon": {
          "bdata": "yLlhKJT8VkAdZktSawtXQJkYGjjS5lZA99gRXHDaVkA=",
          "dtype": "f8"
         },
         "marker": {
          "color": "#FF97FF",
          "size": {
           "bdata": "dsUFALuWCgDhXQ0AK1UaAA==",
           "dtype": "i4"
          },
          "sizemode": "area",
          "sizeref": 27650.37
         },
         "mode": "markers",
         "name": "Tripura",
         "showlegend": true,
         "subplot": "map",
         "type": "scattermap"
        },
        {
         "customdata": {
          "bdata": "AAAAAACAUUAAAAAAAEBRQAAAAAAAAFJAAAAAAAAAUUAAAAAAAMBRQAAAAAAAgFBAAAAAAACAT0AAAAAAAEBQQA==",
          "dtype": "f8",
          "shape": "8, 1"
         },
         "hovertemplate": "<b>%{hovertext}</b><br><br>State=Uttaranchal<br>Population=%{marker.size}<br>lat=%{lat}<br>lon=%{lon}<br>literacy_rate=%{customdata[0]:.2f}<extra></extra>",
         "hovertext": [
          "Almora",
          "Bageshwar",
          "Chamoli",
          "Champawat",
          "Pithoragarh",
          "Tehri Garhwal",
          "Udham Singh Nagar",
          "Uttarkashi"
         ],
         "lat": {
          "bdata": "auc/9vuuPUDjSYJBrvw9QFpc28pYlT5A6vdgwppKPUAugDRQryU+QMmpeBq1dj5AHzTAnx0HPUDVLOyqDfg+QA==",
          "dtype": "f8"
         },
         "legendgroup": "Uttaranchal",
         "lon": {
          "bdata": "NRNMCxvgU0CbxdcUu/VTQFzVPRgF5FNAcHIq4fAEVECCzf4d6BVUQL4Gkbw4n1NAanUp2zPdU0AaIu1RZ6RTQA==",
          "dtype": "f8"
         },
         "marker": {
          "color": "#FECB52",
          "size": {
           "bdata": "qn8JADr3AwC1+QUAQPYDAG9gBwCzcQkABikZAGYJBQA=",
           "dtype": "i4"
          },
          "sizemode": "area",
          "sizeref": 27650.37
         },
         "mode": "markers",
         "name": "Uttaranchal",
         "showlegend": true,
         "subplot": "map",
         "type": "scattermap"
        },
        {
         "customdata": {
          "bdata": "AAAAAAAAT0AAAAAAAABRQAAAAAAAAE9AAAAAAABAUEAAAAAAAMBRQAAAAAAAgFJAAAAAAACAUkAAAAAAAEBQQAAAAAAAAFRAAAAAAAAASkAAAAAAAIBMQAAAAAAAwFBAAAAAAACAS0AAAAAAAABJQA==",
          "dtype": "f8",
          "shape": "14, 1"
         },
         "hovertemplate": "<b>%{hovertext}</b><br><br>State=West Bengal<br>Population=%{marker.size}<br>lat=%{lat}<br>lon=%{lon}<br>literacy_rate=%{customdata[0]:.2f}<extra></extra>",
         "hovertext": [
          "Bankura",
          "Barddhaman",
          "Birbhum",
          "Dakshin Dinajpur",
          "Darjiling",
          "Haora",
          "Hugli",
          "Jalpaiguri",
          "Kolkata",
          "Maldah",
          "Murshidabad",
          "Nadia",
          "Puruliya",
          "Uttar Dinajpur"
         ],
         "lat": {
          "bdata": "dZwY084UN0CXW+W6x3E3QNhh1FFbEDhAsVIFf5NXOUDruOZO8dY6QHjRYh7UZjZAGruqUhnhNkDfvOMUXaA6QAe/cOjyjDZA54MBcowUOUB0JYIFb0I4QAwsdn5pkDdA5fKavxJBN0C8S18pbAs6QA==",
          "dtype": "f8"
         },
         "legendgroup": "West Bengal",
         "lon": {
          "bdata": "xMVF8hbIVUDz437pKfRVQIJjoK6y6VVATHGCla8sVkAYO998NhVWQIcGZyqh/1VAtXCIrgEAVkCd5h2nqEJWQMiz37KTFlZAr0GDrwALVkA4TEBGwwpWQFtpFLtOJVZA7/ZUC2aZVUDYxsTXGQ9WQA==",
          "dtype": "f8"
         },
         "marker": {
          "color": "#636efa",
          "size": {
           "bdata": "guE2ALvCdQBEcTUA9JMZACcuHABtAUoAKTdUAE4YOwA2nUQAbd08AD9lbADw2U4Aw7UsAJ7iLQA=",
           "dtype": "i4"
          },
          "sizemode": "area",
          "sizeref": 27650.37
         },
         "mode": "markers",
         "name": "West Bengal",
         "showlegend": true,
         "subplot": "map",
         "type": "scattermap"
        }
       ],
       "layout": {
        "coloraxis": {
         "colorbar": {
          "title": {
           "text": "Literacy (%)"
          }
         },
         "colorscale": [
          [
           0,
           "#440154"
          ],
          [
           0.1111111111111111,
           "#482878"
          ],
          [
           0.2222222222222222,
           "#3e4989"
          ],
          [
           0.3333333333333333,
           "#31688e"
          ],
          [
           0.4444444444444444,
           "#26828e"
          ],
          [
           0.5555555555555556,
           "#1f9e89"
          ],
          [
           0.6666666666666666,
           "#35b779"
          ],
          [
           0.7777777777777778,
           "#6ece58"
          ],
          [
           0.8888888888888888,
           "#b5de2b"
          ],
          [
           1,
           "#fde725"
          ]
         ]
        },
        "height": 550,
        "legend": {
         "title": {
          "text": "State"
         },
         "tracegroupgap": 0
        },
        "map": {
         "center": {
          "lat": 22,
          "lon": 79
         },
         "domain": {
          "x": [
           0,
           1
          ],
          "y": [
           0,
           1
          ]
         },
         "zoom": 3
        },
        "mapbox": {
         "center": {
          "lat": 22,
          "lon": 79
         },
         "zoom": 3
        },
        "margin": {
         "b": 0,
         "l": 0,
         "r": 0,
         "t": 40
        },
        "template": {
         "data": {
          "bar": [
           {
            "error_x": {
             "color": "#2a3f5f"
            },
            "error_y": {
             "color": "#2a3f5f"
            },
            "marker": {
             "line": {
              "color": "#E5ECF6",
              "width": 0.5
             },
             "pattern": {
              "fillmode": "overlay",
              "size": 10,
              "solidity": 0.2
             }
            },
            "type": "bar"
           }
          ],
          "barpolar": [
           {
            "marker": {
             "line": {
              "color": "#E5ECF6",
              "width": 0.5
             },
             "pattern": {
              "fillmode": "overlay",
              "size": 10,
              "solidity": 0.2
             }
            },
            "type": "barpolar"
           }
          ],
          "carpet": [
           {
            "aaxis": {
             "endlinecolor": "#2a3f5f",
             "gridcolor": "white",
             "linecolor": "white",
             "minorgridcolor": "white",
             "startlinecolor": "#2a3f5f"
            },
            "baxis": {
             "endlinecolor": "#2a3f5f",
             "gridcolor": "white",
             "linecolor": "white",
             "minorgridcolor": "white",
             "startlinecolor": "#2a3f5f"
            },
            "type": "carpet"
           }
          ],
          "choropleth": [
           {
            "colorbar": {
             "outlinewidth": 0,
             "ticks": ""
            },
            "type": "choropleth"
           }
          ],
          "contour": [
           {
            "colorbar": {
             "outlinewidth": 0,
             "ticks": ""
            },
            "colorscale": [
             [
              0,
              "#0d0887"
             ],
             [
              0.1111111111111111,
              "#46039f"
             ],
             [
              0.2222222222222222,
              "#7201a8"
             ],
             [
              0.3333333333333333,
              "#9c179e"
             ],
             [
              0.4444444444444444,
              "#bd3786"
             ],
             [
              0.5555555555555556,
              "#d8576b"
             ],
             [
              0.6666666666666666,
              "#ed7953"
             ],
             [
              0.7777777777777778,
              "#fb9f3a"
             ],
             [
              0.8888888888888888,
              "#fdca26"
             ],
             [
              1,
              "#f0f921"
             ]
            ],
            "type": "contour"
           }
          ],
          "contourcarpet": [
           {
            "colorbar": {
             "outlinewidth": 0,
             "ticks": ""
            },
            "type": "contourcarpet"
           }
          ],
          "heatmap": [
           {
            "colorbar": {
             "outlinewidth": 0,
             "ticks": ""
            },
            "colorscale": [
             [
              0,
              "#0d0887"
             ],
             [
              0.1111111111111111,
              "#46039f"
             ],
             [
              0.2222222222222222,
              "#7201a8"
             ],
             [
              0.3333333333333333,
              "#9c179e"
             ],
             [
              0.4444444444444444,
              "#bd3786"
             ],
             [
              0.5555555555555556,
              "#d8576b"
             ],
             [
              0.6666666666666666,
              "#ed7953"
             ],
             [
              0.7777777777777778,
              "#fb9f3a"
             ],
             [
              0.8888888888888888,
              "#fdca26"
             ],
             [
              1,
              "#f0f921"
             ]
            ],
            "type": "heatmap"
           }
          ],
          "histogram": [
           {
            "marker": {
             "pattern": {
              "fillmode": "overlay",
              "size": 10,
              "solidity": 0.2
             }
            },
            "type": "histogram"
           }
          ],
          "histogram2d": [
           {
            "colorbar": {
             "outlinewidth": 0,
             "ticks": ""
            },
            "colorscale": [
             [
              0,
              "#0d0887"
             ],
             [
              0.1111111111111111,
              "#46039f"
             ],
             [
              0.2222222222222222,
              "#7201a8"
             ],
             [
              0.3333333333333333,
              "#9c179e"
             ],
             [
              0.4444444444444444,
              "#bd3786"
             ],
             [
              0.5555555555555556,
              "#d8576b"
             ],
             [
              0.6666666666666666,
              "#ed7953"
             ],
             [
              0.7777777777777778,
              "#fb9f3a"
             ],
             [
              0.8888888888888888,
              "#fdca26"
             ],
             [
              1,
              "#f0f921"
             ]
            ],
            "type": "histogram2d"
           }
          ],
          "histogram2dcontour": [
           {
            "colorbar": {
             "outlinewidth": 0,
             "ticks": ""
            },
            "colorscale": [
             [
              0,
              "#0d0887"
             ],
             [
              0.1111111111111111,
              "#46039f"
             ],
             [
              0.2222222222222222,
              "#7201a8"
             ],
             [
              0.3333333333333333,
              "#9c179e"
             ],
             [
              0.4444444444444444,
              "#bd3786"
             ],
             [
              0.5555555555555556,
              "#d8576b"
             ],
             [
              0.6666666666666666,
              "#ed7953"
             ],
             [
              0.7777777777777778,
              "#fb9f3a"
             ],
             [
              0.8888888888888888,
              "#fdca26"
             ],
             [
              1,
              "#f0f921"
             ]
            ],
            "type": "histogram2dcontour"
           }
          ],
          "mesh3d": [
           {
            "colorbar": {
             "outlinewidth": 0,
             "ticks": ""
            },
            "type": "mesh3d"
           }
          ],
          "parcoords": [
           {
            "line": {
             "colorbar": {
              "outlinewidth": 0,
              "ticks": ""
             }
            },
            "type": "parcoords"
           }
          ],
          "pie": [
           {
            "automargin": true,
            "type": "pie"
           }
          ],
          "scatter": [
           {
            "fillpattern": {
             "fillmode": "overlay",
             "size": 10,
             "solidity": 0.2
            },
            "type": "scatter"
           }
          ],
          "scatter3d": [
           {
            "line": {
             "colorbar": {
              "outlinewidth": 0,
              "ticks": ""
             }
            },
            "marker": {
             "colorbar": {
              "outlinewidth": 0,
              "ticks": ""
             }
            },
            "type": "scatter3d"
           }
          ],
          "scattercarpet": [
           {
            "marker": {
             "colorbar": {
              "outlinewidth": 0,
              "ticks": ""
             }
            },
            "type": "scattercarpet"
           }
          ],
          "scattergeo": [
           {
            "marker": {
             "colorbar": {
              "outlinewidth": 0,
              "ticks": ""
             }
            },
            "type": "scattergeo"
           }
          ],
          "scattergl": [
           {
            "marker": {
             "colorbar": {
              "outlinewidth": 0,
              "ticks": ""
             }
            },
            "type": "scattergl"
           }
          ],
          "scattermap": [
           {
            "marker": {
             "colorbar": {
              "outlinewidth": 0,
              "ticks": ""
             }
            },
            "type": "scattermap"
           }
          ],
          "scattermapbox": [
           {
            "marker": {
             "colorbar": {
              "outlinewidth": 0,
              "ticks": ""
             }
            },
            "type": "scattermapbox"
           }
          ],
          "scatterpolar": [
           {
            "marker": {
             "colorbar": {
              "outlinewidth": 0,
              "ticks": ""
             }
            },
            "type": "scatterpolar"
           }
          ],
          "scatterpolargl": [
           {
            "marker": {
             "colorbar": {
              "outlinewidth": 0,
              "ticks": ""
             }
            },
            "type": "scatterpolargl"
           }
          ],
          "scatterternary": [
           {
            "marker": {
             "colorbar": {
              "outlinewidth": 0,
              "ticks": ""
             }
            },
            "type": "scatterternary"
           }
          ],
          "surface": [
           {
            "colorbar": {
             "outlinewidth": 0,
             "ticks": ""
            },
            "colorscale": [
             [
              0,
              "#0d0887"
             ],
             [
              0.1111111111111111,
              "#46039f"
             ],
             [
              0.2222222222222222,
              "#7201a8"
             ],
             [
              0.3333333333333333,
              "#9c179e"
             ],
             [
              0.4444444444444444,
              "#bd3786"
             ],
             [
              0.5555555555555556,
              "#d8576b"
             ],
             [
              0.6666666666666666,
              "#ed7953"
             ],
             [
              0.7777777777777778,
              "#fb9f3a"
             ],
             [
              0.8888888888888888,
              "#fdca26"
             ],
             [
              1,
              "#f0f921"
             ]
            ],
            "type": "surface"
           }
          ],
          "table": [
           {
            "cells": {
             "fill": {
              "color": "#EBF0F8"
             },
             "line": {
              "color": "white"
             }
            },
            "header": {
             "fill": {
              "color": "#C8D4E3"
             },
             "line": {
              "color": "white"
             }
            },
            "type": "table"
           }
          ]
         },
         "layout": {
          "annotationdefaults": {
           "arrowcolor": "#2a3f5f",
           "arrowhead": 0,
           "arrowwidth": 1
          },
          "autotypenumbers": "strict",
          "coloraxis": {
           "colorbar": {
            "outlinewidth": 0,
            "ticks": ""
           }
          },
          "colorscale": {
           "diverging": [
            [
             0,
             "#8e0152"
            ],
            [
             0.1,
             "#c51b7d"
            ],
            [
             0.2,
             "#de77ae"
            ],
            [
             0.3,
             "#f1b6da"
            ],
            [
             0.4,
             "#fde0ef"
            ],
            [
             0.5,
             "#f7f7f7"
            ],
            [
             0.6,
             "#e6f5d0"
            ],
            [
             0.7,
             "#b8e186"
            ],
            [
             0.8,
             "#7fbc41"
            ],
            [
             0.9,
             "#4d9221"
            ],
            [
             1,
             "#276419"
            ]
           ],
           "sequential": [
            [
             0,
             "#0d0887"
            ],
            [
             0.1111111111111111,
             "#46039f"
            ],
            [
             0.2222222222222222,
             "#7201a8"
            ],
            [
             0.3333333333333333,
             "#9c179e"
            ],
            [
             0.4444444444444444,
             "#bd3786"
            ],
            [
             0.5555555555555556,
             "#d8576b"
            ],
            [
             0.6666666666666666,
             "#ed7953"
            ],
            [
             0.7777777777777778,
             "#fb9f3a"
            ],
            [
             0.8888888888888888,
             "#fdca26"
            ],
            [
             1,
             "#f0f921"
            ]
           ],
           "sequentialminus": [
            [
             0,
             "#0d0887"
            ],
            [
             0.1111111111111111,
             "#46039f"
            ],
            [
             0.2222222222222222,
             "#7201a8"
            ],
            [
             0.3333333333333333,
             "#9c179e"
            ],
            [
             0.4444444444444444,
             "#bd3786"
            ],
            [
             0.5555555555555556,
             "#d8576b"
            ],
            [
             0.6666666666666666,
             "#ed7953"
            ],
            [
             0.7777777777777778,
             "#fb9f3a"
            ],
            [
             0.8888888888888888,
             "#fdca26"
            ],
            [
             1,
             "#f0f921"
            ]
           ]
          },
          "colorway": [
           "#636efa",
           "#EF553B",
           "#00cc96",
           "#ab63fa",
           "#FFA15A",
           "#19d3f3",
           "#FF6692",
           "#B6E880",
           "#FF97FF",
           "#FECB52"
          ],
          "font": {
           "color": "#2a3f5f"
          },
          "geo": {
           "bgcolor": "white",
           "lakecolor": "white",
           "landcolor": "#E5ECF6",
           "showlakes": true,
           "showland": true,
           "subunitcolor": "white"
          },
          "hoverlabel": {
           "align": "left"
          },
          "hovermode": "closest",
          "mapbox": {
           "style": "light"
          },
          "paper_bgcolor": "white",
          "plot_bgcolor": "#E5ECF6",
          "polar": {
           "angularaxis": {
            "gridcolor": "white",
            "linecolor": "white",
            "ticks": ""
           },
           "bgcolor": "#E5ECF6",
           "radialaxis": {
            "gridcolor": "white",
            "linecolor": "white",
            "ticks": ""
           }
          },
          "scene": {
           "xaxis": {
            "backgroundcolor": "#E5ECF6",
            "gridcolor": "white",
            "gridwidth": 2,
            "linecolor": "white",
            "showbackground": true,
            "ticks": "",
            "zerolinecolor": "white"
           },
           "yaxis": {
            "backgroundcolor": "#E5ECF6",
            "gridcolor": "white",
            "gridwidth": 2,
            "linecolor": "white",
            "showbackground": true,
            "ticks": "",
            "zerolinecolor": "white"
           },
           "zaxis": {
            "backgroundcolor": "#E5ECF6",
            "gridcolor": "white",
            "gridwidth": 2,
            "linecolor": "white",
            "showbackground": true,
            "ticks": "",
            "zerolinecolor": "white"
           }
          },
          "shapedefaults": {
           "line": {
            "color": "#2a3f5f"
           }
          },
          "ternary": {
           "aaxis": {
            "gridcolor": "white",
            "linecolor": "white",
            "ticks": ""
           },
           "baxis": {
            "gridcolor": "white",
            "linecolor": "white",
            "ticks": ""
           },
           "bgcolor": "#E5ECF6",
           "caxis": {
            "gridcolor": "white",
            "linecolor": "white",
            "ticks": ""
           }
          },
          "title": {
           "x": 0.05
          },
          "xaxis": {
           "automargin": true,
           "gridcolor": "white",
           "linecolor": "white",
           "ticks": "",
           "title": {
            "standoff": 15
           },
           "zerolinecolor": "white",
           "zerolinewidth": 2
          },
          "yaxis": {
           "automargin": true,
           "gridcolor": "white",
           "linecolor": "white",
           "ticks": "",
           "title": {
            "standoff": 15
           },
           "zerolinecolor": "white",
           "zerolinewidth": 2
          }
         }
        },
        "width": 800
       }
      }
     },
     "metadata": {},
     "output_type": "display_data"
    }
   ],
   "source": [
    "import plotly.express as px\n",
    "import plotly.graph_objects as go\n",
    "\n",
    "# Base heat layer\n",
    "fig = px.density_map(\n",
    "    df,\n",
    "    lat=\"lat\", lon=\"lon\",\n",
    "    z=\"literacy_rate\",\n",
    "    radius=20,                   # tweak smoothing\n",
    "    opacity=0.6,                 # see-through so points show\n",
    "    center={\"lat\": 22, \"lon\": 79},\n",
    "    zoom=3,\n",
    "    # mapbox_style=\"open-street-map\",   # works without token; or \"carto-positron\"\n",
    "    color_continuous_scale=\"Viridis\",\n",
    ")\n",
    "\n",
    "# Overlay point markers (colored by State)\n",
    "scatter = px.scatter_map(\n",
    "    df,\n",
    "    lat=\"lat\", lon=\"lon\",\n",
    "    size=\"Population\",\n",
    "    color=\"State\",\n",
    "    hover_name=\"District\",\n",
    "    hover_data={\"literacy_rate\":\":.2f\"},\n",
    ")\n",
    "\n",
    "# Ensure markers (and optional labels) render\n",
    "scatter.update_traces(mode=\"markers\")  # or \"markers+text\", textposition=\"top center\"\n",
    "\n",
    "# Add scatter traces to the heatmap figure\n",
    "for tr in scatter.data:\n",
    "    fig.add_trace(tr)\n",
    "\n",
    "# Optional: adjust layout, legend, and keep same view\n",
    "fig.update_layout(\n",
    "    width=800, height=550,\n",
    "    margin=dict(l=0, r=0, t=40, b=0),\n",
    "    legend_title_text=\"State\",\n",
    "    coloraxis_colorbar=dict(title=\"Literacy (%)\"),\n",
    ")\n",
    "\n",
    "fig.show()\n"
   ]
  }
 ],
 "metadata": {
  "kernelspec": {
   "display_name": "Dashboard",
   "language": "python",
   "name": "python3"
  },
  "language_info": {
   "codemirror_mode": {
    "name": "ipython",
    "version": 3
   },
   "file_extension": ".py",
   "mimetype": "text/x-python",
   "name": "python",
   "nbconvert_exporter": "python",
   "pygments_lexer": "ipython3",
   "version": "3.11.13"
  }
 },
 "nbformat": 4,
 "nbformat_minor": 5
}
